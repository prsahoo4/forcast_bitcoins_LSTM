{
 "cells": [
  {
   "cell_type": "code",
   "execution_count": 87,
   "metadata": {},
   "outputs": [
    {
     "data": {
      "text/html": [
       "        <script type=\"text/javascript\">\n",
       "        window.PlotlyConfig = {MathJaxConfig: 'local'};\n",
       "        if (window.MathJax && window.MathJax.Hub && window.MathJax.Hub.Config) {window.MathJax.Hub.Config({SVG: {font: \"STIX-Web\"}});}\n",
       "        if (typeof require !== 'undefined') {\n",
       "        require.undef(\"plotly\");\n",
       "        requirejs.config({\n",
       "            paths: {\n",
       "                'plotly': ['https://cdn.plot.ly/plotly-2.12.1.min']\n",
       "            }\n",
       "        });\n",
       "        require(['plotly'], function(Plotly) {\n",
       "            window._Plotly = Plotly;\n",
       "        });\n",
       "        }\n",
       "        </script>\n",
       "        "
      ]
     },
     "metadata": {},
     "output_type": "display_data"
    },
    {
     "data": {
      "text/plain": [
       "['import pydot',\n",
       " 'from sklearn.ensemble import RandomForestRegressor',\n",
       " 'import pickle',\n",
       " 'from sklearn.linear_model import RidgeCV',\n",
       " 'from sklearn.preprocessing import MinMaxScaler',\n",
       " 'import fastai',\n",
       " 'import spacy',\n",
       " 'import glob',\n",
       " 'import bokeh',\n",
       " 'from sklearn.ensemble import GradientBoostingClassifier',\n",
       " 'from sklearn.model_selection import KFold',\n",
       " 'import awswrangler as wr',\n",
       " 'from sklearn.model_selection import RandomizedSearchCV',\n",
       " 'from sklearn.linear_model import Lasso',\n",
       " 'from scipy import signal as sg',\n",
       " 'from sklearn.decomposition import PCA',\n",
       " 'import nltk',\n",
       " 'from openpyxl import load_workbook',\n",
       " 'import plotly.express as px',\n",
       " 'from sklearn.model_selection import train_test_split',\n",
       " 'import keras',\n",
       " 'from sklearn.manifold import TSNE',\n",
       " 'import cv2',\n",
       " 'from sklearn.preprocessing import LabelEncoder',\n",
       " 'from sklearn import svm',\n",
       " 'import fbprophet',\n",
       " 'import xgboost as xgb',\n",
       " 'from pathlib import Path',\n",
       " 'import torch',\n",
       " 'from sklearn.model_selection import cross_val_score',\n",
       " 'from statsmodels.tsa.arima_model import ARIMA',\n",
       " 'from sklearn.preprocessing import StandardScaler',\n",
       " 'import datetime as dt',\n",
       " 'from sklearn.ensemble import GradientBoostingRegressor',\n",
       " 'import tqdm',\n",
       " 'from sklearn.ensemble import RandomForestClassifier',\n",
       " 'import sklearn',\n",
       " 'import plotly as py',\n",
       " 'import dash',\n",
       " 'import gensim',\n",
       " 'from dask import dataframe as dd',\n",
       " 'from pyspark import SparkContext',\n",
       " 'from sklearn.linear_model import Ridge',\n",
       " 'import matplotlib as mpl',\n",
       " 'import plotly.graph_objs as go',\n",
       " 'from xlrd import open_workbook',\n",
       " 'from sklearn.preprocessing import RobustScaler',\n",
       " 'from sklearn.model_selection import GridSearchCV',\n",
       " 'import skimage',\n",
       " 'from fbprophet import Prophet',\n",
       " 'import sys',\n",
       " 'import altair as alt',\n",
       " 'from scipy import stats',\n",
       " 'from sklearn.model_selection import StratifiedKFold',\n",
       " 'from sklearn.impute import SimpleImputer',\n",
       " 'from sklearn.feature_extraction.text import TfidfVectorizer',\n",
       " 'from sklearn.feature_extraction.text import CountVectorizer',\n",
       " 'from sklearn.linear_model import LassoCV',\n",
       " 'from sklearn.linear_model import LogisticRegression',\n",
       " 'import tensorflow as tf',\n",
       " 'from sklearn.linear_model import ElasticNet',\n",
       " 'import re',\n",
       " 'from sklearn.cluster import KMeans',\n",
       " 'from sklearn.preprocessing import PolynomialFeatures',\n",
       " 'import os',\n",
       " 'import lightgbm as lgb',\n",
       " 'import statistics',\n",
       " 'from PIL import Image',\n",
       " 'from sklearn.linear_model import LinearRegression',\n",
       " 'from sklearn.preprocessing import OneHotEncoder',\n",
       " 'from sklearn.linear_model import ElasticNetCV',\n",
       " 'import textblob',\n",
       " 'import imutils',\n",
       " 'import statsmodels.api as sm']"
      ]
     },
     "execution_count": 87,
     "metadata": {},
     "output_type": "execute_result"
    }
   ],
   "source": [
    "# imports \n",
    "from pyforest import *\n",
    "from plotly import tools\n",
    "from plotly.offline import init_notebook_mode, iplot\n",
    "init_notebook_mode(connected=True)\n",
    "import plotly.graph_objs as go\n",
    "from scipy import stats\n",
    "import statsmodels.api as sm\n",
    "import warnings\n",
    "from itertools import product\n",
    "from statsmodels.tsa.statespace.sarimax import SARIMAX\n",
    "from statsmodels.tsa.seasonal import seasonal_decompose\n",
    "from pmdarima import auto_arima\n",
    "from datetime import datetime\n",
    "import gc\n",
    "import warnings\n",
    "warnings.filterwarnings('ignore')\n",
    "lazy_imports()"
   ]
  },
  {
   "cell_type": "code",
   "execution_count": 88,
   "metadata": {},
   "outputs": [
    {
     "data": {
      "application/javascript": [
       "\n",
       "        if (window._pyforest_update_imports_cell) { window._pyforest_update_imports_cell('from sklearn import metrics\\nimport numpy as np\\nimport pandas as pd\\nimport seaborn as sns\\nimport matplotlib.pyplot as plt'); }\n",
       "    "
      ],
      "text/plain": [
       "<IPython.core.display.Javascript object>"
      ]
     },
     "metadata": {},
     "output_type": "display_data"
    },
    {
     "data": {
      "text/html": [
       "<div>\n",
       "<style scoped>\n",
       "    .dataframe tbody tr th:only-of-type {\n",
       "        vertical-align: middle;\n",
       "    }\n",
       "\n",
       "    .dataframe tbody tr th {\n",
       "        vertical-align: top;\n",
       "    }\n",
       "\n",
       "    .dataframe thead th {\n",
       "        text-align: right;\n",
       "    }\n",
       "</style>\n",
       "<table border=\"1\" class=\"dataframe\">\n",
       "  <thead>\n",
       "    <tr style=\"text-align: right;\">\n",
       "      <th></th>\n",
       "      <th>Open</th>\n",
       "      <th>High</th>\n",
       "      <th>Low</th>\n",
       "      <th>Close</th>\n",
       "      <th>Volume_(BTC)</th>\n",
       "      <th>Volume_(Currency)</th>\n",
       "      <th>Weighted_Price</th>\n",
       "    </tr>\n",
       "    <tr>\n",
       "      <th>Timestamp</th>\n",
       "      <th></th>\n",
       "      <th></th>\n",
       "      <th></th>\n",
       "      <th></th>\n",
       "      <th></th>\n",
       "      <th></th>\n",
       "      <th></th>\n",
       "    </tr>\n",
       "  </thead>\n",
       "  <tbody>\n",
       "    <tr>\n",
       "      <th>2014-11-30 21:33:00+00:00</th>\n",
       "      <td>300.0</td>\n",
       "      <td>300.0</td>\n",
       "      <td>300.0</td>\n",
       "      <td>300.0</td>\n",
       "      <td>0.01</td>\n",
       "      <td>3.0</td>\n",
       "      <td>300.0</td>\n",
       "    </tr>\n",
       "    <tr>\n",
       "      <th>2014-11-30 21:34:00+00:00</th>\n",
       "      <td>NaN</td>\n",
       "      <td>NaN</td>\n",
       "      <td>NaN</td>\n",
       "      <td>NaN</td>\n",
       "      <td>NaN</td>\n",
       "      <td>NaN</td>\n",
       "      <td>NaN</td>\n",
       "    </tr>\n",
       "    <tr>\n",
       "      <th>2014-11-30 21:35:00+00:00</th>\n",
       "      <td>NaN</td>\n",
       "      <td>NaN</td>\n",
       "      <td>NaN</td>\n",
       "      <td>NaN</td>\n",
       "      <td>NaN</td>\n",
       "      <td>NaN</td>\n",
       "      <td>NaN</td>\n",
       "    </tr>\n",
       "    <tr>\n",
       "      <th>2014-11-30 21:36:00+00:00</th>\n",
       "      <td>NaN</td>\n",
       "      <td>NaN</td>\n",
       "      <td>NaN</td>\n",
       "      <td>NaN</td>\n",
       "      <td>NaN</td>\n",
       "      <td>NaN</td>\n",
       "      <td>NaN</td>\n",
       "    </tr>\n",
       "    <tr>\n",
       "      <th>2014-11-30 21:37:00+00:00</th>\n",
       "      <td>NaN</td>\n",
       "      <td>NaN</td>\n",
       "      <td>NaN</td>\n",
       "      <td>NaN</td>\n",
       "      <td>NaN</td>\n",
       "      <td>NaN</td>\n",
       "      <td>NaN</td>\n",
       "    </tr>\n",
       "  </tbody>\n",
       "</table>\n",
       "</div>"
      ],
      "text/plain": [
       "                            Open   High    Low  Close  Volume_(BTC)  \\\n",
       "Timestamp                                                             \n",
       "2014-11-30 21:33:00+00:00  300.0  300.0  300.0  300.0          0.01   \n",
       "2014-11-30 21:34:00+00:00    NaN    NaN    NaN    NaN           NaN   \n",
       "2014-11-30 21:35:00+00:00    NaN    NaN    NaN    NaN           NaN   \n",
       "2014-11-30 21:36:00+00:00    NaN    NaN    NaN    NaN           NaN   \n",
       "2014-11-30 21:37:00+00:00    NaN    NaN    NaN    NaN           NaN   \n",
       "\n",
       "                           Volume_(Currency)  Weighted_Price  \n",
       "Timestamp                                                     \n",
       "2014-11-30 21:33:00+00:00                3.0           300.0  \n",
       "2014-11-30 21:34:00+00:00                NaN             NaN  \n",
       "2014-11-30 21:35:00+00:00                NaN             NaN  \n",
       "2014-11-30 21:36:00+00:00                NaN             NaN  \n",
       "2014-11-30 21:37:00+00:00                NaN             NaN  "
      ]
     },
     "execution_count": 88,
     "metadata": {},
     "output_type": "execute_result"
    }
   ],
   "source": [
    "# read csv and date parser\n",
    "\n",
    "import datetime, pytz\n",
    "#define a conversion function for the native timestamps in the csv file\n",
    "def dateparse (time_in_secs):    \n",
    "    return pytz.utc.localize(datetime.datetime.fromtimestamp(float(time_in_secs)))\n",
    "\n",
    "df_bit = pd.read_csv('../dataset/coinbaseUSD_1-min_data_2014-12-01_to_2018-11-11.csv', header = 0\n",
    "                 , parse_dates = [0], date_parser = dateparse, index_col = 0)\n",
    "df_bit.head()"
   ]
  },
  {
   "cell_type": "code",
   "execution_count": 89,
   "metadata": {},
   "outputs": [
    {
     "name": "stdout",
     "output_type": "stream",
     "text": [
      "<class 'pandas.core.frame.DataFrame'>\n",
      "DatetimeIndex: 2016354 entries, 2014-11-30 21:33:00+00:00 to 2018-11-10 16:00:00+00:00\n",
      "Data columns (total 7 columns):\n",
      " #   Column             Dtype  \n",
      "---  ------             -----  \n",
      " 0   Open               float64\n",
      " 1   High               float64\n",
      " 2   Low                float64\n",
      " 3   Close              float64\n",
      " 4   Volume_(BTC)       float64\n",
      " 5   Volume_(Currency)  float64\n",
      " 6   Weighted_Price     float64\n",
      "dtypes: float64(7)\n",
      "memory usage: 123.1 MB\n"
     ]
    }
   ],
   "source": [
    "# df info\n",
    "df_bit.info()"
   ]
  },
  {
   "cell_type": "code",
   "execution_count": 90,
   "metadata": {},
   "outputs": [
    {
     "data": {
      "text/html": [
       "<div>\n",
       "<style scoped>\n",
       "    .dataframe tbody tr th:only-of-type {\n",
       "        vertical-align: middle;\n",
       "    }\n",
       "\n",
       "    .dataframe tbody tr th {\n",
       "        vertical-align: top;\n",
       "    }\n",
       "\n",
       "    .dataframe thead th {\n",
       "        text-align: right;\n",
       "    }\n",
       "</style>\n",
       "<table border=\"1\" class=\"dataframe\">\n",
       "  <thead>\n",
       "    <tr style=\"text-align: right;\">\n",
       "      <th></th>\n",
       "      <th>Open</th>\n",
       "      <th>High</th>\n",
       "      <th>Low</th>\n",
       "      <th>Close</th>\n",
       "      <th>Volume_(BTC)</th>\n",
       "      <th>Volume_(Currency)</th>\n",
       "      <th>Weighted_Price</th>\n",
       "    </tr>\n",
       "    <tr>\n",
       "      <th>Timestamp</th>\n",
       "      <th></th>\n",
       "      <th></th>\n",
       "      <th></th>\n",
       "      <th></th>\n",
       "      <th></th>\n",
       "      <th></th>\n",
       "      <th></th>\n",
       "    </tr>\n",
       "  </thead>\n",
       "  <tbody>\n",
       "    <tr>\n",
       "      <th>2018-11-10 15:56:00+00:00</th>\n",
       "      <td>6347.41</td>\n",
       "      <td>6347.42</td>\n",
       "      <td>6347.41</td>\n",
       "      <td>6347.42</td>\n",
       "      <td>0.484960</td>\n",
       "      <td>3078.241490</td>\n",
       "      <td>6347.417225</td>\n",
       "    </tr>\n",
       "    <tr>\n",
       "      <th>2018-11-10 15:57:00+00:00</th>\n",
       "      <td>6347.41</td>\n",
       "      <td>6347.42</td>\n",
       "      <td>6347.41</td>\n",
       "      <td>6347.42</td>\n",
       "      <td>0.770757</td>\n",
       "      <td>4892.318043</td>\n",
       "      <td>6347.419294</td>\n",
       "    </tr>\n",
       "    <tr>\n",
       "      <th>2018-11-10 15:58:00+00:00</th>\n",
       "      <td>6347.41</td>\n",
       "      <td>6347.42</td>\n",
       "      <td>6347.41</td>\n",
       "      <td>6347.42</td>\n",
       "      <td>1.213145</td>\n",
       "      <td>7700.341614</td>\n",
       "      <td>6347.418653</td>\n",
       "    </tr>\n",
       "    <tr>\n",
       "      <th>2018-11-10 15:59:00+00:00</th>\n",
       "      <td>6347.41</td>\n",
       "      <td>6347.42</td>\n",
       "      <td>6347.41</td>\n",
       "      <td>6347.42</td>\n",
       "      <td>1.714091</td>\n",
       "      <td>10880.053958</td>\n",
       "      <td>6347.418881</td>\n",
       "    </tr>\n",
       "    <tr>\n",
       "      <th>2018-11-10 16:00:00+00:00</th>\n",
       "      <td>6347.42</td>\n",
       "      <td>6347.42</td>\n",
       "      <td>6347.41</td>\n",
       "      <td>6347.42</td>\n",
       "      <td>0.489324</td>\n",
       "      <td>3105.944897</td>\n",
       "      <td>6347.417439</td>\n",
       "    </tr>\n",
       "  </tbody>\n",
       "</table>\n",
       "</div>"
      ],
      "text/plain": [
       "                              Open     High      Low    Close  Volume_(BTC)  \\\n",
       "Timestamp                                                                     \n",
       "2018-11-10 15:56:00+00:00  6347.41  6347.42  6347.41  6347.42      0.484960   \n",
       "2018-11-10 15:57:00+00:00  6347.41  6347.42  6347.41  6347.42      0.770757   \n",
       "2018-11-10 15:58:00+00:00  6347.41  6347.42  6347.41  6347.42      1.213145   \n",
       "2018-11-10 15:59:00+00:00  6347.41  6347.42  6347.41  6347.42      1.714091   \n",
       "2018-11-10 16:00:00+00:00  6347.42  6347.42  6347.41  6347.42      0.489324   \n",
       "\n",
       "                           Volume_(Currency)  Weighted_Price  \n",
       "Timestamp                                                     \n",
       "2018-11-10 15:56:00+00:00        3078.241490     6347.417225  \n",
       "2018-11-10 15:57:00+00:00        4892.318043     6347.419294  \n",
       "2018-11-10 15:58:00+00:00        7700.341614     6347.418653  \n",
       "2018-11-10 15:59:00+00:00       10880.053958     6347.418881  \n",
       "2018-11-10 16:00:00+00:00        3105.944897     6347.417439  "
      ]
     },
     "execution_count": 90,
     "metadata": {},
     "output_type": "execute_result"
    }
   ],
   "source": [
    "df_bit.tail()"
   ]
  },
  {
   "cell_type": "code",
   "execution_count": 91,
   "metadata": {},
   "outputs": [
    {
     "name": "stdout",
     "output_type": "stream",
     "text": [
      "2014-11-30 21:33:00+00:00 2018-11-10 16:00:00+00:00\n"
     ]
    }
   ],
   "source": [
    "# start and end time stamp\n",
    "start = min(df_bit.index)\n",
    "end = max(df_bit.index)\n",
    "print(start,end)"
   ]
  },
  {
   "cell_type": "code",
   "execution_count": 92,
   "metadata": {},
   "outputs": [
    {
     "data": {
      "text/plain": [
       "Open                 108957\n",
       "High                 108957\n",
       "Low                  108957\n",
       "Close                108957\n",
       "Volume_(BTC)         108957\n",
       "Volume_(Currency)    108957\n",
       "Weighted_Price       108957\n",
       "dtype: int64"
      ]
     },
     "execution_count": 92,
     "metadata": {},
     "output_type": "execute_result"
    }
   ],
   "source": [
    "# null values\n",
    "df_bit.isna().sum()"
   ]
  },
  {
   "cell_type": "code",
   "execution_count": 93,
   "metadata": {},
   "outputs": [],
   "source": [
    "# saving formatted csv\n",
    "#df_bit.to_csv('../dataset/bitcoin.csv')"
   ]
  },
  {
   "cell_type": "code",
   "execution_count": 94,
   "metadata": {},
   "outputs": [
    {
     "data": {
      "text/html": [
       "<div>\n",
       "<style scoped>\n",
       "    .dataframe tbody tr th:only-of-type {\n",
       "        vertical-align: middle;\n",
       "    }\n",
       "\n",
       "    .dataframe tbody tr th {\n",
       "        vertical-align: top;\n",
       "    }\n",
       "\n",
       "    .dataframe thead th {\n",
       "        text-align: right;\n",
       "    }\n",
       "</style>\n",
       "<table border=\"1\" class=\"dataframe\">\n",
       "  <thead>\n",
       "    <tr style=\"text-align: right;\">\n",
       "      <th></th>\n",
       "      <th>Open</th>\n",
       "      <th>High</th>\n",
       "      <th>Low</th>\n",
       "      <th>Close</th>\n",
       "      <th>Volume_(BTC)</th>\n",
       "      <th>Volume_(Currency)</th>\n",
       "      <th>Weighted_Price</th>\n",
       "    </tr>\n",
       "    <tr>\n",
       "      <th>Timestamp</th>\n",
       "      <th></th>\n",
       "      <th></th>\n",
       "      <th></th>\n",
       "      <th></th>\n",
       "      <th></th>\n",
       "      <th></th>\n",
       "      <th></th>\n",
       "    </tr>\n",
       "  </thead>\n",
       "  <tbody>\n",
       "    <tr>\n",
       "      <th>2014-11-30 21:33:00+00:00</th>\n",
       "      <td>300.0</td>\n",
       "      <td>300.0</td>\n",
       "      <td>300.0</td>\n",
       "      <td>300.0</td>\n",
       "      <td>0.01</td>\n",
       "      <td>3.0</td>\n",
       "      <td>300.0</td>\n",
       "    </tr>\n",
       "    <tr>\n",
       "      <th>2014-11-30 21:34:00+00:00</th>\n",
       "      <td>300.0</td>\n",
       "      <td>300.0</td>\n",
       "      <td>300.0</td>\n",
       "      <td>300.0</td>\n",
       "      <td>0.00</td>\n",
       "      <td>0.0</td>\n",
       "      <td>300.0</td>\n",
       "    </tr>\n",
       "    <tr>\n",
       "      <th>2014-11-30 21:35:00+00:00</th>\n",
       "      <td>300.0</td>\n",
       "      <td>300.0</td>\n",
       "      <td>300.0</td>\n",
       "      <td>300.0</td>\n",
       "      <td>0.00</td>\n",
       "      <td>0.0</td>\n",
       "      <td>300.0</td>\n",
       "    </tr>\n",
       "    <tr>\n",
       "      <th>2014-11-30 21:36:00+00:00</th>\n",
       "      <td>300.0</td>\n",
       "      <td>300.0</td>\n",
       "      <td>300.0</td>\n",
       "      <td>300.0</td>\n",
       "      <td>0.00</td>\n",
       "      <td>0.0</td>\n",
       "      <td>300.0</td>\n",
       "    </tr>\n",
       "    <tr>\n",
       "      <th>2014-11-30 21:37:00+00:00</th>\n",
       "      <td>300.0</td>\n",
       "      <td>300.0</td>\n",
       "      <td>300.0</td>\n",
       "      <td>300.0</td>\n",
       "      <td>0.00</td>\n",
       "      <td>0.0</td>\n",
       "      <td>300.0</td>\n",
       "    </tr>\n",
       "  </tbody>\n",
       "</table>\n",
       "</div>"
      ],
      "text/plain": [
       "                            Open   High    Low  Close  Volume_(BTC)  \\\n",
       "Timestamp                                                             \n",
       "2014-11-30 21:33:00+00:00  300.0  300.0  300.0  300.0          0.01   \n",
       "2014-11-30 21:34:00+00:00  300.0  300.0  300.0  300.0          0.00   \n",
       "2014-11-30 21:35:00+00:00  300.0  300.0  300.0  300.0          0.00   \n",
       "2014-11-30 21:36:00+00:00  300.0  300.0  300.0  300.0          0.00   \n",
       "2014-11-30 21:37:00+00:00  300.0  300.0  300.0  300.0          0.00   \n",
       "\n",
       "                           Volume_(Currency)  Weighted_Price  \n",
       "Timestamp                                                     \n",
       "2014-11-30 21:33:00+00:00                3.0           300.0  \n",
       "2014-11-30 21:34:00+00:00                0.0           300.0  \n",
       "2014-11-30 21:35:00+00:00                0.0           300.0  \n",
       "2014-11-30 21:36:00+00:00                0.0           300.0  \n",
       "2014-11-30 21:37:00+00:00                0.0           300.0  "
      ]
     },
     "execution_count": 94,
     "metadata": {},
     "output_type": "execute_result"
    }
   ],
   "source": [
    "# creating copy of the dataframe\n",
    "df_bit2 = df_bit.copy()\n",
    "\n",
    "\"\"\"based on the analysis, the volumns are individual events, they do not increment over time,\n",
    "so we will fill na values with zero\"\"\"\n",
    "\n",
    "df_bit2['Volume_(BTC)'] = df_bit2['Volume_(BTC)'].fillna(value = 0)\n",
    "df_bit2['Volume_(Currency)'] = df_bit2['Volume_(Currency)'].fillna(value = 0)\n",
    "\n",
    "df_bit2['Weighted_Price'] = df_bit2['Weighted_Price'].fillna(method = 'bfill')\n",
    "\n",
    "\"\"\"The following parameters are incremented/ dependent on each time steps,\n",
    "hence we will fill na values with backward fill \"\"\"\n",
    "\n",
    "df_bit2['Open'] = df_bit2['Open'].fillna(method = 'bfill')\n",
    "df_bit2['High'] = df_bit2['High'].fillna(method = 'bfill')\n",
    "df_bit2['Low'] = df_bit2['Low'].fillna(method = 'bfill')\n",
    "df_bit2['Close'] = df_bit2['Close'].fillna(method = 'bfill')\n",
    "\n",
    "df_bit2.head()"
   ]
  },
  {
   "cell_type": "code",
   "execution_count": 95,
   "metadata": {},
   "outputs": [
    {
     "data": {
      "text/plain": [
       "Open                 0\n",
       "High                 0\n",
       "Low                  0\n",
       "Close                0\n",
       "Volume_(BTC)         0\n",
       "Volume_(Currency)    0\n",
       "Weighted_Price       0\n",
       "dtype: int64"
      ]
     },
     "execution_count": 95,
     "metadata": {},
     "output_type": "execute_result"
    }
   ],
   "source": [
    "# revalidating the missing values\n",
    "df_bit2.isna().sum()"
   ]
  },
  {
   "cell_type": "code",
   "execution_count": 96,
   "metadata": {},
   "outputs": [],
   "source": [
    "# saving preprocessed dataset\n",
    "#df_bit2.to_csv('../dataset/bitcoin_data_preprocessed.csv',index =True)"
   ]
  },
  {
   "cell_type": "code",
   "execution_count": 97,
   "metadata": {},
   "outputs": [
    {
     "data": {
      "application/javascript": [
       "\n",
       "        if (window._pyforest_update_imports_cell) { window._pyforest_update_imports_cell('from sklearn import metrics\\nimport numpy as np\\nimport pandas as pd\\nimport seaborn as sns\\nimport matplotlib.pyplot as plt'); }\n",
       "    "
      ],
      "text/plain": [
       "<IPython.core.display.Javascript object>"
      ]
     },
     "metadata": {},
     "output_type": "display_data"
    },
    {
     "data": {
      "text/html": [
       "<div>\n",
       "<style scoped>\n",
       "    .dataframe tbody tr th:only-of-type {\n",
       "        vertical-align: middle;\n",
       "    }\n",
       "\n",
       "    .dataframe tbody tr th {\n",
       "        vertical-align: top;\n",
       "    }\n",
       "\n",
       "    .dataframe thead th {\n",
       "        text-align: right;\n",
       "    }\n",
       "</style>\n",
       "<table border=\"1\" class=\"dataframe\">\n",
       "  <thead>\n",
       "    <tr style=\"text-align: right;\">\n",
       "      <th></th>\n",
       "      <th>Open</th>\n",
       "      <th>High</th>\n",
       "      <th>Low</th>\n",
       "      <th>Close</th>\n",
       "      <th>Volume_(BTC)</th>\n",
       "      <th>Volume_(Currency)</th>\n",
       "      <th>Weighted_Price</th>\n",
       "    </tr>\n",
       "    <tr>\n",
       "      <th>Timestamp</th>\n",
       "      <th></th>\n",
       "      <th></th>\n",
       "      <th></th>\n",
       "      <th></th>\n",
       "      <th></th>\n",
       "      <th></th>\n",
       "      <th></th>\n",
       "    </tr>\n",
       "  </thead>\n",
       "  <tbody>\n",
       "    <tr>\n",
       "      <th>2014-12-01 00:00:00+00:00</th>\n",
       "      <td>300.00</td>\n",
       "      <td>300.0</td>\n",
       "      <td>300.00</td>\n",
       "      <td>300.0</td>\n",
       "      <td>0.01</td>\n",
       "      <td>3.00</td>\n",
       "      <td>300.000000</td>\n",
       "    </tr>\n",
       "    <tr>\n",
       "      <th>2014-12-08 00:00:00+00:00</th>\n",
       "      <td>377.75</td>\n",
       "      <td>378.0</td>\n",
       "      <td>377.75</td>\n",
       "      <td>378.0</td>\n",
       "      <td>0.00</td>\n",
       "      <td>0.00</td>\n",
       "      <td>377.984375</td>\n",
       "    </tr>\n",
       "    <tr>\n",
       "      <th>2014-12-15 00:00:00+00:00</th>\n",
       "      <td>398.00</td>\n",
       "      <td>398.0</td>\n",
       "      <td>398.00</td>\n",
       "      <td>398.0</td>\n",
       "      <td>0.01</td>\n",
       "      <td>3.98</td>\n",
       "      <td>398.000000</td>\n",
       "    </tr>\n",
       "    <tr>\n",
       "      <th>2014-12-22 00:00:00+00:00</th>\n",
       "      <td>345.00</td>\n",
       "      <td>345.0</td>\n",
       "      <td>340.00</td>\n",
       "      <td>340.0</td>\n",
       "      <td>2.00</td>\n",
       "      <td>685.00</td>\n",
       "      <td>342.500000</td>\n",
       "    </tr>\n",
       "    <tr>\n",
       "      <th>2014-12-29 00:00:00+00:00</th>\n",
       "      <td>NaN</td>\n",
       "      <td>NaN</td>\n",
       "      <td>NaN</td>\n",
       "      <td>NaN</td>\n",
       "      <td>NaN</td>\n",
       "      <td>NaN</td>\n",
       "      <td>NaN</td>\n",
       "    </tr>\n",
       "  </tbody>\n",
       "</table>\n",
       "</div>"
      ],
      "text/plain": [
       "                             Open   High     Low  Close  Volume_(BTC)  \\\n",
       "Timestamp                                                               \n",
       "2014-12-01 00:00:00+00:00  300.00  300.0  300.00  300.0          0.01   \n",
       "2014-12-08 00:00:00+00:00  377.75  378.0  377.75  378.0          0.00   \n",
       "2014-12-15 00:00:00+00:00  398.00  398.0  398.00  398.0          0.01   \n",
       "2014-12-22 00:00:00+00:00  345.00  345.0  340.00  340.0          2.00   \n",
       "2014-12-29 00:00:00+00:00     NaN    NaN     NaN    NaN           NaN   \n",
       "\n",
       "                           Volume_(Currency)  Weighted_Price  \n",
       "Timestamp                                                     \n",
       "2014-12-01 00:00:00+00:00               3.00      300.000000  \n",
       "2014-12-08 00:00:00+00:00               0.00      377.984375  \n",
       "2014-12-15 00:00:00+00:00               3.98      398.000000  \n",
       "2014-12-22 00:00:00+00:00             685.00      342.500000  \n",
       "2014-12-29 00:00:00+00:00                NaN             NaN  "
      ]
     },
     "execution_count": 97,
     "metadata": {},
     "output_type": "execute_result"
    }
   ],
   "source": [
    "# changing frequency to weekly ( every monday)\n",
    "\n",
    "weekly_bit = df_bit2.groupby([pd.Grouper(level = 'Timestamp' , freq = 'W-MON',dropna = True)]).first()\n",
    "weekly_bit.head()"
   ]
  },
  {
   "cell_type": "code",
   "execution_count": 98,
   "metadata": {},
   "outputs": [
    {
     "data": {
      "text/html": [
       "<div>\n",
       "<style scoped>\n",
       "    .dataframe tbody tr th:only-of-type {\n",
       "        vertical-align: middle;\n",
       "    }\n",
       "\n",
       "    .dataframe tbody tr th {\n",
       "        vertical-align: top;\n",
       "    }\n",
       "\n",
       "    .dataframe thead th {\n",
       "        text-align: right;\n",
       "    }\n",
       "</style>\n",
       "<table border=\"1\" class=\"dataframe\">\n",
       "  <thead>\n",
       "    <tr style=\"text-align: right;\">\n",
       "      <th></th>\n",
       "      <th>Open</th>\n",
       "      <th>High</th>\n",
       "      <th>Low</th>\n",
       "      <th>Close</th>\n",
       "      <th>Volume_(BTC)</th>\n",
       "      <th>Volume_(Currency)</th>\n",
       "      <th>Weighted_Price</th>\n",
       "    </tr>\n",
       "  </thead>\n",
       "  <tbody>\n",
       "    <tr>\n",
       "      <th>Open</th>\n",
       "      <td>1.000000</td>\n",
       "      <td>0.999999</td>\n",
       "      <td>1.000000</td>\n",
       "      <td>0.999999</td>\n",
       "      <td>0.154146</td>\n",
       "      <td>0.401361</td>\n",
       "      <td>0.999999</td>\n",
       "    </tr>\n",
       "    <tr>\n",
       "      <th>High</th>\n",
       "      <td>0.999999</td>\n",
       "      <td>1.000000</td>\n",
       "      <td>0.999999</td>\n",
       "      <td>1.000000</td>\n",
       "      <td>0.154996</td>\n",
       "      <td>0.402553</td>\n",
       "      <td>1.000000</td>\n",
       "    </tr>\n",
       "    <tr>\n",
       "      <th>Low</th>\n",
       "      <td>1.000000</td>\n",
       "      <td>0.999999</td>\n",
       "      <td>1.000000</td>\n",
       "      <td>0.999999</td>\n",
       "      <td>0.154105</td>\n",
       "      <td>0.401354</td>\n",
       "      <td>1.000000</td>\n",
       "    </tr>\n",
       "    <tr>\n",
       "      <th>Close</th>\n",
       "      <td>0.999999</td>\n",
       "      <td>1.000000</td>\n",
       "      <td>0.999999</td>\n",
       "      <td>1.000000</td>\n",
       "      <td>0.154957</td>\n",
       "      <td>0.402544</td>\n",
       "      <td>1.000000</td>\n",
       "    </tr>\n",
       "    <tr>\n",
       "      <th>Volume_(BTC)</th>\n",
       "      <td>0.154146</td>\n",
       "      <td>0.154996</td>\n",
       "      <td>0.154105</td>\n",
       "      <td>0.154957</td>\n",
       "      <td>1.000000</td>\n",
       "      <td>0.703546</td>\n",
       "      <td>0.154653</td>\n",
       "    </tr>\n",
       "    <tr>\n",
       "      <th>Volume_(Currency)</th>\n",
       "      <td>0.401361</td>\n",
       "      <td>0.402553</td>\n",
       "      <td>0.401354</td>\n",
       "      <td>0.402544</td>\n",
       "      <td>0.703546</td>\n",
       "      <td>1.000000</td>\n",
       "      <td>0.402091</td>\n",
       "    </tr>\n",
       "    <tr>\n",
       "      <th>Weighted_Price</th>\n",
       "      <td>0.999999</td>\n",
       "      <td>1.000000</td>\n",
       "      <td>1.000000</td>\n",
       "      <td>1.000000</td>\n",
       "      <td>0.154653</td>\n",
       "      <td>0.402091</td>\n",
       "      <td>1.000000</td>\n",
       "    </tr>\n",
       "  </tbody>\n",
       "</table>\n",
       "</div>"
      ],
      "text/plain": [
       "                       Open      High       Low     Close  Volume_(BTC)  \\\n",
       "Open               1.000000  0.999999  1.000000  0.999999      0.154146   \n",
       "High               0.999999  1.000000  0.999999  1.000000      0.154996   \n",
       "Low                1.000000  0.999999  1.000000  0.999999      0.154105   \n",
       "Close              0.999999  1.000000  0.999999  1.000000      0.154957   \n",
       "Volume_(BTC)       0.154146  0.154996  0.154105  0.154957      1.000000   \n",
       "Volume_(Currency)  0.401361  0.402553  0.401354  0.402544      0.703546   \n",
       "Weighted_Price     0.999999  1.000000  1.000000  1.000000      0.154653   \n",
       "\n",
       "                   Volume_(Currency)  Weighted_Price  \n",
       "Open                        0.401361        0.999999  \n",
       "High                        0.402553        1.000000  \n",
       "Low                         0.401354        1.000000  \n",
       "Close                       0.402544        1.000000  \n",
       "Volume_(BTC)                0.703546        0.154653  \n",
       "Volume_(Currency)           1.000000        0.402091  \n",
       "Weighted_Price              0.402091        1.000000  "
      ]
     },
     "execution_count": 98,
     "metadata": {},
     "output_type": "execute_result"
    }
   ],
   "source": [
    "### correlation among each variable using pearson\n",
    "weekly_bit.corr()"
   ]
  },
  {
   "cell_type": "markdown",
   "metadata": {},
   "source": [
    "we can use the Open,High,Low,Close as exog"
   ]
  },
  {
   "cell_type": "code",
   "execution_count": 99,
   "metadata": {},
   "outputs": [
    {
     "data": {
      "application/vnd.plotly.v1+json": {
       "config": {
        "linkText": "Export to plot.ly",
        "plotlyServerURL": "https://plot.ly",
        "showLink": false
       },
       "data": [
        {
         "mode": "lines",
         "name": "Open",
         "type": "scatter",
         "x": [
          "2014-12-01T00:00:00+00:00",
          "2014-12-08T00:00:00+00:00",
          "2014-12-15T00:00:00+00:00",
          "2014-12-22T00:00:00+00:00",
          "2014-12-29T00:00:00+00:00",
          "2015-01-05T00:00:00+00:00",
          "2015-01-12T00:00:00+00:00",
          "2015-01-19T00:00:00+00:00",
          "2015-01-26T00:00:00+00:00",
          "2015-02-02T00:00:00+00:00",
          "2015-02-09T00:00:00+00:00",
          "2015-02-16T00:00:00+00:00",
          "2015-02-23T00:00:00+00:00",
          "2015-03-02T00:00:00+00:00",
          "2015-03-09T00:00:00+00:00",
          "2015-03-16T00:00:00+00:00",
          "2015-03-23T00:00:00+00:00",
          "2015-03-30T00:00:00+00:00",
          "2015-04-06T00:00:00+00:00",
          "2015-04-13T00:00:00+00:00",
          "2015-04-20T00:00:00+00:00",
          "2015-04-27T00:00:00+00:00",
          "2015-05-04T00:00:00+00:00",
          "2015-05-11T00:00:00+00:00",
          "2015-05-18T00:00:00+00:00",
          "2015-05-25T00:00:00+00:00",
          "2015-06-01T00:00:00+00:00",
          "2015-06-08T00:00:00+00:00",
          "2015-06-15T00:00:00+00:00",
          "2015-06-22T00:00:00+00:00",
          "2015-06-29T00:00:00+00:00",
          "2015-07-06T00:00:00+00:00",
          "2015-07-13T00:00:00+00:00",
          "2015-07-20T00:00:00+00:00",
          "2015-07-27T00:00:00+00:00",
          "2015-08-03T00:00:00+00:00",
          "2015-08-10T00:00:00+00:00",
          "2015-08-17T00:00:00+00:00",
          "2015-08-24T00:00:00+00:00",
          "2015-08-31T00:00:00+00:00",
          "2015-09-07T00:00:00+00:00",
          "2015-09-14T00:00:00+00:00",
          "2015-09-21T00:00:00+00:00",
          "2015-09-28T00:00:00+00:00",
          "2015-10-05T00:00:00+00:00",
          "2015-10-12T00:00:00+00:00",
          "2015-10-19T00:00:00+00:00",
          "2015-10-26T00:00:00+00:00",
          "2015-11-02T00:00:00+00:00",
          "2015-11-09T00:00:00+00:00",
          "2015-11-16T00:00:00+00:00",
          "2015-11-23T00:00:00+00:00",
          "2015-11-30T00:00:00+00:00",
          "2015-12-07T00:00:00+00:00",
          "2015-12-14T00:00:00+00:00",
          "2015-12-21T00:00:00+00:00",
          "2015-12-28T00:00:00+00:00",
          "2016-01-04T00:00:00+00:00",
          "2016-01-11T00:00:00+00:00",
          "2016-01-18T00:00:00+00:00",
          "2016-01-25T00:00:00+00:00",
          "2016-02-01T00:00:00+00:00",
          "2016-02-08T00:00:00+00:00",
          "2016-02-15T00:00:00+00:00",
          "2016-02-22T00:00:00+00:00",
          "2016-02-29T00:00:00+00:00",
          "2016-03-07T00:00:00+00:00",
          "2016-03-14T00:00:00+00:00",
          "2016-03-21T00:00:00+00:00",
          "2016-03-28T00:00:00+00:00",
          "2016-04-04T00:00:00+00:00",
          "2016-04-11T00:00:00+00:00",
          "2016-04-18T00:00:00+00:00",
          "2016-04-25T00:00:00+00:00",
          "2016-05-02T00:00:00+00:00",
          "2016-05-09T00:00:00+00:00",
          "2016-05-16T00:00:00+00:00",
          "2016-05-23T00:00:00+00:00",
          "2016-05-30T00:00:00+00:00",
          "2016-06-06T00:00:00+00:00",
          "2016-06-13T00:00:00+00:00",
          "2016-06-20T00:00:00+00:00",
          "2016-06-27T00:00:00+00:00",
          "2016-07-04T00:00:00+00:00",
          "2016-07-11T00:00:00+00:00",
          "2016-07-18T00:00:00+00:00",
          "2016-07-25T00:00:00+00:00",
          "2016-08-01T00:00:00+00:00",
          "2016-08-08T00:00:00+00:00",
          "2016-08-15T00:00:00+00:00",
          "2016-08-22T00:00:00+00:00",
          "2016-08-29T00:00:00+00:00",
          "2016-09-05T00:00:00+00:00",
          "2016-09-12T00:00:00+00:00",
          "2016-09-19T00:00:00+00:00",
          "2016-09-26T00:00:00+00:00",
          "2016-10-03T00:00:00+00:00",
          "2016-10-10T00:00:00+00:00",
          "2016-10-17T00:00:00+00:00",
          "2016-10-24T00:00:00+00:00",
          "2016-10-31T00:00:00+00:00",
          "2016-11-07T00:00:00+00:00",
          "2016-11-14T00:00:00+00:00",
          "2016-11-21T00:00:00+00:00",
          "2016-11-28T00:00:00+00:00",
          "2016-12-05T00:00:00+00:00",
          "2016-12-12T00:00:00+00:00",
          "2016-12-19T00:00:00+00:00",
          "2016-12-26T00:00:00+00:00",
          "2017-01-02T00:00:00+00:00",
          "2017-01-09T00:00:00+00:00",
          "2017-01-16T00:00:00+00:00",
          "2017-01-23T00:00:00+00:00",
          "2017-01-30T00:00:00+00:00",
          "2017-02-06T00:00:00+00:00",
          "2017-02-13T00:00:00+00:00",
          "2017-02-20T00:00:00+00:00",
          "2017-02-27T00:00:00+00:00",
          "2017-03-06T00:00:00+00:00",
          "2017-03-13T00:00:00+00:00",
          "2017-03-20T00:00:00+00:00",
          "2017-03-27T00:00:00+00:00",
          "2017-04-03T00:00:00+00:00",
          "2017-04-10T00:00:00+00:00",
          "2017-04-17T00:00:00+00:00",
          "2017-04-24T00:00:00+00:00",
          "2017-05-01T00:00:00+00:00",
          "2017-05-08T00:00:00+00:00",
          "2017-05-15T00:00:00+00:00",
          "2017-05-22T00:00:00+00:00",
          "2017-05-29T00:00:00+00:00",
          "2017-06-05T00:00:00+00:00",
          "2017-06-12T00:00:00+00:00",
          "2017-06-19T00:00:00+00:00",
          "2017-06-26T00:00:00+00:00",
          "2017-07-03T00:00:00+00:00",
          "2017-07-10T00:00:00+00:00",
          "2017-07-17T00:00:00+00:00",
          "2017-07-24T00:00:00+00:00",
          "2017-07-31T00:00:00+00:00",
          "2017-08-07T00:00:00+00:00",
          "2017-08-14T00:00:00+00:00",
          "2017-08-21T00:00:00+00:00",
          "2017-08-28T00:00:00+00:00",
          "2017-09-04T00:00:00+00:00",
          "2017-09-11T00:00:00+00:00",
          "2017-09-18T00:00:00+00:00",
          "2017-09-25T00:00:00+00:00",
          "2017-10-02T00:00:00+00:00",
          "2017-10-09T00:00:00+00:00",
          "2017-10-16T00:00:00+00:00",
          "2017-10-23T00:00:00+00:00",
          "2017-10-30T00:00:00+00:00",
          "2017-11-06T00:00:00+00:00",
          "2017-11-13T00:00:00+00:00",
          "2017-11-20T00:00:00+00:00",
          "2017-11-27T00:00:00+00:00",
          "2017-12-04T00:00:00+00:00",
          "2017-12-11T00:00:00+00:00",
          "2017-12-18T00:00:00+00:00",
          "2017-12-25T00:00:00+00:00",
          "2018-01-01T00:00:00+00:00",
          "2018-01-08T00:00:00+00:00",
          "2018-01-15T00:00:00+00:00",
          "2018-01-22T00:00:00+00:00",
          "2018-01-29T00:00:00+00:00",
          "2018-02-05T00:00:00+00:00",
          "2018-02-12T00:00:00+00:00",
          "2018-02-19T00:00:00+00:00",
          "2018-02-26T00:00:00+00:00",
          "2018-03-05T00:00:00+00:00",
          "2018-03-12T00:00:00+00:00",
          "2018-03-19T00:00:00+00:00",
          "2018-03-26T00:00:00+00:00",
          "2018-04-02T00:00:00+00:00",
          "2018-04-09T00:00:00+00:00",
          "2018-04-16T00:00:00+00:00",
          "2018-04-23T00:00:00+00:00",
          "2018-04-30T00:00:00+00:00",
          "2018-05-07T00:00:00+00:00",
          "2018-05-14T00:00:00+00:00",
          "2018-05-21T00:00:00+00:00",
          "2018-05-28T00:00:00+00:00",
          "2018-06-04T00:00:00+00:00",
          "2018-06-11T00:00:00+00:00",
          "2018-06-18T00:00:00+00:00",
          "2018-06-25T00:00:00+00:00",
          "2018-07-02T00:00:00+00:00",
          "2018-07-09T00:00:00+00:00",
          "2018-07-16T00:00:00+00:00",
          "2018-07-23T00:00:00+00:00",
          "2018-07-30T00:00:00+00:00",
          "2018-08-06T00:00:00+00:00",
          "2018-08-13T00:00:00+00:00",
          "2018-08-20T00:00:00+00:00",
          "2018-08-27T00:00:00+00:00",
          "2018-09-03T00:00:00+00:00",
          "2018-09-10T00:00:00+00:00",
          "2018-09-17T00:00:00+00:00",
          "2018-09-24T00:00:00+00:00",
          "2018-10-01T00:00:00+00:00",
          "2018-10-08T00:00:00+00:00",
          "2018-10-15T00:00:00+00:00",
          "2018-10-22T00:00:00+00:00",
          "2018-10-29T00:00:00+00:00",
          "2018-11-05T00:00:00+00:00",
          "2018-11-12T00:00:00+00:00"
         ],
         "y": [
          300,
          377.75,
          398,
          345,
          null,
          null,
          360,
          200,
          215,
          259,
          238.69,
          217.55,
          236.58,
          237.6,
          275.98,
          295.71,
          292.91,
          267.16,
          248.43,
          254.55,
          219.49,
          226.46,
          224.43,
          235.54,
          241.47,
          234.44,
          237,
          223.73,
          228.48,
          238.72,
          245.01,
          266.04,
          267.21,
          287.6,
          279.33,
          297.22,
          282.93,
          267.22,
          255.16,
          210.1,
          229.71,
          243.56,
          231.69,
          227.09,
          240.79,
          241.46,
          246.8,
          266.62,
          290.53,
          374.98,
          381.25,
          335.36,
          322.38,
          378.13,
          392.95,
          459.33,
          440.43,
          423.02,
          433.81,
          447.61,
          382.7,
          393.2,
          373.61,
          370.39,
          400.54,
          434.41,
          431.37,
          414.03,
          414.75,
          415.93,
          423.11,
          422.47,
          425.51,
          432.01,
          468.32,
          446.96,
          461.7,
          455.88,
          446.3,
          534.15,
          586.34,
          689.39,
          705.6,
          654.2,
          675.11,
          650,
          675.62,
          646.19,
          602.48,
          588.66,
          567.42,
          585.91,
          575.5,
          606.82,
          608.08,
          609.36,
          606.32,
          610.55,
          630.25,
          638.06,
          652.84,
          711.64,
          704.79,
          710.87,
          737.33,
          730.84,
          756.16,
          779.17,
          790.1,
          911.78,
          1019.37,
          904.02,
          891.16,
          918,
          934.99,
          1047.32,
          1006.13,
          1093,
          1192.64,
          1279,
          1233.63,
          1085,
          1039.38,
          1155.39,
          1208.85,
          1196.67,
          1267,
          1448.51,
          1706,
          1719.88,
          2170.76,
          2296.21,
          2836.15,
          2751,
          2624.56,
          2405.99,
          2624.9,
          2279.02,
          2245.99,
          2689.09,
          2871.46,
          3440.87,
          4252,
          3816,
          4371.25,
          4346.51,
          4357.45,
          3965.21,
          3890.15,
          4292.01,
          4836.95,
          5663.23,
          5728.37,
          6109.12,
          7187.01,
          6583.55,
          8150.66,
          9925.01,
          11789.35,
          16918.17,
          18841.01,
          15444.01,
          13423.34,
          15147.35,
          12605.23,
          10289.99,
          10985.79,
          5918,
          8634.99,
          11536,
          10604,
          11263.21,
          9348.01,
          8482.05,
          7976.01,
          7345.06,
          6705.56,
          8014.01,
          9233,
          8971.25,
          9324.71,
          8739.92,
          8318.32,
          7096.6,
          7425.17,
          6838.2,
          6684.89,
          6236.52,
          6640.26,
          6601.71,
          6674.13,
          7979.99,
          8122.49,
          6949.18,
          5978.18,
          6386,
          6910.01,
          7285,
          6330,
          6268.49,
          6420.57,
          6559.31,
          6594.68,
          6451.24,
          6400,
          6278.41,
          6398.58
         ]
        },
        {
         "mode": "lines",
         "name": "High",
         "type": "scatter",
         "x": [
          "2014-12-01T00:00:00+00:00",
          "2014-12-08T00:00:00+00:00",
          "2014-12-15T00:00:00+00:00",
          "2014-12-22T00:00:00+00:00",
          "2014-12-29T00:00:00+00:00",
          "2015-01-05T00:00:00+00:00",
          "2015-01-12T00:00:00+00:00",
          "2015-01-19T00:00:00+00:00",
          "2015-01-26T00:00:00+00:00",
          "2015-02-02T00:00:00+00:00",
          "2015-02-09T00:00:00+00:00",
          "2015-02-16T00:00:00+00:00",
          "2015-02-23T00:00:00+00:00",
          "2015-03-02T00:00:00+00:00",
          "2015-03-09T00:00:00+00:00",
          "2015-03-16T00:00:00+00:00",
          "2015-03-23T00:00:00+00:00",
          "2015-03-30T00:00:00+00:00",
          "2015-04-06T00:00:00+00:00",
          "2015-04-13T00:00:00+00:00",
          "2015-04-20T00:00:00+00:00",
          "2015-04-27T00:00:00+00:00",
          "2015-05-04T00:00:00+00:00",
          "2015-05-11T00:00:00+00:00",
          "2015-05-18T00:00:00+00:00",
          "2015-05-25T00:00:00+00:00",
          "2015-06-01T00:00:00+00:00",
          "2015-06-08T00:00:00+00:00",
          "2015-06-15T00:00:00+00:00",
          "2015-06-22T00:00:00+00:00",
          "2015-06-29T00:00:00+00:00",
          "2015-07-06T00:00:00+00:00",
          "2015-07-13T00:00:00+00:00",
          "2015-07-20T00:00:00+00:00",
          "2015-07-27T00:00:00+00:00",
          "2015-08-03T00:00:00+00:00",
          "2015-08-10T00:00:00+00:00",
          "2015-08-17T00:00:00+00:00",
          "2015-08-24T00:00:00+00:00",
          "2015-08-31T00:00:00+00:00",
          "2015-09-07T00:00:00+00:00",
          "2015-09-14T00:00:00+00:00",
          "2015-09-21T00:00:00+00:00",
          "2015-09-28T00:00:00+00:00",
          "2015-10-05T00:00:00+00:00",
          "2015-10-12T00:00:00+00:00",
          "2015-10-19T00:00:00+00:00",
          "2015-10-26T00:00:00+00:00",
          "2015-11-02T00:00:00+00:00",
          "2015-11-09T00:00:00+00:00",
          "2015-11-16T00:00:00+00:00",
          "2015-11-23T00:00:00+00:00",
          "2015-11-30T00:00:00+00:00",
          "2015-12-07T00:00:00+00:00",
          "2015-12-14T00:00:00+00:00",
          "2015-12-21T00:00:00+00:00",
          "2015-12-28T00:00:00+00:00",
          "2016-01-04T00:00:00+00:00",
          "2016-01-11T00:00:00+00:00",
          "2016-01-18T00:00:00+00:00",
          "2016-01-25T00:00:00+00:00",
          "2016-02-01T00:00:00+00:00",
          "2016-02-08T00:00:00+00:00",
          "2016-02-15T00:00:00+00:00",
          "2016-02-22T00:00:00+00:00",
          "2016-02-29T00:00:00+00:00",
          "2016-03-07T00:00:00+00:00",
          "2016-03-14T00:00:00+00:00",
          "2016-03-21T00:00:00+00:00",
          "2016-03-28T00:00:00+00:00",
          "2016-04-04T00:00:00+00:00",
          "2016-04-11T00:00:00+00:00",
          "2016-04-18T00:00:00+00:00",
          "2016-04-25T00:00:00+00:00",
          "2016-05-02T00:00:00+00:00",
          "2016-05-09T00:00:00+00:00",
          "2016-05-16T00:00:00+00:00",
          "2016-05-23T00:00:00+00:00",
          "2016-05-30T00:00:00+00:00",
          "2016-06-06T00:00:00+00:00",
          "2016-06-13T00:00:00+00:00",
          "2016-06-20T00:00:00+00:00",
          "2016-06-27T00:00:00+00:00",
          "2016-07-04T00:00:00+00:00",
          "2016-07-11T00:00:00+00:00",
          "2016-07-18T00:00:00+00:00",
          "2016-07-25T00:00:00+00:00",
          "2016-08-01T00:00:00+00:00",
          "2016-08-08T00:00:00+00:00",
          "2016-08-15T00:00:00+00:00",
          "2016-08-22T00:00:00+00:00",
          "2016-08-29T00:00:00+00:00",
          "2016-09-05T00:00:00+00:00",
          "2016-09-12T00:00:00+00:00",
          "2016-09-19T00:00:00+00:00",
          "2016-09-26T00:00:00+00:00",
          "2016-10-03T00:00:00+00:00",
          "2016-10-10T00:00:00+00:00",
          "2016-10-17T00:00:00+00:00",
          "2016-10-24T00:00:00+00:00",
          "2016-10-31T00:00:00+00:00",
          "2016-11-07T00:00:00+00:00",
          "2016-11-14T00:00:00+00:00",
          "2016-11-21T00:00:00+00:00",
          "2016-11-28T00:00:00+00:00",
          "2016-12-05T00:00:00+00:00",
          "2016-12-12T00:00:00+00:00",
          "2016-12-19T00:00:00+00:00",
          "2016-12-26T00:00:00+00:00",
          "2017-01-02T00:00:00+00:00",
          "2017-01-09T00:00:00+00:00",
          "2017-01-16T00:00:00+00:00",
          "2017-01-23T00:00:00+00:00",
          "2017-01-30T00:00:00+00:00",
          "2017-02-06T00:00:00+00:00",
          "2017-02-13T00:00:00+00:00",
          "2017-02-20T00:00:00+00:00",
          "2017-02-27T00:00:00+00:00",
          "2017-03-06T00:00:00+00:00",
          "2017-03-13T00:00:00+00:00",
          "2017-03-20T00:00:00+00:00",
          "2017-03-27T00:00:00+00:00",
          "2017-04-03T00:00:00+00:00",
          "2017-04-10T00:00:00+00:00",
          "2017-04-17T00:00:00+00:00",
          "2017-04-24T00:00:00+00:00",
          "2017-05-01T00:00:00+00:00",
          "2017-05-08T00:00:00+00:00",
          "2017-05-15T00:00:00+00:00",
          "2017-05-22T00:00:00+00:00",
          "2017-05-29T00:00:00+00:00",
          "2017-06-05T00:00:00+00:00",
          "2017-06-12T00:00:00+00:00",
          "2017-06-19T00:00:00+00:00",
          "2017-06-26T00:00:00+00:00",
          "2017-07-03T00:00:00+00:00",
          "2017-07-10T00:00:00+00:00",
          "2017-07-17T00:00:00+00:00",
          "2017-07-24T00:00:00+00:00",
          "2017-07-31T00:00:00+00:00",
          "2017-08-07T00:00:00+00:00",
          "2017-08-14T00:00:00+00:00",
          "2017-08-21T00:00:00+00:00",
          "2017-08-28T00:00:00+00:00",
          "2017-09-04T00:00:00+00:00",
          "2017-09-11T00:00:00+00:00",
          "2017-09-18T00:00:00+00:00",
          "2017-09-25T00:00:00+00:00",
          "2017-10-02T00:00:00+00:00",
          "2017-10-09T00:00:00+00:00",
          "2017-10-16T00:00:00+00:00",
          "2017-10-23T00:00:00+00:00",
          "2017-10-30T00:00:00+00:00",
          "2017-11-06T00:00:00+00:00",
          "2017-11-13T00:00:00+00:00",
          "2017-11-20T00:00:00+00:00",
          "2017-11-27T00:00:00+00:00",
          "2017-12-04T00:00:00+00:00",
          "2017-12-11T00:00:00+00:00",
          "2017-12-18T00:00:00+00:00",
          "2017-12-25T00:00:00+00:00",
          "2018-01-01T00:00:00+00:00",
          "2018-01-08T00:00:00+00:00",
          "2018-01-15T00:00:00+00:00",
          "2018-01-22T00:00:00+00:00",
          "2018-01-29T00:00:00+00:00",
          "2018-02-05T00:00:00+00:00",
          "2018-02-12T00:00:00+00:00",
          "2018-02-19T00:00:00+00:00",
          "2018-02-26T00:00:00+00:00",
          "2018-03-05T00:00:00+00:00",
          "2018-03-12T00:00:00+00:00",
          "2018-03-19T00:00:00+00:00",
          "2018-03-26T00:00:00+00:00",
          "2018-04-02T00:00:00+00:00",
          "2018-04-09T00:00:00+00:00",
          "2018-04-16T00:00:00+00:00",
          "2018-04-23T00:00:00+00:00",
          "2018-04-30T00:00:00+00:00",
          "2018-05-07T00:00:00+00:00",
          "2018-05-14T00:00:00+00:00",
          "2018-05-21T00:00:00+00:00",
          "2018-05-28T00:00:00+00:00",
          "2018-06-04T00:00:00+00:00",
          "2018-06-11T00:00:00+00:00",
          "2018-06-18T00:00:00+00:00",
          "2018-06-25T00:00:00+00:00",
          "2018-07-02T00:00:00+00:00",
          "2018-07-09T00:00:00+00:00",
          "2018-07-16T00:00:00+00:00",
          "2018-07-23T00:00:00+00:00",
          "2018-07-30T00:00:00+00:00",
          "2018-08-06T00:00:00+00:00",
          "2018-08-13T00:00:00+00:00",
          "2018-08-20T00:00:00+00:00",
          "2018-08-27T00:00:00+00:00",
          "2018-09-03T00:00:00+00:00",
          "2018-09-10T00:00:00+00:00",
          "2018-09-17T00:00:00+00:00",
          "2018-09-24T00:00:00+00:00",
          "2018-10-01T00:00:00+00:00",
          "2018-10-08T00:00:00+00:00",
          "2018-10-15T00:00:00+00:00",
          "2018-10-22T00:00:00+00:00",
          "2018-10-29T00:00:00+00:00",
          "2018-11-05T00:00:00+00:00",
          "2018-11-12T00:00:00+00:00"
         ],
         "y": [
          300,
          378,
          398,
          345,
          null,
          null,
          360,
          200,
          215,
          259,
          238.7,
          217.55,
          237.02,
          237.6,
          276.5,
          295.71,
          292.91,
          267.16,
          248.45,
          254.55,
          219.49,
          226.46,
          224.44,
          235.57,
          241.47,
          234.44,
          237.01,
          223.73,
          228.48,
          238.84,
          245.01,
          266.63,
          267.21,
          287.62,
          279.5,
          297.22,
          283.22,
          267.22,
          255.21,
          210.12,
          229.81,
          243.86,
          231.79,
          227.12,
          240.79,
          241.46,
          246.88,
          266.8,
          290.54,
          375,
          381.46,
          335.36,
          322.38,
          378.13,
          392.95,
          459.66,
          440.43,
          423.08,
          433.81,
          447.61,
          382.7,
          393.2,
          373.61,
          370.41,
          400.63,
          434.41,
          431.37,
          414.03,
          414.75,
          415.93,
          423.26,
          422.47,
          425.51,
          432.5,
          468.32,
          446.99,
          461.7,
          455.89,
          446.42,
          534.15,
          586.34,
          690.19,
          706.6,
          654.22,
          675.29,
          650.38,
          675.62,
          646.39,
          602.5,
          588.66,
          567.66,
          585.91,
          575.81,
          606.82,
          608.12,
          609.36,
          606.33,
          610.55,
          630.34,
          638.1,
          652.84,
          711.78,
          704.8,
          710.87,
          737.33,
          730.89,
          756.16,
          779.17,
          790.56,
          911.78,
          1019.79,
          904.02,
          891.17,
          918,
          934.99,
          1047.32,
          1006.62,
          1093,
          1192.64,
          1279.95,
          1235,
          1085.3,
          1039.52,
          1155.39,
          1208.92,
          1198.2,
          1267,
          1448.52,
          1706,
          1719.92,
          2170.76,
          2296.21,
          2841,
          2751.79,
          2624.56,
          2406,
          2625.91,
          2285,
          2251,
          2690,
          2872.46,
          3441,
          4272.54,
          3816,
          4371.25,
          4349.48,
          4358.05,
          3965.21,
          3890.96,
          4292.01,
          4836.95,
          5663.23,
          5732.26,
          6109.12,
          7187.01,
          6583.55,
          8150.66,
          9925.01,
          11794.29,
          16918.17,
          18850,
          15444.01,
          13423.34,
          15155.52,
          12687.09,
          10290.01,
          10985.79,
          5930,
          8634.99,
          11540,
          10604.01,
          11269.99,
          9348.01,
          8488.88,
          7984.43,
          7345.06,
          6711.72,
          8014.01,
          9239,
          8976.92,
          9324.71,
          8739.92,
          8318.32,
          7096.6,
          7425.17,
          6841.8,
          6686.69,
          6236.52,
          6640.26,
          6605.6,
          6674.13,
          7980,
          8122.49,
          6949.18,
          5978.18,
          6386,
          6910.02,
          7285,
          6330.01,
          6268.5,
          6420.57,
          6559.31,
          6594.68,
          6451.24,
          6400,
          6278.41,
          6398.58
         ]
        },
        {
         "mode": "lines",
         "name": "Low",
         "type": "scatter",
         "x": [
          "2014-12-01T00:00:00+00:00",
          "2014-12-08T00:00:00+00:00",
          "2014-12-15T00:00:00+00:00",
          "2014-12-22T00:00:00+00:00",
          "2014-12-29T00:00:00+00:00",
          "2015-01-05T00:00:00+00:00",
          "2015-01-12T00:00:00+00:00",
          "2015-01-19T00:00:00+00:00",
          "2015-01-26T00:00:00+00:00",
          "2015-02-02T00:00:00+00:00",
          "2015-02-09T00:00:00+00:00",
          "2015-02-16T00:00:00+00:00",
          "2015-02-23T00:00:00+00:00",
          "2015-03-02T00:00:00+00:00",
          "2015-03-09T00:00:00+00:00",
          "2015-03-16T00:00:00+00:00",
          "2015-03-23T00:00:00+00:00",
          "2015-03-30T00:00:00+00:00",
          "2015-04-06T00:00:00+00:00",
          "2015-04-13T00:00:00+00:00",
          "2015-04-20T00:00:00+00:00",
          "2015-04-27T00:00:00+00:00",
          "2015-05-04T00:00:00+00:00",
          "2015-05-11T00:00:00+00:00",
          "2015-05-18T00:00:00+00:00",
          "2015-05-25T00:00:00+00:00",
          "2015-06-01T00:00:00+00:00",
          "2015-06-08T00:00:00+00:00",
          "2015-06-15T00:00:00+00:00",
          "2015-06-22T00:00:00+00:00",
          "2015-06-29T00:00:00+00:00",
          "2015-07-06T00:00:00+00:00",
          "2015-07-13T00:00:00+00:00",
          "2015-07-20T00:00:00+00:00",
          "2015-07-27T00:00:00+00:00",
          "2015-08-03T00:00:00+00:00",
          "2015-08-10T00:00:00+00:00",
          "2015-08-17T00:00:00+00:00",
          "2015-08-24T00:00:00+00:00",
          "2015-08-31T00:00:00+00:00",
          "2015-09-07T00:00:00+00:00",
          "2015-09-14T00:00:00+00:00",
          "2015-09-21T00:00:00+00:00",
          "2015-09-28T00:00:00+00:00",
          "2015-10-05T00:00:00+00:00",
          "2015-10-12T00:00:00+00:00",
          "2015-10-19T00:00:00+00:00",
          "2015-10-26T00:00:00+00:00",
          "2015-11-02T00:00:00+00:00",
          "2015-11-09T00:00:00+00:00",
          "2015-11-16T00:00:00+00:00",
          "2015-11-23T00:00:00+00:00",
          "2015-11-30T00:00:00+00:00",
          "2015-12-07T00:00:00+00:00",
          "2015-12-14T00:00:00+00:00",
          "2015-12-21T00:00:00+00:00",
          "2015-12-28T00:00:00+00:00",
          "2016-01-04T00:00:00+00:00",
          "2016-01-11T00:00:00+00:00",
          "2016-01-18T00:00:00+00:00",
          "2016-01-25T00:00:00+00:00",
          "2016-02-01T00:00:00+00:00",
          "2016-02-08T00:00:00+00:00",
          "2016-02-15T00:00:00+00:00",
          "2016-02-22T00:00:00+00:00",
          "2016-02-29T00:00:00+00:00",
          "2016-03-07T00:00:00+00:00",
          "2016-03-14T00:00:00+00:00",
          "2016-03-21T00:00:00+00:00",
          "2016-03-28T00:00:00+00:00",
          "2016-04-04T00:00:00+00:00",
          "2016-04-11T00:00:00+00:00",
          "2016-04-18T00:00:00+00:00",
          "2016-04-25T00:00:00+00:00",
          "2016-05-02T00:00:00+00:00",
          "2016-05-09T00:00:00+00:00",
          "2016-05-16T00:00:00+00:00",
          "2016-05-23T00:00:00+00:00",
          "2016-05-30T00:00:00+00:00",
          "2016-06-06T00:00:00+00:00",
          "2016-06-13T00:00:00+00:00",
          "2016-06-20T00:00:00+00:00",
          "2016-06-27T00:00:00+00:00",
          "2016-07-04T00:00:00+00:00",
          "2016-07-11T00:00:00+00:00",
          "2016-07-18T00:00:00+00:00",
          "2016-07-25T00:00:00+00:00",
          "2016-08-01T00:00:00+00:00",
          "2016-08-08T00:00:00+00:00",
          "2016-08-15T00:00:00+00:00",
          "2016-08-22T00:00:00+00:00",
          "2016-08-29T00:00:00+00:00",
          "2016-09-05T00:00:00+00:00",
          "2016-09-12T00:00:00+00:00",
          "2016-09-19T00:00:00+00:00",
          "2016-09-26T00:00:00+00:00",
          "2016-10-03T00:00:00+00:00",
          "2016-10-10T00:00:00+00:00",
          "2016-10-17T00:00:00+00:00",
          "2016-10-24T00:00:00+00:00",
          "2016-10-31T00:00:00+00:00",
          "2016-11-07T00:00:00+00:00",
          "2016-11-14T00:00:00+00:00",
          "2016-11-21T00:00:00+00:00",
          "2016-11-28T00:00:00+00:00",
          "2016-12-05T00:00:00+00:00",
          "2016-12-12T00:00:00+00:00",
          "2016-12-19T00:00:00+00:00",
          "2016-12-26T00:00:00+00:00",
          "2017-01-02T00:00:00+00:00",
          "2017-01-09T00:00:00+00:00",
          "2017-01-16T00:00:00+00:00",
          "2017-01-23T00:00:00+00:00",
          "2017-01-30T00:00:00+00:00",
          "2017-02-06T00:00:00+00:00",
          "2017-02-13T00:00:00+00:00",
          "2017-02-20T00:00:00+00:00",
          "2017-02-27T00:00:00+00:00",
          "2017-03-06T00:00:00+00:00",
          "2017-03-13T00:00:00+00:00",
          "2017-03-20T00:00:00+00:00",
          "2017-03-27T00:00:00+00:00",
          "2017-04-03T00:00:00+00:00",
          "2017-04-10T00:00:00+00:00",
          "2017-04-17T00:00:00+00:00",
          "2017-04-24T00:00:00+00:00",
          "2017-05-01T00:00:00+00:00",
          "2017-05-08T00:00:00+00:00",
          "2017-05-15T00:00:00+00:00",
          "2017-05-22T00:00:00+00:00",
          "2017-05-29T00:00:00+00:00",
          "2017-06-05T00:00:00+00:00",
          "2017-06-12T00:00:00+00:00",
          "2017-06-19T00:00:00+00:00",
          "2017-06-26T00:00:00+00:00",
          "2017-07-03T00:00:00+00:00",
          "2017-07-10T00:00:00+00:00",
          "2017-07-17T00:00:00+00:00",
          "2017-07-24T00:00:00+00:00",
          "2017-07-31T00:00:00+00:00",
          "2017-08-07T00:00:00+00:00",
          "2017-08-14T00:00:00+00:00",
          "2017-08-21T00:00:00+00:00",
          "2017-08-28T00:00:00+00:00",
          "2017-09-04T00:00:00+00:00",
          "2017-09-11T00:00:00+00:00",
          "2017-09-18T00:00:00+00:00",
          "2017-09-25T00:00:00+00:00",
          "2017-10-02T00:00:00+00:00",
          "2017-10-09T00:00:00+00:00",
          "2017-10-16T00:00:00+00:00",
          "2017-10-23T00:00:00+00:00",
          "2017-10-30T00:00:00+00:00",
          "2017-11-06T00:00:00+00:00",
          "2017-11-13T00:00:00+00:00",
          "2017-11-20T00:00:00+00:00",
          "2017-11-27T00:00:00+00:00",
          "2017-12-04T00:00:00+00:00",
          "2017-12-11T00:00:00+00:00",
          "2017-12-18T00:00:00+00:00",
          "2017-12-25T00:00:00+00:00",
          "2018-01-01T00:00:00+00:00",
          "2018-01-08T00:00:00+00:00",
          "2018-01-15T00:00:00+00:00",
          "2018-01-22T00:00:00+00:00",
          "2018-01-29T00:00:00+00:00",
          "2018-02-05T00:00:00+00:00",
          "2018-02-12T00:00:00+00:00",
          "2018-02-19T00:00:00+00:00",
          "2018-02-26T00:00:00+00:00",
          "2018-03-05T00:00:00+00:00",
          "2018-03-12T00:00:00+00:00",
          "2018-03-19T00:00:00+00:00",
          "2018-03-26T00:00:00+00:00",
          "2018-04-02T00:00:00+00:00",
          "2018-04-09T00:00:00+00:00",
          "2018-04-16T00:00:00+00:00",
          "2018-04-23T00:00:00+00:00",
          "2018-04-30T00:00:00+00:00",
          "2018-05-07T00:00:00+00:00",
          "2018-05-14T00:00:00+00:00",
          "2018-05-21T00:00:00+00:00",
          "2018-05-28T00:00:00+00:00",
          "2018-06-04T00:00:00+00:00",
          "2018-06-11T00:00:00+00:00",
          "2018-06-18T00:00:00+00:00",
          "2018-06-25T00:00:00+00:00",
          "2018-07-02T00:00:00+00:00",
          "2018-07-09T00:00:00+00:00",
          "2018-07-16T00:00:00+00:00",
          "2018-07-23T00:00:00+00:00",
          "2018-07-30T00:00:00+00:00",
          "2018-08-06T00:00:00+00:00",
          "2018-08-13T00:00:00+00:00",
          "2018-08-20T00:00:00+00:00",
          "2018-08-27T00:00:00+00:00",
          "2018-09-03T00:00:00+00:00",
          "2018-09-10T00:00:00+00:00",
          "2018-09-17T00:00:00+00:00",
          "2018-09-24T00:00:00+00:00",
          "2018-10-01T00:00:00+00:00",
          "2018-10-08T00:00:00+00:00",
          "2018-10-15T00:00:00+00:00",
          "2018-10-22T00:00:00+00:00",
          "2018-10-29T00:00:00+00:00",
          "2018-11-05T00:00:00+00:00",
          "2018-11-12T00:00:00+00:00"
         ],
         "y": [
          300,
          377.75,
          398,
          340,
          null,
          null,
          360,
          200,
          215,
          259,
          238.69,
          217.33,
          236.58,
          237.6,
          275.98,
          295.71,
          292.61,
          267.16,
          248.4,
          254.55,
          219.48,
          226.46,
          224.43,
          235.54,
          241.47,
          234.36,
          237,
          223.73,
          228.45,
          238.71,
          245.01,
          266.04,
          267.2,
          287.58,
          279.33,
          297.17,
          282.84,
          267.22,
          255.16,
          210.03,
          229.71,
          243.56,
          231.67,
          227.06,
          240.79,
          241.21,
          246.8,
          266.62,
          290.53,
          374.98,
          381.25,
          335.36,
          322.25,
          377.89,
          392.95,
          459.33,
          440.43,
          423.02,
          433.79,
          447.57,
          382.36,
          393.03,
          373.57,
          370.39,
          400.54,
          434.41,
          431.26,
          414.03,
          414.56,
          415.93,
          423.11,
          422.46,
          425.44,
          431.98,
          468.32,
          446.96,
          461.7,
          455.88,
          446.22,
          534.15,
          586.34,
          688.75,
          705.6,
          654.12,
          675.11,
          649.84,
          675.62,
          646.19,
          602.09,
          588.66,
          567.42,
          585.91,
          575.5,
          606.82,
          608.08,
          609.35,
          606.25,
          610.48,
          630.25,
          638.06,
          652.84,
          711.63,
          704.79,
          710.53,
          737.04,
          730.5,
          756.16,
          779.17,
          790.02,
          911.77,
          1019.37,
          904.02,
          891.16,
          916.94,
          934.99,
          1047.32,
          1006.11,
          1093,
          1192.1,
          1279,
          1233.05,
          1085,
          1039.38,
          1155.12,
          1208.85,
          1196.51,
          1266.99,
          1448.51,
          1705.99,
          1716.57,
          2170.75,
          2294.51,
          2836.15,
          2750.63,
          2624.44,
          2403.11,
          2624.9,
          2277.85,
          2245.99,
          2686,
          2870.87,
          3439.22,
          4252,
          3813.6,
          4371.22,
          4334.06,
          4357.44,
          3963.66,
          3890.15,
          4292,
          4836.94,
          5663.22,
          5728.37,
          6109.11,
          7187,
          6583.54,
          8150.65,
          9925,
          11789.34,
          16918.16,
          18841.01,
          15444,
          13423.33,
          15147.35,
          12605.23,
          10273.32,
          10985.76,
          5918,
          8611.11,
          11535.99,
          10604,
          11263.21,
          9348,
          8482.05,
          7976,
          7334.96,
          6705.56,
          8012.01,
          9232.99,
          8971.25,
          9324.7,
          8739.91,
          8318.31,
          7096.59,
          7425.16,
          6836.61,
          6684.89,
          6236.51,
          6640.25,
          6601.7,
          6674.03,
          7979.99,
          8122.48,
          6949.17,
          5967.4,
          6385.99,
          6910,
          7284.99,
          6330,
          6268.49,
          6412.52,
          6559.3,
          6594.67,
          6446.99,
          6399.99,
          6278.4,
          6398.56
         ]
        },
        {
         "mode": "lines",
         "name": "Close",
         "type": "scatter",
         "x": [
          "2014-12-01T00:00:00+00:00",
          "2014-12-08T00:00:00+00:00",
          "2014-12-15T00:00:00+00:00",
          "2014-12-22T00:00:00+00:00",
          "2014-12-29T00:00:00+00:00",
          "2015-01-05T00:00:00+00:00",
          "2015-01-12T00:00:00+00:00",
          "2015-01-19T00:00:00+00:00",
          "2015-01-26T00:00:00+00:00",
          "2015-02-02T00:00:00+00:00",
          "2015-02-09T00:00:00+00:00",
          "2015-02-16T00:00:00+00:00",
          "2015-02-23T00:00:00+00:00",
          "2015-03-02T00:00:00+00:00",
          "2015-03-09T00:00:00+00:00",
          "2015-03-16T00:00:00+00:00",
          "2015-03-23T00:00:00+00:00",
          "2015-03-30T00:00:00+00:00",
          "2015-04-06T00:00:00+00:00",
          "2015-04-13T00:00:00+00:00",
          "2015-04-20T00:00:00+00:00",
          "2015-04-27T00:00:00+00:00",
          "2015-05-04T00:00:00+00:00",
          "2015-05-11T00:00:00+00:00",
          "2015-05-18T00:00:00+00:00",
          "2015-05-25T00:00:00+00:00",
          "2015-06-01T00:00:00+00:00",
          "2015-06-08T00:00:00+00:00",
          "2015-06-15T00:00:00+00:00",
          "2015-06-22T00:00:00+00:00",
          "2015-06-29T00:00:00+00:00",
          "2015-07-06T00:00:00+00:00",
          "2015-07-13T00:00:00+00:00",
          "2015-07-20T00:00:00+00:00",
          "2015-07-27T00:00:00+00:00",
          "2015-08-03T00:00:00+00:00",
          "2015-08-10T00:00:00+00:00",
          "2015-08-17T00:00:00+00:00",
          "2015-08-24T00:00:00+00:00",
          "2015-08-31T00:00:00+00:00",
          "2015-09-07T00:00:00+00:00",
          "2015-09-14T00:00:00+00:00",
          "2015-09-21T00:00:00+00:00",
          "2015-09-28T00:00:00+00:00",
          "2015-10-05T00:00:00+00:00",
          "2015-10-12T00:00:00+00:00",
          "2015-10-19T00:00:00+00:00",
          "2015-10-26T00:00:00+00:00",
          "2015-11-02T00:00:00+00:00",
          "2015-11-09T00:00:00+00:00",
          "2015-11-16T00:00:00+00:00",
          "2015-11-23T00:00:00+00:00",
          "2015-11-30T00:00:00+00:00",
          "2015-12-07T00:00:00+00:00",
          "2015-12-14T00:00:00+00:00",
          "2015-12-21T00:00:00+00:00",
          "2015-12-28T00:00:00+00:00",
          "2016-01-04T00:00:00+00:00",
          "2016-01-11T00:00:00+00:00",
          "2016-01-18T00:00:00+00:00",
          "2016-01-25T00:00:00+00:00",
          "2016-02-01T00:00:00+00:00",
          "2016-02-08T00:00:00+00:00",
          "2016-02-15T00:00:00+00:00",
          "2016-02-22T00:00:00+00:00",
          "2016-02-29T00:00:00+00:00",
          "2016-03-07T00:00:00+00:00",
          "2016-03-14T00:00:00+00:00",
          "2016-03-21T00:00:00+00:00",
          "2016-03-28T00:00:00+00:00",
          "2016-04-04T00:00:00+00:00",
          "2016-04-11T00:00:00+00:00",
          "2016-04-18T00:00:00+00:00",
          "2016-04-25T00:00:00+00:00",
          "2016-05-02T00:00:00+00:00",
          "2016-05-09T00:00:00+00:00",
          "2016-05-16T00:00:00+00:00",
          "2016-05-23T00:00:00+00:00",
          "2016-05-30T00:00:00+00:00",
          "2016-06-06T00:00:00+00:00",
          "2016-06-13T00:00:00+00:00",
          "2016-06-20T00:00:00+00:00",
          "2016-06-27T00:00:00+00:00",
          "2016-07-04T00:00:00+00:00",
          "2016-07-11T00:00:00+00:00",
          "2016-07-18T00:00:00+00:00",
          "2016-07-25T00:00:00+00:00",
          "2016-08-01T00:00:00+00:00",
          "2016-08-08T00:00:00+00:00",
          "2016-08-15T00:00:00+00:00",
          "2016-08-22T00:00:00+00:00",
          "2016-08-29T00:00:00+00:00",
          "2016-09-05T00:00:00+00:00",
          "2016-09-12T00:00:00+00:00",
          "2016-09-19T00:00:00+00:00",
          "2016-09-26T00:00:00+00:00",
          "2016-10-03T00:00:00+00:00",
          "2016-10-10T00:00:00+00:00",
          "2016-10-17T00:00:00+00:00",
          "2016-10-24T00:00:00+00:00",
          "2016-10-31T00:00:00+00:00",
          "2016-11-07T00:00:00+00:00",
          "2016-11-14T00:00:00+00:00",
          "2016-11-21T00:00:00+00:00",
          "2016-11-28T00:00:00+00:00",
          "2016-12-05T00:00:00+00:00",
          "2016-12-12T00:00:00+00:00",
          "2016-12-19T00:00:00+00:00",
          "2016-12-26T00:00:00+00:00",
          "2017-01-02T00:00:00+00:00",
          "2017-01-09T00:00:00+00:00",
          "2017-01-16T00:00:00+00:00",
          "2017-01-23T00:00:00+00:00",
          "2017-01-30T00:00:00+00:00",
          "2017-02-06T00:00:00+00:00",
          "2017-02-13T00:00:00+00:00",
          "2017-02-20T00:00:00+00:00",
          "2017-02-27T00:00:00+00:00",
          "2017-03-06T00:00:00+00:00",
          "2017-03-13T00:00:00+00:00",
          "2017-03-20T00:00:00+00:00",
          "2017-03-27T00:00:00+00:00",
          "2017-04-03T00:00:00+00:00",
          "2017-04-10T00:00:00+00:00",
          "2017-04-17T00:00:00+00:00",
          "2017-04-24T00:00:00+00:00",
          "2017-05-01T00:00:00+00:00",
          "2017-05-08T00:00:00+00:00",
          "2017-05-15T00:00:00+00:00",
          "2017-05-22T00:00:00+00:00",
          "2017-05-29T00:00:00+00:00",
          "2017-06-05T00:00:00+00:00",
          "2017-06-12T00:00:00+00:00",
          "2017-06-19T00:00:00+00:00",
          "2017-06-26T00:00:00+00:00",
          "2017-07-03T00:00:00+00:00",
          "2017-07-10T00:00:00+00:00",
          "2017-07-17T00:00:00+00:00",
          "2017-07-24T00:00:00+00:00",
          "2017-07-31T00:00:00+00:00",
          "2017-08-07T00:00:00+00:00",
          "2017-08-14T00:00:00+00:00",
          "2017-08-21T00:00:00+00:00",
          "2017-08-28T00:00:00+00:00",
          "2017-09-04T00:00:00+00:00",
          "2017-09-11T00:00:00+00:00",
          "2017-09-18T00:00:00+00:00",
          "2017-09-25T00:00:00+00:00",
          "2017-10-02T00:00:00+00:00",
          "2017-10-09T00:00:00+00:00",
          "2017-10-16T00:00:00+00:00",
          "2017-10-23T00:00:00+00:00",
          "2017-10-30T00:00:00+00:00",
          "2017-11-06T00:00:00+00:00",
          "2017-11-13T00:00:00+00:00",
          "2017-11-20T00:00:00+00:00",
          "2017-11-27T00:00:00+00:00",
          "2017-12-04T00:00:00+00:00",
          "2017-12-11T00:00:00+00:00",
          "2017-12-18T00:00:00+00:00",
          "2017-12-25T00:00:00+00:00",
          "2018-01-01T00:00:00+00:00",
          "2018-01-08T00:00:00+00:00",
          "2018-01-15T00:00:00+00:00",
          "2018-01-22T00:00:00+00:00",
          "2018-01-29T00:00:00+00:00",
          "2018-02-05T00:00:00+00:00",
          "2018-02-12T00:00:00+00:00",
          "2018-02-19T00:00:00+00:00",
          "2018-02-26T00:00:00+00:00",
          "2018-03-05T00:00:00+00:00",
          "2018-03-12T00:00:00+00:00",
          "2018-03-19T00:00:00+00:00",
          "2018-03-26T00:00:00+00:00",
          "2018-04-02T00:00:00+00:00",
          "2018-04-09T00:00:00+00:00",
          "2018-04-16T00:00:00+00:00",
          "2018-04-23T00:00:00+00:00",
          "2018-04-30T00:00:00+00:00",
          "2018-05-07T00:00:00+00:00",
          "2018-05-14T00:00:00+00:00",
          "2018-05-21T00:00:00+00:00",
          "2018-05-28T00:00:00+00:00",
          "2018-06-04T00:00:00+00:00",
          "2018-06-11T00:00:00+00:00",
          "2018-06-18T00:00:00+00:00",
          "2018-06-25T00:00:00+00:00",
          "2018-07-02T00:00:00+00:00",
          "2018-07-09T00:00:00+00:00",
          "2018-07-16T00:00:00+00:00",
          "2018-07-23T00:00:00+00:00",
          "2018-07-30T00:00:00+00:00",
          "2018-08-06T00:00:00+00:00",
          "2018-08-13T00:00:00+00:00",
          "2018-08-20T00:00:00+00:00",
          "2018-08-27T00:00:00+00:00",
          "2018-09-03T00:00:00+00:00",
          "2018-09-10T00:00:00+00:00",
          "2018-09-17T00:00:00+00:00",
          "2018-09-24T00:00:00+00:00",
          "2018-10-01T00:00:00+00:00",
          "2018-10-08T00:00:00+00:00",
          "2018-10-15T00:00:00+00:00",
          "2018-10-22T00:00:00+00:00",
          "2018-10-29T00:00:00+00:00",
          "2018-11-05T00:00:00+00:00",
          "2018-11-12T00:00:00+00:00"
         ],
         "y": [
          300,
          378,
          398,
          340,
          null,
          null,
          360,
          200,
          215,
          259,
          238.7,
          217.33,
          237.02,
          237.6,
          276.5,
          295.71,
          292.61,
          267.16,
          248.4,
          254.55,
          219.48,
          226.46,
          224.44,
          235.57,
          241.47,
          234.4,
          237.01,
          223.73,
          228.45,
          238.84,
          245.01,
          266.2,
          267.21,
          287.62,
          279.5,
          297.17,
          283.22,
          267.22,
          255.21,
          210.12,
          229.75,
          243.86,
          231.67,
          227.12,
          240.79,
          241.44,
          246.88,
          266.8,
          290.54,
          374.98,
          381.46,
          335.36,
          322.25,
          378.11,
          392.95,
          459.58,
          440.43,
          423.08,
          433.79,
          447.57,
          382.36,
          393.03,
          373.57,
          370.39,
          400.63,
          434.41,
          431.26,
          414.03,
          414.56,
          415.93,
          423.17,
          422.46,
          425.44,
          432.5,
          468.32,
          446.99,
          461.7,
          455.88,
          446.37,
          534.15,
          586.34,
          690.19,
          706.6,
          654.22,
          675.29,
          650.38,
          675.62,
          646.39,
          602.09,
          588.66,
          567.66,
          585.91,
          575.81,
          606.82,
          608.12,
          609.35,
          606.25,
          610.48,
          630.34,
          638.1,
          652.84,
          711.71,
          704.79,
          710.53,
          737.04,
          730.89,
          756.16,
          779.17,
          790.56,
          911.77,
          1019.79,
          904.02,
          891.17,
          916.94,
          934.99,
          1047.32,
          1006.11,
          1093,
          1192.62,
          1279.95,
          1234.95,
          1085.3,
          1039.52,
          1155.12,
          1208.92,
          1196.51,
          1267,
          1448.52,
          1705.99,
          1716.57,
          2170.76,
          2295.01,
          2837.5,
          2751.78,
          2624.45,
          2403.15,
          2625.61,
          2283.43,
          2249.75,
          2686,
          2870.92,
          3439.22,
          4266.3,
          3813.92,
          4371.23,
          4349.48,
          4357.98,
          3964.97,
          3890.96,
          4292,
          4836.94,
          5663.23,
          5732.25,
          6109.12,
          7187.01,
          6583.55,
          8150.66,
          9925.01,
          11794.29,
          16918.17,
          18850,
          15444,
          13423.34,
          15152.69,
          12687.09,
          10290,
          10985.77,
          5930,
          8612.38,
          11539.99,
          10604,
          11269.99,
          9348.01,
          8488.87,
          7984.43,
          7337.42,
          6708,
          8012.02,
          9239,
          8976.91,
          9324.71,
          8739.92,
          8318.31,
          7096.6,
          7425.17,
          6839.75,
          6686.68,
          6236.52,
          6640.25,
          6605.6,
          6674.03,
          7980,
          8122.48,
          6949.18,
          5970,
          6386,
          6910,
          7284.99,
          6330.01,
          6268.49,
          6412.53,
          6559.3,
          6594.68,
          6446.99,
          6399.99,
          6278.4,
          6398.56
         ]
        },
        {
         "mode": "lines",
         "name": "Weighted Average",
         "type": "scatter",
         "x": [
          "2014-12-01T00:00:00+00:00",
          "2014-12-08T00:00:00+00:00",
          "2014-12-15T00:00:00+00:00",
          "2014-12-22T00:00:00+00:00",
          "2014-12-29T00:00:00+00:00",
          "2015-01-05T00:00:00+00:00",
          "2015-01-12T00:00:00+00:00",
          "2015-01-19T00:00:00+00:00",
          "2015-01-26T00:00:00+00:00",
          "2015-02-02T00:00:00+00:00",
          "2015-02-09T00:00:00+00:00",
          "2015-02-16T00:00:00+00:00",
          "2015-02-23T00:00:00+00:00",
          "2015-03-02T00:00:00+00:00",
          "2015-03-09T00:00:00+00:00",
          "2015-03-16T00:00:00+00:00",
          "2015-03-23T00:00:00+00:00",
          "2015-03-30T00:00:00+00:00",
          "2015-04-06T00:00:00+00:00",
          "2015-04-13T00:00:00+00:00",
          "2015-04-20T00:00:00+00:00",
          "2015-04-27T00:00:00+00:00",
          "2015-05-04T00:00:00+00:00",
          "2015-05-11T00:00:00+00:00",
          "2015-05-18T00:00:00+00:00",
          "2015-05-25T00:00:00+00:00",
          "2015-06-01T00:00:00+00:00",
          "2015-06-08T00:00:00+00:00",
          "2015-06-15T00:00:00+00:00",
          "2015-06-22T00:00:00+00:00",
          "2015-06-29T00:00:00+00:00",
          "2015-07-06T00:00:00+00:00",
          "2015-07-13T00:00:00+00:00",
          "2015-07-20T00:00:00+00:00",
          "2015-07-27T00:00:00+00:00",
          "2015-08-03T00:00:00+00:00",
          "2015-08-10T00:00:00+00:00",
          "2015-08-17T00:00:00+00:00",
          "2015-08-24T00:00:00+00:00",
          "2015-08-31T00:00:00+00:00",
          "2015-09-07T00:00:00+00:00",
          "2015-09-14T00:00:00+00:00",
          "2015-09-21T00:00:00+00:00",
          "2015-09-28T00:00:00+00:00",
          "2015-10-05T00:00:00+00:00",
          "2015-10-12T00:00:00+00:00",
          "2015-10-19T00:00:00+00:00",
          "2015-10-26T00:00:00+00:00",
          "2015-11-02T00:00:00+00:00",
          "2015-11-09T00:00:00+00:00",
          "2015-11-16T00:00:00+00:00",
          "2015-11-23T00:00:00+00:00",
          "2015-11-30T00:00:00+00:00",
          "2015-12-07T00:00:00+00:00",
          "2015-12-14T00:00:00+00:00",
          "2015-12-21T00:00:00+00:00",
          "2015-12-28T00:00:00+00:00",
          "2016-01-04T00:00:00+00:00",
          "2016-01-11T00:00:00+00:00",
          "2016-01-18T00:00:00+00:00",
          "2016-01-25T00:00:00+00:00",
          "2016-02-01T00:00:00+00:00",
          "2016-02-08T00:00:00+00:00",
          "2016-02-15T00:00:00+00:00",
          "2016-02-22T00:00:00+00:00",
          "2016-02-29T00:00:00+00:00",
          "2016-03-07T00:00:00+00:00",
          "2016-03-14T00:00:00+00:00",
          "2016-03-21T00:00:00+00:00",
          "2016-03-28T00:00:00+00:00",
          "2016-04-04T00:00:00+00:00",
          "2016-04-11T00:00:00+00:00",
          "2016-04-18T00:00:00+00:00",
          "2016-04-25T00:00:00+00:00",
          "2016-05-02T00:00:00+00:00",
          "2016-05-09T00:00:00+00:00",
          "2016-05-16T00:00:00+00:00",
          "2016-05-23T00:00:00+00:00",
          "2016-05-30T00:00:00+00:00",
          "2016-06-06T00:00:00+00:00",
          "2016-06-13T00:00:00+00:00",
          "2016-06-20T00:00:00+00:00",
          "2016-06-27T00:00:00+00:00",
          "2016-07-04T00:00:00+00:00",
          "2016-07-11T00:00:00+00:00",
          "2016-07-18T00:00:00+00:00",
          "2016-07-25T00:00:00+00:00",
          "2016-08-01T00:00:00+00:00",
          "2016-08-08T00:00:00+00:00",
          "2016-08-15T00:00:00+00:00",
          "2016-08-22T00:00:00+00:00",
          "2016-08-29T00:00:00+00:00",
          "2016-09-05T00:00:00+00:00",
          "2016-09-12T00:00:00+00:00",
          "2016-09-19T00:00:00+00:00",
          "2016-09-26T00:00:00+00:00",
          "2016-10-03T00:00:00+00:00",
          "2016-10-10T00:00:00+00:00",
          "2016-10-17T00:00:00+00:00",
          "2016-10-24T00:00:00+00:00",
          "2016-10-31T00:00:00+00:00",
          "2016-11-07T00:00:00+00:00",
          "2016-11-14T00:00:00+00:00",
          "2016-11-21T00:00:00+00:00",
          "2016-11-28T00:00:00+00:00",
          "2016-12-05T00:00:00+00:00",
          "2016-12-12T00:00:00+00:00",
          "2016-12-19T00:00:00+00:00",
          "2016-12-26T00:00:00+00:00",
          "2017-01-02T00:00:00+00:00",
          "2017-01-09T00:00:00+00:00",
          "2017-01-16T00:00:00+00:00",
          "2017-01-23T00:00:00+00:00",
          "2017-01-30T00:00:00+00:00",
          "2017-02-06T00:00:00+00:00",
          "2017-02-13T00:00:00+00:00",
          "2017-02-20T00:00:00+00:00",
          "2017-02-27T00:00:00+00:00",
          "2017-03-06T00:00:00+00:00",
          "2017-03-13T00:00:00+00:00",
          "2017-03-20T00:00:00+00:00",
          "2017-03-27T00:00:00+00:00",
          "2017-04-03T00:00:00+00:00",
          "2017-04-10T00:00:00+00:00",
          "2017-04-17T00:00:00+00:00",
          "2017-04-24T00:00:00+00:00",
          "2017-05-01T00:00:00+00:00",
          "2017-05-08T00:00:00+00:00",
          "2017-05-15T00:00:00+00:00",
          "2017-05-22T00:00:00+00:00",
          "2017-05-29T00:00:00+00:00",
          "2017-06-05T00:00:00+00:00",
          "2017-06-12T00:00:00+00:00",
          "2017-06-19T00:00:00+00:00",
          "2017-06-26T00:00:00+00:00",
          "2017-07-03T00:00:00+00:00",
          "2017-07-10T00:00:00+00:00",
          "2017-07-17T00:00:00+00:00",
          "2017-07-24T00:00:00+00:00",
          "2017-07-31T00:00:00+00:00",
          "2017-08-07T00:00:00+00:00",
          "2017-08-14T00:00:00+00:00",
          "2017-08-21T00:00:00+00:00",
          "2017-08-28T00:00:00+00:00",
          "2017-09-04T00:00:00+00:00",
          "2017-09-11T00:00:00+00:00",
          "2017-09-18T00:00:00+00:00",
          "2017-09-25T00:00:00+00:00",
          "2017-10-02T00:00:00+00:00",
          "2017-10-09T00:00:00+00:00",
          "2017-10-16T00:00:00+00:00",
          "2017-10-23T00:00:00+00:00",
          "2017-10-30T00:00:00+00:00",
          "2017-11-06T00:00:00+00:00",
          "2017-11-13T00:00:00+00:00",
          "2017-11-20T00:00:00+00:00",
          "2017-11-27T00:00:00+00:00",
          "2017-12-04T00:00:00+00:00",
          "2017-12-11T00:00:00+00:00",
          "2017-12-18T00:00:00+00:00",
          "2017-12-25T00:00:00+00:00",
          "2018-01-01T00:00:00+00:00",
          "2018-01-08T00:00:00+00:00",
          "2018-01-15T00:00:00+00:00",
          "2018-01-22T00:00:00+00:00",
          "2018-01-29T00:00:00+00:00",
          "2018-02-05T00:00:00+00:00",
          "2018-02-12T00:00:00+00:00",
          "2018-02-19T00:00:00+00:00",
          "2018-02-26T00:00:00+00:00",
          "2018-03-05T00:00:00+00:00",
          "2018-03-12T00:00:00+00:00",
          "2018-03-19T00:00:00+00:00",
          "2018-03-26T00:00:00+00:00",
          "2018-04-02T00:00:00+00:00",
          "2018-04-09T00:00:00+00:00",
          "2018-04-16T00:00:00+00:00",
          "2018-04-23T00:00:00+00:00",
          "2018-04-30T00:00:00+00:00",
          "2018-05-07T00:00:00+00:00",
          "2018-05-14T00:00:00+00:00",
          "2018-05-21T00:00:00+00:00",
          "2018-05-28T00:00:00+00:00",
          "2018-06-04T00:00:00+00:00",
          "2018-06-11T00:00:00+00:00",
          "2018-06-18T00:00:00+00:00",
          "2018-06-25T00:00:00+00:00",
          "2018-07-02T00:00:00+00:00",
          "2018-07-09T00:00:00+00:00",
          "2018-07-16T00:00:00+00:00",
          "2018-07-23T00:00:00+00:00",
          "2018-07-30T00:00:00+00:00",
          "2018-08-06T00:00:00+00:00",
          "2018-08-13T00:00:00+00:00",
          "2018-08-20T00:00:00+00:00",
          "2018-08-27T00:00:00+00:00",
          "2018-09-03T00:00:00+00:00",
          "2018-09-10T00:00:00+00:00",
          "2018-09-17T00:00:00+00:00",
          "2018-09-24T00:00:00+00:00",
          "2018-10-01T00:00:00+00:00",
          "2018-10-08T00:00:00+00:00",
          "2018-10-15T00:00:00+00:00",
          "2018-10-22T00:00:00+00:00",
          "2018-10-29T00:00:00+00:00",
          "2018-11-05T00:00:00+00:00",
          "2018-11-12T00:00:00+00:00"
         ],
         "y": [
          300,
          377.984375,
          398,
          342.5,
          null,
          null,
          360,
          200,
          215,
          259,
          238.69985223,
          217.53316856,
          236.99959188,
          237.6,
          276.35464123,
          295.71,
          292.62650776,
          267.16,
          248.41192308,
          254.55,
          219.48320224,
          226.46,
          224.43155386,
          235.55768749,
          241.47,
          234.40259992,
          237.0094673,
          223.73,
          228.46619761,
          238.81978424,
          245.01,
          266.46800016,
          267.20837098,
          287.60044511,
          279.48685998,
          297.18298432,
          283.12196321,
          267.22,
          255.20359631,
          210.09869606,
          229.73281285,
          243.71411095,
          231.75972782,
          227.08647773,
          240.79,
          241.27287881,
          246.87960003,
          266.74613538,
          290.53743357,
          374.99633358,
          381.4411568,
          335.36,
          322.34381974,
          378.00433315,
          392.95,
          459.55979295,
          440.43,
          423.02024757,
          433.80245048,
          447.60272323,
          382.6304664,
          393.13526971,
          373.59061085,
          370.40243955,
          400.54869118,
          434.41,
          431.31728241,
          414.03,
          414.63337975,
          415.93,
          423.24261479,
          422.46955148,
          425.48099578,
          432.44522098,
          468.32,
          446.97963581,
          461.7,
          455.88885837,
          446.32820744,
          534.15,
          586.34,
          689.539998,
          705.67549498,
          654.19691073,
          675.11178218,
          650.11912635,
          675.62,
          646.38597289,
          602.40766402,
          588.66,
          567.52325871,
          585.91,
          575.67285204,
          606.82,
          608.09050583,
          609.3522524,
          606.27816953,
          610.49638398,
          630.31545588,
          638.08003992,
          652.84,
          711.70957761,
          704.79051044,
          710.54942902,
          737.04818947,
          730.70954109,
          756.16,
          779.17,
          790.3628871,
          911.77722472,
          1019.593675,
          904.02,
          891.16113673,
          917.94283484,
          934.99,
          1047.32,
          1006.119011,
          1093,
          1192.3252271,
          1279.1822409,
          1234.3375011,
          1085.0273592,
          1039.5088709,
          1155.3168081,
          1208.8849236,
          1197.151099,
          1266.9933912,
          1448.5104276,
          1705.9998902,
          1717.6309944,
          2170.7581926,
          2295.4320294,
          2838.9337076,
          2751.1454781,
          2624.4696167,
          2403.8215186,
          2625.8608786,
          2280.992064,
          2248.4767014,
          2688.1529008,
          2871.8226988,
          3440.2924265,
          4257.2787975,
          3813.9642255,
          4371.238212,
          4347.2552488,
          4357.4743568,
          3964.9219003,
          3890.4032307,
          4292.0085039,
          4836.9400224,
          5663.2237449,
          5731.1137057,
          6109.1199493,
          7187.0080097,
          6583.5416932,
          8150.6596076,
          9925.005867,
          11790.279713,
          16918.166229,
          18845.477505,
          15444.007832,
          13423.336972,
          15148.857014,
          12655.503663,
          10287.617676,
          10985.777778,
          5929.1809539,
          8616.8060392,
          11537.017618,
          10604.000548,
          11268.737091,
          9348.0095948,
          8483.545587,
          7977.8681947,
          7338.5312744,
          6709.38663,
          8012.0263402,
          9233.5655836,
          8973.1774516,
          9324.7098389,
          8739.9158442,
          8318.3138284,
          7096.5926135,
          7425.1645544,
          6839.1145146,
          6685.4084837,
          6236.5172928,
          6640.2559516,
          6602.8956413,
          6674.0316802,
          7979.9965523,
          8122.4838474,
          6949.1737838,
          5973.4469323,
          6385.9933565,
          6910.0057144,
          7284.9905859,
          6330.005347,
          6268.4935803,
          6415.4034564,
          6559.3096228,
          6594.6720084,
          6449.4151674,
          6399.9965701,
          6278.4061006,
          6398.5699644
         ]
        }
       ],
       "layout": {
        "template": {
         "data": {
          "bar": [
           {
            "error_x": {
             "color": "#2a3f5f"
            },
            "error_y": {
             "color": "#2a3f5f"
            },
            "marker": {
             "line": {
              "color": "#E5ECF6",
              "width": 0.5
             },
             "pattern": {
              "fillmode": "overlay",
              "size": 10,
              "solidity": 0.2
             }
            },
            "type": "bar"
           }
          ],
          "barpolar": [
           {
            "marker": {
             "line": {
              "color": "#E5ECF6",
              "width": 0.5
             },
             "pattern": {
              "fillmode": "overlay",
              "size": 10,
              "solidity": 0.2
             }
            },
            "type": "barpolar"
           }
          ],
          "carpet": [
           {
            "aaxis": {
             "endlinecolor": "#2a3f5f",
             "gridcolor": "white",
             "linecolor": "white",
             "minorgridcolor": "white",
             "startlinecolor": "#2a3f5f"
            },
            "baxis": {
             "endlinecolor": "#2a3f5f",
             "gridcolor": "white",
             "linecolor": "white",
             "minorgridcolor": "white",
             "startlinecolor": "#2a3f5f"
            },
            "type": "carpet"
           }
          ],
          "choropleth": [
           {
            "colorbar": {
             "outlinewidth": 0,
             "ticks": ""
            },
            "type": "choropleth"
           }
          ],
          "contour": [
           {
            "colorbar": {
             "outlinewidth": 0,
             "ticks": ""
            },
            "colorscale": [
             [
              0,
              "#0d0887"
             ],
             [
              0.1111111111111111,
              "#46039f"
             ],
             [
              0.2222222222222222,
              "#7201a8"
             ],
             [
              0.3333333333333333,
              "#9c179e"
             ],
             [
              0.4444444444444444,
              "#bd3786"
             ],
             [
              0.5555555555555556,
              "#d8576b"
             ],
             [
              0.6666666666666666,
              "#ed7953"
             ],
             [
              0.7777777777777778,
              "#fb9f3a"
             ],
             [
              0.8888888888888888,
              "#fdca26"
             ],
             [
              1,
              "#f0f921"
             ]
            ],
            "type": "contour"
           }
          ],
          "contourcarpet": [
           {
            "colorbar": {
             "outlinewidth": 0,
             "ticks": ""
            },
            "type": "contourcarpet"
           }
          ],
          "heatmap": [
           {
            "colorbar": {
             "outlinewidth": 0,
             "ticks": ""
            },
            "colorscale": [
             [
              0,
              "#0d0887"
             ],
             [
              0.1111111111111111,
              "#46039f"
             ],
             [
              0.2222222222222222,
              "#7201a8"
             ],
             [
              0.3333333333333333,
              "#9c179e"
             ],
             [
              0.4444444444444444,
              "#bd3786"
             ],
             [
              0.5555555555555556,
              "#d8576b"
             ],
             [
              0.6666666666666666,
              "#ed7953"
             ],
             [
              0.7777777777777778,
              "#fb9f3a"
             ],
             [
              0.8888888888888888,
              "#fdca26"
             ],
             [
              1,
              "#f0f921"
             ]
            ],
            "type": "heatmap"
           }
          ],
          "heatmapgl": [
           {
            "colorbar": {
             "outlinewidth": 0,
             "ticks": ""
            },
            "colorscale": [
             [
              0,
              "#0d0887"
             ],
             [
              0.1111111111111111,
              "#46039f"
             ],
             [
              0.2222222222222222,
              "#7201a8"
             ],
             [
              0.3333333333333333,
              "#9c179e"
             ],
             [
              0.4444444444444444,
              "#bd3786"
             ],
             [
              0.5555555555555556,
              "#d8576b"
             ],
             [
              0.6666666666666666,
              "#ed7953"
             ],
             [
              0.7777777777777778,
              "#fb9f3a"
             ],
             [
              0.8888888888888888,
              "#fdca26"
             ],
             [
              1,
              "#f0f921"
             ]
            ],
            "type": "heatmapgl"
           }
          ],
          "histogram": [
           {
            "marker": {
             "pattern": {
              "fillmode": "overlay",
              "size": 10,
              "solidity": 0.2
             }
            },
            "type": "histogram"
           }
          ],
          "histogram2d": [
           {
            "colorbar": {
             "outlinewidth": 0,
             "ticks": ""
            },
            "colorscale": [
             [
              0,
              "#0d0887"
             ],
             [
              0.1111111111111111,
              "#46039f"
             ],
             [
              0.2222222222222222,
              "#7201a8"
             ],
             [
              0.3333333333333333,
              "#9c179e"
             ],
             [
              0.4444444444444444,
              "#bd3786"
             ],
             [
              0.5555555555555556,
              "#d8576b"
             ],
             [
              0.6666666666666666,
              "#ed7953"
             ],
             [
              0.7777777777777778,
              "#fb9f3a"
             ],
             [
              0.8888888888888888,
              "#fdca26"
             ],
             [
              1,
              "#f0f921"
             ]
            ],
            "type": "histogram2d"
           }
          ],
          "histogram2dcontour": [
           {
            "colorbar": {
             "outlinewidth": 0,
             "ticks": ""
            },
            "colorscale": [
             [
              0,
              "#0d0887"
             ],
             [
              0.1111111111111111,
              "#46039f"
             ],
             [
              0.2222222222222222,
              "#7201a8"
             ],
             [
              0.3333333333333333,
              "#9c179e"
             ],
             [
              0.4444444444444444,
              "#bd3786"
             ],
             [
              0.5555555555555556,
              "#d8576b"
             ],
             [
              0.6666666666666666,
              "#ed7953"
             ],
             [
              0.7777777777777778,
              "#fb9f3a"
             ],
             [
              0.8888888888888888,
              "#fdca26"
             ],
             [
              1,
              "#f0f921"
             ]
            ],
            "type": "histogram2dcontour"
           }
          ],
          "mesh3d": [
           {
            "colorbar": {
             "outlinewidth": 0,
             "ticks": ""
            },
            "type": "mesh3d"
           }
          ],
          "parcoords": [
           {
            "line": {
             "colorbar": {
              "outlinewidth": 0,
              "ticks": ""
             }
            },
            "type": "parcoords"
           }
          ],
          "pie": [
           {
            "automargin": true,
            "type": "pie"
           }
          ],
          "scatter": [
           {
            "fillpattern": {
             "fillmode": "overlay",
             "size": 10,
             "solidity": 0.2
            },
            "type": "scatter"
           }
          ],
          "scatter3d": [
           {
            "line": {
             "colorbar": {
              "outlinewidth": 0,
              "ticks": ""
             }
            },
            "marker": {
             "colorbar": {
              "outlinewidth": 0,
              "ticks": ""
             }
            },
            "type": "scatter3d"
           }
          ],
          "scattercarpet": [
           {
            "marker": {
             "colorbar": {
              "outlinewidth": 0,
              "ticks": ""
             }
            },
            "type": "scattercarpet"
           }
          ],
          "scattergeo": [
           {
            "marker": {
             "colorbar": {
              "outlinewidth": 0,
              "ticks": ""
             }
            },
            "type": "scattergeo"
           }
          ],
          "scattergl": [
           {
            "marker": {
             "colorbar": {
              "outlinewidth": 0,
              "ticks": ""
             }
            },
            "type": "scattergl"
           }
          ],
          "scattermapbox": [
           {
            "marker": {
             "colorbar": {
              "outlinewidth": 0,
              "ticks": ""
             }
            },
            "type": "scattermapbox"
           }
          ],
          "scatterpolar": [
           {
            "marker": {
             "colorbar": {
              "outlinewidth": 0,
              "ticks": ""
             }
            },
            "type": "scatterpolar"
           }
          ],
          "scatterpolargl": [
           {
            "marker": {
             "colorbar": {
              "outlinewidth": 0,
              "ticks": ""
             }
            },
            "type": "scatterpolargl"
           }
          ],
          "scatterternary": [
           {
            "marker": {
             "colorbar": {
              "outlinewidth": 0,
              "ticks": ""
             }
            },
            "type": "scatterternary"
           }
          ],
          "surface": [
           {
            "colorbar": {
             "outlinewidth": 0,
             "ticks": ""
            },
            "colorscale": [
             [
              0,
              "#0d0887"
             ],
             [
              0.1111111111111111,
              "#46039f"
             ],
             [
              0.2222222222222222,
              "#7201a8"
             ],
             [
              0.3333333333333333,
              "#9c179e"
             ],
             [
              0.4444444444444444,
              "#bd3786"
             ],
             [
              0.5555555555555556,
              "#d8576b"
             ],
             [
              0.6666666666666666,
              "#ed7953"
             ],
             [
              0.7777777777777778,
              "#fb9f3a"
             ],
             [
              0.8888888888888888,
              "#fdca26"
             ],
             [
              1,
              "#f0f921"
             ]
            ],
            "type": "surface"
           }
          ],
          "table": [
           {
            "cells": {
             "fill": {
              "color": "#EBF0F8"
             },
             "line": {
              "color": "white"
             }
            },
            "header": {
             "fill": {
              "color": "#C8D4E3"
             },
             "line": {
              "color": "white"
             }
            },
            "type": "table"
           }
          ]
         },
         "layout": {
          "annotationdefaults": {
           "arrowcolor": "#2a3f5f",
           "arrowhead": 0,
           "arrowwidth": 1
          },
          "autotypenumbers": "strict",
          "coloraxis": {
           "colorbar": {
            "outlinewidth": 0,
            "ticks": ""
           }
          },
          "colorscale": {
           "diverging": [
            [
             0,
             "#8e0152"
            ],
            [
             0.1,
             "#c51b7d"
            ],
            [
             0.2,
             "#de77ae"
            ],
            [
             0.3,
             "#f1b6da"
            ],
            [
             0.4,
             "#fde0ef"
            ],
            [
             0.5,
             "#f7f7f7"
            ],
            [
             0.6,
             "#e6f5d0"
            ],
            [
             0.7,
             "#b8e186"
            ],
            [
             0.8,
             "#7fbc41"
            ],
            [
             0.9,
             "#4d9221"
            ],
            [
             1,
             "#276419"
            ]
           ],
           "sequential": [
            [
             0,
             "#0d0887"
            ],
            [
             0.1111111111111111,
             "#46039f"
            ],
            [
             0.2222222222222222,
             "#7201a8"
            ],
            [
             0.3333333333333333,
             "#9c179e"
            ],
            [
             0.4444444444444444,
             "#bd3786"
            ],
            [
             0.5555555555555556,
             "#d8576b"
            ],
            [
             0.6666666666666666,
             "#ed7953"
            ],
            [
             0.7777777777777778,
             "#fb9f3a"
            ],
            [
             0.8888888888888888,
             "#fdca26"
            ],
            [
             1,
             "#f0f921"
            ]
           ],
           "sequentialminus": [
            [
             0,
             "#0d0887"
            ],
            [
             0.1111111111111111,
             "#46039f"
            ],
            [
             0.2222222222222222,
             "#7201a8"
            ],
            [
             0.3333333333333333,
             "#9c179e"
            ],
            [
             0.4444444444444444,
             "#bd3786"
            ],
            [
             0.5555555555555556,
             "#d8576b"
            ],
            [
             0.6666666666666666,
             "#ed7953"
            ],
            [
             0.7777777777777778,
             "#fb9f3a"
            ],
            [
             0.8888888888888888,
             "#fdca26"
            ],
            [
             1,
             "#f0f921"
            ]
           ]
          },
          "colorway": [
           "#636efa",
           "#EF553B",
           "#00cc96",
           "#ab63fa",
           "#FFA15A",
           "#19d3f3",
           "#FF6692",
           "#B6E880",
           "#FF97FF",
           "#FECB52"
          ],
          "font": {
           "color": "#2a3f5f"
          },
          "geo": {
           "bgcolor": "white",
           "lakecolor": "white",
           "landcolor": "#E5ECF6",
           "showlakes": true,
           "showland": true,
           "subunitcolor": "white"
          },
          "hoverlabel": {
           "align": "left"
          },
          "hovermode": "closest",
          "mapbox": {
           "style": "light"
          },
          "paper_bgcolor": "white",
          "plot_bgcolor": "#E5ECF6",
          "polar": {
           "angularaxis": {
            "gridcolor": "white",
            "linecolor": "white",
            "ticks": ""
           },
           "bgcolor": "#E5ECF6",
           "radialaxis": {
            "gridcolor": "white",
            "linecolor": "white",
            "ticks": ""
           }
          },
          "scene": {
           "xaxis": {
            "backgroundcolor": "#E5ECF6",
            "gridcolor": "white",
            "gridwidth": 2,
            "linecolor": "white",
            "showbackground": true,
            "ticks": "",
            "zerolinecolor": "white"
           },
           "yaxis": {
            "backgroundcolor": "#E5ECF6",
            "gridcolor": "white",
            "gridwidth": 2,
            "linecolor": "white",
            "showbackground": true,
            "ticks": "",
            "zerolinecolor": "white"
           },
           "zaxis": {
            "backgroundcolor": "#E5ECF6",
            "gridcolor": "white",
            "gridwidth": 2,
            "linecolor": "white",
            "showbackground": true,
            "ticks": "",
            "zerolinecolor": "white"
           }
          },
          "shapedefaults": {
           "line": {
            "color": "#2a3f5f"
           }
          },
          "ternary": {
           "aaxis": {
            "gridcolor": "white",
            "linecolor": "white",
            "ticks": ""
           },
           "baxis": {
            "gridcolor": "white",
            "linecolor": "white",
            "ticks": ""
           },
           "bgcolor": "#E5ECF6",
           "caxis": {
            "gridcolor": "white",
            "linecolor": "white",
            "ticks": ""
           }
          },
          "title": {
           "x": 0.05
          },
          "xaxis": {
           "automargin": true,
           "gridcolor": "white",
           "linecolor": "white",
           "ticks": "",
           "title": {
            "standoff": 15
           },
           "zerolinecolor": "white",
           "zerolinewidth": 2
          },
          "yaxis": {
           "automargin": true,
           "gridcolor": "white",
           "linecolor": "white",
           "ticks": "",
           "title": {
            "standoff": 15
           },
           "zerolinecolor": "white",
           "zerolinewidth": 2
          }
         }
        },
        "title": {
         "text": "Historical Bitcoin Prices (2014/12/30-2018/11/12) with the Slider "
        },
        "xaxis": {
         "rangeselector": {
          "buttons": [
           {
            "count": 1,
            "label": "1m",
            "step": "month",
            "stepmode": "backward"
           },
           {
            "count": 6,
            "label": "6m",
            "step": "month",
            "stepmode": "backward"
           },
           {
            "count": 12,
            "label": "1y",
            "step": "month",
            "stepmode": "backward"
           },
           {
            "count": 36,
            "label": "3y",
            "step": "month",
            "stepmode": "backward"
           },
           {
            "step": "all"
           }
          ]
         },
         "rangeslider": {
          "visible": true
         },
         "type": "date"
        }
       }
      },
      "text/html": [
       "<div>                            <div id=\"86028924-4083-48b8-9934-4d1066afda7d\" class=\"plotly-graph-div\" style=\"height:525px; width:100%;\"></div>            <script type=\"text/javascript\">                require([\"plotly\"], function(Plotly) {                    window.PLOTLYENV=window.PLOTLYENV || {};                                    if (document.getElementById(\"86028924-4083-48b8-9934-4d1066afda7d\")) {                    Plotly.newPlot(                        \"86028924-4083-48b8-9934-4d1066afda7d\",                        [{\"mode\":\"lines\",\"name\":\"Open\",\"x\":[\"2014-12-01T00:00:00+00:00\",\"2014-12-08T00:00:00+00:00\",\"2014-12-15T00:00:00+00:00\",\"2014-12-22T00:00:00+00:00\",\"2014-12-29T00:00:00+00:00\",\"2015-01-05T00:00:00+00:00\",\"2015-01-12T00:00:00+00:00\",\"2015-01-19T00:00:00+00:00\",\"2015-01-26T00:00:00+00:00\",\"2015-02-02T00:00:00+00:00\",\"2015-02-09T00:00:00+00:00\",\"2015-02-16T00:00:00+00:00\",\"2015-02-23T00:00:00+00:00\",\"2015-03-02T00:00:00+00:00\",\"2015-03-09T00:00:00+00:00\",\"2015-03-16T00:00:00+00:00\",\"2015-03-23T00:00:00+00:00\",\"2015-03-30T00:00:00+00:00\",\"2015-04-06T00:00:00+00:00\",\"2015-04-13T00:00:00+00:00\",\"2015-04-20T00:00:00+00:00\",\"2015-04-27T00:00:00+00:00\",\"2015-05-04T00:00:00+00:00\",\"2015-05-11T00:00:00+00:00\",\"2015-05-18T00:00:00+00:00\",\"2015-05-25T00:00:00+00:00\",\"2015-06-01T00:00:00+00:00\",\"2015-06-08T00:00:00+00:00\",\"2015-06-15T00:00:00+00:00\",\"2015-06-22T00:00:00+00:00\",\"2015-06-29T00:00:00+00:00\",\"2015-07-06T00:00:00+00:00\",\"2015-07-13T00:00:00+00:00\",\"2015-07-20T00:00:00+00:00\",\"2015-07-27T00:00:00+00:00\",\"2015-08-03T00:00:00+00:00\",\"2015-08-10T00:00:00+00:00\",\"2015-08-17T00:00:00+00:00\",\"2015-08-24T00:00:00+00:00\",\"2015-08-31T00:00:00+00:00\",\"2015-09-07T00:00:00+00:00\",\"2015-09-14T00:00:00+00:00\",\"2015-09-21T00:00:00+00:00\",\"2015-09-28T00:00:00+00:00\",\"2015-10-05T00:00:00+00:00\",\"2015-10-12T00:00:00+00:00\",\"2015-10-19T00:00:00+00:00\",\"2015-10-26T00:00:00+00:00\",\"2015-11-02T00:00:00+00:00\",\"2015-11-09T00:00:00+00:00\",\"2015-11-16T00:00:00+00:00\",\"2015-11-23T00:00:00+00:00\",\"2015-11-30T00:00:00+00:00\",\"2015-12-07T00:00:00+00:00\",\"2015-12-14T00:00:00+00:00\",\"2015-12-21T00:00:00+00:00\",\"2015-12-28T00:00:00+00:00\",\"2016-01-04T00:00:00+00:00\",\"2016-01-11T00:00:00+00:00\",\"2016-01-18T00:00:00+00:00\",\"2016-01-25T00:00:00+00:00\",\"2016-02-01T00:00:00+00:00\",\"2016-02-08T00:00:00+00:00\",\"2016-02-15T00:00:00+00:00\",\"2016-02-22T00:00:00+00:00\",\"2016-02-29T00:00:00+00:00\",\"2016-03-07T00:00:00+00:00\",\"2016-03-14T00:00:00+00:00\",\"2016-03-21T00:00:00+00:00\",\"2016-03-28T00:00:00+00:00\",\"2016-04-04T00:00:00+00:00\",\"2016-04-11T00:00:00+00:00\",\"2016-04-18T00:00:00+00:00\",\"2016-04-25T00:00:00+00:00\",\"2016-05-02T00:00:00+00:00\",\"2016-05-09T00:00:00+00:00\",\"2016-05-16T00:00:00+00:00\",\"2016-05-23T00:00:00+00:00\",\"2016-05-30T00:00:00+00:00\",\"2016-06-06T00:00:00+00:00\",\"2016-06-13T00:00:00+00:00\",\"2016-06-20T00:00:00+00:00\",\"2016-06-27T00:00:00+00:00\",\"2016-07-04T00:00:00+00:00\",\"2016-07-11T00:00:00+00:00\",\"2016-07-18T00:00:00+00:00\",\"2016-07-25T00:00:00+00:00\",\"2016-08-01T00:00:00+00:00\",\"2016-08-08T00:00:00+00:00\",\"2016-08-15T00:00:00+00:00\",\"2016-08-22T00:00:00+00:00\",\"2016-08-29T00:00:00+00:00\",\"2016-09-05T00:00:00+00:00\",\"2016-09-12T00:00:00+00:00\",\"2016-09-19T00:00:00+00:00\",\"2016-09-26T00:00:00+00:00\",\"2016-10-03T00:00:00+00:00\",\"2016-10-10T00:00:00+00:00\",\"2016-10-17T00:00:00+00:00\",\"2016-10-24T00:00:00+00:00\",\"2016-10-31T00:00:00+00:00\",\"2016-11-07T00:00:00+00:00\",\"2016-11-14T00:00:00+00:00\",\"2016-11-21T00:00:00+00:00\",\"2016-11-28T00:00:00+00:00\",\"2016-12-05T00:00:00+00:00\",\"2016-12-12T00:00:00+00:00\",\"2016-12-19T00:00:00+00:00\",\"2016-12-26T00:00:00+00:00\",\"2017-01-02T00:00:00+00:00\",\"2017-01-09T00:00:00+00:00\",\"2017-01-16T00:00:00+00:00\",\"2017-01-23T00:00:00+00:00\",\"2017-01-30T00:00:00+00:00\",\"2017-02-06T00:00:00+00:00\",\"2017-02-13T00:00:00+00:00\",\"2017-02-20T00:00:00+00:00\",\"2017-02-27T00:00:00+00:00\",\"2017-03-06T00:00:00+00:00\",\"2017-03-13T00:00:00+00:00\",\"2017-03-20T00:00:00+00:00\",\"2017-03-27T00:00:00+00:00\",\"2017-04-03T00:00:00+00:00\",\"2017-04-10T00:00:00+00:00\",\"2017-04-17T00:00:00+00:00\",\"2017-04-24T00:00:00+00:00\",\"2017-05-01T00:00:00+00:00\",\"2017-05-08T00:00:00+00:00\",\"2017-05-15T00:00:00+00:00\",\"2017-05-22T00:00:00+00:00\",\"2017-05-29T00:00:00+00:00\",\"2017-06-05T00:00:00+00:00\",\"2017-06-12T00:00:00+00:00\",\"2017-06-19T00:00:00+00:00\",\"2017-06-26T00:00:00+00:00\",\"2017-07-03T00:00:00+00:00\",\"2017-07-10T00:00:00+00:00\",\"2017-07-17T00:00:00+00:00\",\"2017-07-24T00:00:00+00:00\",\"2017-07-31T00:00:00+00:00\",\"2017-08-07T00:00:00+00:00\",\"2017-08-14T00:00:00+00:00\",\"2017-08-21T00:00:00+00:00\",\"2017-08-28T00:00:00+00:00\",\"2017-09-04T00:00:00+00:00\",\"2017-09-11T00:00:00+00:00\",\"2017-09-18T00:00:00+00:00\",\"2017-09-25T00:00:00+00:00\",\"2017-10-02T00:00:00+00:00\",\"2017-10-09T00:00:00+00:00\",\"2017-10-16T00:00:00+00:00\",\"2017-10-23T00:00:00+00:00\",\"2017-10-30T00:00:00+00:00\",\"2017-11-06T00:00:00+00:00\",\"2017-11-13T00:00:00+00:00\",\"2017-11-20T00:00:00+00:00\",\"2017-11-27T00:00:00+00:00\",\"2017-12-04T00:00:00+00:00\",\"2017-12-11T00:00:00+00:00\",\"2017-12-18T00:00:00+00:00\",\"2017-12-25T00:00:00+00:00\",\"2018-01-01T00:00:00+00:00\",\"2018-01-08T00:00:00+00:00\",\"2018-01-15T00:00:00+00:00\",\"2018-01-22T00:00:00+00:00\",\"2018-01-29T00:00:00+00:00\",\"2018-02-05T00:00:00+00:00\",\"2018-02-12T00:00:00+00:00\",\"2018-02-19T00:00:00+00:00\",\"2018-02-26T00:00:00+00:00\",\"2018-03-05T00:00:00+00:00\",\"2018-03-12T00:00:00+00:00\",\"2018-03-19T00:00:00+00:00\",\"2018-03-26T00:00:00+00:00\",\"2018-04-02T00:00:00+00:00\",\"2018-04-09T00:00:00+00:00\",\"2018-04-16T00:00:00+00:00\",\"2018-04-23T00:00:00+00:00\",\"2018-04-30T00:00:00+00:00\",\"2018-05-07T00:00:00+00:00\",\"2018-05-14T00:00:00+00:00\",\"2018-05-21T00:00:00+00:00\",\"2018-05-28T00:00:00+00:00\",\"2018-06-04T00:00:00+00:00\",\"2018-06-11T00:00:00+00:00\",\"2018-06-18T00:00:00+00:00\",\"2018-06-25T00:00:00+00:00\",\"2018-07-02T00:00:00+00:00\",\"2018-07-09T00:00:00+00:00\",\"2018-07-16T00:00:00+00:00\",\"2018-07-23T00:00:00+00:00\",\"2018-07-30T00:00:00+00:00\",\"2018-08-06T00:00:00+00:00\",\"2018-08-13T00:00:00+00:00\",\"2018-08-20T00:00:00+00:00\",\"2018-08-27T00:00:00+00:00\",\"2018-09-03T00:00:00+00:00\",\"2018-09-10T00:00:00+00:00\",\"2018-09-17T00:00:00+00:00\",\"2018-09-24T00:00:00+00:00\",\"2018-10-01T00:00:00+00:00\",\"2018-10-08T00:00:00+00:00\",\"2018-10-15T00:00:00+00:00\",\"2018-10-22T00:00:00+00:00\",\"2018-10-29T00:00:00+00:00\",\"2018-11-05T00:00:00+00:00\",\"2018-11-12T00:00:00+00:00\"],\"y\":[300.0,377.75,398.0,345.0,null,null,360.0,200.0,215.0,259.0,238.69,217.55,236.58,237.6,275.98,295.71,292.91,267.16,248.43,254.55,219.49,226.46,224.43,235.54,241.47,234.44,237.0,223.73,228.48,238.72,245.01,266.04,267.21,287.6,279.33,297.22,282.93,267.22,255.16,210.1,229.71,243.56,231.69,227.09,240.79,241.46,246.8,266.62,290.53,374.98,381.25,335.36,322.38,378.13,392.95,459.33,440.43,423.02,433.81,447.61,382.7,393.2,373.61,370.39,400.54,434.41,431.37,414.03,414.75,415.93,423.11,422.47,425.51,432.01,468.32,446.96,461.7,455.88,446.3,534.15,586.34,689.39,705.6,654.2,675.11,650.0,675.62,646.19,602.48,588.66,567.42,585.91,575.5,606.82,608.08,609.36,606.32,610.55,630.25,638.06,652.84,711.64,704.79,710.87,737.33,730.84,756.16,779.17,790.1,911.78,1019.37,904.02,891.16,918.0,934.99,1047.32,1006.13,1093.0,1192.64,1279.0,1233.63,1085.0,1039.38,1155.39,1208.85,1196.67,1267.0,1448.51,1706.0,1719.88,2170.76,2296.21,2836.15,2751.0,2624.56,2405.99,2624.9,2279.02,2245.99,2689.09,2871.46,3440.87,4252.0,3816.0,4371.25,4346.51,4357.45,3965.21,3890.15,4292.01,4836.95,5663.23,5728.37,6109.12,7187.01,6583.55,8150.66,9925.01,11789.35,16918.17,18841.01,15444.01,13423.34,15147.35,12605.23,10289.99,10985.79,5918.0,8634.99,11536.0,10604.0,11263.21,9348.01,8482.05,7976.01,7345.06,6705.56,8014.01,9233.0,8971.25,9324.71,8739.92,8318.32,7096.6,7425.17,6838.2,6684.89,6236.52,6640.26,6601.71,6674.13,7979.99,8122.49,6949.18,5978.18,6386.0,6910.01,7285.0,6330.0,6268.49,6420.57,6559.31,6594.68,6451.24,6400.0,6278.41,6398.58],\"type\":\"scatter\"},{\"mode\":\"lines\",\"name\":\"High\",\"x\":[\"2014-12-01T00:00:00+00:00\",\"2014-12-08T00:00:00+00:00\",\"2014-12-15T00:00:00+00:00\",\"2014-12-22T00:00:00+00:00\",\"2014-12-29T00:00:00+00:00\",\"2015-01-05T00:00:00+00:00\",\"2015-01-12T00:00:00+00:00\",\"2015-01-19T00:00:00+00:00\",\"2015-01-26T00:00:00+00:00\",\"2015-02-02T00:00:00+00:00\",\"2015-02-09T00:00:00+00:00\",\"2015-02-16T00:00:00+00:00\",\"2015-02-23T00:00:00+00:00\",\"2015-03-02T00:00:00+00:00\",\"2015-03-09T00:00:00+00:00\",\"2015-03-16T00:00:00+00:00\",\"2015-03-23T00:00:00+00:00\",\"2015-03-30T00:00:00+00:00\",\"2015-04-06T00:00:00+00:00\",\"2015-04-13T00:00:00+00:00\",\"2015-04-20T00:00:00+00:00\",\"2015-04-27T00:00:00+00:00\",\"2015-05-04T00:00:00+00:00\",\"2015-05-11T00:00:00+00:00\",\"2015-05-18T00:00:00+00:00\",\"2015-05-25T00:00:00+00:00\",\"2015-06-01T00:00:00+00:00\",\"2015-06-08T00:00:00+00:00\",\"2015-06-15T00:00:00+00:00\",\"2015-06-22T00:00:00+00:00\",\"2015-06-29T00:00:00+00:00\",\"2015-07-06T00:00:00+00:00\",\"2015-07-13T00:00:00+00:00\",\"2015-07-20T00:00:00+00:00\",\"2015-07-27T00:00:00+00:00\",\"2015-08-03T00:00:00+00:00\",\"2015-08-10T00:00:00+00:00\",\"2015-08-17T00:00:00+00:00\",\"2015-08-24T00:00:00+00:00\",\"2015-08-31T00:00:00+00:00\",\"2015-09-07T00:00:00+00:00\",\"2015-09-14T00:00:00+00:00\",\"2015-09-21T00:00:00+00:00\",\"2015-09-28T00:00:00+00:00\",\"2015-10-05T00:00:00+00:00\",\"2015-10-12T00:00:00+00:00\",\"2015-10-19T00:00:00+00:00\",\"2015-10-26T00:00:00+00:00\",\"2015-11-02T00:00:00+00:00\",\"2015-11-09T00:00:00+00:00\",\"2015-11-16T00:00:00+00:00\",\"2015-11-23T00:00:00+00:00\",\"2015-11-30T00:00:00+00:00\",\"2015-12-07T00:00:00+00:00\",\"2015-12-14T00:00:00+00:00\",\"2015-12-21T00:00:00+00:00\",\"2015-12-28T00:00:00+00:00\",\"2016-01-04T00:00:00+00:00\",\"2016-01-11T00:00:00+00:00\",\"2016-01-18T00:00:00+00:00\",\"2016-01-25T00:00:00+00:00\",\"2016-02-01T00:00:00+00:00\",\"2016-02-08T00:00:00+00:00\",\"2016-02-15T00:00:00+00:00\",\"2016-02-22T00:00:00+00:00\",\"2016-02-29T00:00:00+00:00\",\"2016-03-07T00:00:00+00:00\",\"2016-03-14T00:00:00+00:00\",\"2016-03-21T00:00:00+00:00\",\"2016-03-28T00:00:00+00:00\",\"2016-04-04T00:00:00+00:00\",\"2016-04-11T00:00:00+00:00\",\"2016-04-18T00:00:00+00:00\",\"2016-04-25T00:00:00+00:00\",\"2016-05-02T00:00:00+00:00\",\"2016-05-09T00:00:00+00:00\",\"2016-05-16T00:00:00+00:00\",\"2016-05-23T00:00:00+00:00\",\"2016-05-30T00:00:00+00:00\",\"2016-06-06T00:00:00+00:00\",\"2016-06-13T00:00:00+00:00\",\"2016-06-20T00:00:00+00:00\",\"2016-06-27T00:00:00+00:00\",\"2016-07-04T00:00:00+00:00\",\"2016-07-11T00:00:00+00:00\",\"2016-07-18T00:00:00+00:00\",\"2016-07-25T00:00:00+00:00\",\"2016-08-01T00:00:00+00:00\",\"2016-08-08T00:00:00+00:00\",\"2016-08-15T00:00:00+00:00\",\"2016-08-22T00:00:00+00:00\",\"2016-08-29T00:00:00+00:00\",\"2016-09-05T00:00:00+00:00\",\"2016-09-12T00:00:00+00:00\",\"2016-09-19T00:00:00+00:00\",\"2016-09-26T00:00:00+00:00\",\"2016-10-03T00:00:00+00:00\",\"2016-10-10T00:00:00+00:00\",\"2016-10-17T00:00:00+00:00\",\"2016-10-24T00:00:00+00:00\",\"2016-10-31T00:00:00+00:00\",\"2016-11-07T00:00:00+00:00\",\"2016-11-14T00:00:00+00:00\",\"2016-11-21T00:00:00+00:00\",\"2016-11-28T00:00:00+00:00\",\"2016-12-05T00:00:00+00:00\",\"2016-12-12T00:00:00+00:00\",\"2016-12-19T00:00:00+00:00\",\"2016-12-26T00:00:00+00:00\",\"2017-01-02T00:00:00+00:00\",\"2017-01-09T00:00:00+00:00\",\"2017-01-16T00:00:00+00:00\",\"2017-01-23T00:00:00+00:00\",\"2017-01-30T00:00:00+00:00\",\"2017-02-06T00:00:00+00:00\",\"2017-02-13T00:00:00+00:00\",\"2017-02-20T00:00:00+00:00\",\"2017-02-27T00:00:00+00:00\",\"2017-03-06T00:00:00+00:00\",\"2017-03-13T00:00:00+00:00\",\"2017-03-20T00:00:00+00:00\",\"2017-03-27T00:00:00+00:00\",\"2017-04-03T00:00:00+00:00\",\"2017-04-10T00:00:00+00:00\",\"2017-04-17T00:00:00+00:00\",\"2017-04-24T00:00:00+00:00\",\"2017-05-01T00:00:00+00:00\",\"2017-05-08T00:00:00+00:00\",\"2017-05-15T00:00:00+00:00\",\"2017-05-22T00:00:00+00:00\",\"2017-05-29T00:00:00+00:00\",\"2017-06-05T00:00:00+00:00\",\"2017-06-12T00:00:00+00:00\",\"2017-06-19T00:00:00+00:00\",\"2017-06-26T00:00:00+00:00\",\"2017-07-03T00:00:00+00:00\",\"2017-07-10T00:00:00+00:00\",\"2017-07-17T00:00:00+00:00\",\"2017-07-24T00:00:00+00:00\",\"2017-07-31T00:00:00+00:00\",\"2017-08-07T00:00:00+00:00\",\"2017-08-14T00:00:00+00:00\",\"2017-08-21T00:00:00+00:00\",\"2017-08-28T00:00:00+00:00\",\"2017-09-04T00:00:00+00:00\",\"2017-09-11T00:00:00+00:00\",\"2017-09-18T00:00:00+00:00\",\"2017-09-25T00:00:00+00:00\",\"2017-10-02T00:00:00+00:00\",\"2017-10-09T00:00:00+00:00\",\"2017-10-16T00:00:00+00:00\",\"2017-10-23T00:00:00+00:00\",\"2017-10-30T00:00:00+00:00\",\"2017-11-06T00:00:00+00:00\",\"2017-11-13T00:00:00+00:00\",\"2017-11-20T00:00:00+00:00\",\"2017-11-27T00:00:00+00:00\",\"2017-12-04T00:00:00+00:00\",\"2017-12-11T00:00:00+00:00\",\"2017-12-18T00:00:00+00:00\",\"2017-12-25T00:00:00+00:00\",\"2018-01-01T00:00:00+00:00\",\"2018-01-08T00:00:00+00:00\",\"2018-01-15T00:00:00+00:00\",\"2018-01-22T00:00:00+00:00\",\"2018-01-29T00:00:00+00:00\",\"2018-02-05T00:00:00+00:00\",\"2018-02-12T00:00:00+00:00\",\"2018-02-19T00:00:00+00:00\",\"2018-02-26T00:00:00+00:00\",\"2018-03-05T00:00:00+00:00\",\"2018-03-12T00:00:00+00:00\",\"2018-03-19T00:00:00+00:00\",\"2018-03-26T00:00:00+00:00\",\"2018-04-02T00:00:00+00:00\",\"2018-04-09T00:00:00+00:00\",\"2018-04-16T00:00:00+00:00\",\"2018-04-23T00:00:00+00:00\",\"2018-04-30T00:00:00+00:00\",\"2018-05-07T00:00:00+00:00\",\"2018-05-14T00:00:00+00:00\",\"2018-05-21T00:00:00+00:00\",\"2018-05-28T00:00:00+00:00\",\"2018-06-04T00:00:00+00:00\",\"2018-06-11T00:00:00+00:00\",\"2018-06-18T00:00:00+00:00\",\"2018-06-25T00:00:00+00:00\",\"2018-07-02T00:00:00+00:00\",\"2018-07-09T00:00:00+00:00\",\"2018-07-16T00:00:00+00:00\",\"2018-07-23T00:00:00+00:00\",\"2018-07-30T00:00:00+00:00\",\"2018-08-06T00:00:00+00:00\",\"2018-08-13T00:00:00+00:00\",\"2018-08-20T00:00:00+00:00\",\"2018-08-27T00:00:00+00:00\",\"2018-09-03T00:00:00+00:00\",\"2018-09-10T00:00:00+00:00\",\"2018-09-17T00:00:00+00:00\",\"2018-09-24T00:00:00+00:00\",\"2018-10-01T00:00:00+00:00\",\"2018-10-08T00:00:00+00:00\",\"2018-10-15T00:00:00+00:00\",\"2018-10-22T00:00:00+00:00\",\"2018-10-29T00:00:00+00:00\",\"2018-11-05T00:00:00+00:00\",\"2018-11-12T00:00:00+00:00\"],\"y\":[300.0,378.0,398.0,345.0,null,null,360.0,200.0,215.0,259.0,238.7,217.55,237.02,237.6,276.5,295.71,292.91,267.16,248.45,254.55,219.49,226.46,224.44,235.57,241.47,234.44,237.01,223.73,228.48,238.84,245.01,266.63,267.21,287.62,279.5,297.22,283.22,267.22,255.21,210.12,229.81,243.86,231.79,227.12,240.79,241.46,246.88,266.8,290.54,375.0,381.46,335.36,322.38,378.13,392.95,459.66,440.43,423.08,433.81,447.61,382.7,393.2,373.61,370.41,400.63,434.41,431.37,414.03,414.75,415.93,423.26,422.47,425.51,432.5,468.32,446.99,461.7,455.89,446.42,534.15,586.34,690.19,706.6,654.22,675.29,650.38,675.62,646.39,602.5,588.66,567.66,585.91,575.81,606.82,608.12,609.36,606.33,610.55,630.34,638.1,652.84,711.78,704.8,710.87,737.33,730.89,756.16,779.17,790.56,911.78,1019.79,904.02,891.17,918.0,934.99,1047.32,1006.62,1093.0,1192.64,1279.95,1235.0,1085.3,1039.52,1155.39,1208.92,1198.2,1267.0,1448.52,1706.0,1719.92,2170.76,2296.21,2841.0,2751.79,2624.56,2406.0,2625.91,2285.0,2251.0,2690.0,2872.46,3441.0,4272.54,3816.0,4371.25,4349.48,4358.05,3965.21,3890.96,4292.01,4836.95,5663.23,5732.26,6109.12,7187.01,6583.55,8150.66,9925.01,11794.29,16918.17,18850.0,15444.01,13423.34,15155.52,12687.09,10290.01,10985.79,5930.0,8634.99,11540.0,10604.01,11269.99,9348.01,8488.88,7984.43,7345.06,6711.72,8014.01,9239.0,8976.92,9324.71,8739.92,8318.32,7096.6,7425.17,6841.8,6686.69,6236.52,6640.26,6605.6,6674.13,7980.0,8122.49,6949.18,5978.18,6386.0,6910.02,7285.0,6330.01,6268.5,6420.57,6559.31,6594.68,6451.24,6400.0,6278.41,6398.58],\"type\":\"scatter\"},{\"mode\":\"lines\",\"name\":\"Low\",\"x\":[\"2014-12-01T00:00:00+00:00\",\"2014-12-08T00:00:00+00:00\",\"2014-12-15T00:00:00+00:00\",\"2014-12-22T00:00:00+00:00\",\"2014-12-29T00:00:00+00:00\",\"2015-01-05T00:00:00+00:00\",\"2015-01-12T00:00:00+00:00\",\"2015-01-19T00:00:00+00:00\",\"2015-01-26T00:00:00+00:00\",\"2015-02-02T00:00:00+00:00\",\"2015-02-09T00:00:00+00:00\",\"2015-02-16T00:00:00+00:00\",\"2015-02-23T00:00:00+00:00\",\"2015-03-02T00:00:00+00:00\",\"2015-03-09T00:00:00+00:00\",\"2015-03-16T00:00:00+00:00\",\"2015-03-23T00:00:00+00:00\",\"2015-03-30T00:00:00+00:00\",\"2015-04-06T00:00:00+00:00\",\"2015-04-13T00:00:00+00:00\",\"2015-04-20T00:00:00+00:00\",\"2015-04-27T00:00:00+00:00\",\"2015-05-04T00:00:00+00:00\",\"2015-05-11T00:00:00+00:00\",\"2015-05-18T00:00:00+00:00\",\"2015-05-25T00:00:00+00:00\",\"2015-06-01T00:00:00+00:00\",\"2015-06-08T00:00:00+00:00\",\"2015-06-15T00:00:00+00:00\",\"2015-06-22T00:00:00+00:00\",\"2015-06-29T00:00:00+00:00\",\"2015-07-06T00:00:00+00:00\",\"2015-07-13T00:00:00+00:00\",\"2015-07-20T00:00:00+00:00\",\"2015-07-27T00:00:00+00:00\",\"2015-08-03T00:00:00+00:00\",\"2015-08-10T00:00:00+00:00\",\"2015-08-17T00:00:00+00:00\",\"2015-08-24T00:00:00+00:00\",\"2015-08-31T00:00:00+00:00\",\"2015-09-07T00:00:00+00:00\",\"2015-09-14T00:00:00+00:00\",\"2015-09-21T00:00:00+00:00\",\"2015-09-28T00:00:00+00:00\",\"2015-10-05T00:00:00+00:00\",\"2015-10-12T00:00:00+00:00\",\"2015-10-19T00:00:00+00:00\",\"2015-10-26T00:00:00+00:00\",\"2015-11-02T00:00:00+00:00\",\"2015-11-09T00:00:00+00:00\",\"2015-11-16T00:00:00+00:00\",\"2015-11-23T00:00:00+00:00\",\"2015-11-30T00:00:00+00:00\",\"2015-12-07T00:00:00+00:00\",\"2015-12-14T00:00:00+00:00\",\"2015-12-21T00:00:00+00:00\",\"2015-12-28T00:00:00+00:00\",\"2016-01-04T00:00:00+00:00\",\"2016-01-11T00:00:00+00:00\",\"2016-01-18T00:00:00+00:00\",\"2016-01-25T00:00:00+00:00\",\"2016-02-01T00:00:00+00:00\",\"2016-02-08T00:00:00+00:00\",\"2016-02-15T00:00:00+00:00\",\"2016-02-22T00:00:00+00:00\",\"2016-02-29T00:00:00+00:00\",\"2016-03-07T00:00:00+00:00\",\"2016-03-14T00:00:00+00:00\",\"2016-03-21T00:00:00+00:00\",\"2016-03-28T00:00:00+00:00\",\"2016-04-04T00:00:00+00:00\",\"2016-04-11T00:00:00+00:00\",\"2016-04-18T00:00:00+00:00\",\"2016-04-25T00:00:00+00:00\",\"2016-05-02T00:00:00+00:00\",\"2016-05-09T00:00:00+00:00\",\"2016-05-16T00:00:00+00:00\",\"2016-05-23T00:00:00+00:00\",\"2016-05-30T00:00:00+00:00\",\"2016-06-06T00:00:00+00:00\",\"2016-06-13T00:00:00+00:00\",\"2016-06-20T00:00:00+00:00\",\"2016-06-27T00:00:00+00:00\",\"2016-07-04T00:00:00+00:00\",\"2016-07-11T00:00:00+00:00\",\"2016-07-18T00:00:00+00:00\",\"2016-07-25T00:00:00+00:00\",\"2016-08-01T00:00:00+00:00\",\"2016-08-08T00:00:00+00:00\",\"2016-08-15T00:00:00+00:00\",\"2016-08-22T00:00:00+00:00\",\"2016-08-29T00:00:00+00:00\",\"2016-09-05T00:00:00+00:00\",\"2016-09-12T00:00:00+00:00\",\"2016-09-19T00:00:00+00:00\",\"2016-09-26T00:00:00+00:00\",\"2016-10-03T00:00:00+00:00\",\"2016-10-10T00:00:00+00:00\",\"2016-10-17T00:00:00+00:00\",\"2016-10-24T00:00:00+00:00\",\"2016-10-31T00:00:00+00:00\",\"2016-11-07T00:00:00+00:00\",\"2016-11-14T00:00:00+00:00\",\"2016-11-21T00:00:00+00:00\",\"2016-11-28T00:00:00+00:00\",\"2016-12-05T00:00:00+00:00\",\"2016-12-12T00:00:00+00:00\",\"2016-12-19T00:00:00+00:00\",\"2016-12-26T00:00:00+00:00\",\"2017-01-02T00:00:00+00:00\",\"2017-01-09T00:00:00+00:00\",\"2017-01-16T00:00:00+00:00\",\"2017-01-23T00:00:00+00:00\",\"2017-01-30T00:00:00+00:00\",\"2017-02-06T00:00:00+00:00\",\"2017-02-13T00:00:00+00:00\",\"2017-02-20T00:00:00+00:00\",\"2017-02-27T00:00:00+00:00\",\"2017-03-06T00:00:00+00:00\",\"2017-03-13T00:00:00+00:00\",\"2017-03-20T00:00:00+00:00\",\"2017-03-27T00:00:00+00:00\",\"2017-04-03T00:00:00+00:00\",\"2017-04-10T00:00:00+00:00\",\"2017-04-17T00:00:00+00:00\",\"2017-04-24T00:00:00+00:00\",\"2017-05-01T00:00:00+00:00\",\"2017-05-08T00:00:00+00:00\",\"2017-05-15T00:00:00+00:00\",\"2017-05-22T00:00:00+00:00\",\"2017-05-29T00:00:00+00:00\",\"2017-06-05T00:00:00+00:00\",\"2017-06-12T00:00:00+00:00\",\"2017-06-19T00:00:00+00:00\",\"2017-06-26T00:00:00+00:00\",\"2017-07-03T00:00:00+00:00\",\"2017-07-10T00:00:00+00:00\",\"2017-07-17T00:00:00+00:00\",\"2017-07-24T00:00:00+00:00\",\"2017-07-31T00:00:00+00:00\",\"2017-08-07T00:00:00+00:00\",\"2017-08-14T00:00:00+00:00\",\"2017-08-21T00:00:00+00:00\",\"2017-08-28T00:00:00+00:00\",\"2017-09-04T00:00:00+00:00\",\"2017-09-11T00:00:00+00:00\",\"2017-09-18T00:00:00+00:00\",\"2017-09-25T00:00:00+00:00\",\"2017-10-02T00:00:00+00:00\",\"2017-10-09T00:00:00+00:00\",\"2017-10-16T00:00:00+00:00\",\"2017-10-23T00:00:00+00:00\",\"2017-10-30T00:00:00+00:00\",\"2017-11-06T00:00:00+00:00\",\"2017-11-13T00:00:00+00:00\",\"2017-11-20T00:00:00+00:00\",\"2017-11-27T00:00:00+00:00\",\"2017-12-04T00:00:00+00:00\",\"2017-12-11T00:00:00+00:00\",\"2017-12-18T00:00:00+00:00\",\"2017-12-25T00:00:00+00:00\",\"2018-01-01T00:00:00+00:00\",\"2018-01-08T00:00:00+00:00\",\"2018-01-15T00:00:00+00:00\",\"2018-01-22T00:00:00+00:00\",\"2018-01-29T00:00:00+00:00\",\"2018-02-05T00:00:00+00:00\",\"2018-02-12T00:00:00+00:00\",\"2018-02-19T00:00:00+00:00\",\"2018-02-26T00:00:00+00:00\",\"2018-03-05T00:00:00+00:00\",\"2018-03-12T00:00:00+00:00\",\"2018-03-19T00:00:00+00:00\",\"2018-03-26T00:00:00+00:00\",\"2018-04-02T00:00:00+00:00\",\"2018-04-09T00:00:00+00:00\",\"2018-04-16T00:00:00+00:00\",\"2018-04-23T00:00:00+00:00\",\"2018-04-30T00:00:00+00:00\",\"2018-05-07T00:00:00+00:00\",\"2018-05-14T00:00:00+00:00\",\"2018-05-21T00:00:00+00:00\",\"2018-05-28T00:00:00+00:00\",\"2018-06-04T00:00:00+00:00\",\"2018-06-11T00:00:00+00:00\",\"2018-06-18T00:00:00+00:00\",\"2018-06-25T00:00:00+00:00\",\"2018-07-02T00:00:00+00:00\",\"2018-07-09T00:00:00+00:00\",\"2018-07-16T00:00:00+00:00\",\"2018-07-23T00:00:00+00:00\",\"2018-07-30T00:00:00+00:00\",\"2018-08-06T00:00:00+00:00\",\"2018-08-13T00:00:00+00:00\",\"2018-08-20T00:00:00+00:00\",\"2018-08-27T00:00:00+00:00\",\"2018-09-03T00:00:00+00:00\",\"2018-09-10T00:00:00+00:00\",\"2018-09-17T00:00:00+00:00\",\"2018-09-24T00:00:00+00:00\",\"2018-10-01T00:00:00+00:00\",\"2018-10-08T00:00:00+00:00\",\"2018-10-15T00:00:00+00:00\",\"2018-10-22T00:00:00+00:00\",\"2018-10-29T00:00:00+00:00\",\"2018-11-05T00:00:00+00:00\",\"2018-11-12T00:00:00+00:00\"],\"y\":[300.0,377.75,398.0,340.0,null,null,360.0,200.0,215.0,259.0,238.69,217.33,236.58,237.6,275.98,295.71,292.61,267.16,248.4,254.55,219.48,226.46,224.43,235.54,241.47,234.36,237.0,223.73,228.45,238.71,245.01,266.04,267.2,287.58,279.33,297.17,282.84,267.22,255.16,210.03,229.71,243.56,231.67,227.06,240.79,241.21,246.8,266.62,290.53,374.98,381.25,335.36,322.25,377.89,392.95,459.33,440.43,423.02,433.79,447.57,382.36,393.03,373.57,370.39,400.54,434.41,431.26,414.03,414.56,415.93,423.11,422.46,425.44,431.98,468.32,446.96,461.7,455.88,446.22,534.15,586.34,688.75,705.6,654.12,675.11,649.84,675.62,646.19,602.09,588.66,567.42,585.91,575.5,606.82,608.08,609.35,606.25,610.48,630.25,638.06,652.84,711.63,704.79,710.53,737.04,730.5,756.16,779.17,790.02,911.77,1019.37,904.02,891.16,916.94,934.99,1047.32,1006.11,1093.0,1192.1,1279.0,1233.05,1085.0,1039.38,1155.12,1208.85,1196.51,1266.99,1448.51,1705.99,1716.57,2170.75,2294.51,2836.15,2750.63,2624.44,2403.11,2624.9,2277.85,2245.99,2686.0,2870.87,3439.22,4252.0,3813.6,4371.22,4334.06,4357.44,3963.66,3890.15,4292.0,4836.94,5663.22,5728.37,6109.11,7187.0,6583.54,8150.65,9925.0,11789.34,16918.16,18841.01,15444.0,13423.33,15147.35,12605.23,10273.32,10985.76,5918.0,8611.11,11535.99,10604.0,11263.21,9348.0,8482.05,7976.0,7334.96,6705.56,8012.01,9232.99,8971.25,9324.7,8739.91,8318.31,7096.59,7425.16,6836.61,6684.89,6236.51,6640.25,6601.7,6674.03,7979.99,8122.48,6949.17,5967.4,6385.99,6910.0,7284.99,6330.0,6268.49,6412.52,6559.3,6594.67,6446.99,6399.99,6278.4,6398.56],\"type\":\"scatter\"},{\"mode\":\"lines\",\"name\":\"Close\",\"x\":[\"2014-12-01T00:00:00+00:00\",\"2014-12-08T00:00:00+00:00\",\"2014-12-15T00:00:00+00:00\",\"2014-12-22T00:00:00+00:00\",\"2014-12-29T00:00:00+00:00\",\"2015-01-05T00:00:00+00:00\",\"2015-01-12T00:00:00+00:00\",\"2015-01-19T00:00:00+00:00\",\"2015-01-26T00:00:00+00:00\",\"2015-02-02T00:00:00+00:00\",\"2015-02-09T00:00:00+00:00\",\"2015-02-16T00:00:00+00:00\",\"2015-02-23T00:00:00+00:00\",\"2015-03-02T00:00:00+00:00\",\"2015-03-09T00:00:00+00:00\",\"2015-03-16T00:00:00+00:00\",\"2015-03-23T00:00:00+00:00\",\"2015-03-30T00:00:00+00:00\",\"2015-04-06T00:00:00+00:00\",\"2015-04-13T00:00:00+00:00\",\"2015-04-20T00:00:00+00:00\",\"2015-04-27T00:00:00+00:00\",\"2015-05-04T00:00:00+00:00\",\"2015-05-11T00:00:00+00:00\",\"2015-05-18T00:00:00+00:00\",\"2015-05-25T00:00:00+00:00\",\"2015-06-01T00:00:00+00:00\",\"2015-06-08T00:00:00+00:00\",\"2015-06-15T00:00:00+00:00\",\"2015-06-22T00:00:00+00:00\",\"2015-06-29T00:00:00+00:00\",\"2015-07-06T00:00:00+00:00\",\"2015-07-13T00:00:00+00:00\",\"2015-07-20T00:00:00+00:00\",\"2015-07-27T00:00:00+00:00\",\"2015-08-03T00:00:00+00:00\",\"2015-08-10T00:00:00+00:00\",\"2015-08-17T00:00:00+00:00\",\"2015-08-24T00:00:00+00:00\",\"2015-08-31T00:00:00+00:00\",\"2015-09-07T00:00:00+00:00\",\"2015-09-14T00:00:00+00:00\",\"2015-09-21T00:00:00+00:00\",\"2015-09-28T00:00:00+00:00\",\"2015-10-05T00:00:00+00:00\",\"2015-10-12T00:00:00+00:00\",\"2015-10-19T00:00:00+00:00\",\"2015-10-26T00:00:00+00:00\",\"2015-11-02T00:00:00+00:00\",\"2015-11-09T00:00:00+00:00\",\"2015-11-16T00:00:00+00:00\",\"2015-11-23T00:00:00+00:00\",\"2015-11-30T00:00:00+00:00\",\"2015-12-07T00:00:00+00:00\",\"2015-12-14T00:00:00+00:00\",\"2015-12-21T00:00:00+00:00\",\"2015-12-28T00:00:00+00:00\",\"2016-01-04T00:00:00+00:00\",\"2016-01-11T00:00:00+00:00\",\"2016-01-18T00:00:00+00:00\",\"2016-01-25T00:00:00+00:00\",\"2016-02-01T00:00:00+00:00\",\"2016-02-08T00:00:00+00:00\",\"2016-02-15T00:00:00+00:00\",\"2016-02-22T00:00:00+00:00\",\"2016-02-29T00:00:00+00:00\",\"2016-03-07T00:00:00+00:00\",\"2016-03-14T00:00:00+00:00\",\"2016-03-21T00:00:00+00:00\",\"2016-03-28T00:00:00+00:00\",\"2016-04-04T00:00:00+00:00\",\"2016-04-11T00:00:00+00:00\",\"2016-04-18T00:00:00+00:00\",\"2016-04-25T00:00:00+00:00\",\"2016-05-02T00:00:00+00:00\",\"2016-05-09T00:00:00+00:00\",\"2016-05-16T00:00:00+00:00\",\"2016-05-23T00:00:00+00:00\",\"2016-05-30T00:00:00+00:00\",\"2016-06-06T00:00:00+00:00\",\"2016-06-13T00:00:00+00:00\",\"2016-06-20T00:00:00+00:00\",\"2016-06-27T00:00:00+00:00\",\"2016-07-04T00:00:00+00:00\",\"2016-07-11T00:00:00+00:00\",\"2016-07-18T00:00:00+00:00\",\"2016-07-25T00:00:00+00:00\",\"2016-08-01T00:00:00+00:00\",\"2016-08-08T00:00:00+00:00\",\"2016-08-15T00:00:00+00:00\",\"2016-08-22T00:00:00+00:00\",\"2016-08-29T00:00:00+00:00\",\"2016-09-05T00:00:00+00:00\",\"2016-09-12T00:00:00+00:00\",\"2016-09-19T00:00:00+00:00\",\"2016-09-26T00:00:00+00:00\",\"2016-10-03T00:00:00+00:00\",\"2016-10-10T00:00:00+00:00\",\"2016-10-17T00:00:00+00:00\",\"2016-10-24T00:00:00+00:00\",\"2016-10-31T00:00:00+00:00\",\"2016-11-07T00:00:00+00:00\",\"2016-11-14T00:00:00+00:00\",\"2016-11-21T00:00:00+00:00\",\"2016-11-28T00:00:00+00:00\",\"2016-12-05T00:00:00+00:00\",\"2016-12-12T00:00:00+00:00\",\"2016-12-19T00:00:00+00:00\",\"2016-12-26T00:00:00+00:00\",\"2017-01-02T00:00:00+00:00\",\"2017-01-09T00:00:00+00:00\",\"2017-01-16T00:00:00+00:00\",\"2017-01-23T00:00:00+00:00\",\"2017-01-30T00:00:00+00:00\",\"2017-02-06T00:00:00+00:00\",\"2017-02-13T00:00:00+00:00\",\"2017-02-20T00:00:00+00:00\",\"2017-02-27T00:00:00+00:00\",\"2017-03-06T00:00:00+00:00\",\"2017-03-13T00:00:00+00:00\",\"2017-03-20T00:00:00+00:00\",\"2017-03-27T00:00:00+00:00\",\"2017-04-03T00:00:00+00:00\",\"2017-04-10T00:00:00+00:00\",\"2017-04-17T00:00:00+00:00\",\"2017-04-24T00:00:00+00:00\",\"2017-05-01T00:00:00+00:00\",\"2017-05-08T00:00:00+00:00\",\"2017-05-15T00:00:00+00:00\",\"2017-05-22T00:00:00+00:00\",\"2017-05-29T00:00:00+00:00\",\"2017-06-05T00:00:00+00:00\",\"2017-06-12T00:00:00+00:00\",\"2017-06-19T00:00:00+00:00\",\"2017-06-26T00:00:00+00:00\",\"2017-07-03T00:00:00+00:00\",\"2017-07-10T00:00:00+00:00\",\"2017-07-17T00:00:00+00:00\",\"2017-07-24T00:00:00+00:00\",\"2017-07-31T00:00:00+00:00\",\"2017-08-07T00:00:00+00:00\",\"2017-08-14T00:00:00+00:00\",\"2017-08-21T00:00:00+00:00\",\"2017-08-28T00:00:00+00:00\",\"2017-09-04T00:00:00+00:00\",\"2017-09-11T00:00:00+00:00\",\"2017-09-18T00:00:00+00:00\",\"2017-09-25T00:00:00+00:00\",\"2017-10-02T00:00:00+00:00\",\"2017-10-09T00:00:00+00:00\",\"2017-10-16T00:00:00+00:00\",\"2017-10-23T00:00:00+00:00\",\"2017-10-30T00:00:00+00:00\",\"2017-11-06T00:00:00+00:00\",\"2017-11-13T00:00:00+00:00\",\"2017-11-20T00:00:00+00:00\",\"2017-11-27T00:00:00+00:00\",\"2017-12-04T00:00:00+00:00\",\"2017-12-11T00:00:00+00:00\",\"2017-12-18T00:00:00+00:00\",\"2017-12-25T00:00:00+00:00\",\"2018-01-01T00:00:00+00:00\",\"2018-01-08T00:00:00+00:00\",\"2018-01-15T00:00:00+00:00\",\"2018-01-22T00:00:00+00:00\",\"2018-01-29T00:00:00+00:00\",\"2018-02-05T00:00:00+00:00\",\"2018-02-12T00:00:00+00:00\",\"2018-02-19T00:00:00+00:00\",\"2018-02-26T00:00:00+00:00\",\"2018-03-05T00:00:00+00:00\",\"2018-03-12T00:00:00+00:00\",\"2018-03-19T00:00:00+00:00\",\"2018-03-26T00:00:00+00:00\",\"2018-04-02T00:00:00+00:00\",\"2018-04-09T00:00:00+00:00\",\"2018-04-16T00:00:00+00:00\",\"2018-04-23T00:00:00+00:00\",\"2018-04-30T00:00:00+00:00\",\"2018-05-07T00:00:00+00:00\",\"2018-05-14T00:00:00+00:00\",\"2018-05-21T00:00:00+00:00\",\"2018-05-28T00:00:00+00:00\",\"2018-06-04T00:00:00+00:00\",\"2018-06-11T00:00:00+00:00\",\"2018-06-18T00:00:00+00:00\",\"2018-06-25T00:00:00+00:00\",\"2018-07-02T00:00:00+00:00\",\"2018-07-09T00:00:00+00:00\",\"2018-07-16T00:00:00+00:00\",\"2018-07-23T00:00:00+00:00\",\"2018-07-30T00:00:00+00:00\",\"2018-08-06T00:00:00+00:00\",\"2018-08-13T00:00:00+00:00\",\"2018-08-20T00:00:00+00:00\",\"2018-08-27T00:00:00+00:00\",\"2018-09-03T00:00:00+00:00\",\"2018-09-10T00:00:00+00:00\",\"2018-09-17T00:00:00+00:00\",\"2018-09-24T00:00:00+00:00\",\"2018-10-01T00:00:00+00:00\",\"2018-10-08T00:00:00+00:00\",\"2018-10-15T00:00:00+00:00\",\"2018-10-22T00:00:00+00:00\",\"2018-10-29T00:00:00+00:00\",\"2018-11-05T00:00:00+00:00\",\"2018-11-12T00:00:00+00:00\"],\"y\":[300.0,378.0,398.0,340.0,null,null,360.0,200.0,215.0,259.0,238.7,217.33,237.02,237.6,276.5,295.71,292.61,267.16,248.4,254.55,219.48,226.46,224.44,235.57,241.47,234.4,237.01,223.73,228.45,238.84,245.01,266.2,267.21,287.62,279.5,297.17,283.22,267.22,255.21,210.12,229.75,243.86,231.67,227.12,240.79,241.44,246.88,266.8,290.54,374.98,381.46,335.36,322.25,378.11,392.95,459.58,440.43,423.08,433.79,447.57,382.36,393.03,373.57,370.39,400.63,434.41,431.26,414.03,414.56,415.93,423.17,422.46,425.44,432.5,468.32,446.99,461.7,455.88,446.37,534.15,586.34,690.19,706.6,654.22,675.29,650.38,675.62,646.39,602.09,588.66,567.66,585.91,575.81,606.82,608.12,609.35,606.25,610.48,630.34,638.1,652.84,711.71,704.79,710.53,737.04,730.89,756.16,779.17,790.56,911.77,1019.79,904.02,891.17,916.94,934.99,1047.32,1006.11,1093.0,1192.62,1279.95,1234.95,1085.3,1039.52,1155.12,1208.92,1196.51,1267.0,1448.52,1705.99,1716.57,2170.76,2295.01,2837.5,2751.78,2624.45,2403.15,2625.61,2283.43,2249.75,2686.0,2870.92,3439.22,4266.3,3813.92,4371.23,4349.48,4357.98,3964.97,3890.96,4292.0,4836.94,5663.23,5732.25,6109.12,7187.01,6583.55,8150.66,9925.01,11794.29,16918.17,18850.0,15444.0,13423.34,15152.69,12687.09,10290.0,10985.77,5930.0,8612.38,11539.99,10604.0,11269.99,9348.01,8488.87,7984.43,7337.42,6708.0,8012.02,9239.0,8976.91,9324.71,8739.92,8318.31,7096.6,7425.17,6839.75,6686.68,6236.52,6640.25,6605.6,6674.03,7980.0,8122.48,6949.18,5970.0,6386.0,6910.0,7284.99,6330.01,6268.49,6412.53,6559.3,6594.68,6446.99,6399.99,6278.4,6398.56],\"type\":\"scatter\"},{\"mode\":\"lines\",\"name\":\"Weighted Average\",\"x\":[\"2014-12-01T00:00:00+00:00\",\"2014-12-08T00:00:00+00:00\",\"2014-12-15T00:00:00+00:00\",\"2014-12-22T00:00:00+00:00\",\"2014-12-29T00:00:00+00:00\",\"2015-01-05T00:00:00+00:00\",\"2015-01-12T00:00:00+00:00\",\"2015-01-19T00:00:00+00:00\",\"2015-01-26T00:00:00+00:00\",\"2015-02-02T00:00:00+00:00\",\"2015-02-09T00:00:00+00:00\",\"2015-02-16T00:00:00+00:00\",\"2015-02-23T00:00:00+00:00\",\"2015-03-02T00:00:00+00:00\",\"2015-03-09T00:00:00+00:00\",\"2015-03-16T00:00:00+00:00\",\"2015-03-23T00:00:00+00:00\",\"2015-03-30T00:00:00+00:00\",\"2015-04-06T00:00:00+00:00\",\"2015-04-13T00:00:00+00:00\",\"2015-04-20T00:00:00+00:00\",\"2015-04-27T00:00:00+00:00\",\"2015-05-04T00:00:00+00:00\",\"2015-05-11T00:00:00+00:00\",\"2015-05-18T00:00:00+00:00\",\"2015-05-25T00:00:00+00:00\",\"2015-06-01T00:00:00+00:00\",\"2015-06-08T00:00:00+00:00\",\"2015-06-15T00:00:00+00:00\",\"2015-06-22T00:00:00+00:00\",\"2015-06-29T00:00:00+00:00\",\"2015-07-06T00:00:00+00:00\",\"2015-07-13T00:00:00+00:00\",\"2015-07-20T00:00:00+00:00\",\"2015-07-27T00:00:00+00:00\",\"2015-08-03T00:00:00+00:00\",\"2015-08-10T00:00:00+00:00\",\"2015-08-17T00:00:00+00:00\",\"2015-08-24T00:00:00+00:00\",\"2015-08-31T00:00:00+00:00\",\"2015-09-07T00:00:00+00:00\",\"2015-09-14T00:00:00+00:00\",\"2015-09-21T00:00:00+00:00\",\"2015-09-28T00:00:00+00:00\",\"2015-10-05T00:00:00+00:00\",\"2015-10-12T00:00:00+00:00\",\"2015-10-19T00:00:00+00:00\",\"2015-10-26T00:00:00+00:00\",\"2015-11-02T00:00:00+00:00\",\"2015-11-09T00:00:00+00:00\",\"2015-11-16T00:00:00+00:00\",\"2015-11-23T00:00:00+00:00\",\"2015-11-30T00:00:00+00:00\",\"2015-12-07T00:00:00+00:00\",\"2015-12-14T00:00:00+00:00\",\"2015-12-21T00:00:00+00:00\",\"2015-12-28T00:00:00+00:00\",\"2016-01-04T00:00:00+00:00\",\"2016-01-11T00:00:00+00:00\",\"2016-01-18T00:00:00+00:00\",\"2016-01-25T00:00:00+00:00\",\"2016-02-01T00:00:00+00:00\",\"2016-02-08T00:00:00+00:00\",\"2016-02-15T00:00:00+00:00\",\"2016-02-22T00:00:00+00:00\",\"2016-02-29T00:00:00+00:00\",\"2016-03-07T00:00:00+00:00\",\"2016-03-14T00:00:00+00:00\",\"2016-03-21T00:00:00+00:00\",\"2016-03-28T00:00:00+00:00\",\"2016-04-04T00:00:00+00:00\",\"2016-04-11T00:00:00+00:00\",\"2016-04-18T00:00:00+00:00\",\"2016-04-25T00:00:00+00:00\",\"2016-05-02T00:00:00+00:00\",\"2016-05-09T00:00:00+00:00\",\"2016-05-16T00:00:00+00:00\",\"2016-05-23T00:00:00+00:00\",\"2016-05-30T00:00:00+00:00\",\"2016-06-06T00:00:00+00:00\",\"2016-06-13T00:00:00+00:00\",\"2016-06-20T00:00:00+00:00\",\"2016-06-27T00:00:00+00:00\",\"2016-07-04T00:00:00+00:00\",\"2016-07-11T00:00:00+00:00\",\"2016-07-18T00:00:00+00:00\",\"2016-07-25T00:00:00+00:00\",\"2016-08-01T00:00:00+00:00\",\"2016-08-08T00:00:00+00:00\",\"2016-08-15T00:00:00+00:00\",\"2016-08-22T00:00:00+00:00\",\"2016-08-29T00:00:00+00:00\",\"2016-09-05T00:00:00+00:00\",\"2016-09-12T00:00:00+00:00\",\"2016-09-19T00:00:00+00:00\",\"2016-09-26T00:00:00+00:00\",\"2016-10-03T00:00:00+00:00\",\"2016-10-10T00:00:00+00:00\",\"2016-10-17T00:00:00+00:00\",\"2016-10-24T00:00:00+00:00\",\"2016-10-31T00:00:00+00:00\",\"2016-11-07T00:00:00+00:00\",\"2016-11-14T00:00:00+00:00\",\"2016-11-21T00:00:00+00:00\",\"2016-11-28T00:00:00+00:00\",\"2016-12-05T00:00:00+00:00\",\"2016-12-12T00:00:00+00:00\",\"2016-12-19T00:00:00+00:00\",\"2016-12-26T00:00:00+00:00\",\"2017-01-02T00:00:00+00:00\",\"2017-01-09T00:00:00+00:00\",\"2017-01-16T00:00:00+00:00\",\"2017-01-23T00:00:00+00:00\",\"2017-01-30T00:00:00+00:00\",\"2017-02-06T00:00:00+00:00\",\"2017-02-13T00:00:00+00:00\",\"2017-02-20T00:00:00+00:00\",\"2017-02-27T00:00:00+00:00\",\"2017-03-06T00:00:00+00:00\",\"2017-03-13T00:00:00+00:00\",\"2017-03-20T00:00:00+00:00\",\"2017-03-27T00:00:00+00:00\",\"2017-04-03T00:00:00+00:00\",\"2017-04-10T00:00:00+00:00\",\"2017-04-17T00:00:00+00:00\",\"2017-04-24T00:00:00+00:00\",\"2017-05-01T00:00:00+00:00\",\"2017-05-08T00:00:00+00:00\",\"2017-05-15T00:00:00+00:00\",\"2017-05-22T00:00:00+00:00\",\"2017-05-29T00:00:00+00:00\",\"2017-06-05T00:00:00+00:00\",\"2017-06-12T00:00:00+00:00\",\"2017-06-19T00:00:00+00:00\",\"2017-06-26T00:00:00+00:00\",\"2017-07-03T00:00:00+00:00\",\"2017-07-10T00:00:00+00:00\",\"2017-07-17T00:00:00+00:00\",\"2017-07-24T00:00:00+00:00\",\"2017-07-31T00:00:00+00:00\",\"2017-08-07T00:00:00+00:00\",\"2017-08-14T00:00:00+00:00\",\"2017-08-21T00:00:00+00:00\",\"2017-08-28T00:00:00+00:00\",\"2017-09-04T00:00:00+00:00\",\"2017-09-11T00:00:00+00:00\",\"2017-09-18T00:00:00+00:00\",\"2017-09-25T00:00:00+00:00\",\"2017-10-02T00:00:00+00:00\",\"2017-10-09T00:00:00+00:00\",\"2017-10-16T00:00:00+00:00\",\"2017-10-23T00:00:00+00:00\",\"2017-10-30T00:00:00+00:00\",\"2017-11-06T00:00:00+00:00\",\"2017-11-13T00:00:00+00:00\",\"2017-11-20T00:00:00+00:00\",\"2017-11-27T00:00:00+00:00\",\"2017-12-04T00:00:00+00:00\",\"2017-12-11T00:00:00+00:00\",\"2017-12-18T00:00:00+00:00\",\"2017-12-25T00:00:00+00:00\",\"2018-01-01T00:00:00+00:00\",\"2018-01-08T00:00:00+00:00\",\"2018-01-15T00:00:00+00:00\",\"2018-01-22T00:00:00+00:00\",\"2018-01-29T00:00:00+00:00\",\"2018-02-05T00:00:00+00:00\",\"2018-02-12T00:00:00+00:00\",\"2018-02-19T00:00:00+00:00\",\"2018-02-26T00:00:00+00:00\",\"2018-03-05T00:00:00+00:00\",\"2018-03-12T00:00:00+00:00\",\"2018-03-19T00:00:00+00:00\",\"2018-03-26T00:00:00+00:00\",\"2018-04-02T00:00:00+00:00\",\"2018-04-09T00:00:00+00:00\",\"2018-04-16T00:00:00+00:00\",\"2018-04-23T00:00:00+00:00\",\"2018-04-30T00:00:00+00:00\",\"2018-05-07T00:00:00+00:00\",\"2018-05-14T00:00:00+00:00\",\"2018-05-21T00:00:00+00:00\",\"2018-05-28T00:00:00+00:00\",\"2018-06-04T00:00:00+00:00\",\"2018-06-11T00:00:00+00:00\",\"2018-06-18T00:00:00+00:00\",\"2018-06-25T00:00:00+00:00\",\"2018-07-02T00:00:00+00:00\",\"2018-07-09T00:00:00+00:00\",\"2018-07-16T00:00:00+00:00\",\"2018-07-23T00:00:00+00:00\",\"2018-07-30T00:00:00+00:00\",\"2018-08-06T00:00:00+00:00\",\"2018-08-13T00:00:00+00:00\",\"2018-08-20T00:00:00+00:00\",\"2018-08-27T00:00:00+00:00\",\"2018-09-03T00:00:00+00:00\",\"2018-09-10T00:00:00+00:00\",\"2018-09-17T00:00:00+00:00\",\"2018-09-24T00:00:00+00:00\",\"2018-10-01T00:00:00+00:00\",\"2018-10-08T00:00:00+00:00\",\"2018-10-15T00:00:00+00:00\",\"2018-10-22T00:00:00+00:00\",\"2018-10-29T00:00:00+00:00\",\"2018-11-05T00:00:00+00:00\",\"2018-11-12T00:00:00+00:00\"],\"y\":[300.0,377.984375,398.0,342.5,null,null,360.0,200.0,215.0,259.0,238.69985223,217.53316856,236.99959188,237.6,276.35464123,295.71,292.62650776,267.16,248.41192308,254.55,219.48320224,226.46,224.43155386,235.55768749,241.47,234.40259992,237.0094673,223.73,228.46619761,238.81978424,245.01,266.46800016,267.20837098,287.60044511,279.48685998,297.18298432,283.12196321,267.22,255.20359631,210.09869606,229.73281285,243.71411095,231.75972782,227.08647773,240.79,241.27287881,246.87960003,266.74613538,290.53743357,374.99633358,381.4411568,335.36,322.34381974,378.00433315,392.95,459.55979295,440.43,423.02024757,433.80245048,447.60272323,382.6304664,393.13526971,373.59061085,370.40243955,400.54869118,434.41,431.31728241,414.03,414.63337975,415.93,423.24261479,422.46955148,425.48099578,432.44522098,468.32,446.97963581,461.7,455.88885837,446.32820744,534.15,586.34,689.539998,705.67549498,654.19691073,675.11178218,650.11912635,675.62,646.38597289,602.40766402,588.66,567.52325871,585.91,575.67285204,606.82,608.09050583,609.3522524,606.27816953,610.49638398,630.31545588,638.08003992,652.84,711.70957761,704.79051044,710.54942902,737.04818947,730.70954109,756.16,779.17,790.3628871,911.77722472,1019.593675,904.02,891.16113673,917.94283484,934.99,1047.32,1006.119011,1093.0,1192.3252271,1279.1822409,1234.3375011,1085.0273592,1039.5088709,1155.3168081,1208.8849236,1197.151099,1266.9933912,1448.5104276,1705.9998902,1717.6309944,2170.7581926,2295.4320294,2838.9337076,2751.1454781,2624.4696167,2403.8215186,2625.8608786,2280.992064,2248.4767014,2688.1529008,2871.8226988,3440.2924265,4257.2787975,3813.9642255,4371.238212,4347.2552488,4357.4743568,3964.9219003,3890.4032307,4292.0085039,4836.9400224,5663.2237449,5731.1137057,6109.1199493,7187.0080097,6583.5416932,8150.6596076,9925.005867,11790.279713,16918.166229,18845.477505,15444.007832,13423.336972,15148.857014,12655.503663,10287.617676,10985.777778,5929.1809539,8616.8060392,11537.017618,10604.000548,11268.737091,9348.0095948,8483.545587,7977.8681947,7338.5312744,6709.38663,8012.0263402,9233.5655836,8973.1774516,9324.7098389,8739.9158442,8318.3138284,7096.5926135,7425.1645544,6839.1145146,6685.4084837,6236.5172928,6640.2559516,6602.8956413,6674.0316802,7979.9965523,8122.4838474,6949.1737838,5973.4469323,6385.9933565,6910.0057144,7284.9905859,6330.005347,6268.4935803,6415.4034564,6559.3096228,6594.6720084,6449.4151674,6399.9965701,6278.4061006,6398.5699644],\"type\":\"scatter\"}],                        {\"template\":{\"data\":{\"barpolar\":[{\"marker\":{\"line\":{\"color\":\"#E5ECF6\",\"width\":0.5},\"pattern\":{\"fillmode\":\"overlay\",\"size\":10,\"solidity\":0.2}},\"type\":\"barpolar\"}],\"bar\":[{\"error_x\":{\"color\":\"#2a3f5f\"},\"error_y\":{\"color\":\"#2a3f5f\"},\"marker\":{\"line\":{\"color\":\"#E5ECF6\",\"width\":0.5},\"pattern\":{\"fillmode\":\"overlay\",\"size\":10,\"solidity\":0.2}},\"type\":\"bar\"}],\"carpet\":[{\"aaxis\":{\"endlinecolor\":\"#2a3f5f\",\"gridcolor\":\"white\",\"linecolor\":\"white\",\"minorgridcolor\":\"white\",\"startlinecolor\":\"#2a3f5f\"},\"baxis\":{\"endlinecolor\":\"#2a3f5f\",\"gridcolor\":\"white\",\"linecolor\":\"white\",\"minorgridcolor\":\"white\",\"startlinecolor\":\"#2a3f5f\"},\"type\":\"carpet\"}],\"choropleth\":[{\"colorbar\":{\"outlinewidth\":0,\"ticks\":\"\"},\"type\":\"choropleth\"}],\"contourcarpet\":[{\"colorbar\":{\"outlinewidth\":0,\"ticks\":\"\"},\"type\":\"contourcarpet\"}],\"contour\":[{\"colorbar\":{\"outlinewidth\":0,\"ticks\":\"\"},\"colorscale\":[[0.0,\"#0d0887\"],[0.1111111111111111,\"#46039f\"],[0.2222222222222222,\"#7201a8\"],[0.3333333333333333,\"#9c179e\"],[0.4444444444444444,\"#bd3786\"],[0.5555555555555556,\"#d8576b\"],[0.6666666666666666,\"#ed7953\"],[0.7777777777777778,\"#fb9f3a\"],[0.8888888888888888,\"#fdca26\"],[1.0,\"#f0f921\"]],\"type\":\"contour\"}],\"heatmapgl\":[{\"colorbar\":{\"outlinewidth\":0,\"ticks\":\"\"},\"colorscale\":[[0.0,\"#0d0887\"],[0.1111111111111111,\"#46039f\"],[0.2222222222222222,\"#7201a8\"],[0.3333333333333333,\"#9c179e\"],[0.4444444444444444,\"#bd3786\"],[0.5555555555555556,\"#d8576b\"],[0.6666666666666666,\"#ed7953\"],[0.7777777777777778,\"#fb9f3a\"],[0.8888888888888888,\"#fdca26\"],[1.0,\"#f0f921\"]],\"type\":\"heatmapgl\"}],\"heatmap\":[{\"colorbar\":{\"outlinewidth\":0,\"ticks\":\"\"},\"colorscale\":[[0.0,\"#0d0887\"],[0.1111111111111111,\"#46039f\"],[0.2222222222222222,\"#7201a8\"],[0.3333333333333333,\"#9c179e\"],[0.4444444444444444,\"#bd3786\"],[0.5555555555555556,\"#d8576b\"],[0.6666666666666666,\"#ed7953\"],[0.7777777777777778,\"#fb9f3a\"],[0.8888888888888888,\"#fdca26\"],[1.0,\"#f0f921\"]],\"type\":\"heatmap\"}],\"histogram2dcontour\":[{\"colorbar\":{\"outlinewidth\":0,\"ticks\":\"\"},\"colorscale\":[[0.0,\"#0d0887\"],[0.1111111111111111,\"#46039f\"],[0.2222222222222222,\"#7201a8\"],[0.3333333333333333,\"#9c179e\"],[0.4444444444444444,\"#bd3786\"],[0.5555555555555556,\"#d8576b\"],[0.6666666666666666,\"#ed7953\"],[0.7777777777777778,\"#fb9f3a\"],[0.8888888888888888,\"#fdca26\"],[1.0,\"#f0f921\"]],\"type\":\"histogram2dcontour\"}],\"histogram2d\":[{\"colorbar\":{\"outlinewidth\":0,\"ticks\":\"\"},\"colorscale\":[[0.0,\"#0d0887\"],[0.1111111111111111,\"#46039f\"],[0.2222222222222222,\"#7201a8\"],[0.3333333333333333,\"#9c179e\"],[0.4444444444444444,\"#bd3786\"],[0.5555555555555556,\"#d8576b\"],[0.6666666666666666,\"#ed7953\"],[0.7777777777777778,\"#fb9f3a\"],[0.8888888888888888,\"#fdca26\"],[1.0,\"#f0f921\"]],\"type\":\"histogram2d\"}],\"histogram\":[{\"marker\":{\"pattern\":{\"fillmode\":\"overlay\",\"size\":10,\"solidity\":0.2}},\"type\":\"histogram\"}],\"mesh3d\":[{\"colorbar\":{\"outlinewidth\":0,\"ticks\":\"\"},\"type\":\"mesh3d\"}],\"parcoords\":[{\"line\":{\"colorbar\":{\"outlinewidth\":0,\"ticks\":\"\"}},\"type\":\"parcoords\"}],\"pie\":[{\"automargin\":true,\"type\":\"pie\"}],\"scatter3d\":[{\"line\":{\"colorbar\":{\"outlinewidth\":0,\"ticks\":\"\"}},\"marker\":{\"colorbar\":{\"outlinewidth\":0,\"ticks\":\"\"}},\"type\":\"scatter3d\"}],\"scattercarpet\":[{\"marker\":{\"colorbar\":{\"outlinewidth\":0,\"ticks\":\"\"}},\"type\":\"scattercarpet\"}],\"scattergeo\":[{\"marker\":{\"colorbar\":{\"outlinewidth\":0,\"ticks\":\"\"}},\"type\":\"scattergeo\"}],\"scattergl\":[{\"marker\":{\"colorbar\":{\"outlinewidth\":0,\"ticks\":\"\"}},\"type\":\"scattergl\"}],\"scattermapbox\":[{\"marker\":{\"colorbar\":{\"outlinewidth\":0,\"ticks\":\"\"}},\"type\":\"scattermapbox\"}],\"scatterpolargl\":[{\"marker\":{\"colorbar\":{\"outlinewidth\":0,\"ticks\":\"\"}},\"type\":\"scatterpolargl\"}],\"scatterpolar\":[{\"marker\":{\"colorbar\":{\"outlinewidth\":0,\"ticks\":\"\"}},\"type\":\"scatterpolar\"}],\"scatter\":[{\"fillpattern\":{\"fillmode\":\"overlay\",\"size\":10,\"solidity\":0.2},\"type\":\"scatter\"}],\"scatterternary\":[{\"marker\":{\"colorbar\":{\"outlinewidth\":0,\"ticks\":\"\"}},\"type\":\"scatterternary\"}],\"surface\":[{\"colorbar\":{\"outlinewidth\":0,\"ticks\":\"\"},\"colorscale\":[[0.0,\"#0d0887\"],[0.1111111111111111,\"#46039f\"],[0.2222222222222222,\"#7201a8\"],[0.3333333333333333,\"#9c179e\"],[0.4444444444444444,\"#bd3786\"],[0.5555555555555556,\"#d8576b\"],[0.6666666666666666,\"#ed7953\"],[0.7777777777777778,\"#fb9f3a\"],[0.8888888888888888,\"#fdca26\"],[1.0,\"#f0f921\"]],\"type\":\"surface\"}],\"table\":[{\"cells\":{\"fill\":{\"color\":\"#EBF0F8\"},\"line\":{\"color\":\"white\"}},\"header\":{\"fill\":{\"color\":\"#C8D4E3\"},\"line\":{\"color\":\"white\"}},\"type\":\"table\"}]},\"layout\":{\"annotationdefaults\":{\"arrowcolor\":\"#2a3f5f\",\"arrowhead\":0,\"arrowwidth\":1},\"autotypenumbers\":\"strict\",\"coloraxis\":{\"colorbar\":{\"outlinewidth\":0,\"ticks\":\"\"}},\"colorscale\":{\"diverging\":[[0,\"#8e0152\"],[0.1,\"#c51b7d\"],[0.2,\"#de77ae\"],[0.3,\"#f1b6da\"],[0.4,\"#fde0ef\"],[0.5,\"#f7f7f7\"],[0.6,\"#e6f5d0\"],[0.7,\"#b8e186\"],[0.8,\"#7fbc41\"],[0.9,\"#4d9221\"],[1,\"#276419\"]],\"sequential\":[[0.0,\"#0d0887\"],[0.1111111111111111,\"#46039f\"],[0.2222222222222222,\"#7201a8\"],[0.3333333333333333,\"#9c179e\"],[0.4444444444444444,\"#bd3786\"],[0.5555555555555556,\"#d8576b\"],[0.6666666666666666,\"#ed7953\"],[0.7777777777777778,\"#fb9f3a\"],[0.8888888888888888,\"#fdca26\"],[1.0,\"#f0f921\"]],\"sequentialminus\":[[0.0,\"#0d0887\"],[0.1111111111111111,\"#46039f\"],[0.2222222222222222,\"#7201a8\"],[0.3333333333333333,\"#9c179e\"],[0.4444444444444444,\"#bd3786\"],[0.5555555555555556,\"#d8576b\"],[0.6666666666666666,\"#ed7953\"],[0.7777777777777778,\"#fb9f3a\"],[0.8888888888888888,\"#fdca26\"],[1.0,\"#f0f921\"]]},\"colorway\":[\"#636efa\",\"#EF553B\",\"#00cc96\",\"#ab63fa\",\"#FFA15A\",\"#19d3f3\",\"#FF6692\",\"#B6E880\",\"#FF97FF\",\"#FECB52\"],\"font\":{\"color\":\"#2a3f5f\"},\"geo\":{\"bgcolor\":\"white\",\"lakecolor\":\"white\",\"landcolor\":\"#E5ECF6\",\"showlakes\":true,\"showland\":true,\"subunitcolor\":\"white\"},\"hoverlabel\":{\"align\":\"left\"},\"hovermode\":\"closest\",\"mapbox\":{\"style\":\"light\"},\"paper_bgcolor\":\"white\",\"plot_bgcolor\":\"#E5ECF6\",\"polar\":{\"angularaxis\":{\"gridcolor\":\"white\",\"linecolor\":\"white\",\"ticks\":\"\"},\"bgcolor\":\"#E5ECF6\",\"radialaxis\":{\"gridcolor\":\"white\",\"linecolor\":\"white\",\"ticks\":\"\"}},\"scene\":{\"xaxis\":{\"backgroundcolor\":\"#E5ECF6\",\"gridcolor\":\"white\",\"gridwidth\":2,\"linecolor\":\"white\",\"showbackground\":true,\"ticks\":\"\",\"zerolinecolor\":\"white\"},\"yaxis\":{\"backgroundcolor\":\"#E5ECF6\",\"gridcolor\":\"white\",\"gridwidth\":2,\"linecolor\":\"white\",\"showbackground\":true,\"ticks\":\"\",\"zerolinecolor\":\"white\"},\"zaxis\":{\"backgroundcolor\":\"#E5ECF6\",\"gridcolor\":\"white\",\"gridwidth\":2,\"linecolor\":\"white\",\"showbackground\":true,\"ticks\":\"\",\"zerolinecolor\":\"white\"}},\"shapedefaults\":{\"line\":{\"color\":\"#2a3f5f\"}},\"ternary\":{\"aaxis\":{\"gridcolor\":\"white\",\"linecolor\":\"white\",\"ticks\":\"\"},\"baxis\":{\"gridcolor\":\"white\",\"linecolor\":\"white\",\"ticks\":\"\"},\"bgcolor\":\"#E5ECF6\",\"caxis\":{\"gridcolor\":\"white\",\"linecolor\":\"white\",\"ticks\":\"\"}},\"title\":{\"x\":0.05},\"xaxis\":{\"automargin\":true,\"gridcolor\":\"white\",\"linecolor\":\"white\",\"ticks\":\"\",\"title\":{\"standoff\":15},\"zerolinecolor\":\"white\",\"zerolinewidth\":2},\"yaxis\":{\"automargin\":true,\"gridcolor\":\"white\",\"linecolor\":\"white\",\"ticks\":\"\",\"title\":{\"standoff\":15},\"zerolinecolor\":\"white\",\"zerolinewidth\":2}}},\"title\":{\"text\":\"Historical Bitcoin Prices (2014/12/30-2018/11/12) with the Slider \"},\"xaxis\":{\"rangeselector\":{\"buttons\":[{\"count\":1,\"label\":\"1m\",\"step\":\"month\",\"stepmode\":\"backward\"},{\"count\":6,\"label\":\"6m\",\"step\":\"month\",\"stepmode\":\"backward\"},{\"count\":12,\"label\":\"1y\",\"step\":\"month\",\"stepmode\":\"backward\"},{\"count\":36,\"label\":\"3y\",\"step\":\"month\",\"stepmode\":\"backward\"},{\"step\":\"all\"}]},\"rangeslider\":{\"visible\":true},\"type\":\"date\"}},                        {\"responsive\": true}                    ).then(function(){\n",
       "                            \n",
       "var gd = document.getElementById('86028924-4083-48b8-9934-4d1066afda7d');\n",
       "var x = new MutationObserver(function (mutations, observer) {{\n",
       "        var display = window.getComputedStyle(gd).display;\n",
       "        if (!display || display === 'none') {{\n",
       "            console.log([gd, 'removed!']);\n",
       "            Plotly.purge(gd);\n",
       "            observer.disconnect();\n",
       "        }}\n",
       "}});\n",
       "\n",
       "// Listen for the removal of the full notebook cells\n",
       "var notebookContainer = gd.closest('#notebook-container');\n",
       "if (notebookContainer) {{\n",
       "    x.observe(notebookContainer, {childList: true});\n",
       "}}\n",
       "\n",
       "// Listen for the clearing of the current output cell\n",
       "var outputEl = gd.closest('.output');\n",
       "if (outputEl) {{\n",
       "    x.observe(outputEl, {childList: true});\n",
       "}}\n",
       "\n",
       "                        })                };                });            </script>        </div>"
      ]
     },
     "metadata": {},
     "output_type": "display_data"
    }
   ],
   "source": [
    "# visualization of open , close and weighted price\n",
    "trace1 = go.Scatter(\n",
    "    x = weekly_bit.index,\n",
    "    y = weekly_bit['Open'].astype(float),\n",
    "    mode = 'lines',\n",
    "    name = 'Open'\n",
    ")\n",
    "\n",
    "trace2 = go.Scatter(\n",
    "    x = weekly_bit.index,\n",
    "    y = weekly_bit['High'].astype(float),\n",
    "    mode = 'lines',\n",
    "    name = 'High'\n",
    ")\n",
    "\n",
    "trace3 = go.Scatter(\n",
    "    x = weekly_bit.index,\n",
    "    y = weekly_bit['Low'].astype(float),\n",
    "    mode = 'lines',\n",
    "    name = 'Low'\n",
    ")\n",
    "\n",
    "trace4 = go.Scatter(\n",
    "    x = weekly_bit.index,\n",
    "    y = weekly_bit['Close'].astype(float),\n",
    "    mode = 'lines',\n",
    "    name = 'Close'\n",
    ")\n",
    "\n",
    "trace5 = go.Scatter(\n",
    "    x = weekly_bit.index,\n",
    "    y = weekly_bit['Weighted_Price'].astype(float),\n",
    "    mode = 'lines',\n",
    "    name = 'Weighted Average'\n",
    ")\n",
    "\n",
    "layout = dict(\n",
    "    title='Historical Bitcoin Prices (2014/12/30-2018/11/12) with the Slider ',\n",
    "    xaxis=dict(\n",
    "        rangeselector=dict(\n",
    "            buttons=list([\n",
    "                #change the count to desired amount of months.\n",
    "                dict(count=1,\n",
    "                     label='1m',\n",
    "                     step='month',\n",
    "                     stepmode='backward'),\n",
    "                dict(count=6,\n",
    "                     label='6m',\n",
    "                     step='month',\n",
    "                     stepmode='backward'),\n",
    "                dict(count=12,\n",
    "                     label='1y',\n",
    "                     step='month',\n",
    "                     stepmode='backward'),\n",
    "                dict(count=36,\n",
    "                     label='3y',\n",
    "                     step='month',\n",
    "                     stepmode='backward'),\n",
    "                dict(step='all')\n",
    "            ])\n",
    "        ),\n",
    "        rangeslider=dict(\n",
    "            visible = True\n",
    "        ),\n",
    "        type='date'\n",
    "    )\n",
    ")\n",
    "\n",
    "data = [trace1,trace2, trace3, trace4, trace5]\n",
    "fig = dict(data=data, layout=layout)\n",
    "iplot(fig, filename = \"Time Series with Rangeslider\")"
   ]
  },
  {
   "cell_type": "code",
   "execution_count": 100,
   "metadata": {},
   "outputs": [
    {
     "data": {
      "application/vnd.plotly.v1+json": {
       "config": {
        "linkText": "Export to plot.ly",
        "plotlyServerURL": "https://plot.ly",
        "showLink": false
       },
       "data": [
        {
         "mode": "lines",
         "name": "Volume_(BTC)",
         "type": "scatter",
         "x": [
          "2014-12-01T00:00:00+00:00",
          "2014-12-08T00:00:00+00:00",
          "2014-12-15T00:00:00+00:00",
          "2014-12-22T00:00:00+00:00",
          "2014-12-29T00:00:00+00:00",
          "2015-01-05T00:00:00+00:00",
          "2015-01-12T00:00:00+00:00",
          "2015-01-19T00:00:00+00:00",
          "2015-01-26T00:00:00+00:00",
          "2015-02-02T00:00:00+00:00",
          "2015-02-09T00:00:00+00:00",
          "2015-02-16T00:00:00+00:00",
          "2015-02-23T00:00:00+00:00",
          "2015-03-02T00:00:00+00:00",
          "2015-03-09T00:00:00+00:00",
          "2015-03-16T00:00:00+00:00",
          "2015-03-23T00:00:00+00:00",
          "2015-03-30T00:00:00+00:00",
          "2015-04-06T00:00:00+00:00",
          "2015-04-13T00:00:00+00:00",
          "2015-04-20T00:00:00+00:00",
          "2015-04-27T00:00:00+00:00",
          "2015-05-04T00:00:00+00:00",
          "2015-05-11T00:00:00+00:00",
          "2015-05-18T00:00:00+00:00",
          "2015-05-25T00:00:00+00:00",
          "2015-06-01T00:00:00+00:00",
          "2015-06-08T00:00:00+00:00",
          "2015-06-15T00:00:00+00:00",
          "2015-06-22T00:00:00+00:00",
          "2015-06-29T00:00:00+00:00",
          "2015-07-06T00:00:00+00:00",
          "2015-07-13T00:00:00+00:00",
          "2015-07-20T00:00:00+00:00",
          "2015-07-27T00:00:00+00:00",
          "2015-08-03T00:00:00+00:00",
          "2015-08-10T00:00:00+00:00",
          "2015-08-17T00:00:00+00:00",
          "2015-08-24T00:00:00+00:00",
          "2015-08-31T00:00:00+00:00",
          "2015-09-07T00:00:00+00:00",
          "2015-09-14T00:00:00+00:00",
          "2015-09-21T00:00:00+00:00",
          "2015-09-28T00:00:00+00:00",
          "2015-10-05T00:00:00+00:00",
          "2015-10-12T00:00:00+00:00",
          "2015-10-19T00:00:00+00:00",
          "2015-10-26T00:00:00+00:00",
          "2015-11-02T00:00:00+00:00",
          "2015-11-09T00:00:00+00:00",
          "2015-11-16T00:00:00+00:00",
          "2015-11-23T00:00:00+00:00",
          "2015-11-30T00:00:00+00:00",
          "2015-12-07T00:00:00+00:00",
          "2015-12-14T00:00:00+00:00",
          "2015-12-21T00:00:00+00:00",
          "2015-12-28T00:00:00+00:00",
          "2016-01-04T00:00:00+00:00",
          "2016-01-11T00:00:00+00:00",
          "2016-01-18T00:00:00+00:00",
          "2016-01-25T00:00:00+00:00",
          "2016-02-01T00:00:00+00:00",
          "2016-02-08T00:00:00+00:00",
          "2016-02-15T00:00:00+00:00",
          "2016-02-22T00:00:00+00:00",
          "2016-02-29T00:00:00+00:00",
          "2016-03-07T00:00:00+00:00",
          "2016-03-14T00:00:00+00:00",
          "2016-03-21T00:00:00+00:00",
          "2016-03-28T00:00:00+00:00",
          "2016-04-04T00:00:00+00:00",
          "2016-04-11T00:00:00+00:00",
          "2016-04-18T00:00:00+00:00",
          "2016-04-25T00:00:00+00:00",
          "2016-05-02T00:00:00+00:00",
          "2016-05-09T00:00:00+00:00",
          "2016-05-16T00:00:00+00:00",
          "2016-05-23T00:00:00+00:00",
          "2016-05-30T00:00:00+00:00",
          "2016-06-06T00:00:00+00:00",
          "2016-06-13T00:00:00+00:00",
          "2016-06-20T00:00:00+00:00",
          "2016-06-27T00:00:00+00:00",
          "2016-07-04T00:00:00+00:00",
          "2016-07-11T00:00:00+00:00",
          "2016-07-18T00:00:00+00:00",
          "2016-07-25T00:00:00+00:00",
          "2016-08-01T00:00:00+00:00",
          "2016-08-08T00:00:00+00:00",
          "2016-08-15T00:00:00+00:00",
          "2016-08-22T00:00:00+00:00",
          "2016-08-29T00:00:00+00:00",
          "2016-09-05T00:00:00+00:00",
          "2016-09-12T00:00:00+00:00",
          "2016-09-19T00:00:00+00:00",
          "2016-09-26T00:00:00+00:00",
          "2016-10-03T00:00:00+00:00",
          "2016-10-10T00:00:00+00:00",
          "2016-10-17T00:00:00+00:00",
          "2016-10-24T00:00:00+00:00",
          "2016-10-31T00:00:00+00:00",
          "2016-11-07T00:00:00+00:00",
          "2016-11-14T00:00:00+00:00",
          "2016-11-21T00:00:00+00:00",
          "2016-11-28T00:00:00+00:00",
          "2016-12-05T00:00:00+00:00",
          "2016-12-12T00:00:00+00:00",
          "2016-12-19T00:00:00+00:00",
          "2016-12-26T00:00:00+00:00",
          "2017-01-02T00:00:00+00:00",
          "2017-01-09T00:00:00+00:00",
          "2017-01-16T00:00:00+00:00",
          "2017-01-23T00:00:00+00:00",
          "2017-01-30T00:00:00+00:00",
          "2017-02-06T00:00:00+00:00",
          "2017-02-13T00:00:00+00:00",
          "2017-02-20T00:00:00+00:00",
          "2017-02-27T00:00:00+00:00",
          "2017-03-06T00:00:00+00:00",
          "2017-03-13T00:00:00+00:00",
          "2017-03-20T00:00:00+00:00",
          "2017-03-27T00:00:00+00:00",
          "2017-04-03T00:00:00+00:00",
          "2017-04-10T00:00:00+00:00",
          "2017-04-17T00:00:00+00:00",
          "2017-04-24T00:00:00+00:00",
          "2017-05-01T00:00:00+00:00",
          "2017-05-08T00:00:00+00:00",
          "2017-05-15T00:00:00+00:00",
          "2017-05-22T00:00:00+00:00",
          "2017-05-29T00:00:00+00:00",
          "2017-06-05T00:00:00+00:00",
          "2017-06-12T00:00:00+00:00",
          "2017-06-19T00:00:00+00:00",
          "2017-06-26T00:00:00+00:00",
          "2017-07-03T00:00:00+00:00",
          "2017-07-10T00:00:00+00:00",
          "2017-07-17T00:00:00+00:00",
          "2017-07-24T00:00:00+00:00",
          "2017-07-31T00:00:00+00:00",
          "2017-08-07T00:00:00+00:00",
          "2017-08-14T00:00:00+00:00",
          "2017-08-21T00:00:00+00:00",
          "2017-08-28T00:00:00+00:00",
          "2017-09-04T00:00:00+00:00",
          "2017-09-11T00:00:00+00:00",
          "2017-09-18T00:00:00+00:00",
          "2017-09-25T00:00:00+00:00",
          "2017-10-02T00:00:00+00:00",
          "2017-10-09T00:00:00+00:00",
          "2017-10-16T00:00:00+00:00",
          "2017-10-23T00:00:00+00:00",
          "2017-10-30T00:00:00+00:00",
          "2017-11-06T00:00:00+00:00",
          "2017-11-13T00:00:00+00:00",
          "2017-11-20T00:00:00+00:00",
          "2017-11-27T00:00:00+00:00",
          "2017-12-04T00:00:00+00:00",
          "2017-12-11T00:00:00+00:00",
          "2017-12-18T00:00:00+00:00",
          "2017-12-25T00:00:00+00:00",
          "2018-01-01T00:00:00+00:00",
          "2018-01-08T00:00:00+00:00",
          "2018-01-15T00:00:00+00:00",
          "2018-01-22T00:00:00+00:00",
          "2018-01-29T00:00:00+00:00",
          "2018-02-05T00:00:00+00:00",
          "2018-02-12T00:00:00+00:00",
          "2018-02-19T00:00:00+00:00",
          "2018-02-26T00:00:00+00:00",
          "2018-03-05T00:00:00+00:00",
          "2018-03-12T00:00:00+00:00",
          "2018-03-19T00:00:00+00:00",
          "2018-03-26T00:00:00+00:00",
          "2018-04-02T00:00:00+00:00",
          "2018-04-09T00:00:00+00:00",
          "2018-04-16T00:00:00+00:00",
          "2018-04-23T00:00:00+00:00",
          "2018-04-30T00:00:00+00:00",
          "2018-05-07T00:00:00+00:00",
          "2018-05-14T00:00:00+00:00",
          "2018-05-21T00:00:00+00:00",
          "2018-05-28T00:00:00+00:00",
          "2018-06-04T00:00:00+00:00",
          "2018-06-11T00:00:00+00:00",
          "2018-06-18T00:00:00+00:00",
          "2018-06-25T00:00:00+00:00",
          "2018-07-02T00:00:00+00:00",
          "2018-07-09T00:00:00+00:00",
          "2018-07-16T00:00:00+00:00",
          "2018-07-23T00:00:00+00:00",
          "2018-07-30T00:00:00+00:00",
          "2018-08-06T00:00:00+00:00",
          "2018-08-13T00:00:00+00:00",
          "2018-08-20T00:00:00+00:00",
          "2018-08-27T00:00:00+00:00",
          "2018-09-03T00:00:00+00:00",
          "2018-09-10T00:00:00+00:00",
          "2018-09-17T00:00:00+00:00",
          "2018-09-24T00:00:00+00:00",
          "2018-10-01T00:00:00+00:00",
          "2018-10-08T00:00:00+00:00",
          "2018-10-15T00:00:00+00:00",
          "2018-10-22T00:00:00+00:00",
          "2018-10-29T00:00:00+00:00",
          "2018-11-05T00:00:00+00:00",
          "2018-11-12T00:00:00+00:00"
         ],
         "y": [
          0.01,
          0,
          0.01,
          2,
          null,
          null,
          0.01,
          0,
          0,
          0,
          0.7444,
          2.64,
          0,
          0.01,
          11.26338116,
          0.01,
          4.96654851,
          0.01,
          0.26,
          0.3264,
          3.908201,
          0.0498,
          0.1699,
          0.2445,
          0.094,
          0,
          0.3792,
          0,
          0,
          2.0346,
          0.4114,
          7.06812256,
          0.9208,
          1.8379,
          0,
          0.13670336,
          17.39328,
          0.097,
          0.3904,
          1.3996,
          0.4515,
          1.4931,
          0.4519,
          30.1828,
          0.121,
          35.8179,
          5.2504,
          0,
          3.4094,
          31.6281,
          0.31098752,
          0,
          0.0466,
          0.83474676,
          0.0511,
          15.2327,
          0,
          3.4172,
          0.1767,
          0,
          0.6518,
          0.32776,
          0.2783,
          0,
          0,
          0.11679,
          9.19249,
          0.28152,
          8.03903,
          1.43058,
          2.06158,
          3.94362,
          4.88553453,
          54.01779225,
          5.38051,
          0.06947,
          8.37807607,
          6.56166,
          1.997444,
          1.06283,
          0.79285,
          5.28377,
          3.40314,
          0.24912,
          1.01,
          8.97683,
          0.1079,
          1.72928,
          3.65277,
          0.09952,
          4.32172,
          0.90908,
          13.52652106,
          0.10435,
          0.0806,
          0.99682,
          2.31844213,
          0.53534,
          0.18382,
          0.02004,
          0.51010758,
          0.68089,
          0.20777482,
          1.33748,
          0.41358,
          0.48406545,
          0,
          0.7838,
          4.15124232,
          0.21342,
          1.3919,
          0.47176,
          1.14363,
          0.5764,
          1.1749,
          11.5278,
          0.91,
          0.5137,
          0,
          0.8349,
          2.882,
          6.70786931,
          0.8148,
          0.1933,
          0.73881206,
          3.95065236,
          0.54275954,
          2.9608269,
          0.91046455,
          4.9506,
          9.06055574,
          3.05683517,
          22.17185648,
          13.09238248,
          1.1905152,
          3.27366411,
          2.13195977,
          1.50043638,
          53.60594718,
          19.96396993,
          0.66806484,
          3.0399196,
          22.06887606,
          3.78873055,
          2.04472014,
          28.09799055,
          3.66588074,
          0.48678569,
          1.23850902,
          0.61639365,
          2.88485336,
          3.21418282,
          0.50369746,
          3.94558547,
          0.95856116,
          6.9625125,
          6.7340968,
          5.07262657,
          40.77165165,
          4.39204821,
          6.00108936,
          2.41491212,
          0.98837527,
          6.89780092,
          73.13222326,
          3.55631863,
          0.44862796,
          35.58820107,
          10.12075314,
          3.17953333,
          11.66008213,
          3.05532735,
          4.23159966,
          2.77092595,
          2.49155339,
          3.56217295,
          0.52027536,
          4.1930029,
          2.16429777,
          1.05158004,
          1.55836879,
          0.72536358,
          0.12606219,
          0.43132455,
          0.67994346,
          1.37782212,
          2.8483486,
          0.03989331,
          0.56960876,
          0.56760614,
          2.84913234,
          4.73135454,
          0.89133704,
          0.39551653,
          5.3781419,
          7.6432196,
          1.97363469,
          8.86228799,
          0.78647877,
          0.52243038,
          7.2834499,
          0.19351621,
          0.21626732,
          4.09717779,
          0.11858629,
          1.45202146,
          0.32089988
         ]
        },
        {
         "mode": "lines",
         "name": "Volume_(Currency)",
         "type": "scatter",
         "x": [
          "2014-12-01T00:00:00+00:00",
          "2014-12-08T00:00:00+00:00",
          "2014-12-15T00:00:00+00:00",
          "2014-12-22T00:00:00+00:00",
          "2014-12-29T00:00:00+00:00",
          "2015-01-05T00:00:00+00:00",
          "2015-01-12T00:00:00+00:00",
          "2015-01-19T00:00:00+00:00",
          "2015-01-26T00:00:00+00:00",
          "2015-02-02T00:00:00+00:00",
          "2015-02-09T00:00:00+00:00",
          "2015-02-16T00:00:00+00:00",
          "2015-02-23T00:00:00+00:00",
          "2015-03-02T00:00:00+00:00",
          "2015-03-09T00:00:00+00:00",
          "2015-03-16T00:00:00+00:00",
          "2015-03-23T00:00:00+00:00",
          "2015-03-30T00:00:00+00:00",
          "2015-04-06T00:00:00+00:00",
          "2015-04-13T00:00:00+00:00",
          "2015-04-20T00:00:00+00:00",
          "2015-04-27T00:00:00+00:00",
          "2015-05-04T00:00:00+00:00",
          "2015-05-11T00:00:00+00:00",
          "2015-05-18T00:00:00+00:00",
          "2015-05-25T00:00:00+00:00",
          "2015-06-01T00:00:00+00:00",
          "2015-06-08T00:00:00+00:00",
          "2015-06-15T00:00:00+00:00",
          "2015-06-22T00:00:00+00:00",
          "2015-06-29T00:00:00+00:00",
          "2015-07-06T00:00:00+00:00",
          "2015-07-13T00:00:00+00:00",
          "2015-07-20T00:00:00+00:00",
          "2015-07-27T00:00:00+00:00",
          "2015-08-03T00:00:00+00:00",
          "2015-08-10T00:00:00+00:00",
          "2015-08-17T00:00:00+00:00",
          "2015-08-24T00:00:00+00:00",
          "2015-08-31T00:00:00+00:00",
          "2015-09-07T00:00:00+00:00",
          "2015-09-14T00:00:00+00:00",
          "2015-09-21T00:00:00+00:00",
          "2015-09-28T00:00:00+00:00",
          "2015-10-05T00:00:00+00:00",
          "2015-10-12T00:00:00+00:00",
          "2015-10-19T00:00:00+00:00",
          "2015-10-26T00:00:00+00:00",
          "2015-11-02T00:00:00+00:00",
          "2015-11-09T00:00:00+00:00",
          "2015-11-16T00:00:00+00:00",
          "2015-11-23T00:00:00+00:00",
          "2015-11-30T00:00:00+00:00",
          "2015-12-07T00:00:00+00:00",
          "2015-12-14T00:00:00+00:00",
          "2015-12-21T00:00:00+00:00",
          "2015-12-28T00:00:00+00:00",
          "2016-01-04T00:00:00+00:00",
          "2016-01-11T00:00:00+00:00",
          "2016-01-18T00:00:00+00:00",
          "2016-01-25T00:00:00+00:00",
          "2016-02-01T00:00:00+00:00",
          "2016-02-08T00:00:00+00:00",
          "2016-02-15T00:00:00+00:00",
          "2016-02-22T00:00:00+00:00",
          "2016-02-29T00:00:00+00:00",
          "2016-03-07T00:00:00+00:00",
          "2016-03-14T00:00:00+00:00",
          "2016-03-21T00:00:00+00:00",
          "2016-03-28T00:00:00+00:00",
          "2016-04-04T00:00:00+00:00",
          "2016-04-11T00:00:00+00:00",
          "2016-04-18T00:00:00+00:00",
          "2016-04-25T00:00:00+00:00",
          "2016-05-02T00:00:00+00:00",
          "2016-05-09T00:00:00+00:00",
          "2016-05-16T00:00:00+00:00",
          "2016-05-23T00:00:00+00:00",
          "2016-05-30T00:00:00+00:00",
          "2016-06-06T00:00:00+00:00",
          "2016-06-13T00:00:00+00:00",
          "2016-06-20T00:00:00+00:00",
          "2016-06-27T00:00:00+00:00",
          "2016-07-04T00:00:00+00:00",
          "2016-07-11T00:00:00+00:00",
          "2016-07-18T00:00:00+00:00",
          "2016-07-25T00:00:00+00:00",
          "2016-08-01T00:00:00+00:00",
          "2016-08-08T00:00:00+00:00",
          "2016-08-15T00:00:00+00:00",
          "2016-08-22T00:00:00+00:00",
          "2016-08-29T00:00:00+00:00",
          "2016-09-05T00:00:00+00:00",
          "2016-09-12T00:00:00+00:00",
          "2016-09-19T00:00:00+00:00",
          "2016-09-26T00:00:00+00:00",
          "2016-10-03T00:00:00+00:00",
          "2016-10-10T00:00:00+00:00",
          "2016-10-17T00:00:00+00:00",
          "2016-10-24T00:00:00+00:00",
          "2016-10-31T00:00:00+00:00",
          "2016-11-07T00:00:00+00:00",
          "2016-11-14T00:00:00+00:00",
          "2016-11-21T00:00:00+00:00",
          "2016-11-28T00:00:00+00:00",
          "2016-12-05T00:00:00+00:00",
          "2016-12-12T00:00:00+00:00",
          "2016-12-19T00:00:00+00:00",
          "2016-12-26T00:00:00+00:00",
          "2017-01-02T00:00:00+00:00",
          "2017-01-09T00:00:00+00:00",
          "2017-01-16T00:00:00+00:00",
          "2017-01-23T00:00:00+00:00",
          "2017-01-30T00:00:00+00:00",
          "2017-02-06T00:00:00+00:00",
          "2017-02-13T00:00:00+00:00",
          "2017-02-20T00:00:00+00:00",
          "2017-02-27T00:00:00+00:00",
          "2017-03-06T00:00:00+00:00",
          "2017-03-13T00:00:00+00:00",
          "2017-03-20T00:00:00+00:00",
          "2017-03-27T00:00:00+00:00",
          "2017-04-03T00:00:00+00:00",
          "2017-04-10T00:00:00+00:00",
          "2017-04-17T00:00:00+00:00",
          "2017-04-24T00:00:00+00:00",
          "2017-05-01T00:00:00+00:00",
          "2017-05-08T00:00:00+00:00",
          "2017-05-15T00:00:00+00:00",
          "2017-05-22T00:00:00+00:00",
          "2017-05-29T00:00:00+00:00",
          "2017-06-05T00:00:00+00:00",
          "2017-06-12T00:00:00+00:00",
          "2017-06-19T00:00:00+00:00",
          "2017-06-26T00:00:00+00:00",
          "2017-07-03T00:00:00+00:00",
          "2017-07-10T00:00:00+00:00",
          "2017-07-17T00:00:00+00:00",
          "2017-07-24T00:00:00+00:00",
          "2017-07-31T00:00:00+00:00",
          "2017-08-07T00:00:00+00:00",
          "2017-08-14T00:00:00+00:00",
          "2017-08-21T00:00:00+00:00",
          "2017-08-28T00:00:00+00:00",
          "2017-09-04T00:00:00+00:00",
          "2017-09-11T00:00:00+00:00",
          "2017-09-18T00:00:00+00:00",
          "2017-09-25T00:00:00+00:00",
          "2017-10-02T00:00:00+00:00",
          "2017-10-09T00:00:00+00:00",
          "2017-10-16T00:00:00+00:00",
          "2017-10-23T00:00:00+00:00",
          "2017-10-30T00:00:00+00:00",
          "2017-11-06T00:00:00+00:00",
          "2017-11-13T00:00:00+00:00",
          "2017-11-20T00:00:00+00:00",
          "2017-11-27T00:00:00+00:00",
          "2017-12-04T00:00:00+00:00",
          "2017-12-11T00:00:00+00:00",
          "2017-12-18T00:00:00+00:00",
          "2017-12-25T00:00:00+00:00",
          "2018-01-01T00:00:00+00:00",
          "2018-01-08T00:00:00+00:00",
          "2018-01-15T00:00:00+00:00",
          "2018-01-22T00:00:00+00:00",
          "2018-01-29T00:00:00+00:00",
          "2018-02-05T00:00:00+00:00",
          "2018-02-12T00:00:00+00:00",
          "2018-02-19T00:00:00+00:00",
          "2018-02-26T00:00:00+00:00",
          "2018-03-05T00:00:00+00:00",
          "2018-03-12T00:00:00+00:00",
          "2018-03-19T00:00:00+00:00",
          "2018-03-26T00:00:00+00:00",
          "2018-04-02T00:00:00+00:00",
          "2018-04-09T00:00:00+00:00",
          "2018-04-16T00:00:00+00:00",
          "2018-04-23T00:00:00+00:00",
          "2018-04-30T00:00:00+00:00",
          "2018-05-07T00:00:00+00:00",
          "2018-05-14T00:00:00+00:00",
          "2018-05-21T00:00:00+00:00",
          "2018-05-28T00:00:00+00:00",
          "2018-06-04T00:00:00+00:00",
          "2018-06-11T00:00:00+00:00",
          "2018-06-18T00:00:00+00:00",
          "2018-06-25T00:00:00+00:00",
          "2018-07-02T00:00:00+00:00",
          "2018-07-09T00:00:00+00:00",
          "2018-07-16T00:00:00+00:00",
          "2018-07-23T00:00:00+00:00",
          "2018-07-30T00:00:00+00:00",
          "2018-08-06T00:00:00+00:00",
          "2018-08-13T00:00:00+00:00",
          "2018-08-20T00:00:00+00:00",
          "2018-08-27T00:00:00+00:00",
          "2018-09-03T00:00:00+00:00",
          "2018-09-10T00:00:00+00:00",
          "2018-09-17T00:00:00+00:00",
          "2018-09-24T00:00:00+00:00",
          "2018-10-01T00:00:00+00:00",
          "2018-10-08T00:00:00+00:00",
          "2018-10-15T00:00:00+00:00",
          "2018-10-22T00:00:00+00:00",
          "2018-10-29T00:00:00+00:00",
          "2018-11-05T00:00:00+00:00",
          "2018-11-12T00:00:00+00:00"
         ],
         "y": [
          3,
          0,
          3.98,
          685,
          null,
          null,
          3.6,
          0,
          0,
          0,
          177.68817,
          574.287565,
          0,
          2.376,
          3112.6876595,
          2.9571,
          1453.3437461,
          2.6716,
          64.5871,
          83.08512,
          857.78447049,
          11.277708,
          38.130921,
          57.593854591,
          22.69818,
          0,
          89.87399,
          0,
          0,
          485.90273301,
          100.797114,
          1883.4284835,
          246.045468,
          528.58085807,
          0,
          40.625912491,
          4924.4195802,
          25.92034,
          99.631484,
          294.054135,
          103.724365,
          363.88953906,
          104.732221,
          6854.10574,
          29.13559,
          8641.8878458,
          1296.216652,
          0,
          990.558326,
          11860.421538,
          118.62343938,
          0,
          15.021222,
          315.53789236,
          20.079745,
          7000.336458,
          0,
          1445.54479,
          76.652893,
          0,
          249.398538,
          128.854016,
          103.970267,
          0,
          0,
          50.7347439,
          3964.8798054,
          116.5577256,
          3333.2501788,
          595.0211394,
          872.5485098,
          1666.0593726,
          2078.7020967,
          23359.736107,
          2519.8004432,
          31.0516753,
          3868.1577215,
          2991.3876864,
          891.51559998,
          567.7106445,
          464.879669,
          3643.3707553,
          2401.512504,
          162.9735344,
          681.8629,
          5836.008877,
          72.899398,
          1117.7823352,
          2200.4566429,
          58.5834432,
          2452.6766176,
          532.6390628,
          7786.8509568,
          63.321667,
          49.01209477,
          607.41451224,
          1405.6208507,
          326.8231342,
          115.8645871,
          12.787124,
          333.01863253,
          484.5959343,
          146.43772144,
          950.34565032,
          304.8283902,
          353.71124283,
          0,
          610.713446,
          3280.9878651,
          194.5914953,
          1419.1724363,
          426.4804752,
          1019.1586108,
          529.10225,
          1098.519751,
          12073.295496,
          915.5683,
          561.4741,
          0,
          1067.9892529,
          3557.3606782,
          7278.2217234,
          846.991828,
          223.322739,
          893.13876073,
          4729.5278147,
          687.67275018,
          4288.7886389,
          1553.2524223,
          8503.3040007,
          19668.275602,
          7016.7573579,
          62944.430722,
          36019.048857,
          3124.4709706,
          7869.3042322,
          5598.2297549,
          3422.4834754,
          120531.72329,
          53666.203679,
          1918.5637718,
          10458.212377,
          93953.358134,
          14450.082778,
          8937.9588088,
          122149.1369,
          15973.98132,
          1930.067243,
          4818.2994927,
          2645.5667875,
          13953.862676,
          18202.636467,
          2886.7474165,
          24104.054906,
          6889.1867347,
          45837.991333,
          54887.330781,
          50345.848468,
          480709.17733,
          74305.401704,
          113093.39454,
          37295.921695,
          13267.294304,
          104493.79985,
          925525.11937,
          36586.046401,
          4928.5270734,
          211008.88397,
          87208.566778,
          36682.332045,
          123643.5173,
          34429.680633,
          39557.034223,
          23507.276615,
          19877.284545,
          26141.117598,
          3490.7285443,
          33594.449679,
          19984.185402,
          9436.0143035,
          14531.336789,
          6339.6166456,
          1048.6248583,
          3060.9346155,
          5048.6920782,
          9423.0832594,
          19042.373895,
          248.79531768,
          3782.3479587,
          3747.8441078,
          19015.199498,
          37756.192917,
          7239.87071,
          2748.5131013,
          32126.045234,
          48809.549588,
          13637.826986,
          64561.684577,
          4978.4148194,
          3274.8514832,
          46726.269663,
          1269.3327384,
          1426.2120415,
          26424.400582,
          758.95184926,
          9116.3803926,
          2053.3003338
         ]
        },
        {
         "mode": "lines",
         "name": "Weighted Average",
         "type": "scatter",
         "x": [
          "2014-12-01T00:00:00+00:00",
          "2014-12-08T00:00:00+00:00",
          "2014-12-15T00:00:00+00:00",
          "2014-12-22T00:00:00+00:00",
          "2014-12-29T00:00:00+00:00",
          "2015-01-05T00:00:00+00:00",
          "2015-01-12T00:00:00+00:00",
          "2015-01-19T00:00:00+00:00",
          "2015-01-26T00:00:00+00:00",
          "2015-02-02T00:00:00+00:00",
          "2015-02-09T00:00:00+00:00",
          "2015-02-16T00:00:00+00:00",
          "2015-02-23T00:00:00+00:00",
          "2015-03-02T00:00:00+00:00",
          "2015-03-09T00:00:00+00:00",
          "2015-03-16T00:00:00+00:00",
          "2015-03-23T00:00:00+00:00",
          "2015-03-30T00:00:00+00:00",
          "2015-04-06T00:00:00+00:00",
          "2015-04-13T00:00:00+00:00",
          "2015-04-20T00:00:00+00:00",
          "2015-04-27T00:00:00+00:00",
          "2015-05-04T00:00:00+00:00",
          "2015-05-11T00:00:00+00:00",
          "2015-05-18T00:00:00+00:00",
          "2015-05-25T00:00:00+00:00",
          "2015-06-01T00:00:00+00:00",
          "2015-06-08T00:00:00+00:00",
          "2015-06-15T00:00:00+00:00",
          "2015-06-22T00:00:00+00:00",
          "2015-06-29T00:00:00+00:00",
          "2015-07-06T00:00:00+00:00",
          "2015-07-13T00:00:00+00:00",
          "2015-07-20T00:00:00+00:00",
          "2015-07-27T00:00:00+00:00",
          "2015-08-03T00:00:00+00:00",
          "2015-08-10T00:00:00+00:00",
          "2015-08-17T00:00:00+00:00",
          "2015-08-24T00:00:00+00:00",
          "2015-08-31T00:00:00+00:00",
          "2015-09-07T00:00:00+00:00",
          "2015-09-14T00:00:00+00:00",
          "2015-09-21T00:00:00+00:00",
          "2015-09-28T00:00:00+00:00",
          "2015-10-05T00:00:00+00:00",
          "2015-10-12T00:00:00+00:00",
          "2015-10-19T00:00:00+00:00",
          "2015-10-26T00:00:00+00:00",
          "2015-11-02T00:00:00+00:00",
          "2015-11-09T00:00:00+00:00",
          "2015-11-16T00:00:00+00:00",
          "2015-11-23T00:00:00+00:00",
          "2015-11-30T00:00:00+00:00",
          "2015-12-07T00:00:00+00:00",
          "2015-12-14T00:00:00+00:00",
          "2015-12-21T00:00:00+00:00",
          "2015-12-28T00:00:00+00:00",
          "2016-01-04T00:00:00+00:00",
          "2016-01-11T00:00:00+00:00",
          "2016-01-18T00:00:00+00:00",
          "2016-01-25T00:00:00+00:00",
          "2016-02-01T00:00:00+00:00",
          "2016-02-08T00:00:00+00:00",
          "2016-02-15T00:00:00+00:00",
          "2016-02-22T00:00:00+00:00",
          "2016-02-29T00:00:00+00:00",
          "2016-03-07T00:00:00+00:00",
          "2016-03-14T00:00:00+00:00",
          "2016-03-21T00:00:00+00:00",
          "2016-03-28T00:00:00+00:00",
          "2016-04-04T00:00:00+00:00",
          "2016-04-11T00:00:00+00:00",
          "2016-04-18T00:00:00+00:00",
          "2016-04-25T00:00:00+00:00",
          "2016-05-02T00:00:00+00:00",
          "2016-05-09T00:00:00+00:00",
          "2016-05-16T00:00:00+00:00",
          "2016-05-23T00:00:00+00:00",
          "2016-05-30T00:00:00+00:00",
          "2016-06-06T00:00:00+00:00",
          "2016-06-13T00:00:00+00:00",
          "2016-06-20T00:00:00+00:00",
          "2016-06-27T00:00:00+00:00",
          "2016-07-04T00:00:00+00:00",
          "2016-07-11T00:00:00+00:00",
          "2016-07-18T00:00:00+00:00",
          "2016-07-25T00:00:00+00:00",
          "2016-08-01T00:00:00+00:00",
          "2016-08-08T00:00:00+00:00",
          "2016-08-15T00:00:00+00:00",
          "2016-08-22T00:00:00+00:00",
          "2016-08-29T00:00:00+00:00",
          "2016-09-05T00:00:00+00:00",
          "2016-09-12T00:00:00+00:00",
          "2016-09-19T00:00:00+00:00",
          "2016-09-26T00:00:00+00:00",
          "2016-10-03T00:00:00+00:00",
          "2016-10-10T00:00:00+00:00",
          "2016-10-17T00:00:00+00:00",
          "2016-10-24T00:00:00+00:00",
          "2016-10-31T00:00:00+00:00",
          "2016-11-07T00:00:00+00:00",
          "2016-11-14T00:00:00+00:00",
          "2016-11-21T00:00:00+00:00",
          "2016-11-28T00:00:00+00:00",
          "2016-12-05T00:00:00+00:00",
          "2016-12-12T00:00:00+00:00",
          "2016-12-19T00:00:00+00:00",
          "2016-12-26T00:00:00+00:00",
          "2017-01-02T00:00:00+00:00",
          "2017-01-09T00:00:00+00:00",
          "2017-01-16T00:00:00+00:00",
          "2017-01-23T00:00:00+00:00",
          "2017-01-30T00:00:00+00:00",
          "2017-02-06T00:00:00+00:00",
          "2017-02-13T00:00:00+00:00",
          "2017-02-20T00:00:00+00:00",
          "2017-02-27T00:00:00+00:00",
          "2017-03-06T00:00:00+00:00",
          "2017-03-13T00:00:00+00:00",
          "2017-03-20T00:00:00+00:00",
          "2017-03-27T00:00:00+00:00",
          "2017-04-03T00:00:00+00:00",
          "2017-04-10T00:00:00+00:00",
          "2017-04-17T00:00:00+00:00",
          "2017-04-24T00:00:00+00:00",
          "2017-05-01T00:00:00+00:00",
          "2017-05-08T00:00:00+00:00",
          "2017-05-15T00:00:00+00:00",
          "2017-05-22T00:00:00+00:00",
          "2017-05-29T00:00:00+00:00",
          "2017-06-05T00:00:00+00:00",
          "2017-06-12T00:00:00+00:00",
          "2017-06-19T00:00:00+00:00",
          "2017-06-26T00:00:00+00:00",
          "2017-07-03T00:00:00+00:00",
          "2017-07-10T00:00:00+00:00",
          "2017-07-17T00:00:00+00:00",
          "2017-07-24T00:00:00+00:00",
          "2017-07-31T00:00:00+00:00",
          "2017-08-07T00:00:00+00:00",
          "2017-08-14T00:00:00+00:00",
          "2017-08-21T00:00:00+00:00",
          "2017-08-28T00:00:00+00:00",
          "2017-09-04T00:00:00+00:00",
          "2017-09-11T00:00:00+00:00",
          "2017-09-18T00:00:00+00:00",
          "2017-09-25T00:00:00+00:00",
          "2017-10-02T00:00:00+00:00",
          "2017-10-09T00:00:00+00:00",
          "2017-10-16T00:00:00+00:00",
          "2017-10-23T00:00:00+00:00",
          "2017-10-30T00:00:00+00:00",
          "2017-11-06T00:00:00+00:00",
          "2017-11-13T00:00:00+00:00",
          "2017-11-20T00:00:00+00:00",
          "2017-11-27T00:00:00+00:00",
          "2017-12-04T00:00:00+00:00",
          "2017-12-11T00:00:00+00:00",
          "2017-12-18T00:00:00+00:00",
          "2017-12-25T00:00:00+00:00",
          "2018-01-01T00:00:00+00:00",
          "2018-01-08T00:00:00+00:00",
          "2018-01-15T00:00:00+00:00",
          "2018-01-22T00:00:00+00:00",
          "2018-01-29T00:00:00+00:00",
          "2018-02-05T00:00:00+00:00",
          "2018-02-12T00:00:00+00:00",
          "2018-02-19T00:00:00+00:00",
          "2018-02-26T00:00:00+00:00",
          "2018-03-05T00:00:00+00:00",
          "2018-03-12T00:00:00+00:00",
          "2018-03-19T00:00:00+00:00",
          "2018-03-26T00:00:00+00:00",
          "2018-04-02T00:00:00+00:00",
          "2018-04-09T00:00:00+00:00",
          "2018-04-16T00:00:00+00:00",
          "2018-04-23T00:00:00+00:00",
          "2018-04-30T00:00:00+00:00",
          "2018-05-07T00:00:00+00:00",
          "2018-05-14T00:00:00+00:00",
          "2018-05-21T00:00:00+00:00",
          "2018-05-28T00:00:00+00:00",
          "2018-06-04T00:00:00+00:00",
          "2018-06-11T00:00:00+00:00",
          "2018-06-18T00:00:00+00:00",
          "2018-06-25T00:00:00+00:00",
          "2018-07-02T00:00:00+00:00",
          "2018-07-09T00:00:00+00:00",
          "2018-07-16T00:00:00+00:00",
          "2018-07-23T00:00:00+00:00",
          "2018-07-30T00:00:00+00:00",
          "2018-08-06T00:00:00+00:00",
          "2018-08-13T00:00:00+00:00",
          "2018-08-20T00:00:00+00:00",
          "2018-08-27T00:00:00+00:00",
          "2018-09-03T00:00:00+00:00",
          "2018-09-10T00:00:00+00:00",
          "2018-09-17T00:00:00+00:00",
          "2018-09-24T00:00:00+00:00",
          "2018-10-01T00:00:00+00:00",
          "2018-10-08T00:00:00+00:00",
          "2018-10-15T00:00:00+00:00",
          "2018-10-22T00:00:00+00:00",
          "2018-10-29T00:00:00+00:00",
          "2018-11-05T00:00:00+00:00",
          "2018-11-12T00:00:00+00:00"
         ],
         "y": [
          300,
          377.984375,
          398,
          342.5,
          null,
          null,
          360,
          200,
          215,
          259,
          238.69985223,
          217.53316856,
          236.99959188,
          237.6,
          276.35464123,
          295.71,
          292.62650776,
          267.16,
          248.41192308,
          254.55,
          219.48320224,
          226.46,
          224.43155386,
          235.55768749,
          241.47,
          234.40259992,
          237.0094673,
          223.73,
          228.46619761,
          238.81978424,
          245.01,
          266.46800016,
          267.20837098,
          287.60044511,
          279.48685998,
          297.18298432,
          283.12196321,
          267.22,
          255.20359631,
          210.09869606,
          229.73281285,
          243.71411095,
          231.75972782,
          227.08647773,
          240.79,
          241.27287881,
          246.87960003,
          266.74613538,
          290.53743357,
          374.99633358,
          381.4411568,
          335.36,
          322.34381974,
          378.00433315,
          392.95,
          459.55979295,
          440.43,
          423.02024757,
          433.80245048,
          447.60272323,
          382.6304664,
          393.13526971,
          373.59061085,
          370.40243955,
          400.54869118,
          434.41,
          431.31728241,
          414.03,
          414.63337975,
          415.93,
          423.24261479,
          422.46955148,
          425.48099578,
          432.44522098,
          468.32,
          446.97963581,
          461.7,
          455.88885837,
          446.32820744,
          534.15,
          586.34,
          689.539998,
          705.67549498,
          654.19691073,
          675.11178218,
          650.11912635,
          675.62,
          646.38597289,
          602.40766402,
          588.66,
          567.52325871,
          585.91,
          575.67285204,
          606.82,
          608.09050583,
          609.3522524,
          606.27816953,
          610.49638398,
          630.31545588,
          638.08003992,
          652.84,
          711.70957761,
          704.79051044,
          710.54942902,
          737.04818947,
          730.70954109,
          756.16,
          779.17,
          790.3628871,
          911.77722472,
          1019.593675,
          904.02,
          891.16113673,
          917.94283484,
          934.99,
          1047.32,
          1006.119011,
          1093,
          1192.3252271,
          1279.1822409,
          1234.3375011,
          1085.0273592,
          1039.5088709,
          1155.3168081,
          1208.8849236,
          1197.151099,
          1266.9933912,
          1448.5104276,
          1705.9998902,
          1717.6309944,
          2170.7581926,
          2295.4320294,
          2838.9337076,
          2751.1454781,
          2624.4696167,
          2403.8215186,
          2625.8608786,
          2280.992064,
          2248.4767014,
          2688.1529008,
          2871.8226988,
          3440.2924265,
          4257.2787975,
          3813.9642255,
          4371.238212,
          4347.2552488,
          4357.4743568,
          3964.9219003,
          3890.4032307,
          4292.0085039,
          4836.9400224,
          5663.2237449,
          5731.1137057,
          6109.1199493,
          7187.0080097,
          6583.5416932,
          8150.6596076,
          9925.005867,
          11790.279713,
          16918.166229,
          18845.477505,
          15444.007832,
          13423.336972,
          15148.857014,
          12655.503663,
          10287.617676,
          10985.777778,
          5929.1809539,
          8616.8060392,
          11537.017618,
          10604.000548,
          11268.737091,
          9348.0095948,
          8483.545587,
          7977.8681947,
          7338.5312744,
          6709.38663,
          8012.0263402,
          9233.5655836,
          8973.1774516,
          9324.7098389,
          8739.9158442,
          8318.3138284,
          7096.5926135,
          7425.1645544,
          6839.1145146,
          6685.4084837,
          6236.5172928,
          6640.2559516,
          6602.8956413,
          6674.0316802,
          7979.9965523,
          8122.4838474,
          6949.1737838,
          5973.4469323,
          6385.9933565,
          6910.0057144,
          7284.9905859,
          6330.005347,
          6268.4935803,
          6415.4034564,
          6559.3096228,
          6594.6720084,
          6449.4151674,
          6399.9965701,
          6278.4061006,
          6398.5699644
         ]
        }
       ],
       "layout": {
        "template": {
         "data": {
          "bar": [
           {
            "error_x": {
             "color": "#2a3f5f"
            },
            "error_y": {
             "color": "#2a3f5f"
            },
            "marker": {
             "line": {
              "color": "#E5ECF6",
              "width": 0.5
             },
             "pattern": {
              "fillmode": "overlay",
              "size": 10,
              "solidity": 0.2
             }
            },
            "type": "bar"
           }
          ],
          "barpolar": [
           {
            "marker": {
             "line": {
              "color": "#E5ECF6",
              "width": 0.5
             },
             "pattern": {
              "fillmode": "overlay",
              "size": 10,
              "solidity": 0.2
             }
            },
            "type": "barpolar"
           }
          ],
          "carpet": [
           {
            "aaxis": {
             "endlinecolor": "#2a3f5f",
             "gridcolor": "white",
             "linecolor": "white",
             "minorgridcolor": "white",
             "startlinecolor": "#2a3f5f"
            },
            "baxis": {
             "endlinecolor": "#2a3f5f",
             "gridcolor": "white",
             "linecolor": "white",
             "minorgridcolor": "white",
             "startlinecolor": "#2a3f5f"
            },
            "type": "carpet"
           }
          ],
          "choropleth": [
           {
            "colorbar": {
             "outlinewidth": 0,
             "ticks": ""
            },
            "type": "choropleth"
           }
          ],
          "contour": [
           {
            "colorbar": {
             "outlinewidth": 0,
             "ticks": ""
            },
            "colorscale": [
             [
              0,
              "#0d0887"
             ],
             [
              0.1111111111111111,
              "#46039f"
             ],
             [
              0.2222222222222222,
              "#7201a8"
             ],
             [
              0.3333333333333333,
              "#9c179e"
             ],
             [
              0.4444444444444444,
              "#bd3786"
             ],
             [
              0.5555555555555556,
              "#d8576b"
             ],
             [
              0.6666666666666666,
              "#ed7953"
             ],
             [
              0.7777777777777778,
              "#fb9f3a"
             ],
             [
              0.8888888888888888,
              "#fdca26"
             ],
             [
              1,
              "#f0f921"
             ]
            ],
            "type": "contour"
           }
          ],
          "contourcarpet": [
           {
            "colorbar": {
             "outlinewidth": 0,
             "ticks": ""
            },
            "type": "contourcarpet"
           }
          ],
          "heatmap": [
           {
            "colorbar": {
             "outlinewidth": 0,
             "ticks": ""
            },
            "colorscale": [
             [
              0,
              "#0d0887"
             ],
             [
              0.1111111111111111,
              "#46039f"
             ],
             [
              0.2222222222222222,
              "#7201a8"
             ],
             [
              0.3333333333333333,
              "#9c179e"
             ],
             [
              0.4444444444444444,
              "#bd3786"
             ],
             [
              0.5555555555555556,
              "#d8576b"
             ],
             [
              0.6666666666666666,
              "#ed7953"
             ],
             [
              0.7777777777777778,
              "#fb9f3a"
             ],
             [
              0.8888888888888888,
              "#fdca26"
             ],
             [
              1,
              "#f0f921"
             ]
            ],
            "type": "heatmap"
           }
          ],
          "heatmapgl": [
           {
            "colorbar": {
             "outlinewidth": 0,
             "ticks": ""
            },
            "colorscale": [
             [
              0,
              "#0d0887"
             ],
             [
              0.1111111111111111,
              "#46039f"
             ],
             [
              0.2222222222222222,
              "#7201a8"
             ],
             [
              0.3333333333333333,
              "#9c179e"
             ],
             [
              0.4444444444444444,
              "#bd3786"
             ],
             [
              0.5555555555555556,
              "#d8576b"
             ],
             [
              0.6666666666666666,
              "#ed7953"
             ],
             [
              0.7777777777777778,
              "#fb9f3a"
             ],
             [
              0.8888888888888888,
              "#fdca26"
             ],
             [
              1,
              "#f0f921"
             ]
            ],
            "type": "heatmapgl"
           }
          ],
          "histogram": [
           {
            "marker": {
             "pattern": {
              "fillmode": "overlay",
              "size": 10,
              "solidity": 0.2
             }
            },
            "type": "histogram"
           }
          ],
          "histogram2d": [
           {
            "colorbar": {
             "outlinewidth": 0,
             "ticks": ""
            },
            "colorscale": [
             [
              0,
              "#0d0887"
             ],
             [
              0.1111111111111111,
              "#46039f"
             ],
             [
              0.2222222222222222,
              "#7201a8"
             ],
             [
              0.3333333333333333,
              "#9c179e"
             ],
             [
              0.4444444444444444,
              "#bd3786"
             ],
             [
              0.5555555555555556,
              "#d8576b"
             ],
             [
              0.6666666666666666,
              "#ed7953"
             ],
             [
              0.7777777777777778,
              "#fb9f3a"
             ],
             [
              0.8888888888888888,
              "#fdca26"
             ],
             [
              1,
              "#f0f921"
             ]
            ],
            "type": "histogram2d"
           }
          ],
          "histogram2dcontour": [
           {
            "colorbar": {
             "outlinewidth": 0,
             "ticks": ""
            },
            "colorscale": [
             [
              0,
              "#0d0887"
             ],
             [
              0.1111111111111111,
              "#46039f"
             ],
             [
              0.2222222222222222,
              "#7201a8"
             ],
             [
              0.3333333333333333,
              "#9c179e"
             ],
             [
              0.4444444444444444,
              "#bd3786"
             ],
             [
              0.5555555555555556,
              "#d8576b"
             ],
             [
              0.6666666666666666,
              "#ed7953"
             ],
             [
              0.7777777777777778,
              "#fb9f3a"
             ],
             [
              0.8888888888888888,
              "#fdca26"
             ],
             [
              1,
              "#f0f921"
             ]
            ],
            "type": "histogram2dcontour"
           }
          ],
          "mesh3d": [
           {
            "colorbar": {
             "outlinewidth": 0,
             "ticks": ""
            },
            "type": "mesh3d"
           }
          ],
          "parcoords": [
           {
            "line": {
             "colorbar": {
              "outlinewidth": 0,
              "ticks": ""
             }
            },
            "type": "parcoords"
           }
          ],
          "pie": [
           {
            "automargin": true,
            "type": "pie"
           }
          ],
          "scatter": [
           {
            "fillpattern": {
             "fillmode": "overlay",
             "size": 10,
             "solidity": 0.2
            },
            "type": "scatter"
           }
          ],
          "scatter3d": [
           {
            "line": {
             "colorbar": {
              "outlinewidth": 0,
              "ticks": ""
             }
            },
            "marker": {
             "colorbar": {
              "outlinewidth": 0,
              "ticks": ""
             }
            },
            "type": "scatter3d"
           }
          ],
          "scattercarpet": [
           {
            "marker": {
             "colorbar": {
              "outlinewidth": 0,
              "ticks": ""
             }
            },
            "type": "scattercarpet"
           }
          ],
          "scattergeo": [
           {
            "marker": {
             "colorbar": {
              "outlinewidth": 0,
              "ticks": ""
             }
            },
            "type": "scattergeo"
           }
          ],
          "scattergl": [
           {
            "marker": {
             "colorbar": {
              "outlinewidth": 0,
              "ticks": ""
             }
            },
            "type": "scattergl"
           }
          ],
          "scattermapbox": [
           {
            "marker": {
             "colorbar": {
              "outlinewidth": 0,
              "ticks": ""
             }
            },
            "type": "scattermapbox"
           }
          ],
          "scatterpolar": [
           {
            "marker": {
             "colorbar": {
              "outlinewidth": 0,
              "ticks": ""
             }
            },
            "type": "scatterpolar"
           }
          ],
          "scatterpolargl": [
           {
            "marker": {
             "colorbar": {
              "outlinewidth": 0,
              "ticks": ""
             }
            },
            "type": "scatterpolargl"
           }
          ],
          "scatterternary": [
           {
            "marker": {
             "colorbar": {
              "outlinewidth": 0,
              "ticks": ""
             }
            },
            "type": "scatterternary"
           }
          ],
          "surface": [
           {
            "colorbar": {
             "outlinewidth": 0,
             "ticks": ""
            },
            "colorscale": [
             [
              0,
              "#0d0887"
             ],
             [
              0.1111111111111111,
              "#46039f"
             ],
             [
              0.2222222222222222,
              "#7201a8"
             ],
             [
              0.3333333333333333,
              "#9c179e"
             ],
             [
              0.4444444444444444,
              "#bd3786"
             ],
             [
              0.5555555555555556,
              "#d8576b"
             ],
             [
              0.6666666666666666,
              "#ed7953"
             ],
             [
              0.7777777777777778,
              "#fb9f3a"
             ],
             [
              0.8888888888888888,
              "#fdca26"
             ],
             [
              1,
              "#f0f921"
             ]
            ],
            "type": "surface"
           }
          ],
          "table": [
           {
            "cells": {
             "fill": {
              "color": "#EBF0F8"
             },
             "line": {
              "color": "white"
             }
            },
            "header": {
             "fill": {
              "color": "#C8D4E3"
             },
             "line": {
              "color": "white"
             }
            },
            "type": "table"
           }
          ]
         },
         "layout": {
          "annotationdefaults": {
           "arrowcolor": "#2a3f5f",
           "arrowhead": 0,
           "arrowwidth": 1
          },
          "autotypenumbers": "strict",
          "coloraxis": {
           "colorbar": {
            "outlinewidth": 0,
            "ticks": ""
           }
          },
          "colorscale": {
           "diverging": [
            [
             0,
             "#8e0152"
            ],
            [
             0.1,
             "#c51b7d"
            ],
            [
             0.2,
             "#de77ae"
            ],
            [
             0.3,
             "#f1b6da"
            ],
            [
             0.4,
             "#fde0ef"
            ],
            [
             0.5,
             "#f7f7f7"
            ],
            [
             0.6,
             "#e6f5d0"
            ],
            [
             0.7,
             "#b8e186"
            ],
            [
             0.8,
             "#7fbc41"
            ],
            [
             0.9,
             "#4d9221"
            ],
            [
             1,
             "#276419"
            ]
           ],
           "sequential": [
            [
             0,
             "#0d0887"
            ],
            [
             0.1111111111111111,
             "#46039f"
            ],
            [
             0.2222222222222222,
             "#7201a8"
            ],
            [
             0.3333333333333333,
             "#9c179e"
            ],
            [
             0.4444444444444444,
             "#bd3786"
            ],
            [
             0.5555555555555556,
             "#d8576b"
            ],
            [
             0.6666666666666666,
             "#ed7953"
            ],
            [
             0.7777777777777778,
             "#fb9f3a"
            ],
            [
             0.8888888888888888,
             "#fdca26"
            ],
            [
             1,
             "#f0f921"
            ]
           ],
           "sequentialminus": [
            [
             0,
             "#0d0887"
            ],
            [
             0.1111111111111111,
             "#46039f"
            ],
            [
             0.2222222222222222,
             "#7201a8"
            ],
            [
             0.3333333333333333,
             "#9c179e"
            ],
            [
             0.4444444444444444,
             "#bd3786"
            ],
            [
             0.5555555555555556,
             "#d8576b"
            ],
            [
             0.6666666666666666,
             "#ed7953"
            ],
            [
             0.7777777777777778,
             "#fb9f3a"
            ],
            [
             0.8888888888888888,
             "#fdca26"
            ],
            [
             1,
             "#f0f921"
            ]
           ]
          },
          "colorway": [
           "#636efa",
           "#EF553B",
           "#00cc96",
           "#ab63fa",
           "#FFA15A",
           "#19d3f3",
           "#FF6692",
           "#B6E880",
           "#FF97FF",
           "#FECB52"
          ],
          "font": {
           "color": "#2a3f5f"
          },
          "geo": {
           "bgcolor": "white",
           "lakecolor": "white",
           "landcolor": "#E5ECF6",
           "showlakes": true,
           "showland": true,
           "subunitcolor": "white"
          },
          "hoverlabel": {
           "align": "left"
          },
          "hovermode": "closest",
          "mapbox": {
           "style": "light"
          },
          "paper_bgcolor": "white",
          "plot_bgcolor": "#E5ECF6",
          "polar": {
           "angularaxis": {
            "gridcolor": "white",
            "linecolor": "white",
            "ticks": ""
           },
           "bgcolor": "#E5ECF6",
           "radialaxis": {
            "gridcolor": "white",
            "linecolor": "white",
            "ticks": ""
           }
          },
          "scene": {
           "xaxis": {
            "backgroundcolor": "#E5ECF6",
            "gridcolor": "white",
            "gridwidth": 2,
            "linecolor": "white",
            "showbackground": true,
            "ticks": "",
            "zerolinecolor": "white"
           },
           "yaxis": {
            "backgroundcolor": "#E5ECF6",
            "gridcolor": "white",
            "gridwidth": 2,
            "linecolor": "white",
            "showbackground": true,
            "ticks": "",
            "zerolinecolor": "white"
           },
           "zaxis": {
            "backgroundcolor": "#E5ECF6",
            "gridcolor": "white",
            "gridwidth": 2,
            "linecolor": "white",
            "showbackground": true,
            "ticks": "",
            "zerolinecolor": "white"
           }
          },
          "shapedefaults": {
           "line": {
            "color": "#2a3f5f"
           }
          },
          "ternary": {
           "aaxis": {
            "gridcolor": "white",
            "linecolor": "white",
            "ticks": ""
           },
           "baxis": {
            "gridcolor": "white",
            "linecolor": "white",
            "ticks": ""
           },
           "bgcolor": "#E5ECF6",
           "caxis": {
            "gridcolor": "white",
            "linecolor": "white",
            "ticks": ""
           }
          },
          "title": {
           "x": 0.05
          },
          "xaxis": {
           "automargin": true,
           "gridcolor": "white",
           "linecolor": "white",
           "ticks": "",
           "title": {
            "standoff": 15
           },
           "zerolinecolor": "white",
           "zerolinewidth": 2
          },
          "yaxis": {
           "automargin": true,
           "gridcolor": "white",
           "linecolor": "white",
           "ticks": "",
           "title": {
            "standoff": 15
           },
           "zerolinecolor": "white",
           "zerolinewidth": 2
          }
         }
        },
        "title": {
         "text": "Historical Bitcoin USD and BTC (2014/12/30-2018/11/12) with the Slider "
        },
        "xaxis": {
         "rangeselector": {
          "buttons": [
           {
            "count": 1,
            "label": "1m",
            "step": "month",
            "stepmode": "backward"
           },
           {
            "count": 6,
            "label": "6m",
            "step": "month",
            "stepmode": "backward"
           },
           {
            "count": 12,
            "label": "1y",
            "step": "month",
            "stepmode": "backward"
           },
           {
            "count": 36,
            "label": "3y",
            "step": "month",
            "stepmode": "backward"
           },
           {
            "step": "all"
           }
          ]
         },
         "rangeslider": {
          "visible": true
         },
         "type": "date"
        }
       }
      },
      "text/html": [
       "<div>                            <div id=\"0edddae9-6f42-47a3-b1c3-46b1b2416d37\" class=\"plotly-graph-div\" style=\"height:525px; width:100%;\"></div>            <script type=\"text/javascript\">                require([\"plotly\"], function(Plotly) {                    window.PLOTLYENV=window.PLOTLYENV || {};                                    if (document.getElementById(\"0edddae9-6f42-47a3-b1c3-46b1b2416d37\")) {                    Plotly.newPlot(                        \"0edddae9-6f42-47a3-b1c3-46b1b2416d37\",                        [{\"mode\":\"lines\",\"name\":\"Volume_(BTC)\",\"x\":[\"2014-12-01T00:00:00+00:00\",\"2014-12-08T00:00:00+00:00\",\"2014-12-15T00:00:00+00:00\",\"2014-12-22T00:00:00+00:00\",\"2014-12-29T00:00:00+00:00\",\"2015-01-05T00:00:00+00:00\",\"2015-01-12T00:00:00+00:00\",\"2015-01-19T00:00:00+00:00\",\"2015-01-26T00:00:00+00:00\",\"2015-02-02T00:00:00+00:00\",\"2015-02-09T00:00:00+00:00\",\"2015-02-16T00:00:00+00:00\",\"2015-02-23T00:00:00+00:00\",\"2015-03-02T00:00:00+00:00\",\"2015-03-09T00:00:00+00:00\",\"2015-03-16T00:00:00+00:00\",\"2015-03-23T00:00:00+00:00\",\"2015-03-30T00:00:00+00:00\",\"2015-04-06T00:00:00+00:00\",\"2015-04-13T00:00:00+00:00\",\"2015-04-20T00:00:00+00:00\",\"2015-04-27T00:00:00+00:00\",\"2015-05-04T00:00:00+00:00\",\"2015-05-11T00:00:00+00:00\",\"2015-05-18T00:00:00+00:00\",\"2015-05-25T00:00:00+00:00\",\"2015-06-01T00:00:00+00:00\",\"2015-06-08T00:00:00+00:00\",\"2015-06-15T00:00:00+00:00\",\"2015-06-22T00:00:00+00:00\",\"2015-06-29T00:00:00+00:00\",\"2015-07-06T00:00:00+00:00\",\"2015-07-13T00:00:00+00:00\",\"2015-07-20T00:00:00+00:00\",\"2015-07-27T00:00:00+00:00\",\"2015-08-03T00:00:00+00:00\",\"2015-08-10T00:00:00+00:00\",\"2015-08-17T00:00:00+00:00\",\"2015-08-24T00:00:00+00:00\",\"2015-08-31T00:00:00+00:00\",\"2015-09-07T00:00:00+00:00\",\"2015-09-14T00:00:00+00:00\",\"2015-09-21T00:00:00+00:00\",\"2015-09-28T00:00:00+00:00\",\"2015-10-05T00:00:00+00:00\",\"2015-10-12T00:00:00+00:00\",\"2015-10-19T00:00:00+00:00\",\"2015-10-26T00:00:00+00:00\",\"2015-11-02T00:00:00+00:00\",\"2015-11-09T00:00:00+00:00\",\"2015-11-16T00:00:00+00:00\",\"2015-11-23T00:00:00+00:00\",\"2015-11-30T00:00:00+00:00\",\"2015-12-07T00:00:00+00:00\",\"2015-12-14T00:00:00+00:00\",\"2015-12-21T00:00:00+00:00\",\"2015-12-28T00:00:00+00:00\",\"2016-01-04T00:00:00+00:00\",\"2016-01-11T00:00:00+00:00\",\"2016-01-18T00:00:00+00:00\",\"2016-01-25T00:00:00+00:00\",\"2016-02-01T00:00:00+00:00\",\"2016-02-08T00:00:00+00:00\",\"2016-02-15T00:00:00+00:00\",\"2016-02-22T00:00:00+00:00\",\"2016-02-29T00:00:00+00:00\",\"2016-03-07T00:00:00+00:00\",\"2016-03-14T00:00:00+00:00\",\"2016-03-21T00:00:00+00:00\",\"2016-03-28T00:00:00+00:00\",\"2016-04-04T00:00:00+00:00\",\"2016-04-11T00:00:00+00:00\",\"2016-04-18T00:00:00+00:00\",\"2016-04-25T00:00:00+00:00\",\"2016-05-02T00:00:00+00:00\",\"2016-05-09T00:00:00+00:00\",\"2016-05-16T00:00:00+00:00\",\"2016-05-23T00:00:00+00:00\",\"2016-05-30T00:00:00+00:00\",\"2016-06-06T00:00:00+00:00\",\"2016-06-13T00:00:00+00:00\",\"2016-06-20T00:00:00+00:00\",\"2016-06-27T00:00:00+00:00\",\"2016-07-04T00:00:00+00:00\",\"2016-07-11T00:00:00+00:00\",\"2016-07-18T00:00:00+00:00\",\"2016-07-25T00:00:00+00:00\",\"2016-08-01T00:00:00+00:00\",\"2016-08-08T00:00:00+00:00\",\"2016-08-15T00:00:00+00:00\",\"2016-08-22T00:00:00+00:00\",\"2016-08-29T00:00:00+00:00\",\"2016-09-05T00:00:00+00:00\",\"2016-09-12T00:00:00+00:00\",\"2016-09-19T00:00:00+00:00\",\"2016-09-26T00:00:00+00:00\",\"2016-10-03T00:00:00+00:00\",\"2016-10-10T00:00:00+00:00\",\"2016-10-17T00:00:00+00:00\",\"2016-10-24T00:00:00+00:00\",\"2016-10-31T00:00:00+00:00\",\"2016-11-07T00:00:00+00:00\",\"2016-11-14T00:00:00+00:00\",\"2016-11-21T00:00:00+00:00\",\"2016-11-28T00:00:00+00:00\",\"2016-12-05T00:00:00+00:00\",\"2016-12-12T00:00:00+00:00\",\"2016-12-19T00:00:00+00:00\",\"2016-12-26T00:00:00+00:00\",\"2017-01-02T00:00:00+00:00\",\"2017-01-09T00:00:00+00:00\",\"2017-01-16T00:00:00+00:00\",\"2017-01-23T00:00:00+00:00\",\"2017-01-30T00:00:00+00:00\",\"2017-02-06T00:00:00+00:00\",\"2017-02-13T00:00:00+00:00\",\"2017-02-20T00:00:00+00:00\",\"2017-02-27T00:00:00+00:00\",\"2017-03-06T00:00:00+00:00\",\"2017-03-13T00:00:00+00:00\",\"2017-03-20T00:00:00+00:00\",\"2017-03-27T00:00:00+00:00\",\"2017-04-03T00:00:00+00:00\",\"2017-04-10T00:00:00+00:00\",\"2017-04-17T00:00:00+00:00\",\"2017-04-24T00:00:00+00:00\",\"2017-05-01T00:00:00+00:00\",\"2017-05-08T00:00:00+00:00\",\"2017-05-15T00:00:00+00:00\",\"2017-05-22T00:00:00+00:00\",\"2017-05-29T00:00:00+00:00\",\"2017-06-05T00:00:00+00:00\",\"2017-06-12T00:00:00+00:00\",\"2017-06-19T00:00:00+00:00\",\"2017-06-26T00:00:00+00:00\",\"2017-07-03T00:00:00+00:00\",\"2017-07-10T00:00:00+00:00\",\"2017-07-17T00:00:00+00:00\",\"2017-07-24T00:00:00+00:00\",\"2017-07-31T00:00:00+00:00\",\"2017-08-07T00:00:00+00:00\",\"2017-08-14T00:00:00+00:00\",\"2017-08-21T00:00:00+00:00\",\"2017-08-28T00:00:00+00:00\",\"2017-09-04T00:00:00+00:00\",\"2017-09-11T00:00:00+00:00\",\"2017-09-18T00:00:00+00:00\",\"2017-09-25T00:00:00+00:00\",\"2017-10-02T00:00:00+00:00\",\"2017-10-09T00:00:00+00:00\",\"2017-10-16T00:00:00+00:00\",\"2017-10-23T00:00:00+00:00\",\"2017-10-30T00:00:00+00:00\",\"2017-11-06T00:00:00+00:00\",\"2017-11-13T00:00:00+00:00\",\"2017-11-20T00:00:00+00:00\",\"2017-11-27T00:00:00+00:00\",\"2017-12-04T00:00:00+00:00\",\"2017-12-11T00:00:00+00:00\",\"2017-12-18T00:00:00+00:00\",\"2017-12-25T00:00:00+00:00\",\"2018-01-01T00:00:00+00:00\",\"2018-01-08T00:00:00+00:00\",\"2018-01-15T00:00:00+00:00\",\"2018-01-22T00:00:00+00:00\",\"2018-01-29T00:00:00+00:00\",\"2018-02-05T00:00:00+00:00\",\"2018-02-12T00:00:00+00:00\",\"2018-02-19T00:00:00+00:00\",\"2018-02-26T00:00:00+00:00\",\"2018-03-05T00:00:00+00:00\",\"2018-03-12T00:00:00+00:00\",\"2018-03-19T00:00:00+00:00\",\"2018-03-26T00:00:00+00:00\",\"2018-04-02T00:00:00+00:00\",\"2018-04-09T00:00:00+00:00\",\"2018-04-16T00:00:00+00:00\",\"2018-04-23T00:00:00+00:00\",\"2018-04-30T00:00:00+00:00\",\"2018-05-07T00:00:00+00:00\",\"2018-05-14T00:00:00+00:00\",\"2018-05-21T00:00:00+00:00\",\"2018-05-28T00:00:00+00:00\",\"2018-06-04T00:00:00+00:00\",\"2018-06-11T00:00:00+00:00\",\"2018-06-18T00:00:00+00:00\",\"2018-06-25T00:00:00+00:00\",\"2018-07-02T00:00:00+00:00\",\"2018-07-09T00:00:00+00:00\",\"2018-07-16T00:00:00+00:00\",\"2018-07-23T00:00:00+00:00\",\"2018-07-30T00:00:00+00:00\",\"2018-08-06T00:00:00+00:00\",\"2018-08-13T00:00:00+00:00\",\"2018-08-20T00:00:00+00:00\",\"2018-08-27T00:00:00+00:00\",\"2018-09-03T00:00:00+00:00\",\"2018-09-10T00:00:00+00:00\",\"2018-09-17T00:00:00+00:00\",\"2018-09-24T00:00:00+00:00\",\"2018-10-01T00:00:00+00:00\",\"2018-10-08T00:00:00+00:00\",\"2018-10-15T00:00:00+00:00\",\"2018-10-22T00:00:00+00:00\",\"2018-10-29T00:00:00+00:00\",\"2018-11-05T00:00:00+00:00\",\"2018-11-12T00:00:00+00:00\"],\"y\":[0.01,0.0,0.01,2.0,null,null,0.01,0.0,0.0,0.0,0.7444,2.64,0.0,0.01,11.26338116,0.01,4.96654851,0.01,0.26,0.3264,3.908201,0.0498,0.1699,0.2445,0.094,0.0,0.3792,0.0,0.0,2.0346,0.4114,7.06812256,0.9208,1.8379,0.0,0.13670336,17.39328,0.097,0.3904,1.3996,0.4515,1.4931,0.4519,30.1828,0.121,35.8179,5.2504,0.0,3.4094,31.6281,0.31098752,0.0,0.0466,0.83474676,0.0511,15.2327,0.0,3.4172,0.1767,0.0,0.6518,0.32776,0.2783,0.0,0.0,0.11679,9.19249,0.28152,8.03903,1.43058,2.06158,3.94362,4.88553453,54.01779225,5.38051,0.06947,8.37807607,6.56166,1.997444,1.06283,0.79285,5.28377,3.40314,0.24912,1.01,8.97683,0.1079,1.72928,3.65277,0.09952,4.32172,0.90908,13.52652106,0.10435,0.0806,0.99682,2.31844213,0.53534,0.18382,0.02004,0.51010758,0.68089,0.20777482,1.33748,0.41358,0.48406545,0.0,0.7838,4.15124232,0.21342,1.3919,0.47176,1.14363,0.5764,1.1749,11.5278,0.91,0.5137,0.0,0.8349,2.882,6.70786931,0.8148,0.1933,0.73881206,3.95065236,0.54275954,2.9608269,0.91046455,4.9506,9.06055574,3.05683517,22.17185648,13.09238248,1.1905152,3.27366411,2.13195977,1.50043638,53.60594718,19.96396993,0.66806484,3.0399196,22.06887606,3.78873055,2.04472014,28.09799055,3.66588074,0.48678569,1.23850902,0.61639365,2.88485336,3.21418282,0.50369746,3.94558547,0.95856116,6.9625125,6.7340968,5.07262657,40.77165165,4.39204821,6.00108936,2.41491212,0.98837527,6.89780092,73.13222326,3.55631863,0.44862796,35.58820107,10.12075314,3.17953333,11.66008213,3.05532735,4.23159966,2.77092595,2.49155339,3.56217295,0.52027536,4.1930029,2.16429777,1.05158004,1.55836879,0.72536358,0.12606219,0.43132455,0.67994346,1.37782212,2.8483486,0.03989331,0.56960876,0.56760614,2.84913234,4.73135454,0.89133704,0.39551653,5.3781419,7.6432196,1.97363469,8.86228799,0.78647877,0.52243038,7.2834499,0.19351621,0.21626732,4.09717779,0.11858629,1.45202146,0.32089988],\"type\":\"scatter\"},{\"mode\":\"lines\",\"name\":\"Volume_(Currency)\",\"x\":[\"2014-12-01T00:00:00+00:00\",\"2014-12-08T00:00:00+00:00\",\"2014-12-15T00:00:00+00:00\",\"2014-12-22T00:00:00+00:00\",\"2014-12-29T00:00:00+00:00\",\"2015-01-05T00:00:00+00:00\",\"2015-01-12T00:00:00+00:00\",\"2015-01-19T00:00:00+00:00\",\"2015-01-26T00:00:00+00:00\",\"2015-02-02T00:00:00+00:00\",\"2015-02-09T00:00:00+00:00\",\"2015-02-16T00:00:00+00:00\",\"2015-02-23T00:00:00+00:00\",\"2015-03-02T00:00:00+00:00\",\"2015-03-09T00:00:00+00:00\",\"2015-03-16T00:00:00+00:00\",\"2015-03-23T00:00:00+00:00\",\"2015-03-30T00:00:00+00:00\",\"2015-04-06T00:00:00+00:00\",\"2015-04-13T00:00:00+00:00\",\"2015-04-20T00:00:00+00:00\",\"2015-04-27T00:00:00+00:00\",\"2015-05-04T00:00:00+00:00\",\"2015-05-11T00:00:00+00:00\",\"2015-05-18T00:00:00+00:00\",\"2015-05-25T00:00:00+00:00\",\"2015-06-01T00:00:00+00:00\",\"2015-06-08T00:00:00+00:00\",\"2015-06-15T00:00:00+00:00\",\"2015-06-22T00:00:00+00:00\",\"2015-06-29T00:00:00+00:00\",\"2015-07-06T00:00:00+00:00\",\"2015-07-13T00:00:00+00:00\",\"2015-07-20T00:00:00+00:00\",\"2015-07-27T00:00:00+00:00\",\"2015-08-03T00:00:00+00:00\",\"2015-08-10T00:00:00+00:00\",\"2015-08-17T00:00:00+00:00\",\"2015-08-24T00:00:00+00:00\",\"2015-08-31T00:00:00+00:00\",\"2015-09-07T00:00:00+00:00\",\"2015-09-14T00:00:00+00:00\",\"2015-09-21T00:00:00+00:00\",\"2015-09-28T00:00:00+00:00\",\"2015-10-05T00:00:00+00:00\",\"2015-10-12T00:00:00+00:00\",\"2015-10-19T00:00:00+00:00\",\"2015-10-26T00:00:00+00:00\",\"2015-11-02T00:00:00+00:00\",\"2015-11-09T00:00:00+00:00\",\"2015-11-16T00:00:00+00:00\",\"2015-11-23T00:00:00+00:00\",\"2015-11-30T00:00:00+00:00\",\"2015-12-07T00:00:00+00:00\",\"2015-12-14T00:00:00+00:00\",\"2015-12-21T00:00:00+00:00\",\"2015-12-28T00:00:00+00:00\",\"2016-01-04T00:00:00+00:00\",\"2016-01-11T00:00:00+00:00\",\"2016-01-18T00:00:00+00:00\",\"2016-01-25T00:00:00+00:00\",\"2016-02-01T00:00:00+00:00\",\"2016-02-08T00:00:00+00:00\",\"2016-02-15T00:00:00+00:00\",\"2016-02-22T00:00:00+00:00\",\"2016-02-29T00:00:00+00:00\",\"2016-03-07T00:00:00+00:00\",\"2016-03-14T00:00:00+00:00\",\"2016-03-21T00:00:00+00:00\",\"2016-03-28T00:00:00+00:00\",\"2016-04-04T00:00:00+00:00\",\"2016-04-11T00:00:00+00:00\",\"2016-04-18T00:00:00+00:00\",\"2016-04-25T00:00:00+00:00\",\"2016-05-02T00:00:00+00:00\",\"2016-05-09T00:00:00+00:00\",\"2016-05-16T00:00:00+00:00\",\"2016-05-23T00:00:00+00:00\",\"2016-05-30T00:00:00+00:00\",\"2016-06-06T00:00:00+00:00\",\"2016-06-13T00:00:00+00:00\",\"2016-06-20T00:00:00+00:00\",\"2016-06-27T00:00:00+00:00\",\"2016-07-04T00:00:00+00:00\",\"2016-07-11T00:00:00+00:00\",\"2016-07-18T00:00:00+00:00\",\"2016-07-25T00:00:00+00:00\",\"2016-08-01T00:00:00+00:00\",\"2016-08-08T00:00:00+00:00\",\"2016-08-15T00:00:00+00:00\",\"2016-08-22T00:00:00+00:00\",\"2016-08-29T00:00:00+00:00\",\"2016-09-05T00:00:00+00:00\",\"2016-09-12T00:00:00+00:00\",\"2016-09-19T00:00:00+00:00\",\"2016-09-26T00:00:00+00:00\",\"2016-10-03T00:00:00+00:00\",\"2016-10-10T00:00:00+00:00\",\"2016-10-17T00:00:00+00:00\",\"2016-10-24T00:00:00+00:00\",\"2016-10-31T00:00:00+00:00\",\"2016-11-07T00:00:00+00:00\",\"2016-11-14T00:00:00+00:00\",\"2016-11-21T00:00:00+00:00\",\"2016-11-28T00:00:00+00:00\",\"2016-12-05T00:00:00+00:00\",\"2016-12-12T00:00:00+00:00\",\"2016-12-19T00:00:00+00:00\",\"2016-12-26T00:00:00+00:00\",\"2017-01-02T00:00:00+00:00\",\"2017-01-09T00:00:00+00:00\",\"2017-01-16T00:00:00+00:00\",\"2017-01-23T00:00:00+00:00\",\"2017-01-30T00:00:00+00:00\",\"2017-02-06T00:00:00+00:00\",\"2017-02-13T00:00:00+00:00\",\"2017-02-20T00:00:00+00:00\",\"2017-02-27T00:00:00+00:00\",\"2017-03-06T00:00:00+00:00\",\"2017-03-13T00:00:00+00:00\",\"2017-03-20T00:00:00+00:00\",\"2017-03-27T00:00:00+00:00\",\"2017-04-03T00:00:00+00:00\",\"2017-04-10T00:00:00+00:00\",\"2017-04-17T00:00:00+00:00\",\"2017-04-24T00:00:00+00:00\",\"2017-05-01T00:00:00+00:00\",\"2017-05-08T00:00:00+00:00\",\"2017-05-15T00:00:00+00:00\",\"2017-05-22T00:00:00+00:00\",\"2017-05-29T00:00:00+00:00\",\"2017-06-05T00:00:00+00:00\",\"2017-06-12T00:00:00+00:00\",\"2017-06-19T00:00:00+00:00\",\"2017-06-26T00:00:00+00:00\",\"2017-07-03T00:00:00+00:00\",\"2017-07-10T00:00:00+00:00\",\"2017-07-17T00:00:00+00:00\",\"2017-07-24T00:00:00+00:00\",\"2017-07-31T00:00:00+00:00\",\"2017-08-07T00:00:00+00:00\",\"2017-08-14T00:00:00+00:00\",\"2017-08-21T00:00:00+00:00\",\"2017-08-28T00:00:00+00:00\",\"2017-09-04T00:00:00+00:00\",\"2017-09-11T00:00:00+00:00\",\"2017-09-18T00:00:00+00:00\",\"2017-09-25T00:00:00+00:00\",\"2017-10-02T00:00:00+00:00\",\"2017-10-09T00:00:00+00:00\",\"2017-10-16T00:00:00+00:00\",\"2017-10-23T00:00:00+00:00\",\"2017-10-30T00:00:00+00:00\",\"2017-11-06T00:00:00+00:00\",\"2017-11-13T00:00:00+00:00\",\"2017-11-20T00:00:00+00:00\",\"2017-11-27T00:00:00+00:00\",\"2017-12-04T00:00:00+00:00\",\"2017-12-11T00:00:00+00:00\",\"2017-12-18T00:00:00+00:00\",\"2017-12-25T00:00:00+00:00\",\"2018-01-01T00:00:00+00:00\",\"2018-01-08T00:00:00+00:00\",\"2018-01-15T00:00:00+00:00\",\"2018-01-22T00:00:00+00:00\",\"2018-01-29T00:00:00+00:00\",\"2018-02-05T00:00:00+00:00\",\"2018-02-12T00:00:00+00:00\",\"2018-02-19T00:00:00+00:00\",\"2018-02-26T00:00:00+00:00\",\"2018-03-05T00:00:00+00:00\",\"2018-03-12T00:00:00+00:00\",\"2018-03-19T00:00:00+00:00\",\"2018-03-26T00:00:00+00:00\",\"2018-04-02T00:00:00+00:00\",\"2018-04-09T00:00:00+00:00\",\"2018-04-16T00:00:00+00:00\",\"2018-04-23T00:00:00+00:00\",\"2018-04-30T00:00:00+00:00\",\"2018-05-07T00:00:00+00:00\",\"2018-05-14T00:00:00+00:00\",\"2018-05-21T00:00:00+00:00\",\"2018-05-28T00:00:00+00:00\",\"2018-06-04T00:00:00+00:00\",\"2018-06-11T00:00:00+00:00\",\"2018-06-18T00:00:00+00:00\",\"2018-06-25T00:00:00+00:00\",\"2018-07-02T00:00:00+00:00\",\"2018-07-09T00:00:00+00:00\",\"2018-07-16T00:00:00+00:00\",\"2018-07-23T00:00:00+00:00\",\"2018-07-30T00:00:00+00:00\",\"2018-08-06T00:00:00+00:00\",\"2018-08-13T00:00:00+00:00\",\"2018-08-20T00:00:00+00:00\",\"2018-08-27T00:00:00+00:00\",\"2018-09-03T00:00:00+00:00\",\"2018-09-10T00:00:00+00:00\",\"2018-09-17T00:00:00+00:00\",\"2018-09-24T00:00:00+00:00\",\"2018-10-01T00:00:00+00:00\",\"2018-10-08T00:00:00+00:00\",\"2018-10-15T00:00:00+00:00\",\"2018-10-22T00:00:00+00:00\",\"2018-10-29T00:00:00+00:00\",\"2018-11-05T00:00:00+00:00\",\"2018-11-12T00:00:00+00:00\"],\"y\":[3.0,0.0,3.98,685.0,null,null,3.6,0.0,0.0,0.0,177.68817,574.287565,0.0,2.376,3112.6876595,2.9571,1453.3437461,2.6716,64.5871,83.08512,857.78447049,11.277708,38.130921,57.593854591,22.69818,0.0,89.87399,0.0,0.0,485.90273301,100.797114,1883.4284835,246.045468,528.58085807,0.0,40.625912491,4924.4195802,25.92034,99.631484,294.054135,103.724365,363.88953906,104.732221,6854.10574,29.13559,8641.8878458,1296.216652,0.0,990.558326,11860.421538,118.62343938,0.0,15.021222,315.53789236,20.079745,7000.336458,0.0,1445.54479,76.652893,0.0,249.398538,128.854016,103.970267,0.0,0.0,50.7347439,3964.8798054,116.5577256,3333.2501788,595.0211394,872.5485098,1666.0593726,2078.7020967,23359.736107,2519.8004432,31.0516753,3868.1577215,2991.3876864,891.51559998,567.7106445,464.879669,3643.3707553,2401.512504,162.9735344,681.8629,5836.008877,72.899398,1117.7823352,2200.4566429,58.5834432,2452.6766176,532.6390628,7786.8509568,63.321667,49.01209477,607.41451224,1405.6208507,326.8231342,115.8645871,12.787124,333.01863253,484.5959343,146.43772144,950.34565032,304.8283902,353.71124283,0.0,610.713446,3280.9878651,194.5914953,1419.1724363,426.4804752,1019.1586108,529.10225,1098.519751,12073.295496,915.5683,561.4741,0.0,1067.9892529,3557.3606782,7278.2217234,846.991828,223.322739,893.13876073,4729.5278147,687.67275018,4288.7886389,1553.2524223,8503.3040007,19668.275602,7016.7573579,62944.430722,36019.048857,3124.4709706,7869.3042322,5598.2297549,3422.4834754,120531.72329,53666.203679,1918.5637718,10458.212377,93953.358134,14450.082778,8937.9588088,122149.1369,15973.98132,1930.067243,4818.2994927,2645.5667875,13953.862676,18202.636467,2886.7474165,24104.054906,6889.1867347,45837.991333,54887.330781,50345.848468,480709.17733,74305.401704,113093.39454,37295.921695,13267.294304,104493.79985,925525.11937,36586.046401,4928.5270734,211008.88397,87208.566778,36682.332045,123643.5173,34429.680633,39557.034223,23507.276615,19877.284545,26141.117598,3490.7285443,33594.449679,19984.185402,9436.0143035,14531.336789,6339.6166456,1048.6248583,3060.9346155,5048.6920782,9423.0832594,19042.373895,248.79531768,3782.3479587,3747.8441078,19015.199498,37756.192917,7239.87071,2748.5131013,32126.045234,48809.549588,13637.826986,64561.684577,4978.4148194,3274.8514832,46726.269663,1269.3327384,1426.2120415,26424.400582,758.95184926,9116.3803926,2053.3003338],\"type\":\"scatter\"},{\"mode\":\"lines\",\"name\":\"Weighted Average\",\"x\":[\"2014-12-01T00:00:00+00:00\",\"2014-12-08T00:00:00+00:00\",\"2014-12-15T00:00:00+00:00\",\"2014-12-22T00:00:00+00:00\",\"2014-12-29T00:00:00+00:00\",\"2015-01-05T00:00:00+00:00\",\"2015-01-12T00:00:00+00:00\",\"2015-01-19T00:00:00+00:00\",\"2015-01-26T00:00:00+00:00\",\"2015-02-02T00:00:00+00:00\",\"2015-02-09T00:00:00+00:00\",\"2015-02-16T00:00:00+00:00\",\"2015-02-23T00:00:00+00:00\",\"2015-03-02T00:00:00+00:00\",\"2015-03-09T00:00:00+00:00\",\"2015-03-16T00:00:00+00:00\",\"2015-03-23T00:00:00+00:00\",\"2015-03-30T00:00:00+00:00\",\"2015-04-06T00:00:00+00:00\",\"2015-04-13T00:00:00+00:00\",\"2015-04-20T00:00:00+00:00\",\"2015-04-27T00:00:00+00:00\",\"2015-05-04T00:00:00+00:00\",\"2015-05-11T00:00:00+00:00\",\"2015-05-18T00:00:00+00:00\",\"2015-05-25T00:00:00+00:00\",\"2015-06-01T00:00:00+00:00\",\"2015-06-08T00:00:00+00:00\",\"2015-06-15T00:00:00+00:00\",\"2015-06-22T00:00:00+00:00\",\"2015-06-29T00:00:00+00:00\",\"2015-07-06T00:00:00+00:00\",\"2015-07-13T00:00:00+00:00\",\"2015-07-20T00:00:00+00:00\",\"2015-07-27T00:00:00+00:00\",\"2015-08-03T00:00:00+00:00\",\"2015-08-10T00:00:00+00:00\",\"2015-08-17T00:00:00+00:00\",\"2015-08-24T00:00:00+00:00\",\"2015-08-31T00:00:00+00:00\",\"2015-09-07T00:00:00+00:00\",\"2015-09-14T00:00:00+00:00\",\"2015-09-21T00:00:00+00:00\",\"2015-09-28T00:00:00+00:00\",\"2015-10-05T00:00:00+00:00\",\"2015-10-12T00:00:00+00:00\",\"2015-10-19T00:00:00+00:00\",\"2015-10-26T00:00:00+00:00\",\"2015-11-02T00:00:00+00:00\",\"2015-11-09T00:00:00+00:00\",\"2015-11-16T00:00:00+00:00\",\"2015-11-23T00:00:00+00:00\",\"2015-11-30T00:00:00+00:00\",\"2015-12-07T00:00:00+00:00\",\"2015-12-14T00:00:00+00:00\",\"2015-12-21T00:00:00+00:00\",\"2015-12-28T00:00:00+00:00\",\"2016-01-04T00:00:00+00:00\",\"2016-01-11T00:00:00+00:00\",\"2016-01-18T00:00:00+00:00\",\"2016-01-25T00:00:00+00:00\",\"2016-02-01T00:00:00+00:00\",\"2016-02-08T00:00:00+00:00\",\"2016-02-15T00:00:00+00:00\",\"2016-02-22T00:00:00+00:00\",\"2016-02-29T00:00:00+00:00\",\"2016-03-07T00:00:00+00:00\",\"2016-03-14T00:00:00+00:00\",\"2016-03-21T00:00:00+00:00\",\"2016-03-28T00:00:00+00:00\",\"2016-04-04T00:00:00+00:00\",\"2016-04-11T00:00:00+00:00\",\"2016-04-18T00:00:00+00:00\",\"2016-04-25T00:00:00+00:00\",\"2016-05-02T00:00:00+00:00\",\"2016-05-09T00:00:00+00:00\",\"2016-05-16T00:00:00+00:00\",\"2016-05-23T00:00:00+00:00\",\"2016-05-30T00:00:00+00:00\",\"2016-06-06T00:00:00+00:00\",\"2016-06-13T00:00:00+00:00\",\"2016-06-20T00:00:00+00:00\",\"2016-06-27T00:00:00+00:00\",\"2016-07-04T00:00:00+00:00\",\"2016-07-11T00:00:00+00:00\",\"2016-07-18T00:00:00+00:00\",\"2016-07-25T00:00:00+00:00\",\"2016-08-01T00:00:00+00:00\",\"2016-08-08T00:00:00+00:00\",\"2016-08-15T00:00:00+00:00\",\"2016-08-22T00:00:00+00:00\",\"2016-08-29T00:00:00+00:00\",\"2016-09-05T00:00:00+00:00\",\"2016-09-12T00:00:00+00:00\",\"2016-09-19T00:00:00+00:00\",\"2016-09-26T00:00:00+00:00\",\"2016-10-03T00:00:00+00:00\",\"2016-10-10T00:00:00+00:00\",\"2016-10-17T00:00:00+00:00\",\"2016-10-24T00:00:00+00:00\",\"2016-10-31T00:00:00+00:00\",\"2016-11-07T00:00:00+00:00\",\"2016-11-14T00:00:00+00:00\",\"2016-11-21T00:00:00+00:00\",\"2016-11-28T00:00:00+00:00\",\"2016-12-05T00:00:00+00:00\",\"2016-12-12T00:00:00+00:00\",\"2016-12-19T00:00:00+00:00\",\"2016-12-26T00:00:00+00:00\",\"2017-01-02T00:00:00+00:00\",\"2017-01-09T00:00:00+00:00\",\"2017-01-16T00:00:00+00:00\",\"2017-01-23T00:00:00+00:00\",\"2017-01-30T00:00:00+00:00\",\"2017-02-06T00:00:00+00:00\",\"2017-02-13T00:00:00+00:00\",\"2017-02-20T00:00:00+00:00\",\"2017-02-27T00:00:00+00:00\",\"2017-03-06T00:00:00+00:00\",\"2017-03-13T00:00:00+00:00\",\"2017-03-20T00:00:00+00:00\",\"2017-03-27T00:00:00+00:00\",\"2017-04-03T00:00:00+00:00\",\"2017-04-10T00:00:00+00:00\",\"2017-04-17T00:00:00+00:00\",\"2017-04-24T00:00:00+00:00\",\"2017-05-01T00:00:00+00:00\",\"2017-05-08T00:00:00+00:00\",\"2017-05-15T00:00:00+00:00\",\"2017-05-22T00:00:00+00:00\",\"2017-05-29T00:00:00+00:00\",\"2017-06-05T00:00:00+00:00\",\"2017-06-12T00:00:00+00:00\",\"2017-06-19T00:00:00+00:00\",\"2017-06-26T00:00:00+00:00\",\"2017-07-03T00:00:00+00:00\",\"2017-07-10T00:00:00+00:00\",\"2017-07-17T00:00:00+00:00\",\"2017-07-24T00:00:00+00:00\",\"2017-07-31T00:00:00+00:00\",\"2017-08-07T00:00:00+00:00\",\"2017-08-14T00:00:00+00:00\",\"2017-08-21T00:00:00+00:00\",\"2017-08-28T00:00:00+00:00\",\"2017-09-04T00:00:00+00:00\",\"2017-09-11T00:00:00+00:00\",\"2017-09-18T00:00:00+00:00\",\"2017-09-25T00:00:00+00:00\",\"2017-10-02T00:00:00+00:00\",\"2017-10-09T00:00:00+00:00\",\"2017-10-16T00:00:00+00:00\",\"2017-10-23T00:00:00+00:00\",\"2017-10-30T00:00:00+00:00\",\"2017-11-06T00:00:00+00:00\",\"2017-11-13T00:00:00+00:00\",\"2017-11-20T00:00:00+00:00\",\"2017-11-27T00:00:00+00:00\",\"2017-12-04T00:00:00+00:00\",\"2017-12-11T00:00:00+00:00\",\"2017-12-18T00:00:00+00:00\",\"2017-12-25T00:00:00+00:00\",\"2018-01-01T00:00:00+00:00\",\"2018-01-08T00:00:00+00:00\",\"2018-01-15T00:00:00+00:00\",\"2018-01-22T00:00:00+00:00\",\"2018-01-29T00:00:00+00:00\",\"2018-02-05T00:00:00+00:00\",\"2018-02-12T00:00:00+00:00\",\"2018-02-19T00:00:00+00:00\",\"2018-02-26T00:00:00+00:00\",\"2018-03-05T00:00:00+00:00\",\"2018-03-12T00:00:00+00:00\",\"2018-03-19T00:00:00+00:00\",\"2018-03-26T00:00:00+00:00\",\"2018-04-02T00:00:00+00:00\",\"2018-04-09T00:00:00+00:00\",\"2018-04-16T00:00:00+00:00\",\"2018-04-23T00:00:00+00:00\",\"2018-04-30T00:00:00+00:00\",\"2018-05-07T00:00:00+00:00\",\"2018-05-14T00:00:00+00:00\",\"2018-05-21T00:00:00+00:00\",\"2018-05-28T00:00:00+00:00\",\"2018-06-04T00:00:00+00:00\",\"2018-06-11T00:00:00+00:00\",\"2018-06-18T00:00:00+00:00\",\"2018-06-25T00:00:00+00:00\",\"2018-07-02T00:00:00+00:00\",\"2018-07-09T00:00:00+00:00\",\"2018-07-16T00:00:00+00:00\",\"2018-07-23T00:00:00+00:00\",\"2018-07-30T00:00:00+00:00\",\"2018-08-06T00:00:00+00:00\",\"2018-08-13T00:00:00+00:00\",\"2018-08-20T00:00:00+00:00\",\"2018-08-27T00:00:00+00:00\",\"2018-09-03T00:00:00+00:00\",\"2018-09-10T00:00:00+00:00\",\"2018-09-17T00:00:00+00:00\",\"2018-09-24T00:00:00+00:00\",\"2018-10-01T00:00:00+00:00\",\"2018-10-08T00:00:00+00:00\",\"2018-10-15T00:00:00+00:00\",\"2018-10-22T00:00:00+00:00\",\"2018-10-29T00:00:00+00:00\",\"2018-11-05T00:00:00+00:00\",\"2018-11-12T00:00:00+00:00\"],\"y\":[300.0,377.984375,398.0,342.5,null,null,360.0,200.0,215.0,259.0,238.69985223,217.53316856,236.99959188,237.6,276.35464123,295.71,292.62650776,267.16,248.41192308,254.55,219.48320224,226.46,224.43155386,235.55768749,241.47,234.40259992,237.0094673,223.73,228.46619761,238.81978424,245.01,266.46800016,267.20837098,287.60044511,279.48685998,297.18298432,283.12196321,267.22,255.20359631,210.09869606,229.73281285,243.71411095,231.75972782,227.08647773,240.79,241.27287881,246.87960003,266.74613538,290.53743357,374.99633358,381.4411568,335.36,322.34381974,378.00433315,392.95,459.55979295,440.43,423.02024757,433.80245048,447.60272323,382.6304664,393.13526971,373.59061085,370.40243955,400.54869118,434.41,431.31728241,414.03,414.63337975,415.93,423.24261479,422.46955148,425.48099578,432.44522098,468.32,446.97963581,461.7,455.88885837,446.32820744,534.15,586.34,689.539998,705.67549498,654.19691073,675.11178218,650.11912635,675.62,646.38597289,602.40766402,588.66,567.52325871,585.91,575.67285204,606.82,608.09050583,609.3522524,606.27816953,610.49638398,630.31545588,638.08003992,652.84,711.70957761,704.79051044,710.54942902,737.04818947,730.70954109,756.16,779.17,790.3628871,911.77722472,1019.593675,904.02,891.16113673,917.94283484,934.99,1047.32,1006.119011,1093.0,1192.3252271,1279.1822409,1234.3375011,1085.0273592,1039.5088709,1155.3168081,1208.8849236,1197.151099,1266.9933912,1448.5104276,1705.9998902,1717.6309944,2170.7581926,2295.4320294,2838.9337076,2751.1454781,2624.4696167,2403.8215186,2625.8608786,2280.992064,2248.4767014,2688.1529008,2871.8226988,3440.2924265,4257.2787975,3813.9642255,4371.238212,4347.2552488,4357.4743568,3964.9219003,3890.4032307,4292.0085039,4836.9400224,5663.2237449,5731.1137057,6109.1199493,7187.0080097,6583.5416932,8150.6596076,9925.005867,11790.279713,16918.166229,18845.477505,15444.007832,13423.336972,15148.857014,12655.503663,10287.617676,10985.777778,5929.1809539,8616.8060392,11537.017618,10604.000548,11268.737091,9348.0095948,8483.545587,7977.8681947,7338.5312744,6709.38663,8012.0263402,9233.5655836,8973.1774516,9324.7098389,8739.9158442,8318.3138284,7096.5926135,7425.1645544,6839.1145146,6685.4084837,6236.5172928,6640.2559516,6602.8956413,6674.0316802,7979.9965523,8122.4838474,6949.1737838,5973.4469323,6385.9933565,6910.0057144,7284.9905859,6330.005347,6268.4935803,6415.4034564,6559.3096228,6594.6720084,6449.4151674,6399.9965701,6278.4061006,6398.5699644],\"type\":\"scatter\"}],                        {\"template\":{\"data\":{\"barpolar\":[{\"marker\":{\"line\":{\"color\":\"#E5ECF6\",\"width\":0.5},\"pattern\":{\"fillmode\":\"overlay\",\"size\":10,\"solidity\":0.2}},\"type\":\"barpolar\"}],\"bar\":[{\"error_x\":{\"color\":\"#2a3f5f\"},\"error_y\":{\"color\":\"#2a3f5f\"},\"marker\":{\"line\":{\"color\":\"#E5ECF6\",\"width\":0.5},\"pattern\":{\"fillmode\":\"overlay\",\"size\":10,\"solidity\":0.2}},\"type\":\"bar\"}],\"carpet\":[{\"aaxis\":{\"endlinecolor\":\"#2a3f5f\",\"gridcolor\":\"white\",\"linecolor\":\"white\",\"minorgridcolor\":\"white\",\"startlinecolor\":\"#2a3f5f\"},\"baxis\":{\"endlinecolor\":\"#2a3f5f\",\"gridcolor\":\"white\",\"linecolor\":\"white\",\"minorgridcolor\":\"white\",\"startlinecolor\":\"#2a3f5f\"},\"type\":\"carpet\"}],\"choropleth\":[{\"colorbar\":{\"outlinewidth\":0,\"ticks\":\"\"},\"type\":\"choropleth\"}],\"contourcarpet\":[{\"colorbar\":{\"outlinewidth\":0,\"ticks\":\"\"},\"type\":\"contourcarpet\"}],\"contour\":[{\"colorbar\":{\"outlinewidth\":0,\"ticks\":\"\"},\"colorscale\":[[0.0,\"#0d0887\"],[0.1111111111111111,\"#46039f\"],[0.2222222222222222,\"#7201a8\"],[0.3333333333333333,\"#9c179e\"],[0.4444444444444444,\"#bd3786\"],[0.5555555555555556,\"#d8576b\"],[0.6666666666666666,\"#ed7953\"],[0.7777777777777778,\"#fb9f3a\"],[0.8888888888888888,\"#fdca26\"],[1.0,\"#f0f921\"]],\"type\":\"contour\"}],\"heatmapgl\":[{\"colorbar\":{\"outlinewidth\":0,\"ticks\":\"\"},\"colorscale\":[[0.0,\"#0d0887\"],[0.1111111111111111,\"#46039f\"],[0.2222222222222222,\"#7201a8\"],[0.3333333333333333,\"#9c179e\"],[0.4444444444444444,\"#bd3786\"],[0.5555555555555556,\"#d8576b\"],[0.6666666666666666,\"#ed7953\"],[0.7777777777777778,\"#fb9f3a\"],[0.8888888888888888,\"#fdca26\"],[1.0,\"#f0f921\"]],\"type\":\"heatmapgl\"}],\"heatmap\":[{\"colorbar\":{\"outlinewidth\":0,\"ticks\":\"\"},\"colorscale\":[[0.0,\"#0d0887\"],[0.1111111111111111,\"#46039f\"],[0.2222222222222222,\"#7201a8\"],[0.3333333333333333,\"#9c179e\"],[0.4444444444444444,\"#bd3786\"],[0.5555555555555556,\"#d8576b\"],[0.6666666666666666,\"#ed7953\"],[0.7777777777777778,\"#fb9f3a\"],[0.8888888888888888,\"#fdca26\"],[1.0,\"#f0f921\"]],\"type\":\"heatmap\"}],\"histogram2dcontour\":[{\"colorbar\":{\"outlinewidth\":0,\"ticks\":\"\"},\"colorscale\":[[0.0,\"#0d0887\"],[0.1111111111111111,\"#46039f\"],[0.2222222222222222,\"#7201a8\"],[0.3333333333333333,\"#9c179e\"],[0.4444444444444444,\"#bd3786\"],[0.5555555555555556,\"#d8576b\"],[0.6666666666666666,\"#ed7953\"],[0.7777777777777778,\"#fb9f3a\"],[0.8888888888888888,\"#fdca26\"],[1.0,\"#f0f921\"]],\"type\":\"histogram2dcontour\"}],\"histogram2d\":[{\"colorbar\":{\"outlinewidth\":0,\"ticks\":\"\"},\"colorscale\":[[0.0,\"#0d0887\"],[0.1111111111111111,\"#46039f\"],[0.2222222222222222,\"#7201a8\"],[0.3333333333333333,\"#9c179e\"],[0.4444444444444444,\"#bd3786\"],[0.5555555555555556,\"#d8576b\"],[0.6666666666666666,\"#ed7953\"],[0.7777777777777778,\"#fb9f3a\"],[0.8888888888888888,\"#fdca26\"],[1.0,\"#f0f921\"]],\"type\":\"histogram2d\"}],\"histogram\":[{\"marker\":{\"pattern\":{\"fillmode\":\"overlay\",\"size\":10,\"solidity\":0.2}},\"type\":\"histogram\"}],\"mesh3d\":[{\"colorbar\":{\"outlinewidth\":0,\"ticks\":\"\"},\"type\":\"mesh3d\"}],\"parcoords\":[{\"line\":{\"colorbar\":{\"outlinewidth\":0,\"ticks\":\"\"}},\"type\":\"parcoords\"}],\"pie\":[{\"automargin\":true,\"type\":\"pie\"}],\"scatter3d\":[{\"line\":{\"colorbar\":{\"outlinewidth\":0,\"ticks\":\"\"}},\"marker\":{\"colorbar\":{\"outlinewidth\":0,\"ticks\":\"\"}},\"type\":\"scatter3d\"}],\"scattercarpet\":[{\"marker\":{\"colorbar\":{\"outlinewidth\":0,\"ticks\":\"\"}},\"type\":\"scattercarpet\"}],\"scattergeo\":[{\"marker\":{\"colorbar\":{\"outlinewidth\":0,\"ticks\":\"\"}},\"type\":\"scattergeo\"}],\"scattergl\":[{\"marker\":{\"colorbar\":{\"outlinewidth\":0,\"ticks\":\"\"}},\"type\":\"scattergl\"}],\"scattermapbox\":[{\"marker\":{\"colorbar\":{\"outlinewidth\":0,\"ticks\":\"\"}},\"type\":\"scattermapbox\"}],\"scatterpolargl\":[{\"marker\":{\"colorbar\":{\"outlinewidth\":0,\"ticks\":\"\"}},\"type\":\"scatterpolargl\"}],\"scatterpolar\":[{\"marker\":{\"colorbar\":{\"outlinewidth\":0,\"ticks\":\"\"}},\"type\":\"scatterpolar\"}],\"scatter\":[{\"fillpattern\":{\"fillmode\":\"overlay\",\"size\":10,\"solidity\":0.2},\"type\":\"scatter\"}],\"scatterternary\":[{\"marker\":{\"colorbar\":{\"outlinewidth\":0,\"ticks\":\"\"}},\"type\":\"scatterternary\"}],\"surface\":[{\"colorbar\":{\"outlinewidth\":0,\"ticks\":\"\"},\"colorscale\":[[0.0,\"#0d0887\"],[0.1111111111111111,\"#46039f\"],[0.2222222222222222,\"#7201a8\"],[0.3333333333333333,\"#9c179e\"],[0.4444444444444444,\"#bd3786\"],[0.5555555555555556,\"#d8576b\"],[0.6666666666666666,\"#ed7953\"],[0.7777777777777778,\"#fb9f3a\"],[0.8888888888888888,\"#fdca26\"],[1.0,\"#f0f921\"]],\"type\":\"surface\"}],\"table\":[{\"cells\":{\"fill\":{\"color\":\"#EBF0F8\"},\"line\":{\"color\":\"white\"}},\"header\":{\"fill\":{\"color\":\"#C8D4E3\"},\"line\":{\"color\":\"white\"}},\"type\":\"table\"}]},\"layout\":{\"annotationdefaults\":{\"arrowcolor\":\"#2a3f5f\",\"arrowhead\":0,\"arrowwidth\":1},\"autotypenumbers\":\"strict\",\"coloraxis\":{\"colorbar\":{\"outlinewidth\":0,\"ticks\":\"\"}},\"colorscale\":{\"diverging\":[[0,\"#8e0152\"],[0.1,\"#c51b7d\"],[0.2,\"#de77ae\"],[0.3,\"#f1b6da\"],[0.4,\"#fde0ef\"],[0.5,\"#f7f7f7\"],[0.6,\"#e6f5d0\"],[0.7,\"#b8e186\"],[0.8,\"#7fbc41\"],[0.9,\"#4d9221\"],[1,\"#276419\"]],\"sequential\":[[0.0,\"#0d0887\"],[0.1111111111111111,\"#46039f\"],[0.2222222222222222,\"#7201a8\"],[0.3333333333333333,\"#9c179e\"],[0.4444444444444444,\"#bd3786\"],[0.5555555555555556,\"#d8576b\"],[0.6666666666666666,\"#ed7953\"],[0.7777777777777778,\"#fb9f3a\"],[0.8888888888888888,\"#fdca26\"],[1.0,\"#f0f921\"]],\"sequentialminus\":[[0.0,\"#0d0887\"],[0.1111111111111111,\"#46039f\"],[0.2222222222222222,\"#7201a8\"],[0.3333333333333333,\"#9c179e\"],[0.4444444444444444,\"#bd3786\"],[0.5555555555555556,\"#d8576b\"],[0.6666666666666666,\"#ed7953\"],[0.7777777777777778,\"#fb9f3a\"],[0.8888888888888888,\"#fdca26\"],[1.0,\"#f0f921\"]]},\"colorway\":[\"#636efa\",\"#EF553B\",\"#00cc96\",\"#ab63fa\",\"#FFA15A\",\"#19d3f3\",\"#FF6692\",\"#B6E880\",\"#FF97FF\",\"#FECB52\"],\"font\":{\"color\":\"#2a3f5f\"},\"geo\":{\"bgcolor\":\"white\",\"lakecolor\":\"white\",\"landcolor\":\"#E5ECF6\",\"showlakes\":true,\"showland\":true,\"subunitcolor\":\"white\"},\"hoverlabel\":{\"align\":\"left\"},\"hovermode\":\"closest\",\"mapbox\":{\"style\":\"light\"},\"paper_bgcolor\":\"white\",\"plot_bgcolor\":\"#E5ECF6\",\"polar\":{\"angularaxis\":{\"gridcolor\":\"white\",\"linecolor\":\"white\",\"ticks\":\"\"},\"bgcolor\":\"#E5ECF6\",\"radialaxis\":{\"gridcolor\":\"white\",\"linecolor\":\"white\",\"ticks\":\"\"}},\"scene\":{\"xaxis\":{\"backgroundcolor\":\"#E5ECF6\",\"gridcolor\":\"white\",\"gridwidth\":2,\"linecolor\":\"white\",\"showbackground\":true,\"ticks\":\"\",\"zerolinecolor\":\"white\"},\"yaxis\":{\"backgroundcolor\":\"#E5ECF6\",\"gridcolor\":\"white\",\"gridwidth\":2,\"linecolor\":\"white\",\"showbackground\":true,\"ticks\":\"\",\"zerolinecolor\":\"white\"},\"zaxis\":{\"backgroundcolor\":\"#E5ECF6\",\"gridcolor\":\"white\",\"gridwidth\":2,\"linecolor\":\"white\",\"showbackground\":true,\"ticks\":\"\",\"zerolinecolor\":\"white\"}},\"shapedefaults\":{\"line\":{\"color\":\"#2a3f5f\"}},\"ternary\":{\"aaxis\":{\"gridcolor\":\"white\",\"linecolor\":\"white\",\"ticks\":\"\"},\"baxis\":{\"gridcolor\":\"white\",\"linecolor\":\"white\",\"ticks\":\"\"},\"bgcolor\":\"#E5ECF6\",\"caxis\":{\"gridcolor\":\"white\",\"linecolor\":\"white\",\"ticks\":\"\"}},\"title\":{\"x\":0.05},\"xaxis\":{\"automargin\":true,\"gridcolor\":\"white\",\"linecolor\":\"white\",\"ticks\":\"\",\"title\":{\"standoff\":15},\"zerolinecolor\":\"white\",\"zerolinewidth\":2},\"yaxis\":{\"automargin\":true,\"gridcolor\":\"white\",\"linecolor\":\"white\",\"ticks\":\"\",\"title\":{\"standoff\":15},\"zerolinecolor\":\"white\",\"zerolinewidth\":2}}},\"title\":{\"text\":\"Historical Bitcoin USD and BTC (2014/12/30-2018/11/12) with the Slider \"},\"xaxis\":{\"rangeselector\":{\"buttons\":[{\"count\":1,\"label\":\"1m\",\"step\":\"month\",\"stepmode\":\"backward\"},{\"count\":6,\"label\":\"6m\",\"step\":\"month\",\"stepmode\":\"backward\"},{\"count\":12,\"label\":\"1y\",\"step\":\"month\",\"stepmode\":\"backward\"},{\"count\":36,\"label\":\"3y\",\"step\":\"month\",\"stepmode\":\"backward\"},{\"step\":\"all\"}]},\"rangeslider\":{\"visible\":true},\"type\":\"date\"}},                        {\"responsive\": true}                    ).then(function(){\n",
       "                            \n",
       "var gd = document.getElementById('0edddae9-6f42-47a3-b1c3-46b1b2416d37');\n",
       "var x = new MutationObserver(function (mutations, observer) {{\n",
       "        var display = window.getComputedStyle(gd).display;\n",
       "        if (!display || display === 'none') {{\n",
       "            console.log([gd, 'removed!']);\n",
       "            Plotly.purge(gd);\n",
       "            observer.disconnect();\n",
       "        }}\n",
       "}});\n",
       "\n",
       "// Listen for the removal of the full notebook cells\n",
       "var notebookContainer = gd.closest('#notebook-container');\n",
       "if (notebookContainer) {{\n",
       "    x.observe(notebookContainer, {childList: true});\n",
       "}}\n",
       "\n",
       "// Listen for the clearing of the current output cell\n",
       "var outputEl = gd.closest('.output');\n",
       "if (outputEl) {{\n",
       "    x.observe(outputEl, {childList: true});\n",
       "}}\n",
       "\n",
       "                        })                };                });            </script>        </div>"
      ]
     },
     "metadata": {},
     "output_type": "display_data"
    }
   ],
   "source": [
    "# visualization of btc and weighted\n",
    "trace1 = go.Scatter(\n",
    "    x = weekly_bit.index,\n",
    "    y = weekly_bit['Volume_(BTC)'].astype(float),\n",
    "    mode = 'lines',\n",
    "    name = 'Volume_(BTC)'\n",
    ")\n",
    "\n",
    "trace2 = go.Scatter(\n",
    "    x = weekly_bit.index,\n",
    "    y = weekly_bit['Volume_(Currency)'].astype(float),\n",
    "    mode = 'lines',\n",
    "    name = 'Volume_(Currency)'\n",
    ")\n",
    "\n",
    "trace3 = go.Scatter(\n",
    "    x = weekly_bit.index,\n",
    "    y = weekly_bit['Weighted_Price'].astype(float),\n",
    "    mode = 'lines',\n",
    "    name = 'Weighted Average'\n",
    ")\n",
    "\n",
    "layout = dict(\n",
    "    title='Historical Bitcoin USD and BTC (2014/12/30-2018/11/12) with the Slider ',\n",
    "    xaxis=dict(\n",
    "        rangeselector=dict(\n",
    "            buttons=list([\n",
    "                #change the count to desired amount of months.\n",
    "                dict(count=1,\n",
    "                     label='1m',\n",
    "                     step='month',\n",
    "                     stepmode='backward'),\n",
    "                dict(count=6,\n",
    "                     label='6m',\n",
    "                     step='month',\n",
    "                     stepmode='backward'),\n",
    "                dict(count=12,\n",
    "                     label='1y',\n",
    "                     step='month',\n",
    "                     stepmode='backward'),\n",
    "                dict(count=36,\n",
    "                     label='3y',\n",
    "                     step='month',\n",
    "                     stepmode='backward'),\n",
    "                dict(step='all')\n",
    "            ])\n",
    "        ),\n",
    "        rangeslider=dict(\n",
    "            visible = True\n",
    "        ),\n",
    "        type='date'\n",
    "    )\n",
    ")\n",
    "\n",
    "data = [trace1, trace2, trace3]\n",
    "fig = dict(data=data, layout=layout)\n",
    "iplot(fig, filename = \"Time Series with Rangeslider2\")"
   ]
  },
  {
   "cell_type": "code",
   "execution_count": 101,
   "metadata": {},
   "outputs": [
    {
     "data": {
      "application/javascript": [
       "\n",
       "        if (window._pyforest_update_imports_cell) { window._pyforest_update_imports_cell('from sklearn import metrics\\nimport numpy as np\\nimport pandas as pd\\nimport seaborn as sns\\nimport matplotlib.pyplot as plt'); }\n",
       "    "
      ],
      "text/plain": [
       "<IPython.core.display.Javascript object>"
      ]
     },
     "metadata": {},
     "output_type": "display_data"
    },
    {
     "data": {
      "application/javascript": [
       "\n",
       "        if (window._pyforest_update_imports_cell) { window._pyforest_update_imports_cell('from sklearn import metrics\\nimport numpy as np\\nimport pandas as pd\\nimport seaborn as sns\\nimport matplotlib.pyplot as plt'); }\n",
       "    "
      ],
      "text/plain": [
       "<IPython.core.display.Javascript object>"
      ]
     },
     "metadata": {},
     "output_type": "display_data"
    },
    {
     "data": {
      "application/javascript": [
       "\n",
       "        if (window._pyforest_update_imports_cell) { window._pyforest_update_imports_cell('from sklearn import metrics\\nimport numpy as np\\nimport pandas as pd\\nimport seaborn as sns\\nimport matplotlib.pyplot as plt'); }\n",
       "    "
      ],
      "text/plain": [
       "<IPython.core.display.Javascript object>"
      ]
     },
     "metadata": {},
     "output_type": "display_data"
    },
    {
     "data": {
      "image/png": "[encoded data removed]",
      "text/plain": [
       "<Figure size 720x720 with 1 Axes>"
      ]
     },
     "metadata": {
      "needs_background": "light"
     },
     "output_type": "display_data"
    }
   ],
   "source": [
    "# Volume_(Currency) vs USD visualization\n",
    "plt.figure(figsize = (10,10))\n",
    "sns.regplot(data = weekly_bit, x = 'Weighted_Price', y = 'Volume_(Currency)')\n",
    "plt.show()"
   ]
  },
  {
   "cell_type": "code",
   "execution_count": 102,
   "metadata": {},
   "outputs": [
    {
     "data": {
      "application/javascript": [
       "\n",
       "        if (window._pyforest_update_imports_cell) { window._pyforest_update_imports_cell('from sklearn import metrics\\nimport numpy as np\\nimport pandas as pd\\nimport seaborn as sns\\nimport matplotlib.pyplot as plt'); }\n",
       "    "
      ],
      "text/plain": [
       "<IPython.core.display.Javascript object>"
      ]
     },
     "metadata": {},
     "output_type": "display_data"
    },
    {
     "data": {
      "application/javascript": [
       "\n",
       "        if (window._pyforest_update_imports_cell) { window._pyforest_update_imports_cell('from sklearn import metrics\\nimport numpy as np\\nimport pandas as pd\\nimport seaborn as sns\\nimport matplotlib.pyplot as plt'); }\n",
       "    "
      ],
      "text/plain": [
       "<IPython.core.display.Javascript object>"
      ]
     },
     "metadata": {},
     "output_type": "display_data"
    },
    {
     "data": {
      "application/javascript": [
       "\n",
       "        if (window._pyforest_update_imports_cell) { window._pyforest_update_imports_cell('from sklearn import metrics\\nimport numpy as np\\nimport pandas as pd\\nimport seaborn as sns\\nimport matplotlib.pyplot as plt'); }\n",
       "    "
      ],
      "text/plain": [
       "<IPython.core.display.Javascript object>"
      ]
     },
     "metadata": {},
     "output_type": "display_data"
    },
    {
     "data": {
      "application/javascript": [
       "\n",
       "        if (window._pyforest_update_imports_cell) { window._pyforest_update_imports_cell('from sklearn import metrics\\nimport numpy as np\\nimport pandas as pd\\nimport seaborn as sns\\nimport matplotlib.pyplot as plt'); }\n",
       "    "
      ],
      "text/plain": [
       "<IPython.core.display.Javascript object>"
      ]
     },
     "metadata": {},
     "output_type": "display_data"
    },
    {
     "data": {
      "text/html": [
       "<div>\n",
       "<style scoped>\n",
       "    .dataframe tbody tr th:only-of-type {\n",
       "        vertical-align: middle;\n",
       "    }\n",
       "\n",
       "    .dataframe tbody tr th {\n",
       "        vertical-align: top;\n",
       "    }\n",
       "\n",
       "    .dataframe thead th {\n",
       "        text-align: right;\n",
       "    }\n",
       "</style>\n",
       "<table border=\"1\" class=\"dataframe\">\n",
       "  <thead>\n",
       "    <tr style=\"text-align: right;\">\n",
       "      <th></th>\n",
       "      <th>Open</th>\n",
       "      <th>High</th>\n",
       "      <th>Low</th>\n",
       "      <th>Close</th>\n",
       "      <th>Volume_(BTC)</th>\n",
       "      <th>Volume_(Currency)</th>\n",
       "      <th>Weighted_Price</th>\n",
       "    </tr>\n",
       "    <tr>\n",
       "      <th>Timestamp</th>\n",
       "      <th></th>\n",
       "      <th></th>\n",
       "      <th></th>\n",
       "      <th></th>\n",
       "      <th></th>\n",
       "      <th></th>\n",
       "      <th></th>\n",
       "    </tr>\n",
       "  </thead>\n",
       "  <tbody>\n",
       "    <tr>\n",
       "      <th>2014-11-30 21:00:00+00:00</th>\n",
       "      <td>300.0</td>\n",
       "      <td>300.0</td>\n",
       "      <td>300.0</td>\n",
       "      <td>300.0</td>\n",
       "      <td>0.01</td>\n",
       "      <td>3.0</td>\n",
       "      <td>300.0</td>\n",
       "    </tr>\n",
       "    <tr>\n",
       "      <th>2014-11-30 22:00:00+00:00</th>\n",
       "      <td>370.0</td>\n",
       "      <td>370.0</td>\n",
       "      <td>370.0</td>\n",
       "      <td>370.0</td>\n",
       "      <td>0.00</td>\n",
       "      <td>0.0</td>\n",
       "      <td>370.0</td>\n",
       "    </tr>\n",
       "    <tr>\n",
       "      <th>2014-11-30 23:00:00+00:00</th>\n",
       "      <td>377.0</td>\n",
       "      <td>377.0</td>\n",
       "      <td>377.0</td>\n",
       "      <td>377.0</td>\n",
       "      <td>0.00</td>\n",
       "      <td>0.0</td>\n",
       "      <td>377.0</td>\n",
       "    </tr>\n",
       "    <tr>\n",
       "      <th>2014-12-01 00:00:00+00:00</th>\n",
       "      <td>377.0</td>\n",
       "      <td>377.0</td>\n",
       "      <td>377.0</td>\n",
       "      <td>377.0</td>\n",
       "      <td>0.00</td>\n",
       "      <td>0.0</td>\n",
       "      <td>377.0</td>\n",
       "    </tr>\n",
       "    <tr>\n",
       "      <th>2014-12-01 01:00:00+00:00</th>\n",
       "      <td>377.0</td>\n",
       "      <td>377.0</td>\n",
       "      <td>377.0</td>\n",
       "      <td>377.0</td>\n",
       "      <td>0.00</td>\n",
       "      <td>0.0</td>\n",
       "      <td>377.0</td>\n",
       "    </tr>\n",
       "    <tr>\n",
       "      <th>2014-12-01 02:00:00+00:00</th>\n",
       "      <td>377.0</td>\n",
       "      <td>377.0</td>\n",
       "      <td>377.0</td>\n",
       "      <td>377.0</td>\n",
       "      <td>0.00</td>\n",
       "      <td>0.0</td>\n",
       "      <td>377.0</td>\n",
       "    </tr>\n",
       "    <tr>\n",
       "      <th>2014-12-01 03:00:00+00:00</th>\n",
       "      <td>377.0</td>\n",
       "      <td>377.0</td>\n",
       "      <td>377.0</td>\n",
       "      <td>377.0</td>\n",
       "      <td>0.00</td>\n",
       "      <td>0.0</td>\n",
       "      <td>377.0</td>\n",
       "    </tr>\n",
       "    <tr>\n",
       "      <th>2014-12-01 04:00:00+00:00</th>\n",
       "      <td>377.0</td>\n",
       "      <td>377.0</td>\n",
       "      <td>377.0</td>\n",
       "      <td>377.0</td>\n",
       "      <td>0.00</td>\n",
       "      <td>0.0</td>\n",
       "      <td>377.0</td>\n",
       "    </tr>\n",
       "    <tr>\n",
       "      <th>2014-12-01 05:00:00+00:00</th>\n",
       "      <td>377.0</td>\n",
       "      <td>377.0</td>\n",
       "      <td>377.0</td>\n",
       "      <td>377.0</td>\n",
       "      <td>0.00</td>\n",
       "      <td>0.0</td>\n",
       "      <td>377.0</td>\n",
       "    </tr>\n",
       "    <tr>\n",
       "      <th>2014-12-01 06:00:00+00:00</th>\n",
       "      <td>377.0</td>\n",
       "      <td>377.0</td>\n",
       "      <td>377.0</td>\n",
       "      <td>377.0</td>\n",
       "      <td>0.00</td>\n",
       "      <td>0.0</td>\n",
       "      <td>377.0</td>\n",
       "    </tr>\n",
       "  </tbody>\n",
       "</table>\n",
       "</div>"
      ],
      "text/plain": [
       "                            Open   High    Low  Close  Volume_(BTC)  \\\n",
       "Timestamp                                                             \n",
       "2014-11-30 21:00:00+00:00  300.0  300.0  300.0  300.0          0.01   \n",
       "2014-11-30 22:00:00+00:00  370.0  370.0  370.0  370.0          0.00   \n",
       "2014-11-30 23:00:00+00:00  377.0  377.0  377.0  377.0          0.00   \n",
       "2014-12-01 00:00:00+00:00  377.0  377.0  377.0  377.0          0.00   \n",
       "2014-12-01 01:00:00+00:00  377.0  377.0  377.0  377.0          0.00   \n",
       "2014-12-01 02:00:00+00:00  377.0  377.0  377.0  377.0          0.00   \n",
       "2014-12-01 03:00:00+00:00  377.0  377.0  377.0  377.0          0.00   \n",
       "2014-12-01 04:00:00+00:00  377.0  377.0  377.0  377.0          0.00   \n",
       "2014-12-01 05:00:00+00:00  377.0  377.0  377.0  377.0          0.00   \n",
       "2014-12-01 06:00:00+00:00  377.0  377.0  377.0  377.0          0.00   \n",
       "\n",
       "                           Volume_(Currency)  Weighted_Price  \n",
       "Timestamp                                                     \n",
       "2014-11-30 21:00:00+00:00                3.0           300.0  \n",
       "2014-11-30 22:00:00+00:00                0.0           370.0  \n",
       "2014-11-30 23:00:00+00:00                0.0           377.0  \n",
       "2014-12-01 00:00:00+00:00                0.0           377.0  \n",
       "2014-12-01 01:00:00+00:00                0.0           377.0  \n",
       "2014-12-01 02:00:00+00:00                0.0           377.0  \n",
       "2014-12-01 03:00:00+00:00                0.0           377.0  \n",
       "2014-12-01 04:00:00+00:00                0.0           377.0  \n",
       "2014-12-01 05:00:00+00:00                0.0           377.0  \n",
       "2014-12-01 06:00:00+00:00                0.0           377.0  "
      ]
     },
     "metadata": {},
     "output_type": "display_data"
    },
    {
     "data": {
      "text/html": [
       "<div>\n",
       "<style scoped>\n",
       "    .dataframe tbody tr th:only-of-type {\n",
       "        vertical-align: middle;\n",
       "    }\n",
       "\n",
       "    .dataframe tbody tr th {\n",
       "        vertical-align: top;\n",
       "    }\n",
       "\n",
       "    .dataframe thead th {\n",
       "        text-align: right;\n",
       "    }\n",
       "</style>\n",
       "<table border=\"1\" class=\"dataframe\">\n",
       "  <thead>\n",
       "    <tr style=\"text-align: right;\">\n",
       "      <th></th>\n",
       "      <th>Volume_(BTC)</th>\n",
       "      <th>Volume_(Currency)</th>\n",
       "      <th>Weighted_Price</th>\n",
       "    </tr>\n",
       "    <tr>\n",
       "      <th>Timestamp</th>\n",
       "      <th></th>\n",
       "      <th></th>\n",
       "      <th></th>\n",
       "    </tr>\n",
       "  </thead>\n",
       "  <tbody>\n",
       "    <tr>\n",
       "      <th>2014-11-30 00:00:00+00:00</th>\n",
       "      <td>0.010</td>\n",
       "      <td>3.0000</td>\n",
       "      <td>300.000000</td>\n",
       "    </tr>\n",
       "    <tr>\n",
       "      <th>2014-12-01 00:00:00+00:00</th>\n",
       "      <td>0.000</td>\n",
       "      <td>0.0000</td>\n",
       "      <td>377.000000</td>\n",
       "    </tr>\n",
       "    <tr>\n",
       "      <th>2014-12-02 00:00:00+00:00</th>\n",
       "      <td>0.000</td>\n",
       "      <td>0.0000</td>\n",
       "      <td>377.984375</td>\n",
       "    </tr>\n",
       "    <tr>\n",
       "      <th>2014-12-03 00:00:00+00:00</th>\n",
       "      <td>0.000</td>\n",
       "      <td>0.0000</td>\n",
       "      <td>378.000000</td>\n",
       "    </tr>\n",
       "    <tr>\n",
       "      <th>2014-12-04 00:00:00+00:00</th>\n",
       "      <td>0.000</td>\n",
       "      <td>0.0000</td>\n",
       "      <td>378.000000</td>\n",
       "    </tr>\n",
       "    <tr>\n",
       "      <th>2014-12-05 00:00:00+00:00</th>\n",
       "      <td>0.015</td>\n",
       "      <td>5.6700</td>\n",
       "      <td>378.000000</td>\n",
       "    </tr>\n",
       "    <tr>\n",
       "      <th>2014-12-06 00:00:00+00:00</th>\n",
       "      <td>0.000</td>\n",
       "      <td>0.0000</td>\n",
       "      <td>375.000426</td>\n",
       "    </tr>\n",
       "    <tr>\n",
       "      <th>2014-12-07 00:00:00+00:00</th>\n",
       "      <td>0.000</td>\n",
       "      <td>0.0000</td>\n",
       "      <td>375.000426</td>\n",
       "    </tr>\n",
       "    <tr>\n",
       "      <th>2014-12-08 00:00:00+00:00</th>\n",
       "      <td>0.235</td>\n",
       "      <td>88.1251</td>\n",
       "      <td>375.000426</td>\n",
       "    </tr>\n",
       "    <tr>\n",
       "      <th>2014-12-09 00:00:00+00:00</th>\n",
       "      <td>0.010</td>\n",
       "      <td>3.9800</td>\n",
       "      <td>398.000000</td>\n",
       "    </tr>\n",
       "  </tbody>\n",
       "</table>\n",
       "</div>"
      ],
      "text/plain": [
       "                           Volume_(BTC)  Volume_(Currency)  Weighted_Price\n",
       "Timestamp                                                                 \n",
       "2014-11-30 00:00:00+00:00         0.010             3.0000      300.000000\n",
       "2014-12-01 00:00:00+00:00         0.000             0.0000      377.000000\n",
       "2014-12-02 00:00:00+00:00         0.000             0.0000      377.984375\n",
       "2014-12-03 00:00:00+00:00         0.000             0.0000      378.000000\n",
       "2014-12-04 00:00:00+00:00         0.000             0.0000      378.000000\n",
       "2014-12-05 00:00:00+00:00         0.015             5.6700      378.000000\n",
       "2014-12-06 00:00:00+00:00         0.000             0.0000      375.000426\n",
       "2014-12-07 00:00:00+00:00         0.000             0.0000      375.000426\n",
       "2014-12-08 00:00:00+00:00         0.235            88.1251      375.000426\n",
       "2014-12-09 00:00:00+00:00         0.010             3.9800      398.000000"
      ]
     },
     "metadata": {},
     "output_type": "display_data"
    }
   ],
   "source": [
    "# data prep for model input\n",
    "# resampling data into daily and hourly again for seasonal decompose and analysis\n",
    "data_prep = df_bit2.copy()\n",
    "data_prep_hourly = data_prep.groupby(pd.Grouper(level = 'Timestamp', freq = 'H')).first()\n",
    "data_prep_daily = data_prep.groupby(pd.Grouper(level = 'Timestamp', freq = 'D')).first()\n",
    "\n",
    "data_prep_hourly['Weighted_Price'] = data_prep_hourly['Weighted_Price'].replace(0,np.nan)\n",
    "data_prep_hourly['Weighted_Price'] = data_prep_hourly['Weighted_Price'].fillna(method = 'bfill')\n",
    "data_prep_daily['Weighted_Price'] = data_prep_daily['Weighted_Price'].replace(0,np.nan)\n",
    "data_prep_daily['Weighted_Price'] = data_prep_daily['Weighted_Price'].fillna(method = 'bfill')\n",
    "\n",
    "data_prep_hourly['Volume_(BTC)'] = data_prep_hourly['Volume_(BTC)'].fillna(0)\n",
    "data_prep_daily['Volume_(BTC)'] = data_prep_daily['Volume_(BTC)'].fillna(0)\n",
    "\n",
    "data_prep_hourly['Volume_(Currency)'] = data_prep_hourly['Volume_(Currency)'].fillna(0)\n",
    "data_prep_daily['Volume_(Currency)'] = data_prep_daily['Volume_(Currency)'].fillna(0)\n",
    "\n",
    "# our target = weighted price\n",
    "data_prep_daily = data_prep_daily[['Volume_(BTC)','Volume_(Currency)','Weighted_Price']]\n",
    "display(data_prep_hourly.head(10),data_prep_daily.head(10))"
   ]
  },
  {
   "cell_type": "code",
   "execution_count": 103,
   "metadata": {},
   "outputs": [],
   "source": [
    "# saving clean dataset\n",
    "data_prep_daily.to_csv('../dataset/data_daily_clean.csv',index = False)\n",
    "data_prep_hourly.to_csv('../dataset/data_hourly_clean.csv',index = False)"
   ]
  },
  {
   "cell_type": "code",
   "execution_count": 17,
   "metadata": {},
   "outputs": [
    {
     "data": {
      "text/html": [
       "<div>\n",
       "<style scoped>\n",
       "    .dataframe tbody tr th:only-of-type {\n",
       "        vertical-align: middle;\n",
       "    }\n",
       "\n",
       "    .dataframe tbody tr th {\n",
       "        vertical-align: top;\n",
       "    }\n",
       "\n",
       "    .dataframe thead th {\n",
       "        text-align: right;\n",
       "    }\n",
       "</style>\n",
       "<table border=\"1\" class=\"dataframe\">\n",
       "  <thead>\n",
       "    <tr style=\"text-align: right;\">\n",
       "      <th></th>\n",
       "      <th>Volume_(BTC)</th>\n",
       "      <th>Volume_(Currency)</th>\n",
       "      <th>Weighted_Price</th>\n",
       "    </tr>\n",
       "    <tr>\n",
       "      <th>Timestamp</th>\n",
       "      <th></th>\n",
       "      <th></th>\n",
       "      <th></th>\n",
       "    </tr>\n",
       "  </thead>\n",
       "  <tbody>\n",
       "    <tr>\n",
       "      <th>2014-11-30 00:00:00+00:00</th>\n",
       "      <td>0.01</td>\n",
       "      <td>3.0</td>\n",
       "      <td>300.000000</td>\n",
       "    </tr>\n",
       "    <tr>\n",
       "      <th>2014-12-01 00:00:00+00:00</th>\n",
       "      <td>0.00</td>\n",
       "      <td>0.0</td>\n",
       "      <td>377.000000</td>\n",
       "    </tr>\n",
       "    <tr>\n",
       "      <th>2014-12-02 00:00:00+00:00</th>\n",
       "      <td>0.00</td>\n",
       "      <td>0.0</td>\n",
       "      <td>377.984375</td>\n",
       "    </tr>\n",
       "    <tr>\n",
       "      <th>2014-12-03 00:00:00+00:00</th>\n",
       "      <td>0.00</td>\n",
       "      <td>0.0</td>\n",
       "      <td>378.000000</td>\n",
       "    </tr>\n",
       "    <tr>\n",
       "      <th>2014-12-04 00:00:00+00:00</th>\n",
       "      <td>0.00</td>\n",
       "      <td>0.0</td>\n",
       "      <td>378.000000</td>\n",
       "    </tr>\n",
       "  </tbody>\n",
       "</table>\n",
       "</div>"
      ],
      "text/plain": [
       "                           Volume_(BTC)  Volume_(Currency)  Weighted_Price\n",
       "Timestamp                                                                 \n",
       "2014-11-30 00:00:00+00:00          0.01                3.0      300.000000\n",
       "2014-12-01 00:00:00+00:00          0.00                0.0      377.000000\n",
       "2014-12-02 00:00:00+00:00          0.00                0.0      377.984375\n",
       "2014-12-03 00:00:00+00:00          0.00                0.0      378.000000\n",
       "2014-12-04 00:00:00+00:00          0.00                0.0      378.000000"
      ]
     },
     "execution_count": 17,
     "metadata": {},
     "output_type": "execute_result"
    }
   ],
   "source": [
    "# data divison (05-jun-2018) as raise started after major dip (DAILY)\n",
    "data_division = '2018-06-04'\n",
    "bit_train = data_prep_daily[data_prep_daily.index <= data_division]\n",
    "bit_test = data_prep_daily[data_prep_daily.index > data_division]\n",
    "bit_train.head()"
   ]
  },
  {
   "cell_type": "code",
   "execution_count": 18,
   "metadata": {},
   "outputs": [
    {
     "name": "stdout",
     "output_type": "stream",
     "text": [
      "<class 'pandas.core.frame.DataFrame'>\n",
      "DatetimeIndex: 1283 entries, 2014-11-30 00:00:00+00:00 to 2018-06-04 00:00:00+00:00\n",
      "Freq: D\n",
      "Data columns (total 3 columns):\n",
      " #   Column             Non-Null Count  Dtype  \n",
      "---  ------             --------------  -----  \n",
      " 0   Volume_(BTC)       1283 non-null   float64\n",
      " 1   Volume_(Currency)  1283 non-null   float64\n",
      " 2   Weighted_Price     1283 non-null   float64\n",
      "dtypes: float64(3)\n",
      "memory usage: 40.1 KB\n"
     ]
    }
   ],
   "source": [
    "bit_train.info()"
   ]
  },
  {
   "cell_type": "code",
   "execution_count": 19,
   "metadata": {
    "scrolled": false
   },
   "outputs": [
    {
     "data": {
      "application/javascript": [
       "\n",
       "        if (window._pyforest_update_imports_cell) { window._pyforest_update_imports_cell('import pandas as pd\\nimport seaborn as sns\\nimport matplotlib.pyplot as plt\\nimport numpy as np'); }\n",
       "    "
      ],
      "text/plain": [
       "<IPython.core.display.Javascript object>"
      ]
     },
     "metadata": {},
     "output_type": "display_data"
    },
    {
     "name": "stdout",
     "output_type": "stream",
     "text": [
      "Dickey–Fuller test: p=0.448362\n"
     ]
    },
    {
     "data": {
      "application/javascript": [
       "\n",
       "        if (window._pyforest_update_imports_cell) { window._pyforest_update_imports_cell('import pandas as pd\\nimport seaborn as sns\\nimport matplotlib.pyplot as plt\\nimport numpy as np'); }\n",
       "    "
      ],
      "text/plain": [
       "<IPython.core.display.Javascript object>"
      ]
     },
     "metadata": {},
     "output_type": "display_data"
    },
    {
     "data": {
      "application/javascript": [
       "\n",
       "        if (window._pyforest_update_imports_cell) { window._pyforest_update_imports_cell('import pandas as pd\\nimport seaborn as sns\\nimport matplotlib.pyplot as plt\\nimport numpy as np'); }\n",
       "    "
      ],
      "text/plain": [
       "<IPython.core.display.Javascript object>"
      ]
     },
     "metadata": {},
     "output_type": "display_data"
    },
    {
     "data": {
      "application/javascript": [
       "\n",
       "        if (window._pyforest_update_imports_cell) { window._pyforest_update_imports_cell('import pandas as pd\\nimport seaborn as sns\\nimport matplotlib.pyplot as plt\\nimport numpy as np'); }\n",
       "    "
      ],
      "text/plain": [
       "<IPython.core.display.Javascript object>"
      ]
     },
     "metadata": {},
     "output_type": "display_data"
    },
    {
     "data": {
      "application/javascript": [
       "\n",
       "        if (window._pyforest_update_imports_cell) { window._pyforest_update_imports_cell('import pandas as pd\\nimport seaborn as sns\\nimport matplotlib.pyplot as plt\\nimport numpy as np'); }\n",
       "    "
      ],
      "text/plain": [
       "<IPython.core.display.Javascript object>"
      ]
     },
     "metadata": {},
     "output_type": "display_data"
    },
    {
     "data": {
      "application/javascript": [
       "\n",
       "        if (window._pyforest_update_imports_cell) { window._pyforest_update_imports_cell('import pandas as pd\\nimport seaborn as sns\\nimport matplotlib.pyplot as plt\\nimport numpy as np'); }\n",
       "    "
      ],
      "text/plain": [
       "<IPython.core.display.Javascript object>"
      ]
     },
     "metadata": {},
     "output_type": "display_data"
    },
    {
     "data": {
      "application/javascript": [
       "\n",
       "        if (window._pyforest_update_imports_cell) { window._pyforest_update_imports_cell('import pandas as pd\\nimport seaborn as sns\\nimport matplotlib.pyplot as plt\\nimport numpy as np'); }\n",
       "    "
      ],
      "text/plain": [
       "<IPython.core.display.Javascript object>"
      ]
     },
     "metadata": {},
     "output_type": "display_data"
    },
    {
     "data": {
      "application/javascript": [
       "\n",
       "        if (window._pyforest_update_imports_cell) { window._pyforest_update_imports_cell('import pandas as pd\\nimport seaborn as sns\\nimport matplotlib.pyplot as plt\\nimport numpy as np'); }\n",
       "    "
      ],
      "text/plain": [
       "<IPython.core.display.Javascript object>"
      ]
     },
     "metadata": {},
     "output_type": "display_data"
    },
    {
     "data": {
      "image/png": "[encoded data removed]",
      "text/plain": [
       "<Figure size 1080x504 with 3 Axes>"
      ]
     },
     "metadata": {
      "needs_background": "light"
     },
     "output_type": "display_data"
    }
   ],
   "source": [
    "# seasonal decompose \n",
    "plt.figure(figsize=[15,7])\n",
    "bit_train_2015 = bit_train[(bit_train.index >= '2015-01-01') & (bit_train.index <= '2015-12-31')]\n",
    "result_decompose = sm.tsa.seasonal_decompose(bit_train_2015.Weighted_Price\n",
    "                                             ,model = 'additive')\n",
    "print(\"Dickey–Fuller test: p=%f\" % sm.tsa.stattools.adfuller(bit_train.Weighted_Price)[1])\n",
    "\n",
    "plt.subplot(311)\n",
    "result_decompose.trend.plot()\n",
    "plt.title(\"Weighted_Price-trend\")\n",
    "\n",
    "plt.subplot(312)\n",
    "result_decompose.seasonal.plot()\n",
    "plt.title(\"Weighted_Price-seasonal\")\n",
    "\n",
    "plt.subplot(313)\n",
    "result_decompose.resid.plot()\n",
    "plt.title(\"Weighted_Price-resid\")\n",
    "\n",
    "plt.show()"
   ]
  },
  {
   "cell_type": "code",
   "execution_count": 38,
   "metadata": {},
   "outputs": [
    {
     "name": "stdout",
     "output_type": "stream",
     "text": [
      "The Autocorrelation plot for the data is:\n"
     ]
    },
    {
     "data": {
      "application/javascript": [
       "\n",
       "        if (window._pyforest_update_imports_cell) { window._pyforest_update_imports_cell('from sklearn import metrics\\nimport numpy as np\\nimport pandas as pd\\nimport seaborn as sns\\nimport matplotlib.pyplot as plt'); }\n",
       "    "
      ],
      "text/plain": [
       "<IPython.core.display.Javascript object>"
      ]
     },
     "metadata": {},
     "output_type": "display_data"
    },
    {
     "data": {
      "application/javascript": [
       "\n",
       "        if (window._pyforest_update_imports_cell) { window._pyforest_update_imports_cell('from sklearn import metrics\\nimport numpy as np\\nimport pandas as pd\\nimport seaborn as sns\\nimport matplotlib.pyplot as plt'); }\n",
       "    "
      ],
      "text/plain": [
       "<IPython.core.display.Javascript object>"
      ]
     },
     "metadata": {},
     "output_type": "display_data"
    },
    {
     "data": {
      "application/javascript": [
       "\n",
       "        if (window._pyforest_update_imports_cell) { window._pyforest_update_imports_cell('from sklearn import metrics\\nimport numpy as np\\nimport pandas as pd\\nimport seaborn as sns\\nimport matplotlib.pyplot as plt'); }\n",
       "    "
      ],
      "text/plain": [
       "<IPython.core.display.Javascript object>"
      ]
     },
     "metadata": {},
     "output_type": "display_data"
    },
    {
     "data": {
      "application/javascript": [
       "\n",
       "        if (window._pyforest_update_imports_cell) { window._pyforest_update_imports_cell('from sklearn import metrics\\nimport numpy as np\\nimport pandas as pd\\nimport seaborn as sns\\nimport matplotlib.pyplot as plt'); }\n",
       "    "
      ],
      "text/plain": [
       "<IPython.core.display.Javascript object>"
      ]
     },
     "metadata": {},
     "output_type": "display_data"
    },
    {
     "data": {
      "application/javascript": [
       "\n",
       "        if (window._pyforest_update_imports_cell) { window._pyforest_update_imports_cell('from sklearn import metrics\\nimport numpy as np\\nimport pandas as pd\\nimport seaborn as sns\\nimport matplotlib.pyplot as plt'); }\n",
       "    "
      ],
      "text/plain": [
       "<IPython.core.display.Javascript object>"
      ]
     },
     "metadata": {},
     "output_type": "display_data"
    },
    {
     "data": {
      "application/javascript": [
       "\n",
       "        if (window._pyforest_update_imports_cell) { window._pyforest_update_imports_cell('from sklearn import metrics\\nimport numpy as np\\nimport pandas as pd\\nimport seaborn as sns\\nimport matplotlib.pyplot as plt'); }\n",
       "    "
      ],
      "text/plain": [
       "<IPython.core.display.Javascript object>"
      ]
     },
     "metadata": {},
     "output_type": "display_data"
    },
    {
     "data": {
      "application/javascript": [
       "\n",
       "        if (window._pyforest_update_imports_cell) { window._pyforest_update_imports_cell('from sklearn import metrics\\nimport numpy as np\\nimport pandas as pd\\nimport seaborn as sns\\nimport matplotlib.pyplot as plt'); }\n",
       "    "
      ],
      "text/plain": [
       "<IPython.core.display.Javascript object>"
      ]
     },
     "metadata": {},
     "output_type": "display_data"
    },
    {
     "data": {
      "application/javascript": [
       "\n",
       "        if (window._pyforest_update_imports_cell) { window._pyforest_update_imports_cell('from sklearn import metrics\\nimport numpy as np\\nimport pandas as pd\\nimport seaborn as sns\\nimport matplotlib.pyplot as plt'); }\n",
       "    "
      ],
      "text/plain": [
       "<IPython.core.display.Javascript object>"
      ]
     },
     "metadata": {},
     "output_type": "display_data"
    },
    {
     "data": {
      "application/javascript": [
       "\n",
       "        if (window._pyforest_update_imports_cell) { window._pyforest_update_imports_cell('from sklearn import metrics\\nimport numpy as np\\nimport pandas as pd\\nimport seaborn as sns\\nimport matplotlib.pyplot as plt'); }\n",
       "    "
      ],
      "text/plain": [
       "<IPython.core.display.Javascript object>"
      ]
     },
     "metadata": {},
     "output_type": "display_data"
    },
    {
     "data": {
      "application/javascript": [
       "\n",
       "        if (window._pyforest_update_imports_cell) { window._pyforest_update_imports_cell('from sklearn import metrics\\nimport numpy as np\\nimport pandas as pd\\nimport seaborn as sns\\nimport matplotlib.pyplot as plt'); }\n",
       "    "
      ],
      "text/plain": [
       "<IPython.core.display.Javascript object>"
      ]
     },
     "metadata": {},
     "output_type": "display_data"
    },
    {
     "data": {
      "application/javascript": [
       "\n",
       "        if (window._pyforest_update_imports_cell) { window._pyforest_update_imports_cell('from sklearn import metrics\\nimport numpy as np\\nimport pandas as pd\\nimport seaborn as sns\\nimport matplotlib.pyplot as plt'); }\n",
       "    "
      ],
      "text/plain": [
       "<IPython.core.display.Javascript object>"
      ]
     },
     "metadata": {},
     "output_type": "display_data"
    },
    {
     "data": {
      "image/png": "[encoded data removed]",
      "text/plain": [
       "<Figure size 1152x504 with 1 Axes>"
      ]
     },
     "metadata": {
      "needs_background": "light"
     },
     "output_type": "display_data"
    }
   ],
   "source": [
    "#### auto correlation plot\n",
    "from statsmodels.tsa.stattools import acf, pacf\n",
    "# Displaying the plot.\n",
    "print(\"The Autocorrelation plot for the data is:\")\n",
    "\n",
    "\"\"\"sm.graphics.tsa.plot_acf(bit_train['Weighted_Price'], lags=40)\n",
    "plt.figure(figsize=[15,7])\n",
    "plt.show()\"\"\"\n",
    "\n",
    "#calling auto correlation function\n",
    "lag_acf = acf(bit_train['Weighted_Price'], nlags=300)\n",
    "#Plot PACF:\n",
    "plt.figure(figsize=(16, 7))\n",
    "plt.plot(lag_acf,marker='+')\n",
    "plt.axhline(y=0,linestyle='--',color='gray')\n",
    "plt.axhline(y=-1.96/np.sqrt(len(bit_train['Weighted_Price'])),linestyle='--',color='gray')\n",
    "plt.axhline(y=1.96/np.sqrt(len(bit_train['Weighted_Price'])),linestyle='--',color='gray')\n",
    "plt.title('Autocorrelation Function')\n",
    "plt.xlabel('number of lags')\n",
    "plt.ylabel('correlation')\n",
    "plt.tight_layout()\n"
   ]
  },
  {
   "cell_type": "code",
   "execution_count": 52,
   "metadata": {},
   "outputs": [
    {
     "data": {
      "application/javascript": [
       "\n",
       "        if (window._pyforest_update_imports_cell) { window._pyforest_update_imports_cell('from sklearn import metrics\\nimport numpy as np\\nimport pandas as pd\\nimport seaborn as sns\\nimport matplotlib.pyplot as plt'); }\n",
       "    "
      ],
      "text/plain": [
       "<IPython.core.display.Javascript object>"
      ]
     },
     "metadata": {},
     "output_type": "display_data"
    },
    {
     "name": "stdout",
     "output_type": "stream",
     "text": [
      "Dickey–Fuller test: p=0.000000\n"
     ]
    },
    {
     "data": {
      "application/javascript": [
       "\n",
       "        if (window._pyforest_update_imports_cell) { window._pyforest_update_imports_cell('from sklearn import metrics\\nimport numpy as np\\nimport pandas as pd\\nimport seaborn as sns\\nimport matplotlib.pyplot as plt'); }\n",
       "    "
      ],
      "text/plain": [
       "<IPython.core.display.Javascript object>"
      ]
     },
     "metadata": {},
     "output_type": "display_data"
    },
    {
     "data": {
      "application/javascript": [
       "\n",
       "        if (window._pyforest_update_imports_cell) { window._pyforest_update_imports_cell('from sklearn import metrics\\nimport numpy as np\\nimport pandas as pd\\nimport seaborn as sns\\nimport matplotlib.pyplot as plt'); }\n",
       "    "
      ],
      "text/plain": [
       "<IPython.core.display.Javascript object>"
      ]
     },
     "metadata": {},
     "output_type": "display_data"
    },
    {
     "data": {
      "application/javascript": [
       "\n",
       "        if (window._pyforest_update_imports_cell) { window._pyforest_update_imports_cell('from sklearn import metrics\\nimport numpy as np\\nimport pandas as pd\\nimport seaborn as sns\\nimport matplotlib.pyplot as plt'); }\n",
       "    "
      ],
      "text/plain": [
       "<IPython.core.display.Javascript object>"
      ]
     },
     "metadata": {},
     "output_type": "display_data"
    },
    {
     "data": {
      "application/javascript": [
       "\n",
       "        if (window._pyforest_update_imports_cell) { window._pyforest_update_imports_cell('from sklearn import metrics\\nimport numpy as np\\nimport pandas as pd\\nimport seaborn as sns\\nimport matplotlib.pyplot as plt'); }\n",
       "    "
      ],
      "text/plain": [
       "<IPython.core.display.Javascript object>"
      ]
     },
     "metadata": {},
     "output_type": "display_data"
    },
    {
     "data": {
      "application/javascript": [
       "\n",
       "        if (window._pyforest_update_imports_cell) { window._pyforest_update_imports_cell('from sklearn import metrics\\nimport numpy as np\\nimport pandas as pd\\nimport seaborn as sns\\nimport matplotlib.pyplot as plt'); }\n",
       "    "
      ],
      "text/plain": [
       "<IPython.core.display.Javascript object>"
      ]
     },
     "metadata": {},
     "output_type": "display_data"
    },
    {
     "data": {
      "application/javascript": [
       "\n",
       "        if (window._pyforest_update_imports_cell) { window._pyforest_update_imports_cell('from sklearn import metrics\\nimport numpy as np\\nimport pandas as pd\\nimport seaborn as sns\\nimport matplotlib.pyplot as plt'); }\n",
       "    "
      ],
      "text/plain": [
       "<IPython.core.display.Javascript object>"
      ]
     },
     "metadata": {},
     "output_type": "display_data"
    },
    {
     "data": {
      "application/javascript": [
       "\n",
       "        if (window._pyforest_update_imports_cell) { window._pyforest_update_imports_cell('from sklearn import metrics\\nimport numpy as np\\nimport pandas as pd\\nimport seaborn as sns\\nimport matplotlib.pyplot as plt'); }\n",
       "    "
      ],
      "text/plain": [
       "<IPython.core.display.Javascript object>"
      ]
     },
     "metadata": {},
     "output_type": "display_data"
    },
    {
     "data": {
      "application/javascript": [
       "\n",
       "        if (window._pyforest_update_imports_cell) { window._pyforest_update_imports_cell('from sklearn import metrics\\nimport numpy as np\\nimport pandas as pd\\nimport seaborn as sns\\nimport matplotlib.pyplot as plt'); }\n",
       "    "
      ],
      "text/plain": [
       "<IPython.core.display.Javascript object>"
      ]
     },
     "metadata": {},
     "output_type": "display_data"
    },
    {
     "data": {
      "application/javascript": [
       "\n",
       "        if (window._pyforest_update_imports_cell) { window._pyforest_update_imports_cell('from sklearn import metrics\\nimport numpy as np\\nimport pandas as pd\\nimport seaborn as sns\\nimport matplotlib.pyplot as plt'); }\n",
       "    "
      ],
      "text/plain": [
       "<IPython.core.display.Javascript object>"
      ]
     },
     "metadata": {},
     "output_type": "display_data"
    },
    {
     "data": {
      "application/javascript": [
       "\n",
       "        if (window._pyforest_update_imports_cell) { window._pyforest_update_imports_cell('from sklearn import metrics\\nimport numpy as np\\nimport pandas as pd\\nimport seaborn as sns\\nimport matplotlib.pyplot as plt'); }\n",
       "    "
      ],
      "text/plain": [
       "<IPython.core.display.Javascript object>"
      ]
     },
     "metadata": {},
     "output_type": "display_data"
    },
    {
     "data": {
      "application/javascript": [
       "\n",
       "        if (window._pyforest_update_imports_cell) { window._pyforest_update_imports_cell('from sklearn import metrics\\nimport numpy as np\\nimport pandas as pd\\nimport seaborn as sns\\nimport matplotlib.pyplot as plt'); }\n",
       "    "
      ],
      "text/plain": [
       "<IPython.core.display.Javascript object>"
      ]
     },
     "metadata": {},
     "output_type": "display_data"
    },
    {
     "data": {
      "image/png": "[encoded data removed]",
      "text/plain": [
       "<Figure size 1152x504 with 1 Axes>"
      ]
     },
     "metadata": {
      "needs_background": "light"
     },
     "output_type": "display_data"
    }
   ],
   "source": [
    "#### autocorrelation after differencing\n",
    "bit_train['Weighted_Price_diff1'] = bit_train['Weighted_Price'].diff()\n",
    "bit_train['Weighted_Price_diff1'] = bit_train['Weighted_Price_diff1'].replace(np.nan,0)\n",
    "print(\"Dickey–Fuller test: p=%f\" % sm.tsa.stattools.adfuller(bit_train.Weighted_Price_diff1)[1])\n",
    "#calling auto correlation function\n",
    "lag_acf = acf(bit_train['Weighted_Price_diff1'], nlags=300)\n",
    "#Plot PACF:\n",
    "plt.figure(figsize=(16, 7))\n",
    "plt.plot(lag_acf,marker='+')\n",
    "plt.axhline(y=0,linestyle='--',color='gray')\n",
    "plt.axhline(y=-1.96/np.sqrt(len(bit_train['Weighted_Price_diff1'])),linestyle='--',color='gray')\n",
    "plt.axhline(y=1.96/np.sqrt(len(bit_train['Weighted_Price_diff1'])),linestyle='--',color='gray')\n",
    "plt.title('Autocorrelation Function')\n",
    "plt.xlabel('number of lags')\n",
    "plt.ylabel('correlation')\n",
    "plt.tight_layout()\n"
   ]
  },
  {
   "cell_type": "code",
   "execution_count": 39,
   "metadata": {},
   "outputs": [
    {
     "data": {
      "application/javascript": [
       "\n",
       "        if (window._pyforest_update_imports_cell) { window._pyforest_update_imports_cell('from sklearn import metrics\\nimport numpy as np\\nimport pandas as pd\\nimport seaborn as sns\\nimport matplotlib.pyplot as plt'); }\n",
       "    "
      ],
      "text/plain": [
       "<IPython.core.display.Javascript object>"
      ]
     },
     "metadata": {},
     "output_type": "display_data"
    },
    {
     "data": {
      "application/javascript": [
       "\n",
       "        if (window._pyforest_update_imports_cell) { window._pyforest_update_imports_cell('from sklearn import metrics\\nimport numpy as np\\nimport pandas as pd\\nimport seaborn as sns\\nimport matplotlib.pyplot as plt'); }\n",
       "    "
      ],
      "text/plain": [
       "<IPython.core.display.Javascript object>"
      ]
     },
     "metadata": {},
     "output_type": "display_data"
    },
    {
     "data": {
      "application/javascript": [
       "\n",
       "        if (window._pyforest_update_imports_cell) { window._pyforest_update_imports_cell('from sklearn import metrics\\nimport numpy as np\\nimport pandas as pd\\nimport seaborn as sns\\nimport matplotlib.pyplot as plt'); }\n",
       "    "
      ],
      "text/plain": [
       "<IPython.core.display.Javascript object>"
      ]
     },
     "metadata": {},
     "output_type": "display_data"
    },
    {
     "data": {
      "application/javascript": [
       "\n",
       "        if (window._pyforest_update_imports_cell) { window._pyforest_update_imports_cell('from sklearn import metrics\\nimport numpy as np\\nimport pandas as pd\\nimport seaborn as sns\\nimport matplotlib.pyplot as plt'); }\n",
       "    "
      ],
      "text/plain": [
       "<IPython.core.display.Javascript object>"
      ]
     },
     "metadata": {},
     "output_type": "display_data"
    },
    {
     "data": {
      "application/javascript": [
       "\n",
       "        if (window._pyforest_update_imports_cell) { window._pyforest_update_imports_cell('from sklearn import metrics\\nimport numpy as np\\nimport pandas as pd\\nimport seaborn as sns\\nimport matplotlib.pyplot as plt'); }\n",
       "    "
      ],
      "text/plain": [
       "<IPython.core.display.Javascript object>"
      ]
     },
     "metadata": {},
     "output_type": "display_data"
    },
    {
     "data": {
      "application/javascript": [
       "\n",
       "        if (window._pyforest_update_imports_cell) { window._pyforest_update_imports_cell('from sklearn import metrics\\nimport numpy as np\\nimport pandas as pd\\nimport seaborn as sns\\nimport matplotlib.pyplot as plt'); }\n",
       "    "
      ],
      "text/plain": [
       "<IPython.core.display.Javascript object>"
      ]
     },
     "metadata": {},
     "output_type": "display_data"
    },
    {
     "data": {
      "application/javascript": [
       "\n",
       "        if (window._pyforest_update_imports_cell) { window._pyforest_update_imports_cell('from sklearn import metrics\\nimport numpy as np\\nimport pandas as pd\\nimport seaborn as sns\\nimport matplotlib.pyplot as plt'); }\n",
       "    "
      ],
      "text/plain": [
       "<IPython.core.display.Javascript object>"
      ]
     },
     "metadata": {},
     "output_type": "display_data"
    },
    {
     "data": {
      "application/javascript": [
       "\n",
       "        if (window._pyforest_update_imports_cell) { window._pyforest_update_imports_cell('from sklearn import metrics\\nimport numpy as np\\nimport pandas as pd\\nimport seaborn as sns\\nimport matplotlib.pyplot as plt'); }\n",
       "    "
      ],
      "text/plain": [
       "<IPython.core.display.Javascript object>"
      ]
     },
     "metadata": {},
     "output_type": "display_data"
    },
    {
     "data": {
      "application/javascript": [
       "\n",
       "        if (window._pyforest_update_imports_cell) { window._pyforest_update_imports_cell('from sklearn import metrics\\nimport numpy as np\\nimport pandas as pd\\nimport seaborn as sns\\nimport matplotlib.pyplot as plt'); }\n",
       "    "
      ],
      "text/plain": [
       "<IPython.core.display.Javascript object>"
      ]
     },
     "metadata": {},
     "output_type": "display_data"
    },
    {
     "data": {
      "application/javascript": [
       "\n",
       "        if (window._pyforest_update_imports_cell) { window._pyforest_update_imports_cell('from sklearn import metrics\\nimport numpy as np\\nimport pandas as pd\\nimport seaborn as sns\\nimport matplotlib.pyplot as plt'); }\n",
       "    "
      ],
      "text/plain": [
       "<IPython.core.display.Javascript object>"
      ]
     },
     "metadata": {},
     "output_type": "display_data"
    },
    {
     "data": {
      "application/javascript": [
       "\n",
       "        if (window._pyforest_update_imports_cell) { window._pyforest_update_imports_cell('from sklearn import metrics\\nimport numpy as np\\nimport pandas as pd\\nimport seaborn as sns\\nimport matplotlib.pyplot as plt'); }\n",
       "    "
      ],
      "text/plain": [
       "<IPython.core.display.Javascript object>"
      ]
     },
     "metadata": {},
     "output_type": "display_data"
    },
    {
     "data": {
      "image/png": "[encoded data removed]",
      "text/plain": [
       "<Figure size 1152x504 with 1 Axes>"
      ]
     },
     "metadata": {
      "needs_background": "light"
     },
     "output_type": "display_data"
    }
   ],
   "source": [
    "#calling partial correlation function\n",
    "lag_pacf = pacf(bit_train['Weighted_Price'], nlags=30, method='ols')\n",
    "#Plot PACF:\n",
    "plt.figure(figsize=(16, 7))\n",
    "plt.plot(lag_pacf,marker='+')\n",
    "plt.axhline(y=0,linestyle='--',color='gray')\n",
    "plt.axhline(y=-1.96/np.sqrt(len(bit_train['Weighted_Price'])),linestyle='--',color='gray')\n",
    "plt.axhline(y=1.96/np.sqrt(len(bit_train['Weighted_Price'])),linestyle='--',color='gray')\n",
    "plt.title('Partial Autocorrelation Function')\n",
    "plt.xlabel('Number of lags')\n",
    "plt.ylabel('correlation')\n",
    "plt.tight_layout()"
   ]
  },
  {
   "cell_type": "code",
   "execution_count": 20,
   "metadata": {},
   "outputs": [],
   "source": [
    "# Box-Cox Transformations (cannot perform, our data has a lot of zeros)\n",
    "# bit_train['Weighted_Price_box'], lmbda = stats.boxcox(bit_train.Weighted_Price)\n",
    "# print(\"Dickey–Fuller test: p=%f\" % sm.tsa.stattools.adfuller(bit_train.Weighted_Price_box)[1])"
   ]
  },
  {
   "cell_type": "code",
   "execution_count": 53,
   "metadata": {},
   "outputs": [
    {
     "name": "stdout",
     "output_type": "stream",
     "text": [
      "Performing stepwise search to minimize aic\n",
      " ARIMA(2,1,2)(1,0,1)[7] intercept   : AIC=18273.469, Time=0.82 sec\n",
      " ARIMA(0,1,0)(0,0,0)[7] intercept   : AIC=18271.050, Time=0.16 sec\n",
      " ARIMA(1,1,0)(1,0,0)[7] intercept   : AIC=18265.391, Time=0.29 sec\n",
      " ARIMA(0,1,1)(0,0,1)[7] intercept   : AIC=18265.260, Time=0.49 sec\n",
      " ARIMA(0,1,0)(0,0,0)[7]             : AIC=26162.728, Time=0.03 sec\n",
      " ARIMA(0,1,1)(0,0,0)[7] intercept   : AIC=18266.232, Time=0.15 sec\n",
      " ARIMA(0,1,1)(1,0,1)[7] intercept   : AIC=18267.974, Time=1.14 sec\n",
      " ARIMA(0,1,1)(0,0,2)[7] intercept   : AIC=18261.849, Time=0.56 sec\n",
      " ARIMA(0,1,1)(1,0,2)[7] intercept   : AIC=18260.098, Time=0.81 sec\n",
      " ARIMA(0,1,1)(2,0,2)[7] intercept   : AIC=18262.436, Time=0.86 sec\n",
      " ARIMA(0,1,1)(2,0,1)[7] intercept   : AIC=18249.244, Time=0.98 sec\n",
      " ARIMA(0,1,1)(2,0,0)[7] intercept   : AIC=18260.719, Time=0.83 sec\n",
      " ARIMA(0,1,1)(1,0,0)[7] intercept   : AIC=18265.662, Time=0.37 sec\n",
      " ARIMA(0,1,0)(2,0,1)[7] intercept   : AIC=18255.210, Time=1.06 sec\n",
      " ARIMA(1,1,1)(2,0,1)[7] intercept   : AIC=18250.754, Time=0.93 sec\n",
      " ARIMA(0,1,2)(2,0,1)[7] intercept   : AIC=18250.765, Time=1.15 sec\n",
      " ARIMA(1,1,0)(2,0,1)[7] intercept   : AIC=18248.912, Time=1.03 sec\n",
      " ARIMA(1,1,0)(1,0,1)[7] intercept   : AIC=18267.770, Time=0.71 sec\n",
      " ARIMA(1,1,0)(2,0,0)[7] intercept   : AIC=18260.455, Time=1.27 sec\n",
      " ARIMA(1,1,0)(2,0,2)[7] intercept   : AIC=18262.157, Time=0.68 sec\n",
      " ARIMA(1,1,0)(1,0,2)[7] intercept   : AIC=18249.983, Time=2.00 sec\n",
      " ARIMA(2,1,0)(2,0,1)[7] intercept   : AIC=18250.650, Time=1.48 sec\n",
      " ARIMA(2,1,1)(2,0,1)[7] intercept   : AIC=18252.090, Time=1.19 sec\n",
      " ARIMA(1,1,0)(2,0,1)[7]             : AIC=18247.425, Time=0.87 sec\n",
      " ARIMA(1,1,0)(1,0,1)[7]             : AIC=18259.892, Time=0.95 sec\n",
      " ARIMA(1,1,0)(2,0,0)[7]             : AIC=18259.129, Time=0.66 sec\n",
      " ARIMA(1,1,0)(2,0,2)[7]             : AIC=18260.862, Time=0.58 sec\n",
      " ARIMA(1,1,0)(1,0,0)[7]             : AIC=18263.966, Time=0.24 sec\n",
      " ARIMA(1,1,0)(1,0,2)[7]             : AIC=18250.211, Time=1.30 sec\n",
      " ARIMA(0,1,0)(2,0,1)[7]             : AIC=18253.504, Time=0.95 sec\n",
      " ARIMA(2,1,0)(2,0,1)[7]             : AIC=18249.147, Time=1.69 sec\n",
      " ARIMA(1,1,1)(2,0,1)[7]             : AIC=18249.198, Time=0.87 sec\n",
      " ARIMA(0,1,1)(2,0,1)[7]             : AIC=18247.787, Time=0.79 sec\n",
      " ARIMA(2,1,1)(2,0,1)[7]             : AIC=18250.602, Time=1.18 sec\n",
      "\n",
      "Best model:  ARIMA(1,1,0)(2,0,1)[7]          \n",
      "Total fit time: 29.106 seconds\n"
     ]
    }
   ],
   "source": [
    "import random\n",
    "random.seed(13)\n",
    "prior_model = auto_arima(bit_train['Weighted_Price'],exogenous = bit_train[['Volume_(Currency)','Volume_(BTC)']]\n",
    "                         ,seasonal = True,m = 7,trace = True,stationary=False,n_jobs=-1)"
   ]
  },
  {
   "cell_type": "code",
   "execution_count": 54,
   "metadata": {},
   "outputs": [
    {
     "data": {
      "text/html": [
       "<table class=\"simpletable\">\n",
       "<caption>SARIMAX Results</caption>\n",
       "<tr>\n",
       "  <th>Dep. Variable:</th>                  <td>y</td>                <th>  No. Observations:  </th>   <td>1283</td>   \n",
       "</tr>\n",
       "<tr>\n",
       "  <th>Model:</th>           <td>SARIMAX(1, 1, 0)x(2, 0, [1], 7)</td> <th>  Log Likelihood     </th> <td>-9116.713</td>\n",
       "</tr>\n",
       "<tr>\n",
       "  <th>Date:</th>                   <td>Tue, 26 Jul 2022</td>         <th>  AIC                </th> <td>18247.425</td>\n",
       "</tr>\n",
       "<tr>\n",
       "  <th>Time:</th>                       <td>20:18:45</td>             <th>  BIC                </th> <td>18283.518</td>\n",
       "</tr>\n",
       "<tr>\n",
       "  <th>Sample:</th>                    <td>11-30-2014</td>            <th>  HQIC               </th> <td>18260.977</td>\n",
       "</tr>\n",
       "<tr>\n",
       "  <th></th>                          <td>- 06-04-2018</td>           <th>                     </th>     <td> </td>    \n",
       "</tr>\n",
       "<tr>\n",
       "  <th>Covariance Type:</th>               <td>opg</td>               <th>                     </th>     <td> </td>    \n",
       "</tr>\n",
       "</table>\n",
       "<table class=\"simpletable\">\n",
       "<tr>\n",
       "          <td></td>             <th>coef</th>     <th>std err</th>      <th>z</th>      <th>P>|z|</th>  <th>[0.025</th>    <th>0.975]</th>  \n",
       "</tr>\n",
       "<tr>\n",
       "  <th>Volume_(Currency)</th> <td>   -0.0003</td> <td>    0.000</td> <td>   -2.122</td> <td> 0.034</td> <td>   -0.001</td> <td>-2.17e-05</td>\n",
       "</tr>\n",
       "<tr>\n",
       "  <th>Volume_(BTC)</th>      <td>   -0.3768</td> <td>    1.426</td> <td>   -0.264</td> <td> 0.792</td> <td>   -3.172</td> <td>    2.418</td>\n",
       "</tr>\n",
       "<tr>\n",
       "  <th>ar.L1</th>             <td>   -0.0813</td> <td>    0.010</td> <td>   -8.078</td> <td> 0.000</td> <td>   -0.101</td> <td>   -0.062</td>\n",
       "</tr>\n",
       "<tr>\n",
       "  <th>ar.S.L7</th>           <td>   -0.7665</td> <td>    0.050</td> <td>  -15.463</td> <td> 0.000</td> <td>   -0.864</td> <td>   -0.669</td>\n",
       "</tr>\n",
       "<tr>\n",
       "  <th>ar.S.L14</th>          <td>   -0.1196</td> <td>    0.012</td> <td>   -9.788</td> <td> 0.000</td> <td>   -0.144</td> <td>   -0.096</td>\n",
       "</tr>\n",
       "<tr>\n",
       "  <th>ma.S.L7</th>           <td>    0.7290</td> <td>    0.049</td> <td>   14.917</td> <td> 0.000</td> <td>    0.633</td> <td>    0.825</td>\n",
       "</tr>\n",
       "<tr>\n",
       "  <th>sigma2</th>            <td> 8.963e+04</td> <td>  974.311</td> <td>   91.995</td> <td> 0.000</td> <td> 8.77e+04</td> <td> 9.15e+04</td>\n",
       "</tr>\n",
       "</table>\n",
       "<table class=\"simpletable\">\n",
       "<tr>\n",
       "  <th>Ljung-Box (L1) (Q):</th>      <td>0.00</td>   <th>  Jarque-Bera (JB):  </th> <td>56194.18</td>\n",
       "</tr>\n",
       "<tr>\n",
       "  <th>Prob(Q):</th>                 <td>0.98</td>   <th>  Prob(JB):          </th>   <td>0.00</td>  \n",
       "</tr>\n",
       "<tr>\n",
       "  <th>Heteroskedasticity (H):</th> <td>1270.16</td> <th>  Skew:              </th>   <td>-0.83</td> \n",
       "</tr>\n",
       "<tr>\n",
       "  <th>Prob(H) (two-sided):</th>     <td>0.00</td>   <th>  Kurtosis:          </th>   <td>35.39</td> \n",
       "</tr>\n",
       "</table><br/><br/>Warnings:<br/>[1] Covariance matrix calculated using the outer product of gradients (complex-step).<br/>[2] Covariance matrix is singular or near-singular, with condition number 7.87e+14. Standard errors may be unstable."
      ],
      "text/plain": [
       "<class 'statsmodels.iolib.summary.Summary'>\n",
       "\"\"\"\n",
       "                                      SARIMAX Results                                      \n",
       "===========================================================================================\n",
       "Dep. Variable:                                   y   No. Observations:                 1283\n",
       "Model:             SARIMAX(1, 1, 0)x(2, 0, [1], 7)   Log Likelihood               -9116.713\n",
       "Date:                             Tue, 26 Jul 2022   AIC                          18247.425\n",
       "Time:                                     20:18:45   BIC                          18283.518\n",
       "Sample:                                 11-30-2014   HQIC                         18260.977\n",
       "                                      - 06-04-2018                                         \n",
       "Covariance Type:                               opg                                         \n",
       "=====================================================================================\n",
       "                        coef    std err          z      P>|z|      [0.025      0.975]\n",
       "-------------------------------------------------------------------------------------\n",
       "Volume_(Currency)    -0.0003      0.000     -2.122      0.034      -0.001   -2.17e-05\n",
       "Volume_(BTC)         -0.3768      1.426     -0.264      0.792      -3.172       2.418\n",
       "ar.L1                -0.0813      0.010     -8.078      0.000      -0.101      -0.062\n",
       "ar.S.L7              -0.7665      0.050    -15.463      0.000      -0.864      -0.669\n",
       "ar.S.L14             -0.1196      0.012     -9.788      0.000      -0.144      -0.096\n",
       "ma.S.L7               0.7290      0.049     14.917      0.000       0.633       0.825\n",
       "sigma2             8.963e+04    974.311     91.995      0.000    8.77e+04    9.15e+04\n",
       "===================================================================================\n",
       "Ljung-Box (L1) (Q):                   0.00   Jarque-Bera (JB):             56194.18\n",
       "Prob(Q):                              0.98   Prob(JB):                         0.00\n",
       "Heteroskedasticity (H):            1270.16   Skew:                            -0.83\n",
       "Prob(H) (two-sided):                  0.00   Kurtosis:                        35.39\n",
       "===================================================================================\n",
       "\n",
       "Warnings:\n",
       "[1] Covariance matrix calculated using the outer product of gradients (complex-step).\n",
       "[2] Covariance matrix is singular or near-singular, with condition number 7.87e+14. Standard errors may be unstable.\n",
       "\"\"\""
      ]
     },
     "execution_count": 54,
     "metadata": {},
     "output_type": "execute_result"
    }
   ],
   "source": [
    "prior_model.summary()"
   ]
  },
  {
   "cell_type": "code",
   "execution_count": 55,
   "metadata": {},
   "outputs": [
    {
     "name": "stdout",
     "output_type": "stream",
     "text": [
      "Performing stepwise search to minimize aic\n",
      " ARIMA(2,1,2)(1,0,1)[7] intercept   : AIC=18271.907, Time=1.06 sec\n",
      " ARIMA(0,1,0)(0,0,0)[7] intercept   : AIC=18269.245, Time=0.04 sec\n",
      " ARIMA(1,1,0)(1,0,0)[7] intercept   : AIC=18263.668, Time=0.24 sec\n",
      " ARIMA(0,1,1)(0,0,1)[7] intercept   : AIC=18263.530, Time=0.45 sec\n",
      " ARIMA(0,1,0)(0,0,0)[7]             : AIC=26160.923, Time=0.02 sec\n",
      " ARIMA(0,1,1)(0,0,0)[7] intercept   : AIC=18264.484, Time=0.10 sec\n",
      " ARIMA(0,1,1)(1,0,1)[7] intercept   : AIC=18260.290, Time=1.05 sec\n",
      " ARIMA(0,1,1)(1,0,0)[7] intercept   : AIC=18263.931, Time=0.30 sec\n",
      " ARIMA(0,1,1)(2,0,1)[7] intercept   : AIC=18247.698, Time=0.94 sec\n",
      " ARIMA(0,1,1)(2,0,0)[7] intercept   : AIC=18258.963, Time=0.41 sec\n",
      " ARIMA(0,1,1)(2,0,2)[7] intercept   : AIC=18260.778, Time=0.72 sec\n",
      " ARIMA(0,1,1)(1,0,2)[7] intercept   : AIC=18258.437, Time=0.76 sec\n",
      " ARIMA(0,1,0)(2,0,1)[7] intercept   : AIC=18253.583, Time=0.69 sec\n",
      " ARIMA(1,1,1)(2,0,1)[7] intercept   : AIC=18249.267, Time=0.93 sec\n",
      " ARIMA(0,1,2)(2,0,1)[7] intercept   : AIC=18249.264, Time=0.81 sec\n",
      " ARIMA(1,1,0)(2,0,1)[7] intercept   : AIC=18247.384, Time=1.07 sec\n",
      " ARIMA(1,1,0)(1,0,1)[7] intercept   : AIC=18259.881, Time=0.79 sec\n",
      " ARIMA(1,1,0)(2,0,0)[7] intercept   : AIC=18258.709, Time=0.67 sec\n",
      " ARIMA(1,1,0)(2,0,2)[7] intercept   : AIC=18260.509, Time=0.65 sec\n",
      " ARIMA(1,1,0)(1,0,2)[7] intercept   : AIC=18258.182, Time=0.65 sec\n",
      " ARIMA(2,1,0)(2,0,1)[7] intercept   : AIC=18249.157, Time=1.08 sec\n",
      " ARIMA(2,1,1)(2,0,1)[7] intercept   : AIC=18250.277, Time=1.16 sec\n",
      " ARIMA(1,1,0)(2,0,1)[7]             : AIC=18245.898, Time=0.87 sec\n",
      " ARIMA(1,1,0)(1,0,1)[7]             : AIC=18264.567, Time=0.63 sec\n",
      " ARIMA(1,1,0)(2,0,0)[7]             : AIC=18257.382, Time=0.93 sec\n",
      " ARIMA(1,1,0)(2,0,2)[7]             : AIC=18259.215, Time=0.67 sec\n",
      " ARIMA(1,1,0)(1,0,0)[7]             : AIC=18262.243, Time=0.20 sec\n",
      " ARIMA(1,1,0)(1,0,2)[7]             : AIC=18256.868, Time=0.50 sec\n",
      " ARIMA(0,1,0)(2,0,1)[7]             : AIC=18251.885, Time=0.61 sec\n",
      " ARIMA(2,1,0)(2,0,1)[7]             : AIC=18247.656, Time=1.41 sec\n",
      " ARIMA(1,1,1)(2,0,1)[7]             : AIC=18247.716, Time=0.96 sec\n",
      " ARIMA(0,1,1)(2,0,1)[7]             : AIC=18246.242, Time=0.81 sec\n",
      " ARIMA(2,1,1)(2,0,1)[7]             : AIC=18248.644, Time=0.96 sec\n",
      "\n",
      "Best model:  ARIMA(1,1,0)(2,0,1)[7]          \n",
      "Total fit time: 23.145 seconds\n"
     ]
    }
   ],
   "source": [
    "# train test and model fit\n",
    "import random\n",
    "random.seed(13)\n",
    "best_model = auto_arima(bit_train['Weighted_Price'],exogenous = bit_train[['Volume_(Currency)']],seasonal = True,\n",
    "           m = 7,trace = True,stationary=False,n_jobs=-1)"
   ]
  },
  {
   "cell_type": "code",
   "execution_count": 56,
   "metadata": {},
   "outputs": [
    {
     "data": {
      "text/html": [
       "<table class=\"simpletable\">\n",
       "<caption>SARIMAX Results</caption>\n",
       "<tr>\n",
       "  <th>Dep. Variable:</th>                  <td>y</td>                <th>  No. Observations:  </th>   <td>1283</td>   \n",
       "</tr>\n",
       "<tr>\n",
       "  <th>Model:</th>           <td>SARIMAX(1, 1, 0)x(2, 0, [1], 7)</td> <th>  Log Likelihood     </th> <td>-9116.949</td>\n",
       "</tr>\n",
       "<tr>\n",
       "  <th>Date:</th>                   <td>Tue, 26 Jul 2022</td>         <th>  AIC                </th> <td>18245.898</td>\n",
       "</tr>\n",
       "<tr>\n",
       "  <th>Time:</th>                       <td>20:22:23</td>             <th>  BIC                </th> <td>18276.836</td>\n",
       "</tr>\n",
       "<tr>\n",
       "  <th>Sample:</th>                    <td>11-30-2014</td>            <th>  HQIC               </th> <td>18257.514</td>\n",
       "</tr>\n",
       "<tr>\n",
       "  <th></th>                          <td>- 06-04-2018</td>           <th>                     </th>     <td> </td>    \n",
       "</tr>\n",
       "<tr>\n",
       "  <th>Covariance Type:</th>               <td>opg</td>               <th>                     </th>     <td> </td>    \n",
       "</tr>\n",
       "</table>\n",
       "<table class=\"simpletable\">\n",
       "<tr>\n",
       "          <td></td>             <th>coef</th>     <th>std err</th>      <th>z</th>      <th>P>|z|</th>  <th>[0.025</th>    <th>0.975]</th>  \n",
       "</tr>\n",
       "<tr>\n",
       "  <th>Volume_(Currency)</th> <td>   -0.0003</td> <td> 4.02e-05</td> <td>   -8.187</td> <td> 0.000</td> <td>   -0.000</td> <td>   -0.000</td>\n",
       "</tr>\n",
       "<tr>\n",
       "  <th>ar.L1</th>             <td>   -0.0807</td> <td>    0.010</td> <td>   -8.175</td> <td> 0.000</td> <td>   -0.100</td> <td>   -0.061</td>\n",
       "</tr>\n",
       "<tr>\n",
       "  <th>ar.S.L7</th>           <td>   -0.7583</td> <td>    0.051</td> <td>  -14.984</td> <td> 0.000</td> <td>   -0.857</td> <td>   -0.659</td>\n",
       "</tr>\n",
       "<tr>\n",
       "  <th>ar.S.L14</th>          <td>   -0.1198</td> <td>    0.012</td> <td>  -10.046</td> <td> 0.000</td> <td>   -0.143</td> <td>   -0.096</td>\n",
       "</tr>\n",
       "<tr>\n",
       "  <th>ma.S.L7</th>           <td>    0.7206</td> <td>    0.050</td> <td>   14.405</td> <td> 0.000</td> <td>    0.623</td> <td>    0.819</td>\n",
       "</tr>\n",
       "<tr>\n",
       "  <th>sigma2</th>            <td> 8.965e+04</td> <td>  930.323</td> <td>   96.364</td> <td> 0.000</td> <td> 8.78e+04</td> <td> 9.15e+04</td>\n",
       "</tr>\n",
       "</table>\n",
       "<table class=\"simpletable\">\n",
       "<tr>\n",
       "  <th>Ljung-Box (L1) (Q):</th>      <td>0.00</td>   <th>  Jarque-Bera (JB):  </th> <td>56025.13</td>\n",
       "</tr>\n",
       "<tr>\n",
       "  <th>Prob(Q):</th>                 <td>0.98</td>   <th>  Prob(JB):          </th>   <td>0.00</td>  \n",
       "</tr>\n",
       "<tr>\n",
       "  <th>Heteroskedasticity (H):</th> <td>1414.68</td> <th>  Skew:              </th>   <td>-0.83</td> \n",
       "</tr>\n",
       "<tr>\n",
       "  <th>Prob(H) (two-sided):</th>     <td>0.00</td>   <th>  Kurtosis:          </th>   <td>35.34</td> \n",
       "</tr>\n",
       "</table><br/><br/>Warnings:<br/>[1] Covariance matrix calculated using the outer product of gradients (complex-step)."
      ],
      "text/plain": [
       "<class 'statsmodels.iolib.summary.Summary'>\n",
       "\"\"\"\n",
       "                                      SARIMAX Results                                      \n",
       "===========================================================================================\n",
       "Dep. Variable:                                   y   No. Observations:                 1283\n",
       "Model:             SARIMAX(1, 1, 0)x(2, 0, [1], 7)   Log Likelihood               -9116.949\n",
       "Date:                             Tue, 26 Jul 2022   AIC                          18245.898\n",
       "Time:                                     20:22:23   BIC                          18276.836\n",
       "Sample:                                 11-30-2014   HQIC                         18257.514\n",
       "                                      - 06-04-2018                                         \n",
       "Covariance Type:                               opg                                         \n",
       "=====================================================================================\n",
       "                        coef    std err          z      P>|z|      [0.025      0.975]\n",
       "-------------------------------------------------------------------------------------\n",
       "Volume_(Currency)    -0.0003   4.02e-05     -8.187      0.000      -0.000      -0.000\n",
       "ar.L1                -0.0807      0.010     -8.175      0.000      -0.100      -0.061\n",
       "ar.S.L7              -0.7583      0.051    -14.984      0.000      -0.857      -0.659\n",
       "ar.S.L14             -0.1198      0.012    -10.046      0.000      -0.143      -0.096\n",
       "ma.S.L7               0.7206      0.050     14.405      0.000       0.623       0.819\n",
       "sigma2             8.965e+04    930.323     96.364      0.000    8.78e+04    9.15e+04\n",
       "===================================================================================\n",
       "Ljung-Box (L1) (Q):                   0.00   Jarque-Bera (JB):             56025.13\n",
       "Prob(Q):                              0.98   Prob(JB):                         0.00\n",
       "Heteroskedasticity (H):            1414.68   Skew:                            -0.83\n",
       "Prob(H) (two-sided):                  0.00   Kurtosis:                        35.34\n",
       "===================================================================================\n",
       "\n",
       "Warnings:\n",
       "[1] Covariance matrix calculated using the outer product of gradients (complex-step).\n",
       "\"\"\""
      ]
     },
     "execution_count": 56,
     "metadata": {},
     "output_type": "execute_result"
    }
   ],
   "source": [
    "best_model.summary()"
   ]
  },
  {
   "cell_type": "code",
   "execution_count": 57,
   "metadata": {},
   "outputs": [
    {
     "data": {
      "application/javascript": [
       "\n",
       "        if (window._pyforest_update_imports_cell) { window._pyforest_update_imports_cell('from sklearn import metrics\\nimport numpy as np\\nimport pandas as pd\\nimport seaborn as sns\\nimport matplotlib.pyplot as plt'); }\n",
       "    "
      ],
      "text/plain": [
       "<IPython.core.display.Javascript object>"
      ]
     },
     "metadata": {},
     "output_type": "display_data"
    },
    {
     "data": {
      "image/png": "[encoded data removed]",
      "text/plain": [
       "<Figure size 1008x720 with 4 Axes>"
      ]
     },
     "metadata": {
      "needs_background": "light"
     },
     "output_type": "display_data"
    }
   ],
   "source": [
    "# Analysis of residues for autoarima\n",
    "best_model.plot_diagnostics(figsize=(14,10))\n",
    "plt.show()"
   ]
  },
  {
   "cell_type": "code",
   "execution_count": 64,
   "metadata": {},
   "outputs": [
    {
     "name": "stdout",
     "output_type": "stream",
     "text": [
      "RUNNING THE L-BFGS-B CODE\n",
      "\n",
      "           * * *\n",
      "\n",
      "Machine precision = 2.220D-16\n",
      " N =            6     M =           10\n",
      "\n",
      "At X0         0 variables are exactly at the bounds\n",
      "\n",
      "At iterate    0    f=  7.10613D+00    |proj g|=  2.55697D+00\n"
     ]
    },
    {
     "name": "stderr",
     "output_type": "stream",
     "text": [
      " This problem is unconstrained.\n"
     ]
    },
    {
     "name": "stdout",
     "output_type": "stream",
     "text": [
      "\n",
      "At iterate    5    f=  7.10598D+00    |proj g|=  1.19607D+00\n",
      "\n",
      "           * * *\n",
      "\n",
      "Tit   = total number of iterations\n",
      "Tnf   = total number of function evaluations\n",
      "Tnint = total number of segments explored during Cauchy searches\n",
      "Skip  = number of BFGS updates skipped\n",
      "Nact  = number of active bounds at final generalized Cauchy point\n",
      "Projg = norm of the final projected gradient\n",
      "F     = final function value\n",
      "\n",
      "           * * *\n",
      "\n",
      "   N    Tit     Tnf  Tnint  Skip  Nact     Projg        F\n",
      "    6      9     35      1     0     0   1.744D-03   7.106D+00\n",
      "  F =   7.1059619829247449     \n",
      "\n",
      "CONVERGENCE: REL_REDUCTION_OF_F_<=_FACTR*EPSMCH             \n"
     ]
    },
    {
     "name": "stderr",
     "output_type": "stream",
     "text": [
      "\n",
      " Warning:  more than 10 function and gradient\n",
      "   evaluations in the last line search.  Termination\n",
      "   may possibly be caused by a bad search direction.\n"
     ]
    },
    {
     "data": {
      "text/html": [
       "<table class=\"simpletable\">\n",
       "<caption>SARIMAX Results</caption>\n",
       "<tr>\n",
       "  <th>Dep. Variable:</th>           <td>Weighted_Price</td>          <th>  No. Observations:  </th>   <td>1283</td>   \n",
       "</tr>\n",
       "<tr>\n",
       "  <th>Model:</th>           <td>SARIMAX(1, 1, 0)x(2, 0, [1], 7)</td> <th>  Log Likelihood     </th> <td>-9116.949</td>\n",
       "</tr>\n",
       "<tr>\n",
       "  <th>Date:</th>                   <td>Tue, 26 Jul 2022</td>         <th>  AIC                </th> <td>18245.898</td>\n",
       "</tr>\n",
       "<tr>\n",
       "  <th>Time:</th>                       <td>20:29:33</td>             <th>  BIC                </th> <td>18276.836</td>\n",
       "</tr>\n",
       "<tr>\n",
       "  <th>Sample:</th>                    <td>11-30-2014</td>            <th>  HQIC               </th> <td>18257.514</td>\n",
       "</tr>\n",
       "<tr>\n",
       "  <th></th>                          <td>- 06-04-2018</td>           <th>                     </th>     <td> </td>    \n",
       "</tr>\n",
       "<tr>\n",
       "  <th>Covariance Type:</th>               <td>opg</td>               <th>                     </th>     <td> </td>    \n",
       "</tr>\n",
       "</table>\n",
       "<table class=\"simpletable\">\n",
       "<tr>\n",
       "          <td></td>             <th>coef</th>     <th>std err</th>      <th>z</th>      <th>P>|z|</th>  <th>[0.025</th>    <th>0.975]</th>  \n",
       "</tr>\n",
       "<tr>\n",
       "  <th>Volume_(Currency)</th> <td>   -0.0003</td> <td> 4.02e-05</td> <td>   -8.187</td> <td> 0.000</td> <td>   -0.000</td> <td>   -0.000</td>\n",
       "</tr>\n",
       "<tr>\n",
       "  <th>ar.L1</th>             <td>   -0.0807</td> <td>    0.010</td> <td>   -8.175</td> <td> 0.000</td> <td>   -0.100</td> <td>   -0.061</td>\n",
       "</tr>\n",
       "<tr>\n",
       "  <th>ar.S.L7</th>           <td>   -0.7583</td> <td>    0.051</td> <td>  -14.984</td> <td> 0.000</td> <td>   -0.857</td> <td>   -0.659</td>\n",
       "</tr>\n",
       "<tr>\n",
       "  <th>ar.S.L14</th>          <td>   -0.1198</td> <td>    0.012</td> <td>  -10.046</td> <td> 0.000</td> <td>   -0.143</td> <td>   -0.096</td>\n",
       "</tr>\n",
       "<tr>\n",
       "  <th>ma.S.L7</th>           <td>    0.7206</td> <td>    0.050</td> <td>   14.405</td> <td> 0.000</td> <td>    0.623</td> <td>    0.819</td>\n",
       "</tr>\n",
       "<tr>\n",
       "  <th>sigma2</th>            <td> 8.965e+04</td> <td>  930.323</td> <td>   96.364</td> <td> 0.000</td> <td> 8.78e+04</td> <td> 9.15e+04</td>\n",
       "</tr>\n",
       "</table>\n",
       "<table class=\"simpletable\">\n",
       "<tr>\n",
       "  <th>Ljung-Box (L1) (Q):</th>      <td>0.00</td>   <th>  Jarque-Bera (JB):  </th> <td>56025.13</td>\n",
       "</tr>\n",
       "<tr>\n",
       "  <th>Prob(Q):</th>                 <td>0.98</td>   <th>  Prob(JB):          </th>   <td>0.00</td>  \n",
       "</tr>\n",
       "<tr>\n",
       "  <th>Heteroskedasticity (H):</th> <td>1414.68</td> <th>  Skew:              </th>   <td>-0.83</td> \n",
       "</tr>\n",
       "<tr>\n",
       "  <th>Prob(H) (two-sided):</th>     <td>0.00</td>   <th>  Kurtosis:          </th>   <td>35.34</td> \n",
       "</tr>\n",
       "</table><br/><br/>Warnings:<br/>[1] Covariance matrix calculated using the outer product of gradients (complex-step)."
      ],
      "text/plain": [
       "<class 'statsmodels.iolib.summary.Summary'>\n",
       "\"\"\"\n",
       "                                      SARIMAX Results                                      \n",
       "===========================================================================================\n",
       "Dep. Variable:                      Weighted_Price   No. Observations:                 1283\n",
       "Model:             SARIMAX(1, 1, 0)x(2, 0, [1], 7)   Log Likelihood               -9116.949\n",
       "Date:                             Tue, 26 Jul 2022   AIC                          18245.898\n",
       "Time:                                     20:29:33   BIC                          18276.836\n",
       "Sample:                                 11-30-2014   HQIC                         18257.514\n",
       "                                      - 06-04-2018                                         \n",
       "Covariance Type:                               opg                                         \n",
       "=====================================================================================\n",
       "                        coef    std err          z      P>|z|      [0.025      0.975]\n",
       "-------------------------------------------------------------------------------------\n",
       "Volume_(Currency)    -0.0003   4.02e-05     -8.187      0.000      -0.000      -0.000\n",
       "ar.L1                -0.0807      0.010     -8.175      0.000      -0.100      -0.061\n",
       "ar.S.L7              -0.7583      0.051    -14.984      0.000      -0.857      -0.659\n",
       "ar.S.L14             -0.1198      0.012    -10.046      0.000      -0.143      -0.096\n",
       "ma.S.L7               0.7206      0.050     14.405      0.000       0.623       0.819\n",
       "sigma2             8.965e+04    930.323     96.364      0.000    8.78e+04    9.15e+04\n",
       "===================================================================================\n",
       "Ljung-Box (L1) (Q):                   0.00   Jarque-Bera (JB):             56025.13\n",
       "Prob(Q):                              0.98   Prob(JB):                         0.00\n",
       "Heteroskedasticity (H):            1414.68   Skew:                            -0.83\n",
       "Prob(H) (two-sided):                  0.00   Kurtosis:                        35.34\n",
       "===================================================================================\n",
       "\n",
       "Warnings:\n",
       "[1] Covariance matrix calculated using the outer product of gradients (complex-step).\n",
       "\"\"\""
      ]
     },
     "execution_count": 64,
     "metadata": {},
     "output_type": "execute_result"
    }
   ],
   "source": [
    "# train our sarimax model with exogenous variable\n",
    "\n",
    "model = SARIMAX(bit_train['Weighted_Price'],exog = bit_train[['Volume_(Currency)']],\n",
    "                   order = (1,1,0), seasonal_order = (2,0,1,7)).fit()\n",
    "model.summary()"
   ]
  },
  {
   "cell_type": "code",
   "execution_count": 65,
   "metadata": {},
   "outputs": [
    {
     "data": {
      "application/javascript": [
       "\n",
       "        if (window._pyforest_update_imports_cell) { window._pyforest_update_imports_cell('from sklearn import metrics\\nimport numpy as np\\nimport pandas as pd\\nimport seaborn as sns\\nimport matplotlib.pyplot as plt'); }\n",
       "    "
      ],
      "text/plain": [
       "<IPython.core.display.Javascript object>"
      ]
     },
     "metadata": {},
     "output_type": "display_data"
    },
    {
     "data": {
      "application/javascript": [
       "\n",
       "        if (window._pyforest_update_imports_cell) { window._pyforest_update_imports_cell('from sklearn import metrics\\nimport numpy as np\\nimport pandas as pd\\nimport seaborn as sns\\nimport matplotlib.pyplot as plt'); }\n",
       "    "
      ],
      "text/plain": [
       "<IPython.core.display.Javascript object>"
      ]
     },
     "metadata": {},
     "output_type": "display_data"
    },
    {
     "data": {
      "application/javascript": [
       "\n",
       "        if (window._pyforest_update_imports_cell) { window._pyforest_update_imports_cell('from sklearn import metrics\\nimport numpy as np\\nimport pandas as pd\\nimport seaborn as sns\\nimport matplotlib.pyplot as plt'); }\n",
       "    "
      ],
      "text/plain": [
       "<IPython.core.display.Javascript object>"
      ]
     },
     "metadata": {},
     "output_type": "display_data"
    },
    {
     "data": {
      "application/javascript": [
       "\n",
       "        if (window._pyforest_update_imports_cell) { window._pyforest_update_imports_cell('from sklearn import metrics\\nimport numpy as np\\nimport pandas as pd\\nimport seaborn as sns\\nimport matplotlib.pyplot as plt'); }\n",
       "    "
      ],
      "text/plain": [
       "<IPython.core.display.Javascript object>"
      ]
     },
     "metadata": {},
     "output_type": "display_data"
    },
    {
     "data": {
      "application/javascript": [
       "\n",
       "        if (window._pyforest_update_imports_cell) { window._pyforest_update_imports_cell('from sklearn import metrics\\nimport numpy as np\\nimport pandas as pd\\nimport seaborn as sns\\nimport matplotlib.pyplot as plt'); }\n",
       "    "
      ],
      "text/plain": [
       "<IPython.core.display.Javascript object>"
      ]
     },
     "metadata": {},
     "output_type": "display_data"
    },
    {
     "data": {
      "application/javascript": [
       "\n",
       "        if (window._pyforest_update_imports_cell) { window._pyforest_update_imports_cell('from sklearn import metrics\\nimport numpy as np\\nimport pandas as pd\\nimport seaborn as sns\\nimport matplotlib.pyplot as plt'); }\n",
       "    "
      ],
      "text/plain": [
       "<IPython.core.display.Javascript object>"
      ]
     },
     "metadata": {},
     "output_type": "display_data"
    },
    {
     "name": "stdout",
     "output_type": "stream",
     "text": [
      "Dickey–Fuller test:: p=0.000000\n"
     ]
    },
    {
     "data": {
      "application/javascript": [
       "\n",
       "        if (window._pyforest_update_imports_cell) { window._pyforest_update_imports_cell('from sklearn import metrics\\nimport numpy as np\\nimport pandas as pd\\nimport seaborn as sns\\nimport matplotlib.pyplot as plt'); }\n",
       "    "
      ],
      "text/plain": [
       "<IPython.core.display.Javascript object>"
      ]
     },
     "metadata": {},
     "output_type": "display_data"
    },
    {
     "data": {
      "application/javascript": [
       "\n",
       "        if (window._pyforest_update_imports_cell) { window._pyforest_update_imports_cell('from sklearn import metrics\\nimport numpy as np\\nimport pandas as pd\\nimport seaborn as sns\\nimport matplotlib.pyplot as plt'); }\n",
       "    "
      ],
      "text/plain": [
       "<IPython.core.display.Javascript object>"
      ]
     },
     "metadata": {},
     "output_type": "display_data"
    },
    {
     "data": {
      "image/png": "[encoded data removed]",
      "text/plain": [
       "<Figure size 1080x504 with 3 Axes>"
      ]
     },
     "metadata": {
      "needs_background": "light"
     },
     "output_type": "display_data"
    }
   ],
   "source": [
    "# Analysis of residues\n",
    "plt.figure(figsize=(15,7))\n",
    "plt.subplot(311)\n",
    "plt.plot(model.resid)\n",
    "plt.ylabel(u'Residuals')\n",
    "ax = plt.subplot(312)\n",
    "sm.graphics.tsa.plot_acf(model.resid, lags=48, ax=ax)\n",
    "ax = plt.subplot(313)\n",
    "sm.graphics.tsa.plot_pacf(model.resid, lags=48, ax=ax)\n",
    "print(\"Dickey–Fuller test:: p=%f\" % sm.tsa.stattools.adfuller(model.resid)[1])\n",
    "plt.tight_layout()\n",
    "plt.show()"
   ]
  },
  {
   "cell_type": "code",
   "execution_count": 72,
   "metadata": {},
   "outputs": [
    {
     "data": {
      "text/plain": [
       "159"
      ]
     },
     "execution_count": 72,
     "metadata": {},
     "output_type": "execute_result"
    }
   ],
   "source": [
    "(len(bit_train)+len(bit_test) ) - len(bit_train)"
   ]
  },
  {
   "cell_type": "code",
   "execution_count": 75,
   "metadata": {},
   "outputs": [
    {
     "data": {
      "application/javascript": [
       "\n",
       "        if (window._pyforest_update_imports_cell) { window._pyforest_update_imports_cell('from sklearn import metrics\\nimport numpy as np\\nimport pandas as pd\\nimport seaborn as sns\\nimport matplotlib.pyplot as plt'); }\n",
       "    "
      ],
      "text/plain": [
       "<IPython.core.display.Javascript object>"
      ]
     },
     "metadata": {},
     "output_type": "display_data"
    },
    {
     "data": {
      "application/javascript": [
       "\n",
       "        if (window._pyforest_update_imports_cell) { window._pyforest_update_imports_cell('from sklearn import metrics\\nimport numpy as np\\nimport pandas as pd\\nimport seaborn as sns\\nimport matplotlib.pyplot as plt'); }\n",
       "    "
      ],
      "text/plain": [
       "<IPython.core.display.Javascript object>"
      ]
     },
     "metadata": {},
     "output_type": "display_data"
    },
    {
     "data": {
      "application/javascript": [
       "\n",
       "        if (window._pyforest_update_imports_cell) { window._pyforest_update_imports_cell('from sklearn import metrics\\nimport numpy as np\\nimport pandas as pd\\nimport seaborn as sns\\nimport matplotlib.pyplot as plt'); }\n",
       "    "
      ],
      "text/plain": [
       "<IPython.core.display.Javascript object>"
      ]
     },
     "metadata": {},
     "output_type": "display_data"
    },
    {
     "data": {
      "application/javascript": [
       "\n",
       "        if (window._pyforest_update_imports_cell) { window._pyforest_update_imports_cell('from sklearn import metrics\\nimport numpy as np\\nimport pandas as pd\\nimport seaborn as sns\\nimport matplotlib.pyplot as plt'); }\n",
       "    "
      ],
      "text/plain": [
       "<IPython.core.display.Javascript object>"
      ]
     },
     "metadata": {},
     "output_type": "display_data"
    },
    {
     "data": {
      "image/png": "[encoded data removed]",
      "text/plain": [
       "<Figure size 1080x504 with 1 Axes>"
      ]
     },
     "metadata": {
      "needs_background": "light"
     },
     "output_type": "display_data"
    }
   ],
   "source": [
    "# prediction test\n",
    "bit_test['forecast'] = model.predict(start = len(bit_train),end = (len(bit_train)+len(bit_test)-1)\n",
    "                                     ,exog = bit_test['Volume_(Currency)'])\n",
    "plt.figure(figsize=(15,7))\n",
    "bit_test.Weighted_Price[:14].plot()\n",
    "bit_test.forecast[:14].plot(color='r', ls='--', label='Predicted Weighted_Price')\n",
    "plt.legend()\n",
    "plt.title('Bitcoin exchanges, by days')\n",
    "plt.show()"
   ]
  },
  {
   "cell_type": "code",
   "execution_count": 83,
   "metadata": {},
   "outputs": [
    {
     "data": {
      "application/javascript": [
       "\n",
       "        if (window._pyforest_update_imports_cell) { window._pyforest_update_imports_cell('from sklearn import metrics\\nimport numpy as np\\nimport pandas as pd\\nimport seaborn as sns\\nimport matplotlib.pyplot as plt'); }\n",
       "    "
      ],
      "text/plain": [
       "<IPython.core.display.Javascript object>"
      ]
     },
     "metadata": {},
     "output_type": "display_data"
    },
    {
     "data": {
      "application/javascript": [
       "\n",
       "        if (window._pyforest_update_imports_cell) { window._pyforest_update_imports_cell('from sklearn import metrics\\nimport numpy as np\\nimport pandas as pd\\nimport seaborn as sns\\nimport matplotlib.pyplot as plt'); }\n",
       "    "
      ],
      "text/plain": [
       "<IPython.core.display.Javascript object>"
      ]
     },
     "metadata": {},
     "output_type": "display_data"
    },
    {
     "data": {
      "application/javascript": [
       "\n",
       "        if (window._pyforest_update_imports_cell) { window._pyforest_update_imports_cell('from sklearn import metrics\\nimport numpy as np\\nimport pandas as pd\\nimport seaborn as sns\\nimport matplotlib.pyplot as plt'); }\n",
       "    "
      ],
      "text/plain": [
       "<IPython.core.display.Javascript object>"
      ]
     },
     "metadata": {},
     "output_type": "display_data"
    },
    {
     "data": {
      "application/javascript": [
       "\n",
       "        if (window._pyforest_update_imports_cell) { window._pyforest_update_imports_cell('from sklearn import metrics\\nimport numpy as np\\nimport pandas as pd\\nimport seaborn as sns\\nimport matplotlib.pyplot as plt'); }\n",
       "    "
      ],
      "text/plain": [
       "<IPython.core.display.Javascript object>"
      ]
     },
     "metadata": {},
     "output_type": "display_data"
    },
    {
     "data": {
      "image/png": "[encoded data removed]",
      "text/plain": [
       "<Figure size 1080x504 with 1 Axes>"
      ]
     },
     "metadata": {
      "needs_background": "light"
     },
     "output_type": "display_data"
    }
   ],
   "source": [
    "# prediction train\n",
    "bit_train['forecast'] = model.predict(start = 0,end = (len(bit_train)-1),exog = bit_test['Volume_(Currency)'])\n",
    "plt.figure(figsize=(15,7))\n",
    "bit_train.Weighted_Price[919:933].plot()\n",
    "bit_train.forecast[919:933].plot(color='r', ls='--', label='Predicted Weighted_Price')\n",
    "plt.legend()\n",
    "plt.title('Bitcoin exchanges, by days')\n",
    "plt.show()"
   ]
  },
  {
   "cell_type": "code",
   "execution_count": 84,
   "metadata": {},
   "outputs": [
    {
     "data": {
      "application/javascript": [
       "\n",
       "        if (window._pyforest_update_imports_cell) { window._pyforest_update_imports_cell('from sklearn import metrics\\nimport numpy as np\\nimport pandas as pd\\nimport seaborn as sns\\nimport matplotlib.pyplot as plt'); }\n",
       "    "
      ],
      "text/plain": [
       "<IPython.core.display.Javascript object>"
      ]
     },
     "metadata": {},
     "output_type": "display_data"
    },
    {
     "data": {
      "application/javascript": [
       "\n",
       "        if (window._pyforest_update_imports_cell) { window._pyforest_update_imports_cell('from sklearn import metrics\\nimport numpy as np\\nimport pandas as pd\\nimport seaborn as sns\\nimport matplotlib.pyplot as plt'); }\n",
       "    "
      ],
      "text/plain": [
       "<IPython.core.display.Javascript object>"
      ]
     },
     "metadata": {},
     "output_type": "display_data"
    },
    {
     "name": "stdout",
     "output_type": "stream",
     "text": [
      "1106.3550678400807\n"
     ]
    }
   ],
   "source": [
    "# evaluation\n",
    "# test\n",
    "print(np.sqrt(metrics.mean_squared_error(bit_test['forecast'],bit_test['Weighted_Price'])))"
   ]
  },
  {
   "cell_type": "code",
   "execution_count": 85,
   "metadata": {
    "scrolled": true
   },
   "outputs": [
    {
     "data": {
      "application/javascript": [
       "\n",
       "        if (window._pyforest_update_imports_cell) { window._pyforest_update_imports_cell('from sklearn import metrics\\nimport numpy as np\\nimport pandas as pd\\nimport seaborn as sns\\nimport matplotlib.pyplot as plt'); }\n",
       "    "
      ],
      "text/plain": [
       "<IPython.core.display.Javascript object>"
      ]
     },
     "metadata": {},
     "output_type": "display_data"
    },
    {
     "data": {
      "application/javascript": [
       "\n",
       "        if (window._pyforest_update_imports_cell) { window._pyforest_update_imports_cell('from sklearn import metrics\\nimport numpy as np\\nimport pandas as pd\\nimport seaborn as sns\\nimport matplotlib.pyplot as plt'); }\n",
       "    "
      ],
      "text/plain": [
       "<IPython.core.display.Javascript object>"
      ]
     },
     "metadata": {},
     "output_type": "display_data"
    },
    {
     "name": "stdout",
     "output_type": "stream",
     "text": [
      "296.58868968220224\n"
     ]
    }
   ],
   "source": [
    "# train\n",
    "print(np.sqrt(metrics.mean_squared_error(bit_train['forecast'],bit_train['Weighted_Price'])))"
   ]
  },
  {
   "cell_type": "code",
   "execution_count": 86,
   "metadata": {},
   "outputs": [
    {
     "data": {
      "text/plain": [
       "6674.832922262264"
      ]
     },
     "execution_count": 86,
     "metadata": {},
     "output_type": "execute_result"
    }
   ],
   "source": [
    "# mean\n",
    "bit_test['Weighted_Price'].mean()"
   ]
  }
 ],
 "metadata": {
  "kernelspec": {
   "display_name": "Python 3 (ipykernel)",
   "language": "python",
   "name": "python3"
  },
  "language_info": {
   "codemirror_mode": {
    "name": "ipython",
    "version": 3
   },
   "file_extension": ".py",
   "mimetype": "text/x-python",
   "name": "python",
   "nbconvert_exporter": "python",
   "pygments_lexer": "ipython3",
   "version": "3.10.4"
  }
 },
 "nbformat": 4,
 "nbformat_minor": 4
}
