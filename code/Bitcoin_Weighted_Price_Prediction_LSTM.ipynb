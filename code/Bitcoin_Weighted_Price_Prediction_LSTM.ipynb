{
  "nbformat": 4,
  "nbformat_minor": 0,
  "metadata": {
    "colab": {
      "provenance": [],
      "collapsed_sections": []
    },
    "kernelspec": {
      "name": "python3",
      "display_name": "Python 3"
    },
    "language_info": {
      "name": "python"
    }
  },
  "cells": [
    {
      "cell_type": "code",
      "source": [
        "# import libraries\n",
        "!pip install pyforest\n",
        "!pip install pytz\n",
        "!pip install pmdarima\n",
        "!pip install tensorflow"
      ],
      "metadata": {
        "colab": {
          "base_uri": "https://localhost:8080/"
        },
        "id": "jCkOn5-kKJz3",
        "outputId": "b5a145e4-ae42-486b-81e7-19cd4616d079"
      },
      "execution_count": null,
      "outputs": [
        {
          "output_type": "stream",
          "name": "stdout",
          "text": [
            "Looking in indexes: https://pypi.org/simple, https://us-python.pkg.dev/colab-wheels/public/simple/\n",
            "Requirement already satisfied: pyforest in /usr/local/lib/python3.7/dist-packages (1.1.0)\n",
            "Looking in indexes: https://pypi.org/simple, https://us-python.pkg.dev/colab-wheels/public/simple/\n",
            "Requirement already satisfied: pytz in /usr/local/lib/python3.7/dist-packages (2022.1)\n",
            "Looking in indexes: https://pypi.org/simple, https://us-python.pkg.dev/colab-wheels/public/simple/\n",
            "Requirement already satisfied: pmdarima in /usr/local/lib/python3.7/dist-packages (1.8.5)\n",
            "Requirement already satisfied: urllib3 in /usr/local/lib/python3.7/dist-packages (from pmdarima) (1.24.3)\n",
            "Requirement already satisfied: scipy>=1.3.2 in /usr/local/lib/python3.7/dist-packages (from pmdarima) (1.7.3)\n",
            "Requirement already satisfied: pandas>=0.19 in /usr/local/lib/python3.7/dist-packages (from pmdarima) (1.3.5)\n",
            "Requirement already satisfied: numpy>=1.19.3 in /usr/local/lib/python3.7/dist-packages (from pmdarima) (1.21.6)\n",
            "Requirement already satisfied: scikit-learn>=0.22 in /usr/local/lib/python3.7/dist-packages (from pmdarima) (1.0.2)\n",
            "Requirement already satisfied: Cython!=0.29.18,>=0.29 in /usr/local/lib/python3.7/dist-packages (from pmdarima) (0.29.30)\n",
            "Requirement already satisfied: setuptools!=50.0.0,>=38.6.0 in /usr/local/lib/python3.7/dist-packages (from pmdarima) (57.4.0)\n",
            "Requirement already satisfied: statsmodels!=0.12.0,>=0.11 in /usr/local/lib/python3.7/dist-packages (from pmdarima) (0.13.2)\n",
            "Requirement already satisfied: joblib>=0.11 in /usr/local/lib/python3.7/dist-packages (from pmdarima) (1.1.0)\n",
            "Requirement already satisfied: pytz>=2017.3 in /usr/local/lib/python3.7/dist-packages (from pandas>=0.19->pmdarima) (2022.1)\n",
            "Requirement already satisfied: python-dateutil>=2.7.3 in /usr/local/lib/python3.7/dist-packages (from pandas>=0.19->pmdarima) (2.8.2)\n",
            "Requirement already satisfied: six>=1.5 in /usr/local/lib/python3.7/dist-packages (from python-dateutil>=2.7.3->pandas>=0.19->pmdarima) (1.15.0)\n",
            "Requirement already satisfied: threadpoolctl>=2.0.0 in /usr/local/lib/python3.7/dist-packages (from scikit-learn>=0.22->pmdarima) (3.1.0)\n",
            "Requirement already satisfied: packaging>=21.3 in /usr/local/lib/python3.7/dist-packages (from statsmodels!=0.12.0,>=0.11->pmdarima) (21.3)\n",
            "Requirement already satisfied: patsy>=0.5.2 in /usr/local/lib/python3.7/dist-packages (from statsmodels!=0.12.0,>=0.11->pmdarima) (0.5.2)\n",
            "Requirement already satisfied: pyparsing!=3.0.5,>=2.0.2 in /usr/local/lib/python3.7/dist-packages (from packaging>=21.3->statsmodels!=0.12.0,>=0.11->pmdarima) (3.0.9)\n",
            "Looking in indexes: https://pypi.org/simple, https://us-python.pkg.dev/colab-wheels/public/simple/\n",
            "Requirement already satisfied: tensorflow in /usr/local/lib/python3.7/dist-packages (2.8.2+zzzcolab20220719082949)\n",
            "Requirement already satisfied: protobuf<3.20,>=3.9.2 in /usr/local/lib/python3.7/dist-packages (from tensorflow) (3.17.3)\n",
            "Requirement already satisfied: typing-extensions>=3.6.6 in /usr/local/lib/python3.7/dist-packages (from tensorflow) (4.1.1)\n",
            "Requirement already satisfied: six>=1.12.0 in /usr/local/lib/python3.7/dist-packages (from tensorflow) (1.15.0)\n",
            "Requirement already satisfied: tensorflow-io-gcs-filesystem>=0.23.1 in /usr/local/lib/python3.7/dist-packages (from tensorflow) (0.26.0)\n",
            "Requirement already satisfied: wrapt>=1.11.0 in /usr/local/lib/python3.7/dist-packages (from tensorflow) (1.14.1)\n",
            "Requirement already satisfied: keras<2.9,>=2.8.0rc0 in /usr/local/lib/python3.7/dist-packages (from tensorflow) (2.8.0)\n",
            "Requirement already satisfied: grpcio<2.0,>=1.24.3 in /usr/local/lib/python3.7/dist-packages (from tensorflow) (1.47.0)\n",
            "Requirement already satisfied: tensorflow-estimator<2.9,>=2.8 in /usr/local/lib/python3.7/dist-packages (from tensorflow) (2.8.0)\n",
            "Requirement already satisfied: setuptools in /usr/local/lib/python3.7/dist-packages (from tensorflow) (57.4.0)\n",
            "Requirement already satisfied: opt-einsum>=2.3.2 in /usr/local/lib/python3.7/dist-packages (from tensorflow) (3.3.0)\n",
            "Requirement already satisfied: gast>=0.2.1 in /usr/local/lib/python3.7/dist-packages (from tensorflow) (0.5.3)\n",
            "Requirement already satisfied: termcolor>=1.1.0 in /usr/local/lib/python3.7/dist-packages (from tensorflow) (1.1.0)\n",
            "Requirement already satisfied: flatbuffers>=1.12 in /usr/local/lib/python3.7/dist-packages (from tensorflow) (2.0)\n",
            "Requirement already satisfied: astunparse>=1.6.0 in /usr/local/lib/python3.7/dist-packages (from tensorflow) (1.6.3)\n",
            "Requirement already satisfied: libclang>=9.0.1 in /usr/local/lib/python3.7/dist-packages (from tensorflow) (14.0.1)\n",
            "Requirement already satisfied: numpy>=1.20 in /usr/local/lib/python3.7/dist-packages (from tensorflow) (1.21.6)\n",
            "Requirement already satisfied: absl-py>=0.4.0 in /usr/local/lib/python3.7/dist-packages (from tensorflow) (1.2.0)\n",
            "Requirement already satisfied: google-pasta>=0.1.1 in /usr/local/lib/python3.7/dist-packages (from tensorflow) (0.2.0)\n",
            "Requirement already satisfied: tensorboard<2.9,>=2.8 in /usr/local/lib/python3.7/dist-packages (from tensorflow) (2.8.0)\n",
            "Requirement already satisfied: h5py>=2.9.0 in /usr/local/lib/python3.7/dist-packages (from tensorflow) (3.1.0)\n",
            "Requirement already satisfied: keras-preprocessing>=1.1.1 in /usr/local/lib/python3.7/dist-packages (from tensorflow) (1.1.2)\n",
            "Requirement already satisfied: wheel<1.0,>=0.23.0 in /usr/local/lib/python3.7/dist-packages (from astunparse>=1.6.0->tensorflow) (0.37.1)\n",
            "Requirement already satisfied: cached-property in /usr/local/lib/python3.7/dist-packages (from h5py>=2.9.0->tensorflow) (1.5.2)\n",
            "Requirement already satisfied: tensorboard-data-server<0.7.0,>=0.6.0 in /usr/local/lib/python3.7/dist-packages (from tensorboard<2.9,>=2.8->tensorflow) (0.6.1)\n",
            "Requirement already satisfied: requests<3,>=2.21.0 in /usr/local/lib/python3.7/dist-packages (from tensorboard<2.9,>=2.8->tensorflow) (2.23.0)\n",
            "Requirement already satisfied: google-auth-oauthlib<0.5,>=0.4.1 in /usr/local/lib/python3.7/dist-packages (from tensorboard<2.9,>=2.8->tensorflow) (0.4.6)\n",
            "Requirement already satisfied: google-auth<3,>=1.6.3 in /usr/local/lib/python3.7/dist-packages (from tensorboard<2.9,>=2.8->tensorflow) (1.35.0)\n",
            "Requirement already satisfied: werkzeug>=0.11.15 in /usr/local/lib/python3.7/dist-packages (from tensorboard<2.9,>=2.8->tensorflow) (1.0.1)\n",
            "Requirement already satisfied: markdown>=2.6.8 in /usr/local/lib/python3.7/dist-packages (from tensorboard<2.9,>=2.8->tensorflow) (3.4.1)\n",
            "Requirement already satisfied: tensorboard-plugin-wit>=1.6.0 in /usr/local/lib/python3.7/dist-packages (from tensorboard<2.9,>=2.8->tensorflow) (1.8.1)\n",
            "Requirement already satisfied: rsa<5,>=3.1.4 in /usr/local/lib/python3.7/dist-packages (from google-auth<3,>=1.6.3->tensorboard<2.9,>=2.8->tensorflow) (4.9)\n",
            "Requirement already satisfied: cachetools<5.0,>=2.0.0 in /usr/local/lib/python3.7/dist-packages (from google-auth<3,>=1.6.3->tensorboard<2.9,>=2.8->tensorflow) (4.2.4)\n",
            "Requirement already satisfied: pyasn1-modules>=0.2.1 in /usr/local/lib/python3.7/dist-packages (from google-auth<3,>=1.6.3->tensorboard<2.9,>=2.8->tensorflow) (0.2.8)\n",
            "Requirement already satisfied: requests-oauthlib>=0.7.0 in /usr/local/lib/python3.7/dist-packages (from google-auth-oauthlib<0.5,>=0.4.1->tensorboard<2.9,>=2.8->tensorflow) (1.3.1)\n",
            "Requirement already satisfied: importlib-metadata>=4.4 in /usr/local/lib/python3.7/dist-packages (from markdown>=2.6.8->tensorboard<2.9,>=2.8->tensorflow) (4.12.0)\n",
            "Requirement already satisfied: zipp>=0.5 in /usr/local/lib/python3.7/dist-packages (from importlib-metadata>=4.4->markdown>=2.6.8->tensorboard<2.9,>=2.8->tensorflow) (3.8.1)\n",
            "Requirement already satisfied: pyasn1<0.5.0,>=0.4.6 in /usr/local/lib/python3.7/dist-packages (from pyasn1-modules>=0.2.1->google-auth<3,>=1.6.3->tensorboard<2.9,>=2.8->tensorflow) (0.4.8)\n",
            "Requirement already satisfied: certifi>=2017.4.17 in /usr/local/lib/python3.7/dist-packages (from requests<3,>=2.21.0->tensorboard<2.9,>=2.8->tensorflow) (2022.6.15)\n",
            "Requirement already satisfied: idna<3,>=2.5 in /usr/local/lib/python3.7/dist-packages (from requests<3,>=2.21.0->tensorboard<2.9,>=2.8->tensorflow) (2.10)\n",
            "Requirement already satisfied: chardet<4,>=3.0.2 in /usr/local/lib/python3.7/dist-packages (from requests<3,>=2.21.0->tensorboard<2.9,>=2.8->tensorflow) (3.0.4)\n",
            "Requirement already satisfied: urllib3!=1.25.0,!=1.25.1,<1.26,>=1.21.1 in /usr/local/lib/python3.7/dist-packages (from requests<3,>=2.21.0->tensorboard<2.9,>=2.8->tensorflow) (1.24.3)\n",
            "Requirement already satisfied: oauthlib>=3.0.0 in /usr/local/lib/python3.7/dist-packages (from requests-oauthlib>=0.7.0->google-auth-oauthlib<0.5,>=0.4.1->tensorboard<2.9,>=2.8->tensorflow) (3.2.0)\n"
          ]
        }
      ]
    },
    {
      "cell_type": "code",
      "execution_count": null,
      "metadata": {
        "colab": {
          "base_uri": "https://localhost:8080/",
          "height": 1000
        },
        "id": "tvsZ_Eag6QAo",
        "outputId": "ce2f44b9-89f8-4b34-aa1c-4089757efb84"
      },
      "outputs": [
        {
          "output_type": "display_data",
          "data": {
            "text/html": [
              "        <script type=\"text/javascript\">\n",
              "        window.PlotlyConfig = {MathJaxConfig: 'local'};\n",
              "        if (window.MathJax) {MathJax.Hub.Config({SVG: {font: \"STIX-Web\"}});}\n",
              "        if (typeof require !== 'undefined') {\n",
              "        require.undef(\"plotly\");\n",
              "        requirejs.config({\n",
              "            paths: {\n",
              "                'plotly': ['https://cdn.plot.ly/plotly-2.8.3.min']\n",
              "            }\n",
              "        });\n",
              "        require(['plotly'], function(Plotly) {\n",
              "            window._Plotly = Plotly;\n",
              "        });\n",
              "        }\n",
              "        </script>\n",
              "        "
            ]
          },
          "metadata": {}
        },
        {
          "output_type": "execute_result",
          "data": {
            "text/plain": [
              "['import statistics',\n",
              " 'from sklearn.model_selection import train_test_split',\n",
              " 'from pyspark import SparkContext',\n",
              " 'import gensim',\n",
              " 'from sklearn.model_selection import StratifiedKFold',\n",
              " 'from scipy import stats',\n",
              " 'from sklearn.ensemble import RandomForestClassifier',\n",
              " 'from sklearn.linear_model import ElasticNet',\n",
              " 'import bokeh',\n",
              " 'from scipy import signal as sg',\n",
              " 'from PIL import Image',\n",
              " 'from sklearn.model_selection import cross_val_score',\n",
              " 'import numpy as np',\n",
              " 'from openpyxl import load_workbook',\n",
              " 'from sklearn.preprocessing import RobustScaler',\n",
              " 'from sklearn.manifold import TSNE',\n",
              " 'import tqdm',\n",
              " 'import lightgbm as lgb',\n",
              " 'import plotly.express as px',\n",
              " 'from xlrd import open_workbook',\n",
              " 'from fbprophet import Prophet',\n",
              " 'import sklearn',\n",
              " 'import glob',\n",
              " 'from sklearn import svm',\n",
              " 'from sklearn.preprocessing import StandardScaler',\n",
              " 'from sklearn.ensemble import RandomForestRegressor',\n",
              " 'import fastai',\n",
              " 'import awswrangler as wr',\n",
              " 'import re',\n",
              " 'import cv2',\n",
              " 'from sklearn import metrics',\n",
              " 'from sklearn.cluster import KMeans',\n",
              " 'import keras',\n",
              " 'from sklearn.ensemble import GradientBoostingClassifier',\n",
              " 'import os',\n",
              " 'import xgboost as xgb',\n",
              " 'import pickle',\n",
              " 'import matplotlib.pyplot as plt',\n",
              " 'from sklearn.model_selection import KFold',\n",
              " 'from sklearn.model_selection import RandomizedSearchCV',\n",
              " 'from sklearn.feature_extraction.text import TfidfVectorizer',\n",
              " 'from statsmodels.tsa.arima_model import ARIMA',\n",
              " 'from sklearn.linear_model import RidgeCV',\n",
              " 'from sklearn.ensemble import GradientBoostingRegressor',\n",
              " 'import statsmodels.api as sm',\n",
              " 'from sklearn.feature_extraction.text import CountVectorizer',\n",
              " 'from sklearn.model_selection import GridSearchCV',\n",
              " 'from sklearn.preprocessing import MinMaxScaler',\n",
              " 'import nltk',\n",
              " 'import plotly.graph_objs as go',\n",
              " 'import spacy',\n",
              " 'from sklearn.impute import SimpleImputer',\n",
              " 'import plotly as py',\n",
              " 'import datetime as dt',\n",
              " 'from pathlib import Path',\n",
              " 'import pydot',\n",
              " 'from sklearn.preprocessing import PolynomialFeatures',\n",
              " 'import fbprophet',\n",
              " 'from sklearn.linear_model import LassoCV',\n",
              " 'from sklearn.linear_model import Lasso',\n",
              " 'import altair as alt',\n",
              " 'import imutils',\n",
              " 'import seaborn as sns',\n",
              " 'import dash',\n",
              " 'import tensorflow as tf',\n",
              " 'from sklearn.linear_model import LinearRegression',\n",
              " 'import matplotlib as mpl',\n",
              " 'from sklearn.decomposition import PCA',\n",
              " 'from sklearn.preprocessing import OneHotEncoder',\n",
              " 'import sys',\n",
              " 'from sklearn.preprocessing import LabelEncoder',\n",
              " 'from sklearn.linear_model import ElasticNetCV',\n",
              " 'import torch',\n",
              " 'import skimage',\n",
              " 'from sklearn.linear_model import LogisticRegression',\n",
              " 'import textblob',\n",
              " 'import pandas as pd',\n",
              " 'from dask import dataframe as dd',\n",
              " 'from sklearn.linear_model import Ridge']"
            ]
          },
          "metadata": {},
          "execution_count": 2
        }
      ],
      "source": [
        "from pyforest import *\n",
        "from plotly import tools\n",
        "from plotly.offline import init_notebook_mode, iplot\n",
        "init_notebook_mode(connected=True)\n",
        "import plotly.graph_objs as go\n",
        "from scipy import stats\n",
        "import statsmodels.api as sm\n",
        "import warnings\n",
        "from itertools import product\n",
        "from statsmodels.tsa.statespace.sarimax import SARIMAX\n",
        "from statsmodels.tsa.seasonal import seasonal_decompose\n",
        "from pmdarima import auto_arima\n",
        "from datetime import datetime\n",
        "import datetime, pytz\n",
        "import gc\n",
        "import warnings\n",
        "warnings.filterwarnings('ignore')\n",
        "lazy_imports()"
      ]
    },
    {
      "cell_type": "code",
      "source": [
        "#read csv\n",
        "#define a conversion function for the native timestamps in the csv file\n",
        "def dateparse (time_in_secs):    \n",
        "    return pytz.utc.localize(datetime.datetime.fromtimestamp(float(time_in_secs)))\n",
        "\n",
        "df_bitcoin = pd.read_csv('/content/drive/MyDrive/Colab Notebooks/Dana 4810 Time Series Bitcoin/dataset/coinbaseUSD_1-min_data_2014-12-01_to_2018-11-11.csv'\n",
        "    , header = 0,index_col = 0,parse_dates = [0], date_parser = dateparse)\n",
        "df_bitcoin.head()"
      ],
      "metadata": {
        "colab": {
          "base_uri": "https://localhost:8080/",
          "height": 238
        },
        "id": "F57XB3PhHxoW",
        "outputId": "4a1528c2-5bee-4ffe-cf98-2ea9471b2b63"
      },
      "execution_count": null,
      "outputs": [
        {
          "output_type": "display_data",
          "data": {
            "text/plain": [
              "<IPython.core.display.Javascript object>"
            ],
            "application/javascript": [
              "\n",
              "        if (window._pyforest_update_imports_cell) { window._pyforest_update_imports_cell('import pandas as pd'); }\n",
              "    "
            ]
          },
          "metadata": {}
        },
        {
          "output_type": "execute_result",
          "data": {
            "text/plain": [
              "                            Open   High    Low  Close  Volume_(BTC)  \\\n",
              "Timestamp                                                             \n",
              "2014-12-01 05:33:00+00:00  300.0  300.0  300.0  300.0          0.01   \n",
              "2014-12-01 05:34:00+00:00    NaN    NaN    NaN    NaN           NaN   \n",
              "2014-12-01 05:35:00+00:00    NaN    NaN    NaN    NaN           NaN   \n",
              "2014-12-01 05:36:00+00:00    NaN    NaN    NaN    NaN           NaN   \n",
              "2014-12-01 05:37:00+00:00    NaN    NaN    NaN    NaN           NaN   \n",
              "\n",
              "                           Volume_(Currency)  Weighted_Price  \n",
              "Timestamp                                                     \n",
              "2014-12-01 05:33:00+00:00                3.0           300.0  \n",
              "2014-12-01 05:34:00+00:00                NaN             NaN  \n",
              "2014-12-01 05:35:00+00:00                NaN             NaN  \n",
              "2014-12-01 05:36:00+00:00                NaN             NaN  \n",
              "2014-12-01 05:37:00+00:00                NaN             NaN  "
            ],
            "text/html": [
              "\n",
              "  <div id=\"df-b2cd321b-86fe-4282-bd5e-9c375552f408\">\n",
              "    <div class=\"colab-df-container\">\n",
              "      <div>\n",
              "<style scoped>\n",
              "    .dataframe tbody tr th:only-of-type {\n",
              "        vertical-align: middle;\n",
              "    }\n",
              "\n",
              "    .dataframe tbody tr th {\n",
              "        vertical-align: top;\n",
              "    }\n",
              "\n",
              "    .dataframe thead th {\n",
              "        text-align: right;\n",
              "    }\n",
              "</style>\n",
              "<table border=\"1\" class=\"dataframe\">\n",
              "  <thead>\n",
              "    <tr style=\"text-align: right;\">\n",
              "      <th></th>\n",
              "      <th>Open</th>\n",
              "      <th>High</th>\n",
              "      <th>Low</th>\n",
              "      <th>Close</th>\n",
              "      <th>Volume_(BTC)</th>\n",
              "      <th>Volume_(Currency)</th>\n",
              "      <th>Weighted_Price</th>\n",
              "    </tr>\n",
              "    <tr>\n",
              "      <th>Timestamp</th>\n",
              "      <th></th>\n",
              "      <th></th>\n",
              "      <th></th>\n",
              "      <th></th>\n",
              "      <th></th>\n",
              "      <th></th>\n",
              "      <th></th>\n",
              "    </tr>\n",
              "  </thead>\n",
              "  <tbody>\n",
              "    <tr>\n",
              "      <th>2014-12-01 05:33:00+00:00</th>\n",
              "      <td>300.0</td>\n",
              "      <td>300.0</td>\n",
              "      <td>300.0</td>\n",
              "      <td>300.0</td>\n",
              "      <td>0.01</td>\n",
              "      <td>3.0</td>\n",
              "      <td>300.0</td>\n",
              "    </tr>\n",
              "    <tr>\n",
              "      <th>2014-12-01 05:34:00+00:00</th>\n",
              "      <td>NaN</td>\n",
              "      <td>NaN</td>\n",
              "      <td>NaN</td>\n",
              "      <td>NaN</td>\n",
              "      <td>NaN</td>\n",
              "      <td>NaN</td>\n",
              "      <td>NaN</td>\n",
              "    </tr>\n",
              "    <tr>\n",
              "      <th>2014-12-01 05:35:00+00:00</th>\n",
              "      <td>NaN</td>\n",
              "      <td>NaN</td>\n",
              "      <td>NaN</td>\n",
              "      <td>NaN</td>\n",
              "      <td>NaN</td>\n",
              "      <td>NaN</td>\n",
              "      <td>NaN</td>\n",
              "    </tr>\n",
              "    <tr>\n",
              "      <th>2014-12-01 05:36:00+00:00</th>\n",
              "      <td>NaN</td>\n",
              "      <td>NaN</td>\n",
              "      <td>NaN</td>\n",
              "      <td>NaN</td>\n",
              "      <td>NaN</td>\n",
              "      <td>NaN</td>\n",
              "      <td>NaN</td>\n",
              "    </tr>\n",
              "    <tr>\n",
              "      <th>2014-12-01 05:37:00+00:00</th>\n",
              "      <td>NaN</td>\n",
              "      <td>NaN</td>\n",
              "      <td>NaN</td>\n",
              "      <td>NaN</td>\n",
              "      <td>NaN</td>\n",
              "      <td>NaN</td>\n",
              "      <td>NaN</td>\n",
              "    </tr>\n",
              "  </tbody>\n",
              "</table>\n",
              "</div>\n",
              "      <button class=\"colab-df-convert\" onclick=\"convertToInteractive('df-b2cd321b-86fe-4282-bd5e-9c375552f408')\"\n",
              "              title=\"Convert this dataframe to an interactive table.\"\n",
              "              style=\"display:none;\">\n",
              "        \n",
              "  <svg xmlns=\"http://www.w3.org/2000/svg\" height=\"24px\"viewBox=\"0 0 24 24\"\n",
              "       width=\"24px\">\n",
              "    <path d=\"M0 0h24v24H0V0z\" fill=\"none\"/>\n",
              "    <path d=\"M18.56 5.44l.94 2.06.94-2.06 2.06-.94-2.06-.94-.94-2.06-.94 2.06-2.06.94zm-11 1L8.5 8.5l.94-2.06 2.06-.94-2.06-.94L8.5 2.5l-.94 2.06-2.06.94zm10 10l.94 2.06.94-2.06 2.06-.94-2.06-.94-.94-2.06-.94 2.06-2.06.94z\"/><path d=\"M17.41 7.96l-1.37-1.37c-.4-.4-.92-.59-1.43-.59-.52 0-1.04.2-1.43.59L10.3 9.45l-7.72 7.72c-.78.78-.78 2.05 0 2.83L4 21.41c.39.39.9.59 1.41.59.51 0 1.02-.2 1.41-.59l7.78-7.78 2.81-2.81c.8-.78.8-2.07 0-2.86zM5.41 20L4 18.59l7.72-7.72 1.47 1.35L5.41 20z\"/>\n",
              "  </svg>\n",
              "      </button>\n",
              "      \n",
              "  <style>\n",
              "    .colab-df-container {\n",
              "      display:flex;\n",
              "      flex-wrap:wrap;\n",
              "      gap: 12px;\n",
              "    }\n",
              "\n",
              "    .colab-df-convert {\n",
              "      background-color: #E8F0FE;\n",
              "      border: none;\n",
              "      border-radius: 50%;\n",
              "      cursor: pointer;\n",
              "      display: none;\n",
              "      fill: #1967D2;\n",
              "      height: 32px;\n",
              "      padding: 0 0 0 0;\n",
              "      width: 32px;\n",
              "    }\n",
              "\n",
              "    .colab-df-convert:hover {\n",
              "      background-color: #E2EBFA;\n",
              "      box-shadow: 0px 1px 2px rgba(60, 64, 67, 0.3), 0px 1px 3px 1px rgba(60, 64, 67, 0.15);\n",
              "      fill: #174EA6;\n",
              "    }\n",
              "\n",
              "    [theme=dark] .colab-df-convert {\n",
              "      background-color: #3B4455;\n",
              "      fill: #D2E3FC;\n",
              "    }\n",
              "\n",
              "    [theme=dark] .colab-df-convert:hover {\n",
              "      background-color: #434B5C;\n",
              "      box-shadow: 0px 1px 3px 1px rgba(0, 0, 0, 0.15);\n",
              "      filter: drop-shadow(0px 1px 2px rgba(0, 0, 0, 0.3));\n",
              "      fill: #FFFFFF;\n",
              "    }\n",
              "  </style>\n",
              "\n",
              "      <script>\n",
              "        const buttonEl =\n",
              "          document.querySelector('#df-b2cd321b-86fe-4282-bd5e-9c375552f408 button.colab-df-convert');\n",
              "        buttonEl.style.display =\n",
              "          google.colab.kernel.accessAllowed ? 'block' : 'none';\n",
              "\n",
              "        async function convertToInteractive(key) {\n",
              "          const element = document.querySelector('#df-b2cd321b-86fe-4282-bd5e-9c375552f408');\n",
              "          const dataTable =\n",
              "            await google.colab.kernel.invokeFunction('convertToInteractive',\n",
              "                                                     [key], {});\n",
              "          if (!dataTable) return;\n",
              "\n",
              "          const docLinkHtml = 'Like what you see? Visit the ' +\n",
              "            '<a target=\"_blank\" href=https://colab.research.google.com/notebooks/data_table.ipynb>data table notebook</a>'\n",
              "            + ' to learn more about interactive tables.';\n",
              "          element.innerHTML = '';\n",
              "          dataTable['output_type'] = 'display_data';\n",
              "          await google.colab.output.renderOutput(dataTable, element);\n",
              "          const docLink = document.createElement('div');\n",
              "          docLink.innerHTML = docLinkHtml;\n",
              "          element.appendChild(docLink);\n",
              "        }\n",
              "      </script>\n",
              "    </div>\n",
              "  </div>\n",
              "  "
            ]
          },
          "metadata": {},
          "execution_count": 3
        }
      ]
    },
    {
      "cell_type": "code",
      "source": [
        "# converting Timestamp to datetime\n",
        "df_bitcoin.index = pd.to_datetime(df_bitcoin.index)\n",
        "df_bitcoin.info()"
      ],
      "metadata": {
        "colab": {
          "base_uri": "https://localhost:8080/",
          "height": 267
        },
        "id": "fAkz1FlqL_Co",
        "outputId": "0d9cde15-de90-40c7-d50b-b0358d823638"
      },
      "execution_count": null,
      "outputs": [
        {
          "output_type": "display_data",
          "data": {
            "text/plain": [
              "<IPython.core.display.Javascript object>"
            ],
            "application/javascript": [
              "\n",
              "        if (window._pyforest_update_imports_cell) { window._pyforest_update_imports_cell('import pandas as pd'); }\n",
              "    "
            ]
          },
          "metadata": {}
        },
        {
          "output_type": "stream",
          "name": "stdout",
          "text": [
            "<class 'pandas.core.frame.DataFrame'>\n",
            "DatetimeIndex: 2016354 entries, 2014-12-01 05:33:00+00:00 to 2018-11-11 00:00:00+00:00\n",
            "Data columns (total 7 columns):\n",
            " #   Column             Dtype  \n",
            "---  ------             -----  \n",
            " 0   Open               float64\n",
            " 1   High               float64\n",
            " 2   Low                float64\n",
            " 3   Close              float64\n",
            " 4   Volume_(BTC)       float64\n",
            " 5   Volume_(Currency)  float64\n",
            " 6   Weighted_Price     float64\n",
            "dtypes: float64(7)\n",
            "memory usage: 123.1 MB\n"
          ]
        }
      ]
    },
    {
      "cell_type": "code",
      "source": [
        "#date range\n",
        "print('start date: ',min(df_bitcoin.index.date))\n",
        "print('end date: ',max(df_bitcoin.index.date))\n",
        "print('Number of years: ',\n",
        "      (max(df_bitcoin.index.year) - min(df_bitcoin.index.year)))"
      ],
      "metadata": {
        "colab": {
          "base_uri": "https://localhost:8080/"
        },
        "id": "mhJ5MUdES7Wo",
        "outputId": "bd6b14ba-651b-477f-9678-a32a2cd7204d"
      },
      "execution_count": null,
      "outputs": [
        {
          "output_type": "stream",
          "name": "stdout",
          "text": [
            "start date:  2014-12-01\n",
            "end date:  2018-11-11\n",
            "Number of years:  4\n"
          ]
        }
      ]
    },
    {
      "cell_type": "code",
      "source": [
        "#checking for null values\n",
        "df_bitcoin.isnull().sum()"
      ],
      "metadata": {
        "colab": {
          "base_uri": "https://localhost:8080/"
        },
        "id": "Shi_Gs-DNDDH",
        "outputId": "db82f15b-19b9-4c44-8e69-c06fd3f34c29"
      },
      "execution_count": null,
      "outputs": [
        {
          "output_type": "execute_result",
          "data": {
            "text/plain": [
              "Open                 108957\n",
              "High                 108957\n",
              "Low                  108957\n",
              "Close                108957\n",
              "Volume_(BTC)         108957\n",
              "Volume_(Currency)    108957\n",
              "Weighted_Price       108957\n",
              "dtype: int64"
            ]
          },
          "metadata": {},
          "execution_count": 6
        }
      ]
    },
    {
      "cell_type": "code",
      "source": [
        "# fixing null with zeros and bfill\n",
        "# creating copy of the dataframe\n",
        "df_bit2 = df_bitcoin.copy()\n",
        "\n",
        "\"\"\"based on the analysis, the volumns are individual events, they do not increment over time,\n",
        "so we will fill na values with zero\"\"\"\n",
        "\n",
        "df_bit2['Volume_(BTC)'] = df_bit2['Volume_(BTC)'].fillna(value = 0)\n",
        "df_bit2['Volume_(Currency)'] = df_bit2['Volume_(Currency)'].fillna(value = 0)\n",
        "\n",
        "df_bit2['Weighted_Price'] = df_bit2['Weighted_Price'].fillna(value = 0)\n",
        "\n",
        "\"\"\"The following parameters are incremented/ dependent on each time steps,\n",
        "hence we will fill na values with backward fill \"\"\"\n",
        "\n",
        "df_bit2['Open'] = df_bit2['Open'].fillna(method = 'bfill')\n",
        "df_bit2['High'] = df_bit2['High'].fillna(method = 'bfill')\n",
        "df_bit2['Low'] = df_bit2['Low'].fillna(method = 'bfill')\n",
        "df_bit2['Close'] = df_bit2['Close'].fillna(method = 'bfill')\n",
        "\n",
        "df_bit2.head()"
      ],
      "metadata": {
        "colab": {
          "base_uri": "https://localhost:8080/",
          "height": 238
        },
        "id": "u1oly-oDstLk",
        "outputId": "7c68af76-e437-454d-987e-0b07b19adfd1"
      },
      "execution_count": null,
      "outputs": [
        {
          "output_type": "execute_result",
          "data": {
            "text/plain": [
              "                            Open   High    Low  Close  Volume_(BTC)  \\\n",
              "Timestamp                                                             \n",
              "2014-12-01 05:33:00+00:00  300.0  300.0  300.0  300.0          0.01   \n",
              "2014-12-01 05:34:00+00:00  300.0  300.0  300.0  300.0          0.00   \n",
              "2014-12-01 05:35:00+00:00  300.0  300.0  300.0  300.0          0.00   \n",
              "2014-12-01 05:36:00+00:00  300.0  300.0  300.0  300.0          0.00   \n",
              "2014-12-01 05:37:00+00:00  300.0  300.0  300.0  300.0          0.00   \n",
              "\n",
              "                           Volume_(Currency)  Weighted_Price  \n",
              "Timestamp                                                     \n",
              "2014-12-01 05:33:00+00:00                3.0           300.0  \n",
              "2014-12-01 05:34:00+00:00                0.0             0.0  \n",
              "2014-12-01 05:35:00+00:00                0.0             0.0  \n",
              "2014-12-01 05:36:00+00:00                0.0             0.0  \n",
              "2014-12-01 05:37:00+00:00                0.0             0.0  "
            ],
            "text/html": [
              "\n",
              "  <div id=\"df-f4dce753-bb73-4d4a-aeae-d3a4c684b617\">\n",
              "    <div class=\"colab-df-container\">\n",
              "      <div>\n",
              "<style scoped>\n",
              "    .dataframe tbody tr th:only-of-type {\n",
              "        vertical-align: middle;\n",
              "    }\n",
              "\n",
              "    .dataframe tbody tr th {\n",
              "        vertical-align: top;\n",
              "    }\n",
              "\n",
              "    .dataframe thead th {\n",
              "        text-align: right;\n",
              "    }\n",
              "</style>\n",
              "<table border=\"1\" class=\"dataframe\">\n",
              "  <thead>\n",
              "    <tr style=\"text-align: right;\">\n",
              "      <th></th>\n",
              "      <th>Open</th>\n",
              "      <th>High</th>\n",
              "      <th>Low</th>\n",
              "      <th>Close</th>\n",
              "      <th>Volume_(BTC)</th>\n",
              "      <th>Volume_(Currency)</th>\n",
              "      <th>Weighted_Price</th>\n",
              "    </tr>\n",
              "    <tr>\n",
              "      <th>Timestamp</th>\n",
              "      <th></th>\n",
              "      <th></th>\n",
              "      <th></th>\n",
              "      <th></th>\n",
              "      <th></th>\n",
              "      <th></th>\n",
              "      <th></th>\n",
              "    </tr>\n",
              "  </thead>\n",
              "  <tbody>\n",
              "    <tr>\n",
              "      <th>2014-12-01 05:33:00+00:00</th>\n",
              "      <td>300.0</td>\n",
              "      <td>300.0</td>\n",
              "      <td>300.0</td>\n",
              "      <td>300.0</td>\n",
              "      <td>0.01</td>\n",
              "      <td>3.0</td>\n",
              "      <td>300.0</td>\n",
              "    </tr>\n",
              "    <tr>\n",
              "      <th>2014-12-01 05:34:00+00:00</th>\n",
              "      <td>300.0</td>\n",
              "      <td>300.0</td>\n",
              "      <td>300.0</td>\n",
              "      <td>300.0</td>\n",
              "      <td>0.00</td>\n",
              "      <td>0.0</td>\n",
              "      <td>0.0</td>\n",
              "    </tr>\n",
              "    <tr>\n",
              "      <th>2014-12-01 05:35:00+00:00</th>\n",
              "      <td>300.0</td>\n",
              "      <td>300.0</td>\n",
              "      <td>300.0</td>\n",
              "      <td>300.0</td>\n",
              "      <td>0.00</td>\n",
              "      <td>0.0</td>\n",
              "      <td>0.0</td>\n",
              "    </tr>\n",
              "    <tr>\n",
              "      <th>2014-12-01 05:36:00+00:00</th>\n",
              "      <td>300.0</td>\n",
              "      <td>300.0</td>\n",
              "      <td>300.0</td>\n",
              "      <td>300.0</td>\n",
              "      <td>0.00</td>\n",
              "      <td>0.0</td>\n",
              "      <td>0.0</td>\n",
              "    </tr>\n",
              "    <tr>\n",
              "      <th>2014-12-01 05:37:00+00:00</th>\n",
              "      <td>300.0</td>\n",
              "      <td>300.0</td>\n",
              "      <td>300.0</td>\n",
              "      <td>300.0</td>\n",
              "      <td>0.00</td>\n",
              "      <td>0.0</td>\n",
              "      <td>0.0</td>\n",
              "    </tr>\n",
              "  </tbody>\n",
              "</table>\n",
              "</div>\n",
              "      <button class=\"colab-df-convert\" onclick=\"convertToInteractive('df-f4dce753-bb73-4d4a-aeae-d3a4c684b617')\"\n",
              "              title=\"Convert this dataframe to an interactive table.\"\n",
              "              style=\"display:none;\">\n",
              "        \n",
              "  <svg xmlns=\"http://www.w3.org/2000/svg\" height=\"24px\"viewBox=\"0 0 24 24\"\n",
              "       width=\"24px\">\n",
              "    <path d=\"M0 0h24v24H0V0z\" fill=\"none\"/>\n",
              "    <path d=\"M18.56 5.44l.94 2.06.94-2.06 2.06-.94-2.06-.94-.94-2.06-.94 2.06-2.06.94zm-11 1L8.5 8.5l.94-2.06 2.06-.94-2.06-.94L8.5 2.5l-.94 2.06-2.06.94zm10 10l.94 2.06.94-2.06 2.06-.94-2.06-.94-.94-2.06-.94 2.06-2.06.94z\"/><path d=\"M17.41 7.96l-1.37-1.37c-.4-.4-.92-.59-1.43-.59-.52 0-1.04.2-1.43.59L10.3 9.45l-7.72 7.72c-.78.78-.78 2.05 0 2.83L4 21.41c.39.39.9.59 1.41.59.51 0 1.02-.2 1.41-.59l7.78-7.78 2.81-2.81c.8-.78.8-2.07 0-2.86zM5.41 20L4 18.59l7.72-7.72 1.47 1.35L5.41 20z\"/>\n",
              "  </svg>\n",
              "      </button>\n",
              "      \n",
              "  <style>\n",
              "    .colab-df-container {\n",
              "      display:flex;\n",
              "      flex-wrap:wrap;\n",
              "      gap: 12px;\n",
              "    }\n",
              "\n",
              "    .colab-df-convert {\n",
              "      background-color: #E8F0FE;\n",
              "      border: none;\n",
              "      border-radius: 50%;\n",
              "      cursor: pointer;\n",
              "      display: none;\n",
              "      fill: #1967D2;\n",
              "      height: 32px;\n",
              "      padding: 0 0 0 0;\n",
              "      width: 32px;\n",
              "    }\n",
              "\n",
              "    .colab-df-convert:hover {\n",
              "      background-color: #E2EBFA;\n",
              "      box-shadow: 0px 1px 2px rgba(60, 64, 67, 0.3), 0px 1px 3px 1px rgba(60, 64, 67, 0.15);\n",
              "      fill: #174EA6;\n",
              "    }\n",
              "\n",
              "    [theme=dark] .colab-df-convert {\n",
              "      background-color: #3B4455;\n",
              "      fill: #D2E3FC;\n",
              "    }\n",
              "\n",
              "    [theme=dark] .colab-df-convert:hover {\n",
              "      background-color: #434B5C;\n",
              "      box-shadow: 0px 1px 3px 1px rgba(0, 0, 0, 0.15);\n",
              "      filter: drop-shadow(0px 1px 2px rgba(0, 0, 0, 0.3));\n",
              "      fill: #FFFFFF;\n",
              "    }\n",
              "  </style>\n",
              "\n",
              "      <script>\n",
              "        const buttonEl =\n",
              "          document.querySelector('#df-f4dce753-bb73-4d4a-aeae-d3a4c684b617 button.colab-df-convert');\n",
              "        buttonEl.style.display =\n",
              "          google.colab.kernel.accessAllowed ? 'block' : 'none';\n",
              "\n",
              "        async function convertToInteractive(key) {\n",
              "          const element = document.querySelector('#df-f4dce753-bb73-4d4a-aeae-d3a4c684b617');\n",
              "          const dataTable =\n",
              "            await google.colab.kernel.invokeFunction('convertToInteractive',\n",
              "                                                     [key], {});\n",
              "          if (!dataTable) return;\n",
              "\n",
              "          const docLinkHtml = 'Like what you see? Visit the ' +\n",
              "            '<a target=\"_blank\" href=https://colab.research.google.com/notebooks/data_table.ipynb>data table notebook</a>'\n",
              "            + ' to learn more about interactive tables.';\n",
              "          element.innerHTML = '';\n",
              "          dataTable['output_type'] = 'display_data';\n",
              "          await google.colab.output.renderOutput(dataTable, element);\n",
              "          const docLink = document.createElement('div');\n",
              "          docLink.innerHTML = docLinkHtml;\n",
              "          element.appendChild(docLink);\n",
              "        }\n",
              "      </script>\n",
              "    </div>\n",
              "  </div>\n",
              "  "
            ]
          },
          "metadata": {},
          "execution_count": 7
        }
      ]
    },
    {
      "cell_type": "code",
      "source": [
        "# Data prep for model input\n",
        "# resampling data into daily and hourly again for seasonal decompose and analysis\n",
        "data_prep = df_bit2.copy()\n",
        "data_prep_hourly = data_prep.groupby(pd.Grouper(level = 'Timestamp', freq = 'H')).first()\n",
        "data_prep_daily = data_prep.groupby(pd.Grouper(level = 'Timestamp', freq = 'D')).first()\n",
        "\n",
        "data_prep_hourly['Weighted_Price'] = data_prep_hourly['Weighted_Price'].replace(0,np.nan)\n",
        "data_prep_hourly['Weighted_Price'] = data_prep_hourly['Weighted_Price'].fillna(method = 'bfill')\n",
        "data_prep_daily['Weighted_Price'] = data_prep_daily['Weighted_Price'].replace(0,np.nan)\n",
        "data_prep_daily['Weighted_Price'] = data_prep_daily['Weighted_Price'].fillna(method = 'bfill')\n",
        "\n",
        "data_prep_hourly['Volume_(BTC)'] = data_prep_hourly['Volume_(BTC)'].fillna(0)\n",
        "data_prep_daily['Volume_(BTC)'] = data_prep_daily['Volume_(BTC)'].fillna(0)\n",
        "\n",
        "data_prep_hourly['Volume_(Currency)'] = data_prep_hourly['Volume_(Currency)'].fillna(0)\n",
        "data_prep_daily['Volume_(Currency)'] = data_prep_daily['Volume_(Currency)'].fillna(0)\n",
        "\n",
        "# our target = weighted price\n",
        "data_prep_daily = data_prep_daily[['Volume_(BTC)','Volume_(Currency)','Weighted_Price']]\n",
        "display(data_prep_hourly.head(10),data_prep_daily.head(10))"
      ],
      "metadata": {
        "colab": {
          "base_uri": "https://localhost:8080/",
          "height": 772
        },
        "id": "hv8mrFRqcxop",
        "outputId": "206a8321-7933-4b91-c1d4-fd89ad94a7dc"
      },
      "execution_count": null,
      "outputs": [
        {
          "output_type": "display_data",
          "data": {
            "text/plain": [
              "<IPython.core.display.Javascript object>"
            ],
            "application/javascript": [
              "\n",
              "        if (window._pyforest_update_imports_cell) { window._pyforest_update_imports_cell('import pandas as pd'); }\n",
              "    "
            ]
          },
          "metadata": {}
        },
        {
          "output_type": "display_data",
          "data": {
            "text/plain": [
              "<IPython.core.display.Javascript object>"
            ],
            "application/javascript": [
              "\n",
              "        if (window._pyforest_update_imports_cell) { window._pyforest_update_imports_cell('import pandas as pd'); }\n",
              "    "
            ]
          },
          "metadata": {}
        },
        {
          "output_type": "display_data",
          "data": {
            "text/plain": [
              "<IPython.core.display.Javascript object>"
            ],
            "application/javascript": [
              "\n",
              "        if (window._pyforest_update_imports_cell) { window._pyforest_update_imports_cell('import numpy as np\\nimport pandas as pd'); }\n",
              "    "
            ]
          },
          "metadata": {}
        },
        {
          "output_type": "display_data",
          "data": {
            "text/plain": [
              "<IPython.core.display.Javascript object>"
            ],
            "application/javascript": [
              "\n",
              "        if (window._pyforest_update_imports_cell) { window._pyforest_update_imports_cell('import numpy as np\\nimport pandas as pd'); }\n",
              "    "
            ]
          },
          "metadata": {}
        },
        {
          "output_type": "display_data",
          "data": {
            "text/plain": [
              "                            Open   High    Low  Close  Volume_(BTC)  \\\n",
              "Timestamp                                                             \n",
              "2014-12-01 05:00:00+00:00  300.0  300.0  300.0  300.0          0.01   \n",
              "2014-12-01 06:00:00+00:00  370.0  370.0  370.0  370.0          0.00   \n",
              "2014-12-01 07:00:00+00:00  377.0  377.0  377.0  377.0          0.00   \n",
              "2014-12-01 08:00:00+00:00  377.0  377.0  377.0  377.0          0.00   \n",
              "2014-12-01 09:00:00+00:00  377.0  377.0  377.0  377.0          0.00   \n",
              "2014-12-01 10:00:00+00:00  377.0  377.0  377.0  377.0          0.00   \n",
              "2014-12-01 11:00:00+00:00  377.0  377.0  377.0  377.0          0.00   \n",
              "2014-12-01 12:00:00+00:00  377.0  377.0  377.0  377.0          0.00   \n",
              "2014-12-01 13:00:00+00:00  377.0  377.0  377.0  377.0          0.00   \n",
              "2014-12-01 14:00:00+00:00  377.0  377.0  377.0  377.0          0.00   \n",
              "\n",
              "                           Volume_(Currency)  Weighted_Price  \n",
              "Timestamp                                                     \n",
              "2014-12-01 05:00:00+00:00                3.0           300.0  \n",
              "2014-12-01 06:00:00+00:00                0.0           378.0  \n",
              "2014-12-01 07:00:00+00:00                0.0           378.0  \n",
              "2014-12-01 08:00:00+00:00                0.0           378.0  \n",
              "2014-12-01 09:00:00+00:00                0.0           378.0  \n",
              "2014-12-01 10:00:00+00:00                0.0           378.0  \n",
              "2014-12-01 11:00:00+00:00                0.0           378.0  \n",
              "2014-12-01 12:00:00+00:00                0.0           378.0  \n",
              "2014-12-01 13:00:00+00:00                0.0           378.0  \n",
              "2014-12-01 14:00:00+00:00                0.0           378.0  "
            ],
            "text/html": [
              "\n",
              "  <div id=\"df-4e555aa9-81cf-4fbe-92cd-879830ed186f\">\n",
              "    <div class=\"colab-df-container\">\n",
              "      <div>\n",
              "<style scoped>\n",
              "    .dataframe tbody tr th:only-of-type {\n",
              "        vertical-align: middle;\n",
              "    }\n",
              "\n",
              "    .dataframe tbody tr th {\n",
              "        vertical-align: top;\n",
              "    }\n",
              "\n",
              "    .dataframe thead th {\n",
              "        text-align: right;\n",
              "    }\n",
              "</style>\n",
              "<table border=\"1\" class=\"dataframe\">\n",
              "  <thead>\n",
              "    <tr style=\"text-align: right;\">\n",
              "      <th></th>\n",
              "      <th>Open</th>\n",
              "      <th>High</th>\n",
              "      <th>Low</th>\n",
              "      <th>Close</th>\n",
              "      <th>Volume_(BTC)</th>\n",
              "      <th>Volume_(Currency)</th>\n",
              "      <th>Weighted_Price</th>\n",
              "    </tr>\n",
              "    <tr>\n",
              "      <th>Timestamp</th>\n",
              "      <th></th>\n",
              "      <th></th>\n",
              "      <th></th>\n",
              "      <th></th>\n",
              "      <th></th>\n",
              "      <th></th>\n",
              "      <th></th>\n",
              "    </tr>\n",
              "  </thead>\n",
              "  <tbody>\n",
              "    <tr>\n",
              "      <th>2014-12-01 05:00:00+00:00</th>\n",
              "      <td>300.0</td>\n",
              "      <td>300.0</td>\n",
              "      <td>300.0</td>\n",
              "      <td>300.0</td>\n",
              "      <td>0.01</td>\n",
              "      <td>3.0</td>\n",
              "      <td>300.0</td>\n",
              "    </tr>\n",
              "    <tr>\n",
              "      <th>2014-12-01 06:00:00+00:00</th>\n",
              "      <td>370.0</td>\n",
              "      <td>370.0</td>\n",
              "      <td>370.0</td>\n",
              "      <td>370.0</td>\n",
              "      <td>0.00</td>\n",
              "      <td>0.0</td>\n",
              "      <td>378.0</td>\n",
              "    </tr>\n",
              "    <tr>\n",
              "      <th>2014-12-01 07:00:00+00:00</th>\n",
              "      <td>377.0</td>\n",
              "      <td>377.0</td>\n",
              "      <td>377.0</td>\n",
              "      <td>377.0</td>\n",
              "      <td>0.00</td>\n",
              "      <td>0.0</td>\n",
              "      <td>378.0</td>\n",
              "    </tr>\n",
              "    <tr>\n",
              "      <th>2014-12-01 08:00:00+00:00</th>\n",
              "      <td>377.0</td>\n",
              "      <td>377.0</td>\n",
              "      <td>377.0</td>\n",
              "      <td>377.0</td>\n",
              "      <td>0.00</td>\n",
              "      <td>0.0</td>\n",
              "      <td>378.0</td>\n",
              "    </tr>\n",
              "    <tr>\n",
              "      <th>2014-12-01 09:00:00+00:00</th>\n",
              "      <td>377.0</td>\n",
              "      <td>377.0</td>\n",
              "      <td>377.0</td>\n",
              "      <td>377.0</td>\n",
              "      <td>0.00</td>\n",
              "      <td>0.0</td>\n",
              "      <td>378.0</td>\n",
              "    </tr>\n",
              "    <tr>\n",
              "      <th>2014-12-01 10:00:00+00:00</th>\n",
              "      <td>377.0</td>\n",
              "      <td>377.0</td>\n",
              "      <td>377.0</td>\n",
              "      <td>377.0</td>\n",
              "      <td>0.00</td>\n",
              "      <td>0.0</td>\n",
              "      <td>378.0</td>\n",
              "    </tr>\n",
              "    <tr>\n",
              "      <th>2014-12-01 11:00:00+00:00</th>\n",
              "      <td>377.0</td>\n",
              "      <td>377.0</td>\n",
              "      <td>377.0</td>\n",
              "      <td>377.0</td>\n",
              "      <td>0.00</td>\n",
              "      <td>0.0</td>\n",
              "      <td>378.0</td>\n",
              "    </tr>\n",
              "    <tr>\n",
              "      <th>2014-12-01 12:00:00+00:00</th>\n",
              "      <td>377.0</td>\n",
              "      <td>377.0</td>\n",
              "      <td>377.0</td>\n",
              "      <td>377.0</td>\n",
              "      <td>0.00</td>\n",
              "      <td>0.0</td>\n",
              "      <td>378.0</td>\n",
              "    </tr>\n",
              "    <tr>\n",
              "      <th>2014-12-01 13:00:00+00:00</th>\n",
              "      <td>377.0</td>\n",
              "      <td>377.0</td>\n",
              "      <td>377.0</td>\n",
              "      <td>377.0</td>\n",
              "      <td>0.00</td>\n",
              "      <td>0.0</td>\n",
              "      <td>378.0</td>\n",
              "    </tr>\n",
              "    <tr>\n",
              "      <th>2014-12-01 14:00:00+00:00</th>\n",
              "      <td>377.0</td>\n",
              "      <td>377.0</td>\n",
              "      <td>377.0</td>\n",
              "      <td>377.0</td>\n",
              "      <td>0.00</td>\n",
              "      <td>0.0</td>\n",
              "      <td>378.0</td>\n",
              "    </tr>\n",
              "  </tbody>\n",
              "</table>\n",
              "</div>\n",
              "      <button class=\"colab-df-convert\" onclick=\"convertToInteractive('df-4e555aa9-81cf-4fbe-92cd-879830ed186f')\"\n",
              "              title=\"Convert this dataframe to an interactive table.\"\n",
              "              style=\"display:none;\">\n",
              "        \n",
              "  <svg xmlns=\"http://www.w3.org/2000/svg\" height=\"24px\"viewBox=\"0 0 24 24\"\n",
              "       width=\"24px\">\n",
              "    <path d=\"M0 0h24v24H0V0z\" fill=\"none\"/>\n",
              "    <path d=\"M18.56 5.44l.94 2.06.94-2.06 2.06-.94-2.06-.94-.94-2.06-.94 2.06-2.06.94zm-11 1L8.5 8.5l.94-2.06 2.06-.94-2.06-.94L8.5 2.5l-.94 2.06-2.06.94zm10 10l.94 2.06.94-2.06 2.06-.94-2.06-.94-.94-2.06-.94 2.06-2.06.94z\"/><path d=\"M17.41 7.96l-1.37-1.37c-.4-.4-.92-.59-1.43-.59-.52 0-1.04.2-1.43.59L10.3 9.45l-7.72 7.72c-.78.78-.78 2.05 0 2.83L4 21.41c.39.39.9.59 1.41.59.51 0 1.02-.2 1.41-.59l7.78-7.78 2.81-2.81c.8-.78.8-2.07 0-2.86zM5.41 20L4 18.59l7.72-7.72 1.47 1.35L5.41 20z\"/>\n",
              "  </svg>\n",
              "      </button>\n",
              "      \n",
              "  <style>\n",
              "    .colab-df-container {\n",
              "      display:flex;\n",
              "      flex-wrap:wrap;\n",
              "      gap: 12px;\n",
              "    }\n",
              "\n",
              "    .colab-df-convert {\n",
              "      background-color: #E8F0FE;\n",
              "      border: none;\n",
              "      border-radius: 50%;\n",
              "      cursor: pointer;\n",
              "      display: none;\n",
              "      fill: #1967D2;\n",
              "      height: 32px;\n",
              "      padding: 0 0 0 0;\n",
              "      width: 32px;\n",
              "    }\n",
              "\n",
              "    .colab-df-convert:hover {\n",
              "      background-color: #E2EBFA;\n",
              "      box-shadow: 0px 1px 2px rgba(60, 64, 67, 0.3), 0px 1px 3px 1px rgba(60, 64, 67, 0.15);\n",
              "      fill: #174EA6;\n",
              "    }\n",
              "\n",
              "    [theme=dark] .colab-df-convert {\n",
              "      background-color: #3B4455;\n",
              "      fill: #D2E3FC;\n",
              "    }\n",
              "\n",
              "    [theme=dark] .colab-df-convert:hover {\n",
              "      background-color: #434B5C;\n",
              "      box-shadow: 0px 1px 3px 1px rgba(0, 0, 0, 0.15);\n",
              "      filter: drop-shadow(0px 1px 2px rgba(0, 0, 0, 0.3));\n",
              "      fill: #FFFFFF;\n",
              "    }\n",
              "  </style>\n",
              "\n",
              "      <script>\n",
              "        const buttonEl =\n",
              "          document.querySelector('#df-4e555aa9-81cf-4fbe-92cd-879830ed186f button.colab-df-convert');\n",
              "        buttonEl.style.display =\n",
              "          google.colab.kernel.accessAllowed ? 'block' : 'none';\n",
              "\n",
              "        async function convertToInteractive(key) {\n",
              "          const element = document.querySelector('#df-4e555aa9-81cf-4fbe-92cd-879830ed186f');\n",
              "          const dataTable =\n",
              "            await google.colab.kernel.invokeFunction('convertToInteractive',\n",
              "                                                     [key], {});\n",
              "          if (!dataTable) return;\n",
              "\n",
              "          const docLinkHtml = 'Like what you see? Visit the ' +\n",
              "            '<a target=\"_blank\" href=https://colab.research.google.com/notebooks/data_table.ipynb>data table notebook</a>'\n",
              "            + ' to learn more about interactive tables.';\n",
              "          element.innerHTML = '';\n",
              "          dataTable['output_type'] = 'display_data';\n",
              "          await google.colab.output.renderOutput(dataTable, element);\n",
              "          const docLink = document.createElement('div');\n",
              "          docLink.innerHTML = docLinkHtml;\n",
              "          element.appendChild(docLink);\n",
              "        }\n",
              "      </script>\n",
              "    </div>\n",
              "  </div>\n",
              "  "
            ]
          },
          "metadata": {}
        },
        {
          "output_type": "display_data",
          "data": {
            "text/plain": [
              "                           Volume_(BTC)  Volume_(Currency)  Weighted_Price\n",
              "Timestamp                                                                 \n",
              "2014-12-01 00:00:00+00:00         0.010             3.0000      300.000000\n",
              "2014-12-02 00:00:00+00:00         0.000             0.0000      378.000000\n",
              "2014-12-03 00:00:00+00:00         0.000             0.0000      378.000000\n",
              "2014-12-04 00:00:00+00:00         0.000             0.0000      378.000000\n",
              "2014-12-05 00:00:00+00:00         0.000             0.0000      378.000000\n",
              "2014-12-06 00:00:00+00:00         0.015             5.6700      378.000000\n",
              "2014-12-07 00:00:00+00:00         0.000             0.0000      375.000426\n",
              "2014-12-08 00:00:00+00:00         0.235            88.1251      375.000426\n",
              "2014-12-09 00:00:00+00:00         0.000             0.0000      398.000000\n",
              "2014-12-10 00:00:00+00:00         0.010             3.9800      398.000000"
            ],
            "text/html": [
              "\n",
              "  <div id=\"df-04461dd2-23f6-4c0b-8f31-2b14ae1ec5c7\">\n",
              "    <div class=\"colab-df-container\">\n",
              "      <div>\n",
              "<style scoped>\n",
              "    .dataframe tbody tr th:only-of-type {\n",
              "        vertical-align: middle;\n",
              "    }\n",
              "\n",
              "    .dataframe tbody tr th {\n",
              "        vertical-align: top;\n",
              "    }\n",
              "\n",
              "    .dataframe thead th {\n",
              "        text-align: right;\n",
              "    }\n",
              "</style>\n",
              "<table border=\"1\" class=\"dataframe\">\n",
              "  <thead>\n",
              "    <tr style=\"text-align: right;\">\n",
              "      <th></th>\n",
              "      <th>Volume_(BTC)</th>\n",
              "      <th>Volume_(Currency)</th>\n",
              "      <th>Weighted_Price</th>\n",
              "    </tr>\n",
              "    <tr>\n",
              "      <th>Timestamp</th>\n",
              "      <th></th>\n",
              "      <th></th>\n",
              "      <th></th>\n",
              "    </tr>\n",
              "  </thead>\n",
              "  <tbody>\n",
              "    <tr>\n",
              "      <th>2014-12-01 00:00:00+00:00</th>\n",
              "      <td>0.010</td>\n",
              "      <td>3.0000</td>\n",
              "      <td>300.000000</td>\n",
              "    </tr>\n",
              "    <tr>\n",
              "      <th>2014-12-02 00:00:00+00:00</th>\n",
              "      <td>0.000</td>\n",
              "      <td>0.0000</td>\n",
              "      <td>378.000000</td>\n",
              "    </tr>\n",
              "    <tr>\n",
              "      <th>2014-12-03 00:00:00+00:00</th>\n",
              "      <td>0.000</td>\n",
              "      <td>0.0000</td>\n",
              "      <td>378.000000</td>\n",
              "    </tr>\n",
              "    <tr>\n",
              "      <th>2014-12-04 00:00:00+00:00</th>\n",
              "      <td>0.000</td>\n",
              "      <td>0.0000</td>\n",
              "      <td>378.000000</td>\n",
              "    </tr>\n",
              "    <tr>\n",
              "      <th>2014-12-05 00:00:00+00:00</th>\n",
              "      <td>0.000</td>\n",
              "      <td>0.0000</td>\n",
              "      <td>378.000000</td>\n",
              "    </tr>\n",
              "    <tr>\n",
              "      <th>2014-12-06 00:00:00+00:00</th>\n",
              "      <td>0.015</td>\n",
              "      <td>5.6700</td>\n",
              "      <td>378.000000</td>\n",
              "    </tr>\n",
              "    <tr>\n",
              "      <th>2014-12-07 00:00:00+00:00</th>\n",
              "      <td>0.000</td>\n",
              "      <td>0.0000</td>\n",
              "      <td>375.000426</td>\n",
              "    </tr>\n",
              "    <tr>\n",
              "      <th>2014-12-08 00:00:00+00:00</th>\n",
              "      <td>0.235</td>\n",
              "      <td>88.1251</td>\n",
              "      <td>375.000426</td>\n",
              "    </tr>\n",
              "    <tr>\n",
              "      <th>2014-12-09 00:00:00+00:00</th>\n",
              "      <td>0.000</td>\n",
              "      <td>0.0000</td>\n",
              "      <td>398.000000</td>\n",
              "    </tr>\n",
              "    <tr>\n",
              "      <th>2014-12-10 00:00:00+00:00</th>\n",
              "      <td>0.010</td>\n",
              "      <td>3.9800</td>\n",
              "      <td>398.000000</td>\n",
              "    </tr>\n",
              "  </tbody>\n",
              "</table>\n",
              "</div>\n",
              "      <button class=\"colab-df-convert\" onclick=\"convertToInteractive('df-04461dd2-23f6-4c0b-8f31-2b14ae1ec5c7')\"\n",
              "              title=\"Convert this dataframe to an interactive table.\"\n",
              "              style=\"display:none;\">\n",
              "        \n",
              "  <svg xmlns=\"http://www.w3.org/2000/svg\" height=\"24px\"viewBox=\"0 0 24 24\"\n",
              "       width=\"24px\">\n",
              "    <path d=\"M0 0h24v24H0V0z\" fill=\"none\"/>\n",
              "    <path d=\"M18.56 5.44l.94 2.06.94-2.06 2.06-.94-2.06-.94-.94-2.06-.94 2.06-2.06.94zm-11 1L8.5 8.5l.94-2.06 2.06-.94-2.06-.94L8.5 2.5l-.94 2.06-2.06.94zm10 10l.94 2.06.94-2.06 2.06-.94-2.06-.94-.94-2.06-.94 2.06-2.06.94z\"/><path d=\"M17.41 7.96l-1.37-1.37c-.4-.4-.92-.59-1.43-.59-.52 0-1.04.2-1.43.59L10.3 9.45l-7.72 7.72c-.78.78-.78 2.05 0 2.83L4 21.41c.39.39.9.59 1.41.59.51 0 1.02-.2 1.41-.59l7.78-7.78 2.81-2.81c.8-.78.8-2.07 0-2.86zM5.41 20L4 18.59l7.72-7.72 1.47 1.35L5.41 20z\"/>\n",
              "  </svg>\n",
              "      </button>\n",
              "      \n",
              "  <style>\n",
              "    .colab-df-container {\n",
              "      display:flex;\n",
              "      flex-wrap:wrap;\n",
              "      gap: 12px;\n",
              "    }\n",
              "\n",
              "    .colab-df-convert {\n",
              "      background-color: #E8F0FE;\n",
              "      border: none;\n",
              "      border-radius: 50%;\n",
              "      cursor: pointer;\n",
              "      display: none;\n",
              "      fill: #1967D2;\n",
              "      height: 32px;\n",
              "      padding: 0 0 0 0;\n",
              "      width: 32px;\n",
              "    }\n",
              "\n",
              "    .colab-df-convert:hover {\n",
              "      background-color: #E2EBFA;\n",
              "      box-shadow: 0px 1px 2px rgba(60, 64, 67, 0.3), 0px 1px 3px 1px rgba(60, 64, 67, 0.15);\n",
              "      fill: #174EA6;\n",
              "    }\n",
              "\n",
              "    [theme=dark] .colab-df-convert {\n",
              "      background-color: #3B4455;\n",
              "      fill: #D2E3FC;\n",
              "    }\n",
              "\n",
              "    [theme=dark] .colab-df-convert:hover {\n",
              "      background-color: #434B5C;\n",
              "      box-shadow: 0px 1px 3px 1px rgba(0, 0, 0, 0.15);\n",
              "      filter: drop-shadow(0px 1px 2px rgba(0, 0, 0, 0.3));\n",
              "      fill: #FFFFFF;\n",
              "    }\n",
              "  </style>\n",
              "\n",
              "      <script>\n",
              "        const buttonEl =\n",
              "          document.querySelector('#df-04461dd2-23f6-4c0b-8f31-2b14ae1ec5c7 button.colab-df-convert');\n",
              "        buttonEl.style.display =\n",
              "          google.colab.kernel.accessAllowed ? 'block' : 'none';\n",
              "\n",
              "        async function convertToInteractive(key) {\n",
              "          const element = document.querySelector('#df-04461dd2-23f6-4c0b-8f31-2b14ae1ec5c7');\n",
              "          const dataTable =\n",
              "            await google.colab.kernel.invokeFunction('convertToInteractive',\n",
              "                                                     [key], {});\n",
              "          if (!dataTable) return;\n",
              "\n",
              "          const docLinkHtml = 'Like what you see? Visit the ' +\n",
              "            '<a target=\"_blank\" href=https://colab.research.google.com/notebooks/data_table.ipynb>data table notebook</a>'\n",
              "            + ' to learn more about interactive tables.';\n",
              "          element.innerHTML = '';\n",
              "          dataTable['output_type'] = 'display_data';\n",
              "          await google.colab.output.renderOutput(dataTable, element);\n",
              "          const docLink = document.createElement('div');\n",
              "          docLink.innerHTML = docLinkHtml;\n",
              "          element.appendChild(docLink);\n",
              "        }\n",
              "      </script>\n",
              "    </div>\n",
              "  </div>\n",
              "  "
            ]
          },
          "metadata": {}
        }
      ]
    },
    {
      "cell_type": "code",
      "source": [
        "# data divison (05-jun-2018) as raise started after major dip (DAILY)\n",
        "data_division = '2018-06-04'\n",
        "bit_train2 = data_prep_daily[data_prep_daily.index <= data_division]\n",
        "bit_test2 = data_prep_daily[data_prep_daily.index > data_division]\n",
        "bit_train2.head()"
      ],
      "metadata": {
        "colab": {
          "base_uri": "https://localhost:8080/",
          "height": 238
        },
        "id": "IeBcEzQ9a4Qu",
        "outputId": "97145d2f-e970-40fe-8f61-c655187dd2e0"
      },
      "execution_count": null,
      "outputs": [
        {
          "output_type": "execute_result",
          "data": {
            "text/plain": [
              "                           Volume_(BTC)  Volume_(Currency)  Weighted_Price\n",
              "Timestamp                                                                 \n",
              "2014-12-01 00:00:00+00:00          0.01                3.0           300.0\n",
              "2014-12-02 00:00:00+00:00          0.00                0.0           378.0\n",
              "2014-12-03 00:00:00+00:00          0.00                0.0           378.0\n",
              "2014-12-04 00:00:00+00:00          0.00                0.0           378.0\n",
              "2014-12-05 00:00:00+00:00          0.00                0.0           378.0"
            ],
            "text/html": [
              "\n",
              "  <div id=\"df-e72d7b83-6f63-4245-8642-243bc4253909\">\n",
              "    <div class=\"colab-df-container\">\n",
              "      <div>\n",
              "<style scoped>\n",
              "    .dataframe tbody tr th:only-of-type {\n",
              "        vertical-align: middle;\n",
              "    }\n",
              "\n",
              "    .dataframe tbody tr th {\n",
              "        vertical-align: top;\n",
              "    }\n",
              "\n",
              "    .dataframe thead th {\n",
              "        text-align: right;\n",
              "    }\n",
              "</style>\n",
              "<table border=\"1\" class=\"dataframe\">\n",
              "  <thead>\n",
              "    <tr style=\"text-align: right;\">\n",
              "      <th></th>\n",
              "      <th>Volume_(BTC)</th>\n",
              "      <th>Volume_(Currency)</th>\n",
              "      <th>Weighted_Price</th>\n",
              "    </tr>\n",
              "    <tr>\n",
              "      <th>Timestamp</th>\n",
              "      <th></th>\n",
              "      <th></th>\n",
              "      <th></th>\n",
              "    </tr>\n",
              "  </thead>\n",
              "  <tbody>\n",
              "    <tr>\n",
              "      <th>2014-12-01 00:00:00+00:00</th>\n",
              "      <td>0.01</td>\n",
              "      <td>3.0</td>\n",
              "      <td>300.0</td>\n",
              "    </tr>\n",
              "    <tr>\n",
              "      <th>2014-12-02 00:00:00+00:00</th>\n",
              "      <td>0.00</td>\n",
              "      <td>0.0</td>\n",
              "      <td>378.0</td>\n",
              "    </tr>\n",
              "    <tr>\n",
              "      <th>2014-12-03 00:00:00+00:00</th>\n",
              "      <td>0.00</td>\n",
              "      <td>0.0</td>\n",
              "      <td>378.0</td>\n",
              "    </tr>\n",
              "    <tr>\n",
              "      <th>2014-12-04 00:00:00+00:00</th>\n",
              "      <td>0.00</td>\n",
              "      <td>0.0</td>\n",
              "      <td>378.0</td>\n",
              "    </tr>\n",
              "    <tr>\n",
              "      <th>2014-12-05 00:00:00+00:00</th>\n",
              "      <td>0.00</td>\n",
              "      <td>0.0</td>\n",
              "      <td>378.0</td>\n",
              "    </tr>\n",
              "  </tbody>\n",
              "</table>\n",
              "</div>\n",
              "      <button class=\"colab-df-convert\" onclick=\"convertToInteractive('df-e72d7b83-6f63-4245-8642-243bc4253909')\"\n",
              "              title=\"Convert this dataframe to an interactive table.\"\n",
              "              style=\"display:none;\">\n",
              "        \n",
              "  <svg xmlns=\"http://www.w3.org/2000/svg\" height=\"24px\"viewBox=\"0 0 24 24\"\n",
              "       width=\"24px\">\n",
              "    <path d=\"M0 0h24v24H0V0z\" fill=\"none\"/>\n",
              "    <path d=\"M18.56 5.44l.94 2.06.94-2.06 2.06-.94-2.06-.94-.94-2.06-.94 2.06-2.06.94zm-11 1L8.5 8.5l.94-2.06 2.06-.94-2.06-.94L8.5 2.5l-.94 2.06-2.06.94zm10 10l.94 2.06.94-2.06 2.06-.94-2.06-.94-.94-2.06-.94 2.06-2.06.94z\"/><path d=\"M17.41 7.96l-1.37-1.37c-.4-.4-.92-.59-1.43-.59-.52 0-1.04.2-1.43.59L10.3 9.45l-7.72 7.72c-.78.78-.78 2.05 0 2.83L4 21.41c.39.39.9.59 1.41.59.51 0 1.02-.2 1.41-.59l7.78-7.78 2.81-2.81c.8-.78.8-2.07 0-2.86zM5.41 20L4 18.59l7.72-7.72 1.47 1.35L5.41 20z\"/>\n",
              "  </svg>\n",
              "      </button>\n",
              "      \n",
              "  <style>\n",
              "    .colab-df-container {\n",
              "      display:flex;\n",
              "      flex-wrap:wrap;\n",
              "      gap: 12px;\n",
              "    }\n",
              "\n",
              "    .colab-df-convert {\n",
              "      background-color: #E8F0FE;\n",
              "      border: none;\n",
              "      border-radius: 50%;\n",
              "      cursor: pointer;\n",
              "      display: none;\n",
              "      fill: #1967D2;\n",
              "      height: 32px;\n",
              "      padding: 0 0 0 0;\n",
              "      width: 32px;\n",
              "    }\n",
              "\n",
              "    .colab-df-convert:hover {\n",
              "      background-color: #E2EBFA;\n",
              "      box-shadow: 0px 1px 2px rgba(60, 64, 67, 0.3), 0px 1px 3px 1px rgba(60, 64, 67, 0.15);\n",
              "      fill: #174EA6;\n",
              "    }\n",
              "\n",
              "    [theme=dark] .colab-df-convert {\n",
              "      background-color: #3B4455;\n",
              "      fill: #D2E3FC;\n",
              "    }\n",
              "\n",
              "    [theme=dark] .colab-df-convert:hover {\n",
              "      background-color: #434B5C;\n",
              "      box-shadow: 0px 1px 3px 1px rgba(0, 0, 0, 0.15);\n",
              "      filter: drop-shadow(0px 1px 2px rgba(0, 0, 0, 0.3));\n",
              "      fill: #FFFFFF;\n",
              "    }\n",
              "  </style>\n",
              "\n",
              "      <script>\n",
              "        const buttonEl =\n",
              "          document.querySelector('#df-e72d7b83-6f63-4245-8642-243bc4253909 button.colab-df-convert');\n",
              "        buttonEl.style.display =\n",
              "          google.colab.kernel.accessAllowed ? 'block' : 'none';\n",
              "\n",
              "        async function convertToInteractive(key) {\n",
              "          const element = document.querySelector('#df-e72d7b83-6f63-4245-8642-243bc4253909');\n",
              "          const dataTable =\n",
              "            await google.colab.kernel.invokeFunction('convertToInteractive',\n",
              "                                                     [key], {});\n",
              "          if (!dataTable) return;\n",
              "\n",
              "          const docLinkHtml = 'Like what you see? Visit the ' +\n",
              "            '<a target=\"_blank\" href=https://colab.research.google.com/notebooks/data_table.ipynb>data table notebook</a>'\n",
              "            + ' to learn more about interactive tables.';\n",
              "          element.innerHTML = '';\n",
              "          dataTable['output_type'] = 'display_data';\n",
              "          await google.colab.output.renderOutput(dataTable, element);\n",
              "          const docLink = document.createElement('div');\n",
              "          docLink.innerHTML = docLinkHtml;\n",
              "          element.appendChild(docLink);\n",
              "        }\n",
              "      </script>\n",
              "    </div>\n",
              "  </div>\n",
              "  "
            ]
          },
          "metadata": {},
          "execution_count": 9
        }
      ]
    },
    {
      "cell_type": "code",
      "source": [
        "# seasonal decompose \n",
        "plt.figure(figsize=[15,7])\n",
        "bit_train_2015 = bit_train2[(bit_train2.index >= '2015-01-01') & (bit_train2.index <= '2015-12-31')]\n",
        "result_decompose2 = sm.tsa.seasonal_decompose(bit_train_2015.Weighted_Price,model = 'additive')\n",
        "print(\"Dickey–Fuller test: p=%f\" % sm.tsa.stattools.adfuller(bit_train2.Weighted_Price)[1])\n",
        "\n",
        "plt.subplot(311)\n",
        "result_decompose2.trend.plot()\n",
        "plt.title(\"Weighted_Price-trend\")\n",
        "\n",
        "plt.subplot(312)\n",
        "result_decompose2.seasonal.plot()\n",
        "plt.title(\"Weighted_Price-seasonal\")\n",
        "\n",
        "plt.subplot(313)\n",
        "result_decompose2.resid.plot()\n",
        "plt.title(\"Weighted_Price-resid\")\n",
        "\n",
        "plt.show()"
      ],
      "metadata": {
        "colab": {
          "base_uri": "https://localhost:8080/",
          "height": 488
        },
        "id": "zb1O0-QpbP5E",
        "outputId": "83c824d1-fda7-4799-ac53-96415baf7b93"
      },
      "execution_count": null,
      "outputs": [
        {
          "output_type": "display_data",
          "data": {
            "text/plain": [
              "<IPython.core.display.Javascript object>"
            ],
            "application/javascript": [
              "\n",
              "        if (window._pyforest_update_imports_cell) { window._pyforest_update_imports_cell('import numpy as np\\nimport matplotlib.pyplot as plt\\nimport pandas as pd'); }\n",
              "    "
            ]
          },
          "metadata": {}
        },
        {
          "output_type": "stream",
          "name": "stdout",
          "text": [
            "Dickey–Fuller test: p=0.497411\n"
          ]
        },
        {
          "output_type": "display_data",
          "data": {
            "text/plain": [
              "<IPython.core.display.Javascript object>"
            ],
            "application/javascript": [
              "\n",
              "        if (window._pyforest_update_imports_cell) { window._pyforest_update_imports_cell('import numpy as np\\nimport matplotlib.pyplot as plt\\nimport pandas as pd'); }\n",
              "    "
            ]
          },
          "metadata": {}
        },
        {
          "output_type": "display_data",
          "data": {
            "text/plain": [
              "<IPython.core.display.Javascript object>"
            ],
            "application/javascript": [
              "\n",
              "        if (window._pyforest_update_imports_cell) { window._pyforest_update_imports_cell('import numpy as np\\nimport matplotlib.pyplot as plt\\nimport pandas as pd'); }\n",
              "    "
            ]
          },
          "metadata": {}
        },
        {
          "output_type": "display_data",
          "data": {
            "text/plain": [
              "<IPython.core.display.Javascript object>"
            ],
            "application/javascript": [
              "\n",
              "        if (window._pyforest_update_imports_cell) { window._pyforest_update_imports_cell('import numpy as np\\nimport matplotlib.pyplot as plt\\nimport pandas as pd'); }\n",
              "    "
            ]
          },
          "metadata": {}
        },
        {
          "output_type": "display_data",
          "data": {
            "text/plain": [
              "<IPython.core.display.Javascript object>"
            ],
            "application/javascript": [
              "\n",
              "        if (window._pyforest_update_imports_cell) { window._pyforest_update_imports_cell('import numpy as np\\nimport matplotlib.pyplot as plt\\nimport pandas as pd'); }\n",
              "    "
            ]
          },
          "metadata": {}
        },
        {
          "output_type": "display_data",
          "data": {
            "text/plain": [
              "<IPython.core.display.Javascript object>"
            ],
            "application/javascript": [
              "\n",
              "        if (window._pyforest_update_imports_cell) { window._pyforest_update_imports_cell('import numpy as np\\nimport matplotlib.pyplot as plt\\nimport pandas as pd'); }\n",
              "    "
            ]
          },
          "metadata": {}
        },
        {
          "output_type": "display_data",
          "data": {
            "text/plain": [
              "<IPython.core.display.Javascript object>"
            ],
            "application/javascript": [
              "\n",
              "        if (window._pyforest_update_imports_cell) { window._pyforest_update_imports_cell('import numpy as np\\nimport matplotlib.pyplot as plt\\nimport pandas as pd'); }\n",
              "    "
            ]
          },
          "metadata": {}
        },
        {
          "output_type": "display_data",
          "data": {
            "text/plain": [
              "<IPython.core.display.Javascript object>"
            ],
            "application/javascript": [
              "\n",
              "        if (window._pyforest_update_imports_cell) { window._pyforest_update_imports_cell('import numpy as np\\nimport matplotlib.pyplot as plt\\nimport pandas as pd'); }\n",
              "    "
            ]
          },
          "metadata": {}
        },
        {
          "output_type": "display_data",
          "data": {
            "text/plain": [
              "<Figure size 1080x504 with 3 Axes>"
            ],
            "image/png": "[encoded data removed]"
          },
          "metadata": {
            "needs_background": "light"
          }
        }
      ]
    },
    {
      "cell_type": "code",
      "source": [
        "# Data preprocess\n",
        "bit_train_lstm = bit_train2[['Weighted_Price']].copy()\n",
        "bit_test_lstm = bit_test2[['Weighted_Price']].copy()\n",
        "\n",
        "# Data preprocess\n",
        "training_set = bit_train_lstm.values\n",
        "training_set = np.reshape(training_set, (len(training_set), 1))\n",
        "testing_set = bit_test_lstm.values\n",
        "testing_set = np.reshape(testing_set, (len(testing_set), 1))\n",
        "print(training_set.shape,testing_set.shape)"
      ],
      "metadata": {
        "colab": {
          "base_uri": "https://localhost:8080/",
          "height": 35
        },
        "id": "tISdA06zbTR5",
        "outputId": "69693bac-ca67-40fc-85f1-0216de91bf79"
      },
      "execution_count": null,
      "outputs": [
        {
          "output_type": "display_data",
          "data": {
            "text/plain": [
              "<IPython.core.display.Javascript object>"
            ],
            "application/javascript": [
              "\n",
              "        if (window._pyforest_update_imports_cell) { window._pyforest_update_imports_cell('import numpy as np\\nimport matplotlib.pyplot as plt\\nimport pandas as pd'); }\n",
              "    "
            ]
          },
          "metadata": {}
        },
        {
          "output_type": "display_data",
          "data": {
            "text/plain": [
              "<IPython.core.display.Javascript object>"
            ],
            "application/javascript": [
              "\n",
              "        if (window._pyforest_update_imports_cell) { window._pyforest_update_imports_cell('import numpy as np\\nimport matplotlib.pyplot as plt\\nimport pandas as pd'); }\n",
              "    "
            ]
          },
          "metadata": {}
        },
        {
          "output_type": "stream",
          "name": "stdout",
          "text": [
            "(1282, 1) (160, 1)\n"
          ]
        }
      ]
    },
    {
      "cell_type": "code",
      "source": [
        "# scaler\n",
        "scaler = MinMaxScaler()\n",
        "training_set = scaler.fit_transform(training_set)\n",
        "X_train = training_set[0:len(training_set)-1]\n",
        "y_train = training_set[1:len(training_set)]"
      ],
      "metadata": {
        "colab": {
          "base_uri": "https://localhost:8080/",
          "height": 17
        },
        "id": "QXlU3ZEwJOLl",
        "outputId": "ee2370e7-4a95-4aea-f993-b0328ea6b07e"
      },
      "execution_count": null,
      "outputs": [
        {
          "output_type": "display_data",
          "data": {
            "text/plain": [
              "<IPython.core.display.Javascript object>"
            ],
            "application/javascript": [
              "\n",
              "        if (window._pyforest_update_imports_cell) { window._pyforest_update_imports_cell('import numpy as np\\nimport matplotlib.pyplot as plt\\nimport pandas as pd\\nfrom sklearn.preprocessing import MinMaxScaler'); }\n",
              "    "
            ]
          },
          "metadata": {}
        }
      ]
    },
    {
      "cell_type": "code",
      "source": [
        "# reshape as per lstm\n",
        "X_train = np.reshape(X_train, (len(X_train), 1, 1))\n",
        "X_train.shape"
      ],
      "metadata": {
        "colab": {
          "base_uri": "https://localhost:8080/",
          "height": 35
        },
        "id": "heYtWqkqbZYX",
        "outputId": "403394e4-83b9-4f45-8845-ca4c3bbef670"
      },
      "execution_count": null,
      "outputs": [
        {
          "output_type": "display_data",
          "data": {
            "text/plain": [
              "<IPython.core.display.Javascript object>"
            ],
            "application/javascript": [
              "\n",
              "        if (window._pyforest_update_imports_cell) { window._pyforest_update_imports_cell('import numpy as np\\nimport matplotlib.pyplot as plt\\nimport pandas as pd\\nfrom sklearn.preprocessing import MinMaxScaler'); }\n",
              "    "
            ]
          },
          "metadata": {}
        },
        {
          "output_type": "execute_result",
          "data": {
            "text/plain": [
              "(1281, 1, 1)"
            ]
          },
          "metadata": {},
          "execution_count": 13
        }
      ]
    },
    {
      "cell_type": "code",
      "source": [
        "# test train split graph\n",
        "bit_test_lstm.rename(columns = {'Weighted_Price':'Weighted_Price_Test'}).join(\n",
        "    bit_train_lstm.rename(columns = {'Weighted_Price':'Weighted_Price_Train'}), how = 'outer').plot(figsize = (20,5), \n",
        "                                                            title='BTC Weighted_Price Price (USD) Hourly', style='')"
      ],
      "metadata": {
        "colab": {
          "base_uri": "https://localhost:8080/",
          "height": 379
        },
        "id": "T-QUr4YYbeF2",
        "outputId": "5d98494f-df53-43b0-8199-6bc813c8395f"
      },
      "execution_count": null,
      "outputs": [
        {
          "output_type": "execute_result",
          "data": {
            "text/plain": [
              "<matplotlib.axes._subplots.AxesSubplot at 0x7fc231ccbad0>"
            ]
          },
          "metadata": {},
          "execution_count": 14
        },
        {
          "output_type": "display_data",
          "data": {
            "text/plain": [
              "<Figure size 1440x360 with 1 Axes>"
            ],
            "image/png": "[encoded data removed]"
          },
          "metadata": {
            "needs_background": "light"
          }
        }
      ]
    },
    {
      "cell_type": "code",
      "source": [
        "# LSTM\n",
        "# Vanila LSTM (Long stort term memory)\n",
        "from keras.models import Sequential\n",
        "from keras.layers import LSTM\n",
        "from keras.layers import Dense\n",
        "from keras.layers import Dropout\n",
        "from keras.layers import Activation,Flatten\n",
        "from keras.callbacks import EarlyStopping\n",
        "\n",
        "LSTM_model = Sequential()\n",
        "# Adding the first LSTM layer and some Dropout regularisation\n",
        "LSTM_model.add(LSTM(50 , activation='tanh', recurrent_activation='hard_sigmoid',\n",
        "                    return_sequences = True,input_shape = (X_train.shape[1],1)))\n",
        "LSTM_model.add(Dropout(0.2))\n",
        "\n",
        "# Adding a second LSTM layer and some Dropout regularisation\n",
        "LSTM_model.add(LSTM(units = 50, return_sequences = True))\n",
        "LSTM_model.add(Dropout(0.2))\n",
        "\n",
        "# Adding a third LSTM layer and some Dropout regularisation\n",
        "LSTM_model.add(LSTM(units = 50, return_sequences = True))\n",
        "LSTM_model.add(Dropout(0.2))\n",
        "\n",
        "# Adding a fourth LSTM layer and some Dropout regularisation\n",
        "LSTM_model.add(LSTM(units = 50))\n",
        "LSTM_model.add(Dropout(0.2))\n",
        "\n",
        "LSTM_model.add(Flatten())\n",
        "LSTM_model.add(Dense(1))\n",
        "\n",
        "es = EarlyStopping(monitor='val_loss', mode='min', verbose=1, patience=20)\n",
        "\n",
        "LSTM_model.compile(loss = 'mean_squared_error', optimizer = 'adam')\n",
        "history = LSTM_model.fit(X_train,y_train, epochs = 200,\n",
        "                         batch_size = 32, verbose = 1,shuffle = False,\n",
        "                         validation_split=0.2, callbacks=[es])"
      ],
      "metadata": {
        "colab": {
          "base_uri": "https://localhost:8080/"
        },
        "id": "MVscTFe5bgto",
        "outputId": "70da8f6d-3428-40e6-938d-75e0b4e03316"
      },
      "execution_count": null,
      "outputs": [
        {
          "output_type": "stream",
          "name": "stdout",
          "text": [
            "Epoch 1/200\n",
            "32/32 [==============================] - 8s 56ms/step - loss: 0.0014 - val_loss: 0.1947\n",
            "Epoch 2/200\n",
            "32/32 [==============================] - 0s 7ms/step - loss: 0.0040 - val_loss: 0.2266\n",
            "Epoch 3/200\n",
            "32/32 [==============================] - 0s 7ms/step - loss: 0.0026 - val_loss: 0.2212\n",
            "Epoch 4/200\n",
            "32/32 [==============================] - 0s 7ms/step - loss: 0.0027 - val_loss: 0.2209\n",
            "Epoch 5/200\n",
            "32/32 [==============================] - 0s 7ms/step - loss: 0.0027 - val_loss: 0.2210\n",
            "Epoch 6/200\n",
            "32/32 [==============================] - 0s 7ms/step - loss: 0.0027 - val_loss: 0.2208\n",
            "Epoch 7/200\n",
            "32/32 [==============================] - 0s 7ms/step - loss: 0.0027 - val_loss: 0.2206\n",
            "Epoch 8/200\n",
            "32/32 [==============================] - 0s 7ms/step - loss: 0.0027 - val_loss: 0.2204\n",
            "Epoch 9/200\n",
            "32/32 [==============================] - 0s 7ms/step - loss: 0.0026 - val_loss: 0.2200\n",
            "Epoch 10/200\n",
            "32/32 [==============================] - 0s 7ms/step - loss: 0.0027 - val_loss: 0.2196\n",
            "Epoch 11/200\n",
            "32/32 [==============================] - 0s 7ms/step - loss: 0.0026 - val_loss: 0.2184\n",
            "Epoch 12/200\n",
            "32/32 [==============================] - 0s 7ms/step - loss: 0.0026 - val_loss: 0.2161\n",
            "Epoch 13/200\n",
            "32/32 [==============================] - 0s 7ms/step - loss: 0.0026 - val_loss: 0.2107\n",
            "Epoch 14/200\n",
            "32/32 [==============================] - 0s 7ms/step - loss: 0.0025 - val_loss: 0.1949\n",
            "Epoch 15/200\n",
            "32/32 [==============================] - 0s 7ms/step - loss: 0.0022 - val_loss: 0.1515\n",
            "Epoch 16/200\n",
            "32/32 [==============================] - 0s 8ms/step - loss: 0.0014 - val_loss: 0.0639\n",
            "Epoch 17/200\n",
            "32/32 [==============================] - 0s 7ms/step - loss: 7.6590e-04 - val_loss: 0.0036\n",
            "Epoch 18/200\n",
            "32/32 [==============================] - 0s 7ms/step - loss: 3.3624e-04 - val_loss: 0.0013\n",
            "Epoch 19/200\n",
            "32/32 [==============================] - 0s 7ms/step - loss: 1.8278e-04 - val_loss: 0.0021\n",
            "Epoch 20/200\n",
            "32/32 [==============================] - 0s 7ms/step - loss: 2.4556e-04 - val_loss: 0.0022\n",
            "Epoch 21/200\n",
            "32/32 [==============================] - 0s 7ms/step - loss: 5.4844e-04 - val_loss: 0.0386\n",
            "Epoch 22/200\n",
            "32/32 [==============================] - 0s 7ms/step - loss: 5.1556e-04 - val_loss: 0.0021\n",
            "Epoch 23/200\n",
            "32/32 [==============================] - 0s 7ms/step - loss: 7.3041e-04 - val_loss: 0.0607\n",
            "Epoch 24/200\n",
            "32/32 [==============================] - 0s 7ms/step - loss: 4.6165e-04 - val_loss: 0.0020\n",
            "Epoch 25/200\n",
            "32/32 [==============================] - 0s 7ms/step - loss: 1.4783e-04 - val_loss: 0.0036\n",
            "Epoch 26/200\n",
            "32/32 [==============================] - 0s 7ms/step - loss: 2.1456e-04 - val_loss: 0.0022\n",
            "Epoch 27/200\n",
            "32/32 [==============================] - 0s 7ms/step - loss: 2.6026e-04 - val_loss: 0.0230\n",
            "Epoch 28/200\n",
            "32/32 [==============================] - 0s 9ms/step - loss: 3.6011e-04 - val_loss: 0.0024\n",
            "Epoch 29/200\n",
            "32/32 [==============================] - 0s 7ms/step - loss: 3.6267e-04 - val_loss: 0.0389\n",
            "Epoch 30/200\n",
            "32/32 [==============================] - 0s 7ms/step - loss: 3.5495e-04 - val_loss: 0.0036\n",
            "Epoch 31/200\n",
            "32/32 [==============================] - 0s 7ms/step - loss: 2.0309e-04 - val_loss: 0.0245\n",
            "Epoch 32/200\n",
            "32/32 [==============================] - 0s 7ms/step - loss: 3.2356e-04 - val_loss: 0.0050\n",
            "Epoch 33/200\n",
            "32/32 [==============================] - 0s 7ms/step - loss: 3.1398e-04 - val_loss: 0.0381\n",
            "Epoch 34/200\n",
            "32/32 [==============================] - 0s 7ms/step - loss: 2.9184e-04 - val_loss: 0.0057\n",
            "Epoch 35/200\n",
            "32/32 [==============================] - 0s 9ms/step - loss: 1.3456e-04 - val_loss: 0.0167\n",
            "Epoch 36/200\n",
            "32/32 [==============================] - 0s 8ms/step - loss: 1.8523e-04 - val_loss: 0.0055\n",
            "Epoch 37/200\n",
            "32/32 [==============================] - 0s 7ms/step - loss: 1.7573e-04 - val_loss: 0.0225\n",
            "Epoch 38/200\n",
            "32/32 [==============================] - 0s 8ms/step - loss: 1.9614e-04 - val_loss: 0.0069\n",
            "Epoch 38: early stopping\n"
          ]
        }
      ]
    },
    {
      "cell_type": "code",
      "source": [
        "#### loss graph\n",
        "import matplotlib.pyplot as plt\n",
        "\n",
        "loss = history.history['loss']\n",
        "val_loss = history.history['val_loss']\n",
        "\n",
        "epochs = range(len(loss))\n",
        "\n",
        "plt.plot(epochs, loss, 'r', label='Training loss')\n",
        "plt.plot(epochs, val_loss, 'b', label='Validation loss')\n",
        "plt.title('Training and validation loss')\n",
        "plt.legend(loc=0)\n",
        "plt.figure()\n",
        "\n",
        "\n",
        "plt.show()"
      ],
      "metadata": {
        "colab": {
          "base_uri": "https://localhost:8080/",
          "height": 299
        },
        "id": "O5rFCV1KeCx2",
        "outputId": "88e3da50-8808-4323-e293-529f4bb3f9c1"
      },
      "execution_count": null,
      "outputs": [
        {
          "output_type": "display_data",
          "data": {
            "text/plain": [
              "<Figure size 432x288 with 1 Axes>"
            ],
            "image/png": "[encoded data removed]"
          },
          "metadata": {
            "needs_background": "light"
          }
        },
        {
          "output_type": "display_data",
          "data": {
            "text/plain": [
              "<Figure size 432x288 with 0 Axes>"
            ]
          },
          "metadata": {}
        }
      ]
    },
    {
      "cell_type": "code",
      "source": [
        "# summary\n",
        "LSTM_model.summary()"
      ],
      "metadata": {
        "colab": {
          "base_uri": "https://localhost:8080/"
        },
        "id": "74nl9kG4boJ8",
        "outputId": "2d389dea-f270-464e-a296-41f694a82794"
      },
      "execution_count": null,
      "outputs": [
        {
          "output_type": "stream",
          "name": "stdout",
          "text": [
            "Model: \"sequential\"\n",
            "_________________________________________________________________\n",
            " Layer (type)                Output Shape              Param #   \n",
            "=================================================================\n",
            " lstm (LSTM)                 (None, 1, 50)             10400     \n",
            "                                                                 \n",
            " dropout (Dropout)           (None, 1, 50)             0         \n",
            "                                                                 \n",
            " lstm_1 (LSTM)               (None, 1, 50)             20200     \n",
            "                                                                 \n",
            " dropout_1 (Dropout)         (None, 1, 50)             0         \n",
            "                                                                 \n",
            " lstm_2 (LSTM)               (None, 1, 50)             20200     \n",
            "                                                                 \n",
            " dropout_2 (Dropout)         (None, 1, 50)             0         \n",
            "                                                                 \n",
            " lstm_3 (LSTM)               (None, 50)                20200     \n",
            "                                                                 \n",
            " dropout_3 (Dropout)         (None, 50)                0         \n",
            "                                                                 \n",
            " flatten (Flatten)           (None, 50)                0         \n",
            "                                                                 \n",
            " dense (Dense)               (None, 1)                 51        \n",
            "                                                                 \n",
            "=================================================================\n",
            "Total params: 71,051\n",
            "Trainable params: 71,051\n",
            "Non-trainable params: 0\n",
            "_________________________________________________________________\n"
          ]
        }
      ]
    },
    {
      "cell_type": "code",
      "source": [
        "testing_set.shape"
      ],
      "metadata": {
        "colab": {
          "base_uri": "https://localhost:8080/"
        },
        "id": "DqUz4hEKLNnJ",
        "outputId": "46c67ef9-35ce-4746-b5a4-3cfc51c0775a"
      },
      "execution_count": null,
      "outputs": [
        {
          "output_type": "execute_result",
          "data": {
            "text/plain": [
              "(160, 1)"
            ]
          },
          "metadata": {},
          "execution_count": 18
        }
      ]
    },
    {
      "cell_type": "code",
      "source": [
        "# Making the predictions\n",
        "testing_set = scaler.transform(testing_set)\n",
        "testing_set = np.reshape(testing_set, (len(testing_set), 1, 1))\n",
        "\n",
        "prediction_LSTM = LSTM_model.predict(testing_set)\n",
        "prediction_LSTM = scaler.inverse_transform(prediction_LSTM)\n",
        "\n",
        "prediction_LSTM_train = LSTM_model.predict(training_set)\n",
        "prediction_LSTM_train = scaler.inverse_transform(prediction_LSTM_train)\n",
        "\n",
        "bit_test_lstm['prediction_LSTM'] = prediction_LSTM\n",
        "bit_train_lstm['prediction_LSTM_train'] = prediction_LSTM_train\n",
        "\n",
        "print(bit_test2.shape,prediction_LSTM.shape)\n",
        "print(bit_train2.shape,prediction_LSTM_train.shape)"
      ],
      "metadata": {
        "colab": {
          "base_uri": "https://localhost:8080/",
          "height": 53
        },
        "id": "aqwVnVZAgY-L",
        "outputId": "a89620b8-e3e2-4351-e501-8d813e64bd90"
      },
      "execution_count": null,
      "outputs": [
        {
          "output_type": "display_data",
          "data": {
            "text/plain": [
              "<IPython.core.display.Javascript object>"
            ],
            "application/javascript": [
              "\n",
              "        if (window._pyforest_update_imports_cell) { window._pyforest_update_imports_cell('import numpy as np\\nimport matplotlib.pyplot as plt\\nimport pandas as pd\\nfrom sklearn.preprocessing import MinMaxScaler'); }\n",
              "    "
            ]
          },
          "metadata": {}
        },
        {
          "output_type": "stream",
          "name": "stdout",
          "text": [
            "(160, 3) (160, 1)\n",
            "(1282, 3) (1282, 1)\n"
          ]
        }
      ]
    },
    {
      "cell_type": "code",
      "source": [
        "# Plot the forecast with the actuals\n",
        "fig , ax = plt.subplots(1, figsize = (15,5))\n",
        "bit_test_lstm[['Weighted_Price','prediction_LSTM']].plot(ax = ax, style = ['-','--'])\n",
        "#ax.set_xbound(lower = '2018-06-09', upper = '2018-06-23')\n",
        "plt.suptitle(\"May 2018 Forecast vs Actuals\")\n",
        "plt.show()"
      ],
      "metadata": {
        "colab": {
          "base_uri": "https://localhost:8080/",
          "height": 381
        },
        "id": "jx_J8K9ZMQq_",
        "outputId": "860276ef-a830-43d5-d317-a268519cdb41"
      },
      "execution_count": null,
      "outputs": [
        {
          "output_type": "display_data",
          "data": {
            "text/plain": [
              "<Figure size 1080x360 with 1 Axes>"
            ],
            "image/png": "[encoded data removed]"
          },
          "metadata": {
            "needs_background": "light"
          }
        }
      ]
    },
    {
      "cell_type": "code",
      "source": [
        "# Plot the forecast with the actuals\n",
        "fig , ax = plt.subplots(1, figsize = (15,5))\n",
        "bit_test_lstm[['Weighted_Price','prediction_LSTM']].plot(ax = ax, style = ['-','--'])\n",
        "ax.set_xbound(lower = '2018-06-09', upper = '2018-06-23')\n",
        "plt.suptitle(\"May 2018 Forecast vs Actuals\")\n",
        "plt.show()"
      ],
      "metadata": {
        "colab": {
          "base_uri": "https://localhost:8080/",
          "height": 393
        },
        "id": "TmNXMYxkkGak",
        "outputId": "63843654-552d-40ee-d15a-c324120279cc"
      },
      "execution_count": null,
      "outputs": [
        {
          "output_type": "display_data",
          "data": {
            "text/plain": [
              "<Figure size 1080x360 with 1 Axes>"
            ],
            "image/png": "[encoded data removed]"
          },
          "metadata": {
            "needs_background": "light"
          }
        }
      ]
    },
    {
      "cell_type": "code",
      "source": [
        "# Plot the forecast with the actuals\n",
        "fig , ax = plt.subplots(1, figsize = (15,5))\n",
        "bit_train_lstm[['Weighted_Price','prediction_LSTM_train']].plot(ax = ax, style = ['-','--'])\n",
        "#ax.set_xbound(lower = '2017-12-09', upper = '2017-1-23')\n",
        "plt.suptitle(\"May 2017 Forecast vs Actuals\")\n",
        "plt.show()"
      ],
      "metadata": {
        "colab": {
          "base_uri": "https://localhost:8080/",
          "height": 381
        },
        "id": "XDTWcYU2NA5Q",
        "outputId": "9c88d732-690b-4f4b-b90e-5cc87d5153c1"
      },
      "execution_count": null,
      "outputs": [
        {
          "output_type": "display_data",
          "data": {
            "text/plain": [
              "<Figure size 1080x360 with 1 Axes>"
            ],
            "image/png": "[encoded data removed]"
          },
          "metadata": {
            "needs_background": "light"
          }
        }
      ]
    },
    {
      "cell_type": "code",
      "source": [
        "# evaluation\n",
        "# train\n",
        "print(np.sqrt(metrics.mean_squared_error(bit_train_lstm['Weighted_Price'],bit_train_lstm['prediction_LSTM_train'])))\n",
        "\n",
        "# test\n",
        "print(np.sqrt(metrics.mean_squared_error(bit_test_lstm['Weighted_Price'],bit_test_lstm['prediction_LSTM'])))"
      ],
      "metadata": {
        "colab": {
          "base_uri": "https://localhost:8080/",
          "height": 53
        },
        "id": "hnAlNmjnU6tG",
        "outputId": "335c4b44-4d43-4e79-db37-2d00e45ba93e"
      },
      "execution_count": null,
      "outputs": [
        {
          "output_type": "display_data",
          "data": {
            "text/plain": [
              "<IPython.core.display.Javascript object>"
            ],
            "application/javascript": [
              "\n",
              "        if (window._pyforest_update_imports_cell) { window._pyforest_update_imports_cell('import numpy as np\\nimport matplotlib.pyplot as plt\\nimport pandas as pd\\nfrom sklearn.preprocessing import MinMaxScaler'); }\n",
              "    "
            ]
          },
          "metadata": {}
        },
        {
          "output_type": "display_data",
          "data": {
            "text/plain": [
              "<IPython.core.display.Javascript object>"
            ],
            "application/javascript": [
              "\n",
              "        if (window._pyforest_update_imports_cell) { window._pyforest_update_imports_cell('import numpy as np\\nimport matplotlib.pyplot as plt\\nimport pandas as pd\\nfrom sklearn.preprocessing import MinMaxScaler\\nfrom sklearn import metrics'); }\n",
              "    "
            ]
          },
          "metadata": {}
        },
        {
          "output_type": "stream",
          "name": "stdout",
          "text": [
            "696.8508112565128\n"
          ]
        },
        {
          "output_type": "display_data",
          "data": {
            "text/plain": [
              "<IPython.core.display.Javascript object>"
            ],
            "application/javascript": [
              "\n",
              "        if (window._pyforest_update_imports_cell) { window._pyforest_update_imports_cell('import numpy as np\\nimport matplotlib.pyplot as plt\\nimport pandas as pd\\nfrom sklearn.preprocessing import MinMaxScaler\\nfrom sklearn import metrics'); }\n",
              "    "
            ]
          },
          "metadata": {}
        },
        {
          "output_type": "display_data",
          "data": {
            "text/plain": [
              "<IPython.core.display.Javascript object>"
            ],
            "application/javascript": [
              "\n",
              "        if (window._pyforest_update_imports_cell) { window._pyforest_update_imports_cell('import numpy as np\\nimport matplotlib.pyplot as plt\\nimport pandas as pd\\nfrom sklearn.preprocessing import MinMaxScaler\\nfrom sklearn import metrics'); }\n",
              "    "
            ]
          },
          "metadata": {}
        },
        {
          "output_type": "stream",
          "name": "stdout",
          "text": [
            "94.93535272814006\n"
          ]
        }
      ]
    },
    {
      "cell_type": "code",
      "source": [
        "# evaluation 2\n",
        "test_xbound = bit_test_lstm[(bit_test_lstm.index >= '2018-06-09') & (bit_test_lstm.index <= '2018-06-23')]\n",
        "print(np.sqrt(metrics.mean_squared_error(test_xbound['Weighted_Price'],test_xbound['prediction_LSTM'])))\n",
        "test_xbound['Weighted_Price'].mean()"
      ],
      "metadata": {
        "colab": {
          "base_uri": "https://localhost:8080/",
          "height": 53
        },
        "id": "vuUWwh3IjM8q",
        "outputId": "d97e3b7c-4de4-4b19-845f-abe6ff70ee8a"
      },
      "execution_count": null,
      "outputs": [
        {
          "output_type": "display_data",
          "data": {
            "text/plain": [
              "<IPython.core.display.Javascript object>"
            ],
            "application/javascript": [
              "\n",
              "        if (window._pyforest_update_imports_cell) { window._pyforest_update_imports_cell('import numpy as np\\nimport bokeh\\nimport matplotlib.pyplot as plt\\nimport pandas as pd\\nfrom sklearn.feature_extraction.text import CountVectorizer\\nfrom statsmodels.tsa.arima_model import ARIMA\\nfrom sklearn.model_selection import cross_val_score\\nimport altair as alt\\nfrom sklearn.preprocessing import MinMaxScaler\\nimport cv2\\nfrom sklearn import metrics'); }\n",
              "    "
            ]
          },
          "metadata": {}
        },
        {
          "output_type": "display_data",
          "data": {
            "text/plain": [
              "<IPython.core.display.Javascript object>"
            ],
            "application/javascript": [
              "\n",
              "        if (window._pyforest_update_imports_cell) { window._pyforest_update_imports_cell('import numpy as np\\nimport bokeh\\nimport matplotlib.pyplot as plt\\nimport pandas as pd\\nfrom sklearn.feature_extraction.text import CountVectorizer\\nfrom statsmodels.tsa.arima_model import ARIMA\\nfrom sklearn.model_selection import cross_val_score\\nimport altair as alt\\nfrom sklearn.preprocessing import MinMaxScaler\\nimport cv2\\nfrom sklearn import metrics'); }\n",
              "    "
            ]
          },
          "metadata": {}
        },
        {
          "output_type": "stream",
          "name": "stdout",
          "text": [
            "86.1075658647289\n"
          ]
        },
        {
          "output_type": "execute_result",
          "data": {
            "text/plain": [
              "6703.864845526667"
            ]
          },
          "metadata": {},
          "execution_count": 26
        }
      ]
    }
  ]
}